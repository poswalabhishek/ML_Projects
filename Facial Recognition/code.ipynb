{
 "cells": [
  {
   "cell_type": "code",
   "execution_count": 1,
   "metadata": {
    "executionInfo": {
     "elapsed": 1038,
     "status": "ok",
     "timestamp": 1616429359273,
     "user": {
      "displayName": "Abhishek Poswal",
      "photoUrl": "https://lh3.googleusercontent.com/a-/AOh14GgU2QSAOQWf73IsDRf8qcV6HPie-OsImaD5f0yx8w=s64",
      "userId": "05834146974101096251"
     },
     "user_tz": -480
    },
    "id": "j4DtTXaZuKSN"
   },
   "outputs": [],
   "source": [
    "import os\n",
    "import torch\n",
    "import pandas as pd\n",
    "import numpy as np\n",
    "import matplotlib.pyplot as plt\n",
    "from sklearn.preprocessing import LabelEncoder\n",
    "import torchvision\n",
    "import tensorboard"
   ]
  },
  {
   "cell_type": "code",
   "execution_count": 2,
   "metadata": {
    "colab": {
     "base_uri": "https://localhost:8080/"
    },
    "executionInfo": {
     "elapsed": 1032,
     "status": "ok",
     "timestamp": 1616429359275,
     "user": {
      "displayName": "Abhishek Poswal",
      "photoUrl": "https://lh3.googleusercontent.com/a-/AOh14GgU2QSAOQWf73IsDRf8qcV6HPie-OsImaD5f0yx8w=s64",
      "userId": "05834146974101096251"
     },
     "user_tz": -480
    },
    "id": "wZs5bJ-U8T2Q",
    "outputId": "fca5a373-86aa-4ad5-a768-a87fe19d48f3"
   },
   "outputs": [
    {
     "name": "stdout",
     "output_type": "stream",
     "text": [
      "cuda\n"
     ]
    }
   ],
   "source": [
    "device = torch.device('cuda' if torch.cuda.is_available() else 'cpu')\n",
    "print(device)"
   ]
  },
  {
   "cell_type": "code",
   "execution_count": 3,
   "metadata": {
    "colab": {
     "base_uri": "https://localhost:8080/"
    },
    "executionInfo": {
     "elapsed": 841,
     "status": "ok",
     "timestamp": 1616429833615,
     "user": {
      "displayName": "Abhishek Poswal",
      "photoUrl": "https://lh3.googleusercontent.com/a-/AOh14GgU2QSAOQWf73IsDRf8qcV6HPie-OsImaD5f0yx8w=s64",
      "userId": "05834146974101096251"
     },
     "user_tz": -480
    },
    "id": "WvB5JKequWH_",
    "outputId": "cb39ec9b-0ac1-450f-cd3c-fc3d1b4d305f"
   },
   "outputs": [
    {
     "name": "stdout",
     "output_type": "stream",
     "text": [
      "1Data\t\t\t    Data  index.txt   sub\ttrain.csv\r\n",
      "COMP4211_Assignment2.ipynb  Desc  README.txt  test.csv\tvalid.csv\r\n"
     ]
    }
   ],
   "source": [
    "PATH = '/home/glarbsten/Desktop/Spring2021/COMP4211/Assignments/Assignment2/pa2/' # path to this file\n",
    "!ls '/home/glarbsten/Desktop/Spring2021/COMP4211/Assignments/Assignment2/pa2/'"
   ]
  },
  {
   "cell_type": "code",
   "execution_count": 4,
   "metadata": {
    "colab": {
     "base_uri": "https://localhost:8080/",
     "height": 419
    },
    "executionInfo": {
     "elapsed": 711,
     "status": "ok",
     "timestamp": 1616429833984,
     "user": {
      "displayName": "Abhishek Poswal",
      "photoUrl": "https://lh3.googleusercontent.com/a-/AOh14GgU2QSAOQWf73IsDRf8qcV6HPie-OsImaD5f0yx8w=s64",
      "userId": "05834146974101096251"
     },
     "user_tz": -480
    },
    "id": "PJNhMX22ua_p",
    "outputId": "ec122e8b-8720-4687-b83a-40d11208fe86"
   },
   "outputs": [
    {
     "data": {
      "text/html": [
       "<div>\n",
       "<style scoped>\n",
       "    .dataframe tbody tr th:only-of-type {\n",
       "        vertical-align: middle;\n",
       "    }\n",
       "\n",
       "    .dataframe tbody tr th {\n",
       "        vertical-align: top;\n",
       "    }\n",
       "\n",
       "    .dataframe thead th {\n",
       "        text-align: right;\n",
       "    }\n",
       "</style>\n",
       "<table border=\"1\" class=\"dataframe\">\n",
       "  <thead>\n",
       "    <tr style=\"text-align: right;\">\n",
       "      <th></th>\n",
       "      <th>index</th>\n",
       "      <th>location</th>\n",
       "    </tr>\n",
       "  </thead>\n",
       "  <tbody>\n",
       "    <tr>\n",
       "      <th>0</th>\n",
       "      <td>1</td>\n",
       "      <td>Data/Images/001/frontal/01.jpg</td>\n",
       "    </tr>\n",
       "    <tr>\n",
       "      <th>1</th>\n",
       "      <td>2</td>\n",
       "      <td>Data/Images/001/frontal/02.jpg</td>\n",
       "    </tr>\n",
       "    <tr>\n",
       "      <th>2</th>\n",
       "      <td>3</td>\n",
       "      <td>Data/Images/001/frontal/03.jpg</td>\n",
       "    </tr>\n",
       "    <tr>\n",
       "      <th>3</th>\n",
       "      <td>4</td>\n",
       "      <td>Data/Images/001/frontal/04.jpg</td>\n",
       "    </tr>\n",
       "    <tr>\n",
       "      <th>4</th>\n",
       "      <td>5</td>\n",
       "      <td>Data/Images/001/frontal/05.jpg</td>\n",
       "    </tr>\n",
       "    <tr>\n",
       "      <th>...</th>\n",
       "      <td>...</td>\n",
       "      <td>...</td>\n",
       "    </tr>\n",
       "    <tr>\n",
       "      <th>4995</th>\n",
       "      <td>4996</td>\n",
       "      <td>Data/Images/test/t471.jpg</td>\n",
       "    </tr>\n",
       "    <tr>\n",
       "      <th>4996</th>\n",
       "      <td>4997</td>\n",
       "      <td>Data/Images/test/t472.jpg</td>\n",
       "    </tr>\n",
       "    <tr>\n",
       "      <th>4997</th>\n",
       "      <td>4998</td>\n",
       "      <td>Data/Images/test/t473.jpg</td>\n",
       "    </tr>\n",
       "    <tr>\n",
       "      <th>4998</th>\n",
       "      <td>4999</td>\n",
       "      <td>Data/Images/test/t474.jpg</td>\n",
       "    </tr>\n",
       "    <tr>\n",
       "      <th>4999</th>\n",
       "      <td>5000</td>\n",
       "      <td>Data/Images/test/t475.jpg</td>\n",
       "    </tr>\n",
       "  </tbody>\n",
       "</table>\n",
       "<p>5000 rows × 2 columns</p>\n",
       "</div>"
      ],
      "text/plain": [
       "      index                        location\n",
       "0         1  Data/Images/001/frontal/01.jpg\n",
       "1         2  Data/Images/001/frontal/02.jpg\n",
       "2         3  Data/Images/001/frontal/03.jpg\n",
       "3         4  Data/Images/001/frontal/04.jpg\n",
       "4         5  Data/Images/001/frontal/05.jpg\n",
       "...     ...                             ...\n",
       "4995   4996       Data/Images/test/t471.jpg\n",
       "4996   4997       Data/Images/test/t472.jpg\n",
       "4997   4998       Data/Images/test/t473.jpg\n",
       "4998   4999       Data/Images/test/t474.jpg\n",
       "4999   5000       Data/Images/test/t475.jpg\n",
       "\n",
       "[5000 rows x 2 columns]"
      ]
     },
     "execution_count": 4,
     "metadata": {},
     "output_type": "execute_result"
    }
   ],
   "source": [
    "header_list = [\"index\", \"location\"]\n",
    "index_content = pd.read_csv(PATH + 'index.txt', delimiter = \",\", names = header_list)\n",
    "\n",
    "index_content "
   ]
  },
  {
   "cell_type": "code",
   "execution_count": 5,
   "metadata": {
    "executionInfo": {
     "elapsed": 1010,
     "status": "ok",
     "timestamp": 1616429834303,
     "user": {
      "displayName": "Abhishek Poswal",
      "photoUrl": "https://lh3.googleusercontent.com/a-/AOh14GgU2QSAOQWf73IsDRf8qcV6HPie-OsImaD5f0yx8w=s64",
      "userId": "05834146974101096251"
     },
     "user_tz": -480
    },
    "id": "aZivikgnuzjJ"
   },
   "outputs": [],
   "source": [
    "# files\n",
    "test_csv = os.path.join(PATH, 'test.csv')\n",
    "validation_csv = os.path.join(PATH, 'valid.csv')\n",
    "train_csv = os.path.join(PATH, 'train.csv')"
   ]
  },
  {
   "cell_type": "code",
   "execution_count": 6,
   "metadata": {
    "executionInfo": {
     "elapsed": 980,
     "status": "ok",
     "timestamp": 1616429834304,
     "user": {
      "displayName": "Abhishek Poswal",
      "photoUrl": "https://lh3.googleusercontent.com/a-/AOh14GgU2QSAOQWf73IsDRf8qcV6HPie-OsImaD5f0yx8w=s64",
      "userId": "05834146974101096251"
     },
     "user_tz": -480
    },
    "id": "4Bz4opNbvBMh"
   },
   "outputs": [],
   "source": [
    "train_data = pd.read_csv(train_csv)\n",
    "valid_data = pd.read_csv(validation_csv)\n",
    "test_data = pd.read_csv(test_csv)"
   ]
  },
  {
   "cell_type": "code",
   "execution_count": 7,
   "metadata": {
    "colab": {
     "base_uri": "https://localhost:8080/"
    },
    "executionInfo": {
     "elapsed": 954,
     "status": "ok",
     "timestamp": 1616429834305,
     "user": {
      "displayName": "Abhishek Poswal",
      "photoUrl": "https://lh3.googleusercontent.com/a-/AOh14GgU2QSAOQWf73IsDRf8qcV6HPie-OsImaD5f0yx8w=s64",
      "userId": "05834146974101096251"
     },
     "user_tz": -480
    },
    "id": "xDhJZjDLvC2Z",
    "outputId": "50c7ebfa-04b0-4299-f5a8-1cbbc7936eba"
   },
   "outputs": [
    {
     "name": "stdout",
     "output_type": "stream",
     "text": [
      "(4900, 3)\n",
      "(700, 3)\n",
      "(700, 3)\n"
     ]
    }
   ],
   "source": [
    "print(train_data.shape)\n",
    "print(valid_data.shape)\n",
    "print(test_data.shape)"
   ]
  },
  {
   "cell_type": "code",
   "execution_count": 8,
   "metadata": {
    "executionInfo": {
     "elapsed": 925,
     "status": "ok",
     "timestamp": 1616429834306,
     "user": {
      "displayName": "Abhishek Poswal",
      "photoUrl": "https://lh3.googleusercontent.com/a-/AOh14GgU2QSAOQWf73IsDRf8qcV6HPie-OsImaD5f0yx8w=s64",
      "userId": "05834146974101096251"
     },
     "user_tz": -480
    },
    "id": "QcYaMhKRvEhZ"
   },
   "outputs": [],
   "source": [
    "from PIL import Image # for images"
   ]
  },
  {
   "cell_type": "markdown",
   "metadata": {
    "id": "GDSThU8-DRex"
   },
   "source": [
    "# 4.2.1 Dataset and Data Loader"
   ]
  },
  {
   "cell_type": "code",
   "execution_count": 9,
   "metadata": {
    "executionInfo": {
     "elapsed": 1963,
     "status": "ok",
     "timestamp": 1616429835434,
     "user": {
      "displayName": "Abhishek Poswal",
      "photoUrl": "https://lh3.googleusercontent.com/a-/AOh14GgU2QSAOQWf73IsDRf8qcV6HPie-OsImaD5f0yx8w=s64",
      "userId": "05834146974101096251"
     },
     "user_tz": -480
    },
    "id": "bYJcG7DyHuNY"
   },
   "outputs": [],
   "source": [
    "import torchvision.transforms as transforms\n",
    "from torch.utils.data import Dataset\n",
    "from torch.utils.data import DataLoader"
   ]
  },
  {
   "cell_type": "code",
   "execution_count": 10,
   "metadata": {},
   "outputs": [],
   "source": [
    "#train dataset class\n",
    "class CSV_Dataset(Dataset):\n",
    "  #constructor \n",
    "    def __init__(self, PATH, csv_file, transform = None): # PATH is assignment2 path along with the name of the csv_file that needs to be extracted\n",
    "        #transformations applied\n",
    "        self.transform = transform\n",
    "\n",
    "        #file paths (train, valid, test, index)\n",
    "        self.csv_path = os.path.join(PATH, csv_file)\n",
    "        self.index_txt = os.path.join(PATH, 'index.txt')\n",
    "\n",
    "        #file data (train, valid, test)\n",
    "        self.csv_data = pd.read_csv(self.csv_path)\n",
    "\n",
    "\n",
    "        #index.txt file content\n",
    "        header_list = [\"picture_num\", \"location\"]\n",
    "        self.index_content = pd.read_csv(self.index_txt, delimiter = \",\", names = header_list)\n",
    "\n",
    "        #preprocessing: resizing all the images to a size of 32x32 and converting them to single-channel images\n",
    "        #extract id1 and id2 from train_data\n",
    "        for row in self.csv_data.index:\n",
    "            id1_id2_loc = [self.index_content['location'][self.csv_data[\"id1\"][row] - 1], self.index_content['location'][self.csv_data['id2'][row] - 1]]\n",
    "             # -1 coz indexing starts from 0\n",
    "            for i in id1_id2_loc:\n",
    "                image = Image.open(PATH + i).convert(\"LA\") # converting to single-channel image\n",
    "                image = image.resize((32,32)).convert(\"RGB\") # resizing and converting to RGB to process the image for saving\n",
    "                #transformations\n",
    "                imgage = self.transform(image)\n",
    "                image.save(PATH + i) # saving/replacing the images\n",
    "        \n",
    "      \n",
    "    def __getitem__(self, idx): # change it\n",
    "        img1 = Image.open(PATH + self.index_content[\"location\"][self.csv_data[\"id1\"][idx] - 1])  # gets the image object from id1 of index.txt file\n",
    "        img2 = Image.open(PATH + self.index_content[\"location\"][self.csv_data[\"id2\"][idx] - 1])  # same but for id2\n",
    "        #transformations\n",
    "        img1 = self.transform(img1)\n",
    "        img2 = self.transform(img2)\n",
    "\n",
    "        # label\n",
    "        \n",
    "        if self.csv_data[\"target\"][idx] == 0 or self.csv_data[\"target\"][idx] == 1:\n",
    "            label = self.csv_data[\"target\"][idx]\n",
    "            # gets the target label i.e. 0 (if they match) or 1 (if they do not)\n",
    "        else:\n",
    "            label = -1  # label is not defined\n",
    "        \n",
    "        label = torch.as_tensor([label]).float()\n",
    "        return img1, img2, label        #label = 0 or 1 if defined and -1 if not\n",
    "\n",
    "\n",
    "    def __len__ (self):\n",
    "        return len(self.csv_data)\n",
    "        \n",
    "        "
   ]
  },
  {
   "cell_type": "code",
   "execution_count": 11,
   "metadata": {},
   "outputs": [],
   "source": [
    "transform = transforms.Compose(\n",
    "    [transforms.ToTensor(),    # range [0, 255]  -> [0.0,1.0] Convert a PIL Image or numpy.ndarray (H x W x C)  to tensor (C x H x W) \n",
    "     transforms.Normalize((0.5, ), (0.5, )), # channel=（channel-mean）/std  -> [-1, 1]\n",
    "     transforms.Grayscale(num_output_channels=1)\n",
    "    ])"
   ]
  },
  {
   "cell_type": "code",
   "execution_count": 12,
   "metadata": {},
   "outputs": [],
   "source": [
    "train_dataset = CSV_Dataset(PATH, 'train.csv', transform)\n",
    "valid_dataset = CSV_Dataset(PATH, 'valid.csv', transform)\n",
    "test_dataset = CSV_Dataset(PATH, 'test.csv', transform)\n"
   ]
  },
  {
   "cell_type": "code",
   "execution_count": 13,
   "metadata": {},
   "outputs": [],
   "source": [
    "bs = 128 # batch size\n",
    "\n",
    "train_loader = DataLoader(train_dataset, batch_size=bs, shuffle=True, num_workers=4, pin_memory=True)\n",
    "valid_loader = DataLoader(valid_dataset, batch_size=bs, shuffle=False, num_workers=4, pin_memory=True)\n",
    "\n"
   ]
  },
  {
   "cell_type": "code",
   "execution_count": 14,
   "metadata": {},
   "outputs": [],
   "source": [
    "dataiter = iter(train_loader)\n",
    "input1, input2, label1 = next(dataiter)\n",
    "input3, input4, label2 = next(dataiter)"
   ]
  },
  {
   "cell_type": "code",
   "execution_count": 15,
   "metadata": {},
   "outputs": [
    {
     "data": {
      "text/plain": [
       "torch.Size([128, 1, 32, 32])"
      ]
     },
     "execution_count": 15,
     "metadata": {},
     "output_type": "execute_result"
    }
   ],
   "source": [
    "input1.shape"
   ]
  },
  {
   "cell_type": "code",
   "execution_count": 16,
   "metadata": {},
   "outputs": [
    {
     "data": {
      "text/plain": [
       "torch.Size([128, 1, 32, 32])"
      ]
     },
     "execution_count": 16,
     "metadata": {},
     "output_type": "execute_result"
    }
   ],
   "source": [
    "input2.shape"
   ]
  },
  {
   "cell_type": "code",
   "execution_count": 17,
   "metadata": {},
   "outputs": [],
   "source": [
    "# label1"
   ]
  },
  {
   "cell_type": "markdown",
   "metadata": {},
   "source": [
    "# 4.2.2 Siamese Convolutional Neural Network"
   ]
  },
  {
   "cell_type": "code",
   "execution_count": 18,
   "metadata": {},
   "outputs": [],
   "source": [
    "import torch.nn as nn\n",
    "import torch.nn.functional as F\n",
    "import torch.optim as optim"
   ]
  },
  {
   "cell_type": "code",
   "execution_count": 19,
   "metadata": {},
   "outputs": [],
   "source": [
    "# (1x32x32)-> conv -> conv -> max pooling -> conv (64 kernels) -> conv (128 kernels) -> conv (256) -> conv (512)\n",
    "# avg pooling (16*16 kernel size) -> flattening  -> output (1*512 vector)\n",
    "\n",
    "class Net1(nn.Module):\n",
    "    def __init__(self):\n",
    "        super(Net1, self).__init__()\n",
    "    \n",
    "        # (32x32x1)-> conv -> (32x32x32) -> conv -> (32x32x32) ->  maxpool -> (16x16x32)\n",
    "        # conv -> (16x16x64)-> conv (16x16x128) -> conv (16x16x256) -> conv (16x16x512) \n",
    "        # avgpool -> (16x16x512) -> fc -> (1x1x512)\n",
    "        self.conv1 = nn.Conv2d(in_channels=1, out_channels=32, kernel_size=3, padding=1, stride=1)\n",
    "        self.conv2 = nn.Conv2d(in_channels=32, out_channels=32, kernel_size=3, padding=1, stride=1)\n",
    "        \n",
    "        # max pooling\n",
    "        self.max_pool = nn.MaxPool2d(2, stride=2)\n",
    "        \n",
    "        self.conv3 = nn.Conv2d(in_channels=32, out_channels=64, kernel_size=3, padding=1, stride=1)\n",
    "        self.conv4 = nn.Conv2d(in_channels=64, out_channels=128, kernel_size=3, padding=1, stride=1)\n",
    "        self.conv5 = nn.Conv2d(in_channels=128, out_channels=256, kernel_size=3, padding=1, stride=1)\n",
    "        self.conv6 = nn.Conv2d(in_channels=256, out_channels=512, kernel_size=3, padding=1, stride=1)\n",
    "        \n",
    "        # average pooling\n",
    "        self.avg_pool = nn.AvgPool2d(16, stride=1)\n",
    "        \n",
    "        # batch normalization\n",
    "        self.norm1 = nn.BatchNorm2d(32)  \n",
    "        self.norm2 = nn.BatchNorm2d(32)\n",
    "        self.norm3 = nn.BatchNorm2d(64)\n",
    "        self.norm4 = nn.BatchNorm2d(128)\n",
    "        self.norm5 = nn.BatchNorm2d(256) \n",
    "        self.norm6 = nn.BatchNorm2d(512)\n",
    "        \n",
    "        \n",
    "        \n",
    "    def forward(self, img1, img2):\n",
    "        #  1, 32, 32\n",
    "        # out_dim = in_dim - kernel_size + 1  \n",
    "        \n",
    "        img1 = F.relu((self.norm1(self.conv1(img1)))) #32, 32, 32 \n",
    "        img1 = self.max_pool(F.relu(self.norm2(self.conv2(img1)))) #16, 16, 32\n",
    "        img1 = F.relu(self.norm3(self.conv3(img1)))\n",
    "        img1 = F.relu(self.norm4(self.conv4(img1)))\n",
    "        img1 = F.relu(self.norm5(self.conv5(img1)))\n",
    "        img1 = self.avg_pool(F.relu(self.norm6(self.conv6(img1))))\n",
    "        img1 = img1.view(-1, 1 * 512)  #flatten the data\n",
    "\n",
    "        img2 = F.relu((self.norm1(self.conv1(img2)))) #32, 32, 32 \n",
    "        img2 = self.max_pool(F.relu(self.norm2(self.conv2(img2)))) #16, 16, 32\n",
    "        img2 = F.relu(self.norm3(self.conv3(img2)))\n",
    "        img2 = F.relu(self.norm4(self.conv4(img2)))\n",
    "        img2 = F.relu(self.norm5(self.conv5(img2)))\n",
    "        img2 = self.avg_pool(F.relu(self.norm6(self.conv6(img2))))\n",
    "        img2 = img2.view(-1, 1 * 512)  #flatten the data\n",
    "        \n",
    "        return img1, img2\n",
    "    "
   ]
  },
  {
   "cell_type": "code",
   "execution_count": 20,
   "metadata": {},
   "outputs": [
    {
     "name": "stdout",
     "output_type": "stream",
     "text": [
      "=========================================================================\n",
      "                 Kernel Shape        Output Shape    Params    Mult-Adds\n",
      "Layer                                                                   \n",
      "0_conv1         [1, 32, 3, 3]   [128, 32, 32, 32]     320.0     294.912k\n",
      "1_norm1                  [32]   [128, 32, 32, 32]      64.0         32.0\n",
      "2_conv2        [32, 32, 3, 3]   [128, 32, 32, 32]    9.248k    9.437184M\n",
      "3_norm2                  [32]   [128, 32, 32, 32]      64.0         32.0\n",
      "4_max_pool                  -   [128, 32, 16, 16]         -            -\n",
      "5_conv3        [32, 64, 3, 3]   [128, 64, 16, 16]   18.496k    4.718592M\n",
      "6_norm3                  [64]   [128, 64, 16, 16]     128.0         64.0\n",
      "7_conv4       [64, 128, 3, 3]  [128, 128, 16, 16]   73.856k   18.874368M\n",
      "8_norm4                 [128]  [128, 128, 16, 16]     256.0        128.0\n",
      "9_conv5      [128, 256, 3, 3]  [128, 256, 16, 16]  295.168k   75.497472M\n",
      "10_norm5                [256]  [128, 256, 16, 16]     512.0        256.0\n",
      "11_conv6     [256, 512, 3, 3]  [128, 512, 16, 16]  1.18016M  301.989888M\n",
      "12_norm6                [512]  [128, 512, 16, 16]    1.024k        512.0\n",
      "13_avg_pool                 -    [128, 512, 1, 1]         -            -\n",
      "14_conv1        [1, 32, 3, 3]   [128, 32, 32, 32]         -     294.912k\n",
      "15_norm1                 [32]   [128, 32, 32, 32]         -         32.0\n",
      "16_conv2       [32, 32, 3, 3]   [128, 32, 32, 32]         -    9.437184M\n",
      "17_norm2                 [32]   [128, 32, 32, 32]         -         32.0\n",
      "18_max_pool                 -   [128, 32, 16, 16]         -            -\n",
      "19_conv3       [32, 64, 3, 3]   [128, 64, 16, 16]         -    4.718592M\n",
      "20_norm3                 [64]   [128, 64, 16, 16]         -         64.0\n",
      "21_conv4      [64, 128, 3, 3]  [128, 128, 16, 16]         -   18.874368M\n",
      "22_norm4                [128]  [128, 128, 16, 16]         -        128.0\n",
      "23_conv5     [128, 256, 3, 3]  [128, 256, 16, 16]         -   75.497472M\n",
      "24_norm5                [256]  [128, 256, 16, 16]         -        256.0\n",
      "25_conv6     [256, 512, 3, 3]  [128, 512, 16, 16]         -  301.989888M\n",
      "26_norm6                [512]  [128, 512, 16, 16]         -        512.0\n",
      "27_avg_pool                 -    [128, 512, 1, 1]         -            -\n",
      "-------------------------------------------------------------------------\n",
      "                          Totals\n",
      "Total params           1.579296M\n",
      "Trainable params       1.579296M\n",
      "Non-trainable params         0.0\n",
      "Mult-Adds             821.62688M\n",
      "=========================================================================\n"
     ]
    },
    {
     "data": {
      "text/html": [
       "<div>\n",
       "<style scoped>\n",
       "    .dataframe tbody tr th:only-of-type {\n",
       "        vertical-align: middle;\n",
       "    }\n",
       "\n",
       "    .dataframe tbody tr th {\n",
       "        vertical-align: top;\n",
       "    }\n",
       "\n",
       "    .dataframe thead th {\n",
       "        text-align: right;\n",
       "    }\n",
       "</style>\n",
       "<table border=\"1\" class=\"dataframe\">\n",
       "  <thead>\n",
       "    <tr style=\"text-align: right;\">\n",
       "      <th></th>\n",
       "      <th>Kernel Shape</th>\n",
       "      <th>Output Shape</th>\n",
       "      <th>Params</th>\n",
       "      <th>Mult-Adds</th>\n",
       "    </tr>\n",
       "    <tr>\n",
       "      <th>Layer</th>\n",
       "      <th></th>\n",
       "      <th></th>\n",
       "      <th></th>\n",
       "      <th></th>\n",
       "    </tr>\n",
       "  </thead>\n",
       "  <tbody>\n",
       "    <tr>\n",
       "      <th>0_conv1</th>\n",
       "      <td>[1, 32, 3, 3]</td>\n",
       "      <td>[128, 32, 32, 32]</td>\n",
       "      <td>320.0</td>\n",
       "      <td>294912.0</td>\n",
       "    </tr>\n",
       "    <tr>\n",
       "      <th>1_norm1</th>\n",
       "      <td>[32]</td>\n",
       "      <td>[128, 32, 32, 32]</td>\n",
       "      <td>64.0</td>\n",
       "      <td>32.0</td>\n",
       "    </tr>\n",
       "    <tr>\n",
       "      <th>2_conv2</th>\n",
       "      <td>[32, 32, 3, 3]</td>\n",
       "      <td>[128, 32, 32, 32]</td>\n",
       "      <td>9248.0</td>\n",
       "      <td>9437184.0</td>\n",
       "    </tr>\n",
       "    <tr>\n",
       "      <th>3_norm2</th>\n",
       "      <td>[32]</td>\n",
       "      <td>[128, 32, 32, 32]</td>\n",
       "      <td>64.0</td>\n",
       "      <td>32.0</td>\n",
       "    </tr>\n",
       "    <tr>\n",
       "      <th>4_max_pool</th>\n",
       "      <td>-</td>\n",
       "      <td>[128, 32, 16, 16]</td>\n",
       "      <td>NaN</td>\n",
       "      <td>NaN</td>\n",
       "    </tr>\n",
       "    <tr>\n",
       "      <th>5_conv3</th>\n",
       "      <td>[32, 64, 3, 3]</td>\n",
       "      <td>[128, 64, 16, 16]</td>\n",
       "      <td>18496.0</td>\n",
       "      <td>4718592.0</td>\n",
       "    </tr>\n",
       "    <tr>\n",
       "      <th>6_norm3</th>\n",
       "      <td>[64]</td>\n",
       "      <td>[128, 64, 16, 16]</td>\n",
       "      <td>128.0</td>\n",
       "      <td>64.0</td>\n",
       "    </tr>\n",
       "    <tr>\n",
       "      <th>7_conv4</th>\n",
       "      <td>[64, 128, 3, 3]</td>\n",
       "      <td>[128, 128, 16, 16]</td>\n",
       "      <td>73856.0</td>\n",
       "      <td>18874368.0</td>\n",
       "    </tr>\n",
       "    <tr>\n",
       "      <th>8_norm4</th>\n",
       "      <td>[128]</td>\n",
       "      <td>[128, 128, 16, 16]</td>\n",
       "      <td>256.0</td>\n",
       "      <td>128.0</td>\n",
       "    </tr>\n",
       "    <tr>\n",
       "      <th>9_conv5</th>\n",
       "      <td>[128, 256, 3, 3]</td>\n",
       "      <td>[128, 256, 16, 16]</td>\n",
       "      <td>295168.0</td>\n",
       "      <td>75497472.0</td>\n",
       "    </tr>\n",
       "    <tr>\n",
       "      <th>10_norm5</th>\n",
       "      <td>[256]</td>\n",
       "      <td>[128, 256, 16, 16]</td>\n",
       "      <td>512.0</td>\n",
       "      <td>256.0</td>\n",
       "    </tr>\n",
       "    <tr>\n",
       "      <th>11_conv6</th>\n",
       "      <td>[256, 512, 3, 3]</td>\n",
       "      <td>[128, 512, 16, 16]</td>\n",
       "      <td>1180160.0</td>\n",
       "      <td>301989888.0</td>\n",
       "    </tr>\n",
       "    <tr>\n",
       "      <th>12_norm6</th>\n",
       "      <td>[512]</td>\n",
       "      <td>[128, 512, 16, 16]</td>\n",
       "      <td>1024.0</td>\n",
       "      <td>512.0</td>\n",
       "    </tr>\n",
       "    <tr>\n",
       "      <th>13_avg_pool</th>\n",
       "      <td>-</td>\n",
       "      <td>[128, 512, 1, 1]</td>\n",
       "      <td>NaN</td>\n",
       "      <td>NaN</td>\n",
       "    </tr>\n",
       "    <tr>\n",
       "      <th>14_conv1</th>\n",
       "      <td>[1, 32, 3, 3]</td>\n",
       "      <td>[128, 32, 32, 32]</td>\n",
       "      <td>NaN</td>\n",
       "      <td>294912.0</td>\n",
       "    </tr>\n",
       "    <tr>\n",
       "      <th>15_norm1</th>\n",
       "      <td>[32]</td>\n",
       "      <td>[128, 32, 32, 32]</td>\n",
       "      <td>NaN</td>\n",
       "      <td>32.0</td>\n",
       "    </tr>\n",
       "    <tr>\n",
       "      <th>16_conv2</th>\n",
       "      <td>[32, 32, 3, 3]</td>\n",
       "      <td>[128, 32, 32, 32]</td>\n",
       "      <td>NaN</td>\n",
       "      <td>9437184.0</td>\n",
       "    </tr>\n",
       "    <tr>\n",
       "      <th>17_norm2</th>\n",
       "      <td>[32]</td>\n",
       "      <td>[128, 32, 32, 32]</td>\n",
       "      <td>NaN</td>\n",
       "      <td>32.0</td>\n",
       "    </tr>\n",
       "    <tr>\n",
       "      <th>18_max_pool</th>\n",
       "      <td>-</td>\n",
       "      <td>[128, 32, 16, 16]</td>\n",
       "      <td>NaN</td>\n",
       "      <td>NaN</td>\n",
       "    </tr>\n",
       "    <tr>\n",
       "      <th>19_conv3</th>\n",
       "      <td>[32, 64, 3, 3]</td>\n",
       "      <td>[128, 64, 16, 16]</td>\n",
       "      <td>NaN</td>\n",
       "      <td>4718592.0</td>\n",
       "    </tr>\n",
       "    <tr>\n",
       "      <th>20_norm3</th>\n",
       "      <td>[64]</td>\n",
       "      <td>[128, 64, 16, 16]</td>\n",
       "      <td>NaN</td>\n",
       "      <td>64.0</td>\n",
       "    </tr>\n",
       "    <tr>\n",
       "      <th>21_conv4</th>\n",
       "      <td>[64, 128, 3, 3]</td>\n",
       "      <td>[128, 128, 16, 16]</td>\n",
       "      <td>NaN</td>\n",
       "      <td>18874368.0</td>\n",
       "    </tr>\n",
       "    <tr>\n",
       "      <th>22_norm4</th>\n",
       "      <td>[128]</td>\n",
       "      <td>[128, 128, 16, 16]</td>\n",
       "      <td>NaN</td>\n",
       "      <td>128.0</td>\n",
       "    </tr>\n",
       "    <tr>\n",
       "      <th>23_conv5</th>\n",
       "      <td>[128, 256, 3, 3]</td>\n",
       "      <td>[128, 256, 16, 16]</td>\n",
       "      <td>NaN</td>\n",
       "      <td>75497472.0</td>\n",
       "    </tr>\n",
       "    <tr>\n",
       "      <th>24_norm5</th>\n",
       "      <td>[256]</td>\n",
       "      <td>[128, 256, 16, 16]</td>\n",
       "      <td>NaN</td>\n",
       "      <td>256.0</td>\n",
       "    </tr>\n",
       "    <tr>\n",
       "      <th>25_conv6</th>\n",
       "      <td>[256, 512, 3, 3]</td>\n",
       "      <td>[128, 512, 16, 16]</td>\n",
       "      <td>NaN</td>\n",
       "      <td>301989888.0</td>\n",
       "    </tr>\n",
       "    <tr>\n",
       "      <th>26_norm6</th>\n",
       "      <td>[512]</td>\n",
       "      <td>[128, 512, 16, 16]</td>\n",
       "      <td>NaN</td>\n",
       "      <td>512.0</td>\n",
       "    </tr>\n",
       "    <tr>\n",
       "      <th>27_avg_pool</th>\n",
       "      <td>-</td>\n",
       "      <td>[128, 512, 1, 1]</td>\n",
       "      <td>NaN</td>\n",
       "      <td>NaN</td>\n",
       "    </tr>\n",
       "  </tbody>\n",
       "</table>\n",
       "</div>"
      ],
      "text/plain": [
       "                 Kernel Shape        Output Shape     Params    Mult-Adds\n",
       "Layer                                                                    \n",
       "0_conv1         [1, 32, 3, 3]   [128, 32, 32, 32]      320.0     294912.0\n",
       "1_norm1                  [32]   [128, 32, 32, 32]       64.0         32.0\n",
       "2_conv2        [32, 32, 3, 3]   [128, 32, 32, 32]     9248.0    9437184.0\n",
       "3_norm2                  [32]   [128, 32, 32, 32]       64.0         32.0\n",
       "4_max_pool                  -   [128, 32, 16, 16]        NaN          NaN\n",
       "5_conv3        [32, 64, 3, 3]   [128, 64, 16, 16]    18496.0    4718592.0\n",
       "6_norm3                  [64]   [128, 64, 16, 16]      128.0         64.0\n",
       "7_conv4       [64, 128, 3, 3]  [128, 128, 16, 16]    73856.0   18874368.0\n",
       "8_norm4                 [128]  [128, 128, 16, 16]      256.0        128.0\n",
       "9_conv5      [128, 256, 3, 3]  [128, 256, 16, 16]   295168.0   75497472.0\n",
       "10_norm5                [256]  [128, 256, 16, 16]      512.0        256.0\n",
       "11_conv6     [256, 512, 3, 3]  [128, 512, 16, 16]  1180160.0  301989888.0\n",
       "12_norm6                [512]  [128, 512, 16, 16]     1024.0        512.0\n",
       "13_avg_pool                 -    [128, 512, 1, 1]        NaN          NaN\n",
       "14_conv1        [1, 32, 3, 3]   [128, 32, 32, 32]        NaN     294912.0\n",
       "15_norm1                 [32]   [128, 32, 32, 32]        NaN         32.0\n",
       "16_conv2       [32, 32, 3, 3]   [128, 32, 32, 32]        NaN    9437184.0\n",
       "17_norm2                 [32]   [128, 32, 32, 32]        NaN         32.0\n",
       "18_max_pool                 -   [128, 32, 16, 16]        NaN          NaN\n",
       "19_conv3       [32, 64, 3, 3]   [128, 64, 16, 16]        NaN    4718592.0\n",
       "20_norm3                 [64]   [128, 64, 16, 16]        NaN         64.0\n",
       "21_conv4      [64, 128, 3, 3]  [128, 128, 16, 16]        NaN   18874368.0\n",
       "22_norm4                [128]  [128, 128, 16, 16]        NaN        128.0\n",
       "23_conv5     [128, 256, 3, 3]  [128, 256, 16, 16]        NaN   75497472.0\n",
       "24_norm5                [256]  [128, 256, 16, 16]        NaN        256.0\n",
       "25_conv6     [256, 512, 3, 3]  [128, 512, 16, 16]        NaN  301989888.0\n",
       "26_norm6                [512]  [128, 512, 16, 16]        NaN        512.0\n",
       "27_avg_pool                 -    [128, 512, 1, 1]        NaN          NaN"
      ]
     },
     "execution_count": 20,
     "metadata": {},
     "output_type": "execute_result"
    }
   ],
   "source": [
    "from torchsummaryX import summary\n",
    "\n",
    "model1 = Net1().cuda()\n",
    "summary(model1, input1.cuda(), input2.cuda())"
   ]
  },
  {
   "cell_type": "code",
   "execution_count": 21,
   "metadata": {},
   "outputs": [
    {
     "name": "stdout",
     "output_type": "stream",
     "text": [
      "out_vec1:  <class 'torch.Tensor'> torch.Size([128, 512])\n"
     ]
    }
   ],
   "source": [
    "out_vec1 , out_vec2 = model1(input1.cuda(), input2.cuda()) # this output will be aggregation functions input\n",
    "print(\"out_vec1: \", type(out_vec1), out_vec1.shape)"
   ]
  },
  {
   "cell_type": "code",
   "execution_count": 22,
   "metadata": {},
   "outputs": [],
   "source": [
    "# takes two input vector of size 512 and outputs the element wise absolute difference\n",
    "def aggregation(in_vec1, in_vec2):\n",
    "    out_vector = abs(in_vec1 - in_vec2)\n",
    "    # to learn the # of trainable parameters if concatenation instead of difference is used\n",
    "#     out_vector = torch.cat((in_vec1, in_vec2), 1)\n",
    "    return out_vector"
   ]
  },
  {
   "cell_type": "code",
   "execution_count": 23,
   "metadata": {},
   "outputs": [
    {
     "name": "stdout",
     "output_type": "stream",
     "text": [
      "torch.Size([128, 512]) torch.Size([128, 512])\n"
     ]
    }
   ],
   "source": [
    "test_out_vec = aggregation(out_vec1, out_vec2)\n",
    "print(test_out_vec.shape, out_vec1.shape) # check if both their shapes is correct\n",
    "# test_out_vec # 512 features and 128 outputs"
   ]
  },
  {
   "cell_type": "code",
   "execution_count": 24,
   "metadata": {},
   "outputs": [],
   "source": [
    "# aggregation goes through 2 fully connected layers\n",
    "# change d_in to 1024 to check for concatenation\n",
    "d_in = 512\n",
    "\n",
    "class Net2(nn.Module):\n",
    "    def __init__(self): # def __init__(self, d_in, d_out)\n",
    "        super(Net2, self).__init__()\n",
    "        self.fc1 = nn.Linear(d_in, d_in) # 1st fully connected layer       \n",
    "        self.drop = nn.Dropout(0.5)\n",
    "        self.fc2 = nn.Linear(d_in, 1)  \n",
    "        \n",
    "\n",
    "    def forward(self, aggregate_output):\n",
    "        aggregate_output = F.relu(self.fc1(aggregate_output))\n",
    "        aggregate_ouput = self.drop(aggregate_output)\n",
    "        output_layer = self.fc2(aggregate_output)\n",
    "        output_layer = torch.sigmoid(output_layer) # therefore bcloss should be used\n",
    "        return output_layer"
   ]
  },
  {
   "cell_type": "code",
   "execution_count": 25,
   "metadata": {},
   "outputs": [
    {
     "data": {
      "text/plain": [
       "Net2(\n",
       "  (fc1): Linear(in_features=512, out_features=512, bias=True)\n",
       "  (drop): Dropout(p=0.5, inplace=False)\n",
       "  (fc2): Linear(in_features=512, out_features=1, bias=True)\n",
       ")"
      ]
     },
     "execution_count": 25,
     "metadata": {},
     "output_type": "execute_result"
    }
   ],
   "source": [
    "model2 = Net2().cuda()\n",
    "model2"
   ]
  },
  {
   "cell_type": "code",
   "execution_count": 26,
   "metadata": {},
   "outputs": [
    {
     "name": "stdout",
     "output_type": "stream",
     "text": [
      "=====================================================\n",
      "       Kernel Shape Output Shape    Params Mult-Adds\n",
      "Layer                                               \n",
      "0_fc1    [512, 512]   [128, 512]  262.656k  262.144k\n",
      "1_drop            -   [128, 512]         -         -\n",
      "2_fc2      [512, 1]     [128, 1]     513.0     512.0\n",
      "-----------------------------------------------------\n",
      "                        Totals\n",
      "Total params          263.169k\n",
      "Trainable params      263.169k\n",
      "Non-trainable params       0.0\n",
      "Mult-Adds             262.656k\n",
      "=====================================================\n"
     ]
    },
    {
     "data": {
      "text/html": [
       "<div>\n",
       "<style scoped>\n",
       "    .dataframe tbody tr th:only-of-type {\n",
       "        vertical-align: middle;\n",
       "    }\n",
       "\n",
       "    .dataframe tbody tr th {\n",
       "        vertical-align: top;\n",
       "    }\n",
       "\n",
       "    .dataframe thead th {\n",
       "        text-align: right;\n",
       "    }\n",
       "</style>\n",
       "<table border=\"1\" class=\"dataframe\">\n",
       "  <thead>\n",
       "    <tr style=\"text-align: right;\">\n",
       "      <th></th>\n",
       "      <th>Kernel Shape</th>\n",
       "      <th>Output Shape</th>\n",
       "      <th>Params</th>\n",
       "      <th>Mult-Adds</th>\n",
       "    </tr>\n",
       "    <tr>\n",
       "      <th>Layer</th>\n",
       "      <th></th>\n",
       "      <th></th>\n",
       "      <th></th>\n",
       "      <th></th>\n",
       "    </tr>\n",
       "  </thead>\n",
       "  <tbody>\n",
       "    <tr>\n",
       "      <th>0_fc1</th>\n",
       "      <td>[512, 512]</td>\n",
       "      <td>[128, 512]</td>\n",
       "      <td>262656.0</td>\n",
       "      <td>262144.0</td>\n",
       "    </tr>\n",
       "    <tr>\n",
       "      <th>1_drop</th>\n",
       "      <td>-</td>\n",
       "      <td>[128, 512]</td>\n",
       "      <td>NaN</td>\n",
       "      <td>NaN</td>\n",
       "    </tr>\n",
       "    <tr>\n",
       "      <th>2_fc2</th>\n",
       "      <td>[512, 1]</td>\n",
       "      <td>[128, 1]</td>\n",
       "      <td>513.0</td>\n",
       "      <td>512.0</td>\n",
       "    </tr>\n",
       "  </tbody>\n",
       "</table>\n",
       "</div>"
      ],
      "text/plain": [
       "       Kernel Shape Output Shape    Params  Mult-Adds\n",
       "Layer                                                \n",
       "0_fc1    [512, 512]   [128, 512]  262656.0   262144.0\n",
       "1_drop            -   [128, 512]       NaN        NaN\n",
       "2_fc2      [512, 1]     [128, 1]     513.0      512.0"
      ]
     },
     "execution_count": 26,
     "metadata": {},
     "output_type": "execute_result"
    }
   ],
   "source": [
    "output = model2(test_out_vec)\n",
    "\n",
    "\n",
    "summary(model2, test_out_vec)"
   ]
  },
  {
   "cell_type": "code",
   "execution_count": 27,
   "metadata": {},
   "outputs": [],
   "source": [
    "def Siamese_Network(img_input1, img_input2):\n",
    "    model1 = Net1().cuda() # passing two preprocessed imgs from train/valid/test_loader through cnn\n",
    "    img1, img2 = model1(img_input1.cuda(), img_input2.cuda()) \n",
    "    \n",
    "    #getting the aggregated output from absolute difference between img1 and img2\n",
    "    aggregate_output_vector = aggregation(img1, img2)\n",
    "    \n",
    "    #passing through fully connected layers and sigmoid\n",
    "    model2 = Net2().cuda()\n",
    "    output = model2(aggregate_output_vector.cuda())\n",
    "    return output"
   ]
  },
  {
   "cell_type": "code",
   "execution_count": 28,
   "metadata": {},
   "outputs": [
    {
     "data": {
      "text/plain": [
       "torch.Size([128, 1])"
      ]
     },
     "execution_count": 28,
     "metadata": {},
     "output_type": "execute_result"
    }
   ],
   "source": [
    "out = Siamese_Network(input1.cuda(), input2.cuda())\n",
    "out.shape"
   ]
  },
  {
   "cell_type": "code",
   "execution_count": 29,
   "metadata": {},
   "outputs": [
    {
     "name": "stdout",
     "output_type": "stream",
     "text": [
      "total_trainable:  1842465\n"
     ]
    }
   ],
   "source": [
    "# total number of trainable parameters \n",
    "def total_trainable_count(model1, model2):\n",
    "    trainable_count = sum(p.numel() for p in model1.parameters() if p.requires_grad)\n",
    "    trainable_count1 = sum(p.numel() for p in model2.parameters() if p.requires_grad)\n",
    "    total = trainable_count + trainable_count1\n",
    "    \n",
    "    return total\n",
    "\n",
    "print(\"total_trainable: \", total_trainable_count(model1, model2))"
   ]
  },
  {
   "cell_type": "markdown",
   "metadata": {},
   "source": [
    "# Final Siamese Model (Combination of Net1 and Net2)"
   ]
  },
  {
   "cell_type": "code",
   "execution_count": 30,
   "metadata": {},
   "outputs": [],
   "source": [
    "#model\n",
    "# (1x32x32)-> conv -> conv -> max pooling -> conv (64 kernels) -> conv (128 kernels) -> conv (256) -> conv (512)\n",
    "# avg pooling (16*16 kernel size) -> flattening  -> output (1*512 vector)\n",
    "\n",
    "d_in = 512\n",
    "class Final_Siamese_Network(nn.Module):\n",
    "    def __init__(self):\n",
    "        super(Final_Siamese_Network, self).__init__()\n",
    "    \n",
    "        # (32x32x1)-> conv -> (32x32x32) -> conv -> (32x32x32) ->  maxpool -> (16x16x32)\n",
    "        # conv -> (16x16x64)-> conv (16x16x128) -> conv (16x16x256) -> conv (16x16x512) \n",
    "        # avgpool -> (16x16x512) -> fc -> (1x1x512)\n",
    "        self.conv1 = nn.Conv2d(in_channels=1, out_channels=32, kernel_size=3, padding=1, stride=1)\n",
    "        self.conv2 = nn.Conv2d(in_channels=32, out_channels=32, kernel_size=3, padding=1, stride=1)\n",
    "        \n",
    "        # max pooling\n",
    "        self.max_pool = nn.MaxPool2d(2, stride=2)\n",
    "        \n",
    "        self.conv3 = nn.Conv2d(in_channels=32, out_channels=64, kernel_size=3, padding=1, stride=1)\n",
    "        self.conv4 = nn.Conv2d(in_channels=64, out_channels=128, kernel_size=3, padding=1, stride=1)\n",
    "        self.conv5 = nn.Conv2d(in_channels=128, out_channels=256, kernel_size=3, padding=1, stride=1)\n",
    "        self.conv6 = nn.Conv2d(in_channels=256, out_channels=512, kernel_size=3, padding=1, stride=1)\n",
    "        \n",
    "        # average pooling\n",
    "        self.avg_pool = nn.AvgPool2d(16, stride=1)\n",
    "        \n",
    "        # batch normalization\n",
    "        self.norm1 = nn.BatchNorm2d(32)  \n",
    "        self.norm2 = nn.BatchNorm2d(32)\n",
    "        self.norm3 = nn.BatchNorm2d(64)\n",
    "        self.norm4 = nn.BatchNorm2d(128)\n",
    "        self.norm5 = nn.BatchNorm2d(256) \n",
    "        self.norm6 = nn.BatchNorm2d(512)\n",
    "        \n",
    "        # fully connected and dropout layers\n",
    "        self.fc1 = nn.Linear(d_in, d_in) \n",
    "        self.drop = nn.Dropout(0.5)\n",
    "        self.fc2 = nn.Linear(d_in, 1) \n",
    "    \n",
    "    \n",
    "    # takes two input vector of size 512 and outputs the element wise absolute difference\n",
    "    def aggregation(in_vec1, in_vec2):\n",
    "        out_vector = abs(in_vec1 - in_vec2)\n",
    "        return out_vector\n",
    "        \n",
    "    def forward(self, img1, img2):\n",
    "        #  1, 32, 32\n",
    "        # out_dim = in_dim - kernel_size + 1  \n",
    "        \n",
    "        img1 = F.relu((self.norm1(self.conv1(img1)))) #32, 32, 32 \n",
    "        img1 = self.max_pool(F.relu(self.norm2(self.conv2(img1)))) #16, 16, 32\n",
    "        img1 = F.relu(self.norm3(self.conv3(img1)))\n",
    "        img1 = F.relu(self.norm4(self.conv4(img1)))\n",
    "        img1 = F.relu(self.norm5(self.conv5(img1)))\n",
    "        img1 = self.avg_pool(F.relu(self.norm6(self.conv6(img1))))\n",
    "        img1 = img1.view(-1, 1 * 512)  #flatten the data\n",
    "\n",
    "        img2 = F.relu((self.norm1(self.conv1(img2)))) #32, 32, 32 \n",
    "        img2 = self.max_pool(F.relu(self.norm2(self.conv2(img2)))) #16, 16, 32\n",
    "        img2 = F.relu(self.norm3(self.conv3(img2)))\n",
    "        img2 = F.relu(self.norm4(self.conv4(img2)))\n",
    "        img2 = F.relu(self.norm5(self.conv5(img2)))\n",
    "        img2 = self.avg_pool(F.relu(self.norm6(self.conv6(img2))))\n",
    "        img2 = img2.view(-1, 1 * 512)  #flatten the data\n",
    "        \n",
    "        aggregate_output = aggregation(img1, img2)\n",
    "#         print(aggregate_output, aggregate_output.shape)\n",
    "        aggregate_output = F.relu(self.fc1(aggregate_output))\n",
    "        aggregate_ouput = self.drop(aggregate_output)\n",
    "        output_layer = self.fc2(aggregate_output)\n",
    "        output_layer = torch.sigmoid(output_layer) # therefore bcloss should be used\n",
    "        \n",
    "        return output_layer"
   ]
  },
  {
   "cell_type": "markdown",
   "metadata": {},
   "source": [
    "# 4.2.3 Training and Validation"
   ]
  },
  {
   "cell_type": "code",
   "execution_count": 31,
   "metadata": {},
   "outputs": [],
   "source": [
    "from sklearn.metrics import classification_report\n",
    "from tqdm.notebook import tqdm #this library to visualize the training progress\n"
   ]
  },
  {
   "cell_type": "code",
   "execution_count": 32,
   "metadata": {},
   "outputs": [],
   "source": [
    "def save_checkpoint(save_path, model, optimizer, val_loss, train_loss, val_accuracy, train_accuracy):\n",
    "    if save_path==None:\n",
    "        return\n",
    "    save_path = save_path   # saves the optimizer and the validation loss\n",
    "    state_dict = {'model_state_dict': model.state_dict(),\n",
    "                  'optimizer_state_dict': optimizer.state_dict(),\n",
    "                  'val_loss': val_loss,\n",
    "                  'train_loss': train_loss,\n",
    "                  'val_accuracy': val_accuracy,\n",
    "                  'train_accuracy': train_accuracy\n",
    "                 }\n",
    "\n",
    "    torch.save(state_dict, save_path)\n",
    "    print(f'Model saved to {save_path}')\n",
    "\n",
    "def load_checkpoint(save_path, model, optimizer): # for loading the datasets\n",
    "    save_path = save_path #f'log_files.pt'\n",
    "    state_dict = torch.load(save_path)\n",
    "    model.load_state_dict(state_dict['model_state_dict'])\n",
    "    optimizer.load_state_dict(state_dict['optimizer_state_dict'])\n",
    "    val_loss = state_dict['val_loss']\n",
    "    train_loss = state_dict['train_loss']\n",
    "    val_accuracy = state_dict['val_accuracy']\n",
    "    train_accuracy = state_dict['train_accuracy']\n",
    "    print(f'Model loaded from {save_path}, with val accuracy: {val_accuracy}')\n",
    "    return val_accuracy, train_accuracy, val_loss, train_loss\n"
   ]
  },
  {
   "cell_type": "code",
   "execution_count": 33,
   "metadata": {},
   "outputs": [],
   "source": [
    "def plot1 (train_loss, valid_loss, steps):\n",
    "    i = 1\n",
    "    for x, y in zip(steps, train_loss):\n",
    "        plt.plot(x, y, label = f'Epoch {i}')\n",
    "        i += 1\n",
    "    plt.title('Training Loss vs Steps of 10')\n",
    "    plt.xlabel('Steps of 10')\n",
    "    plt.ylabel('Training Loss')\n",
    "    plt.show()\n",
    "    x = np.arange(1,7)\n",
    "    i = 0\n",
    "    for y in valid_loss:\n",
    "        plt.plot(x, y)\n",
    "        i += 1\n",
    "    plt.xlabel('Steps of 1')\n",
    "    plt.ylabel('Validation Loss')\n",
    "    plt.title('Validation Loss vs Steps of 1')\n",
    "    plt.show()\n",
    "    \n",
    "def plot2 (train_loss, valid_loss, train_steps, valid_steps):\n",
    "    plt.plot(train_steps, train_loss)\n",
    "    plt.title('Training Loss vs Steps of 10')\n",
    "    plt.xlabel('Steps of 10')\n",
    "    plt.ylabel('Training Loss')\n",
    "    plt.show()\n",
    "\n",
    "    plt.plot(valid_steps, valid_loss)\n",
    "    plt.xlabel('Steps of 1')\n",
    "    plt.ylabel('Validation Loss')\n",
    "    plt.title('Validation Loss vs Steps of 1')\n",
    "    plt.show()\n",
    "\n",
    "# valid and train loss combined\n",
    "def plot3(valid_loss, train_loss, steps):\n",
    "    plt.plot(steps, valid_loss, label = 'Valid Loss')\n",
    "    plt.plot(steps, train_loss, label = 'Train Loss')\n",
    "    plt.title('Loss vs Steps of 10')\n",
    "    plt.xlabel('Steps of 10')\n",
    "    plt.ylabel('Loss')\n",
    "    plt.legend()\n",
    "    plt.show()\n",
    "\n",
    "def accuracy_plot(train_accuracy, valid_accuracy, num_epochs):\n",
    "    x_axis = np.arange(1, num_epochs + 1)\n",
    "    plt.plot(x_axis, valid_accuracy, label = 'Valid Accuracy')\n",
    "    plt.plot(x_axis, train_accuracy, label = 'Train Accuracy')\n",
    "    plt.title('Accuracy vs Epochs')\n",
    "    plt.xlabel('Epochs')\n",
    "    plt.ylabel('Accuracy')\n",
    "    plt.legend()\n",
    "    plt.show()"
   ]
  },
  {
   "cell_type": "code",
   "execution_count": 34,
   "metadata": {},
   "outputs": [],
   "source": [
    "from sklearn.metrics import classification_report,roc_curve, auc\n",
    "\n",
    "#To calculate the optimal threshold, load the best model we had\n",
    "\n",
    "# finds the optimal cutoff threshold (a helper function to find the perfect threshold)\n",
    "def Find_Optimal_Cutoff(target, predicted):\n",
    "    fpr, tpr, threshold = roc_curve(target, predicted)\n",
    "    i = np.arange(len(tpr)) \n",
    "    roc = pd.DataFrame({'tf' : pd.Series(tpr-(1-fpr), index=i), 'threshold' : pd.Series(threshold, index=i)})\n",
    "    roc_t = roc.iloc[(roc.tf-0).abs().argsort()[:1]]\n",
    "\n",
    "    return list(roc_t['threshold']) \n",
    "\n",
    "def findThreshold(net,predictloader):\n",
    "    net.eval()\n",
    "    y_pred = []\n",
    "    y_test = []\n",
    "\n",
    "    with torch.no_grad():\n",
    "        for img1, img2, labels in predictloader:\n",
    "            img1, img2, labels = img1.to(device), img2.to(device), labels.to(device)\n",
    "            outputs = net(img1,img2)\n",
    "            y_pred.extend(outputs.cpu().detach().numpy())\n",
    "            y_test.extend(labels.cpu().detach().numpy())\n",
    "        #print(y_pred)\n",
    "    return Find_Optimal_Cutoff(y_test, y_pred)[0]"
   ]
  },
  {
   "cell_type": "code",
   "execution_count": 35,
   "metadata": {},
   "outputs": [],
   "source": [
    "# Train function\n",
    "def TRAIN(net, train_loader, valid_loader,  num_epochs, criterion, optimizer, val_acc, device, save_name):\n",
    "    \n",
    "    if val_acc==None: # accuracy\n",
    "        best_val_acc = float(\"Inf\")  \n",
    "    else: \n",
    "        best_val_acc=val_acc\n",
    "        print('Resume training')\n",
    "        \n",
    "    # accuracies\n",
    "    valid_accuracy = []\n",
    "    train_accuracy = []\n",
    "    \n",
    "    total_train_loss = [] # calculated after every 10 steps\n",
    "    total_valid_loss = []\n",
    "    total_steps = []\n",
    "    \n",
    "    aggregate_num_steps = 0\n",
    "    aggregate_train_loss = []\n",
    "    aggregate_valid_loss = []\n",
    "    aggregate_steps = []\n",
    "    aggregate_valid_steps = []\n",
    "    valid_steps = 0\n",
    "    \n",
    "    inside_train_valid_loss = []\n",
    "    threshold1 = 0.5\n",
    "    threshold2 = 0.5\n",
    "    for epoch in range(num_epochs):  # loop over the dataset multiple times\n",
    "        net.train()\n",
    "        running_loss = 0.0\n",
    "        running_corrects = 0\n",
    "        \n",
    "        #epoch train and val losses\n",
    "        epoch_train_loss = []\n",
    "        epoch_valid_loss = []\n",
    "        steps = []\n",
    "        #steps\n",
    "        num_steps = 0\n",
    "        ten_step_train_loss = 0\n",
    "        aggr_ten_step_train_loss = 0\n",
    "\n",
    "        \n",
    "        for inputs1, inputs2, labels in tqdm(train_loader):\n",
    "            \n",
    "            inputs1, inputs2, labels = inputs1.to(device), inputs2.to(device), labels.to(device)\n",
    "\n",
    "            '''Training of the model'''\n",
    "            # Forward pass\n",
    "            outputs = net(inputs1, inputs2)\n",
    "            \n",
    "            loss = criterion(outputs, labels)\n",
    "            \n",
    "            # Backward and optimize\n",
    "            optimizer.zero_grad()\n",
    "            loss.backward()\n",
    "            optimizer.step()\n",
    "            \n",
    "            #calculating the 10 step training loss\n",
    "            num_steps += 1\n",
    "            ten_step_train_loss += loss.item()\n",
    "            if(not(num_steps % 10)):\n",
    "                epoch_train_loss.append(ten_step_train_loss/(10))\n",
    "                steps.append(num_steps)\n",
    "                ten_step_train_loss = 0\n",
    "                \n",
    "                \n",
    "            aggregate_num_steps += 1\n",
    "            if (not(aggregate_num_steps % 10)):\n",
    "                running_loss = 0.0\n",
    "                for inputs1, inputs2, labels in tqdm(train_loader):\n",
    "                    inputs1, inputs2, labels = inputs1.to(device), inputs2.to(device), labels.to(device)\n",
    "                    outputs = net(inputs1, inputs2)\n",
    "\n",
    "                    loss = criterion(outputs, labels)\n",
    "\n",
    "                    running_loss += loss.item()\n",
    "\n",
    "                train_loss = running_loss / len(train_loader)\n",
    "                aggregate_train_loss.append(train_loss)\n",
    "                aggregate_steps.append(aggregate_num_steps)\n",
    "                \n",
    "                # step size 10 and conducting loss on validation\n",
    "                with torch.no_grad():\n",
    "                    net.eval() # to turn off the dropout or learning\n",
    "                    running_loss = 0.0\n",
    "\n",
    "                    for inputs1, inputs2, labels in tqdm(valid_loader):\n",
    "                        inputs1, inputs2, labels = inputs1.to(device), inputs2.to(device), labels.to(device)\n",
    "                        outputs = net(inputs1, inputs2)\n",
    "\n",
    "                        loss = criterion(outputs, labels)\n",
    "\n",
    "                        running_loss += loss.item()\n",
    "\n",
    "                    valid_loss = running_loss / len(valid_loader)\n",
    "                    inside_train_valid_loss.append(valid_loss)\n",
    "            net.train()\n",
    "            running_loss += loss.item()\n",
    "            \n",
    "            # threshold1 calculated from the optimal threshold\n",
    "            preds = outputs > threshold1\n",
    "            running_corrects += torch.sum(preds == labels.data)\n",
    "        \n",
    "        #appending 10 step training loss to the total_train_loss\n",
    "        total_train_loss.append(epoch_train_loss)\n",
    "        total_steps.append(steps)\n",
    "        \n",
    "        train_loss = running_loss / len(train_loader)\n",
    "        train_acc = running_corrects / float(len(train_loader.dataset))\n",
    "        train_accuracy.append(train_acc)\n",
    "\n",
    "        print(train_loss, train_acc)\n",
    "        \n",
    "        with torch.no_grad():\n",
    "            net.eval() # to turn off the dropout or learning\n",
    "            running_loss = 0.0\n",
    "            running_corrects = 0\n",
    "            \n",
    "            \n",
    "            for inputs1, inputs2, labels in tqdm(valid_loader):\n",
    "\n",
    "                inputs1, inputs2, labels = inputs1.to(device), inputs2.to(device), labels.to(device)\n",
    "                outputs = net(inputs1, inputs2)\n",
    "\n",
    "                loss = criterion(outputs, labels)\n",
    "                \n",
    "                valid_steps += 1\n",
    "                epoch_valid_loss.append(loss.item())\n",
    "                aggregate_valid_loss.append(loss.item())\n",
    "                aggregate_valid_steps.append(valid_steps)\n",
    "                \n",
    "                running_loss += loss.item()\n",
    "#                 _, preds = torch.max(outputs.data, 1) # from every subarray of 2d array find the max\n",
    "                preds = outputs > threshold2\n",
    "                # _ is the output val of each predicted score while preds/index is the class label\n",
    "                running_corrects += torch.sum(preds == labels.data)\n",
    "                \n",
    "                    \n",
    "            #appending 10 step training loss to the total_train_loss\n",
    "            total_valid_loss.append(epoch_valid_loss)\n",
    "\n",
    "            valid_loss = running_loss / len(valid_loader)\n",
    "            valid_acc = running_corrects / float(len(valid_loader.dataset))\n",
    "            \n",
    "            valid_accuracy.append(valid_acc)\n",
    "    \n",
    "        \n",
    "        print('Epoch [{}/{}], Train Loss: {:.4f}, Train Acc: {:.4f}, Valid Loss: {:.4f},  Valid Acc: {:.4f}'\n",
    "              .format(epoch+1, num_epochs, train_loss, train_acc, valid_loss, valid_acc))\n",
    "        \n",
    "        if valid_acc > best_val_acc: # saving best validation accuracy model\n",
    "            best_val_acc = valid_acc\n",
    "            save_checkpoint(save_name, net, optimizer, valid_loss, train_loss, valid_acc, train_acc)\n",
    "        print(\"Best Validation: \", best_val_acc)\n",
    "\n",
    "        \n",
    "        \n",
    "    total_train_loss = np.array(total_train_loss)\n",
    "    total_valid_loss = np.array(total_valid_loss)\n",
    "    total_steps = np.array(total_steps)\n",
    "    print('Finished Training')\n",
    "    \n",
    "    plot1(total_train_loss, total_valid_loss, total_steps)\n",
    "    aggregate_train_loss, aggregate_valid_loss, aggregate_steps, aggregate_valid_steps = np.array(aggregate_train_loss), np.array(aggregate_valid_loss), np.array(aggregate_steps), np.array(aggregate_valid_steps)\n",
    "    inside_train_valid_loss = np.array(inside_train_valid_loss)\n",
    "    valid_accuracy = np.array(valid_accuracy)\n",
    "    train_accuracy = np.array(train_accuracy)\n",
    "    plot2(aggregate_train_loss, aggregate_valid_loss, aggregate_steps, aggregate_valid_steps)\n",
    "    plot3(inside_train_valid_loss, aggregate_train_loss, aggregate_steps)\n",
    "    accuracy_plot(train_accuracy, valid_accuracy, num_epochs)"
   ]
  },
  {
   "cell_type": "code",
   "execution_count": 36,
   "metadata": {},
   "outputs": [
    {
     "name": "stdout",
     "output_type": "stream",
     "text": [
      "Resume training\n"
     ]
    },
    {
     "data": {
      "application/vnd.jupyter.widget-view+json": {
       "model_id": "07862bb37b6f403c81f0912cf371110a",
       "version_major": 2,
       "version_minor": 0
      },
      "text/plain": [
       "  0%|          | 0/39 [00:00<?, ?it/s]"
      ]
     },
     "metadata": {},
     "output_type": "display_data"
    },
    {
     "data": {
      "application/vnd.jupyter.widget-view+json": {
       "model_id": "b87f49398d9e49519fb10721ee1fed9d",
       "version_major": 2,
       "version_minor": 0
      },
      "text/plain": [
       "  0%|          | 0/39 [00:00<?, ?it/s]"
      ]
     },
     "metadata": {},
     "output_type": "display_data"
    },
    {
     "data": {
      "application/vnd.jupyter.widget-view+json": {
       "model_id": "8854684d29b14014b91d515e0d00d129",
       "version_major": 2,
       "version_minor": 0
      },
      "text/plain": [
       "  0%|          | 0/6 [00:00<?, ?it/s]"
      ]
     },
     "metadata": {},
     "output_type": "display_data"
    },
    {
     "data": {
      "application/vnd.jupyter.widget-view+json": {
       "model_id": "aaba518357e44376bc3ceabd2f1409d4",
       "version_major": 2,
       "version_minor": 0
      },
      "text/plain": [
       "  0%|          | 0/39 [00:00<?, ?it/s]"
      ]
     },
     "metadata": {},
     "output_type": "display_data"
    },
    {
     "data": {
      "application/vnd.jupyter.widget-view+json": {
       "model_id": "f76730eccf05466eaab91dd9da5a0c80",
       "version_major": 2,
       "version_minor": 0
      },
      "text/plain": [
       "  0%|          | 0/6 [00:00<?, ?it/s]"
      ]
     },
     "metadata": {},
     "output_type": "display_data"
    },
    {
     "data": {
      "application/vnd.jupyter.widget-view+json": {
       "model_id": "6600f2c54dba493bb946315094e8b47d",
       "version_major": 2,
       "version_minor": 0
      },
      "text/plain": [
       "  0%|          | 0/39 [00:00<?, ?it/s]"
      ]
     },
     "metadata": {},
     "output_type": "display_data"
    },
    {
     "data": {
      "application/vnd.jupyter.widget-view+json": {
       "model_id": "56daaa4bdba84e22ba089679ae0e7946",
       "version_major": 2,
       "version_minor": 0
      },
      "text/plain": [
       "  0%|          | 0/6 [00:00<?, ?it/s]"
      ]
     },
     "metadata": {},
     "output_type": "display_data"
    },
    {
     "name": "stdout",
     "output_type": "stream",
     "text": [
      "0.2687381016902434 tensor(0.5196, device='cuda:0')\n"
     ]
    },
    {
     "data": {
      "application/vnd.jupyter.widget-view+json": {
       "model_id": "a6e5112ac05a4fb1ab13d49c08aa71bb",
       "version_major": 2,
       "version_minor": 0
      },
      "text/plain": [
       "  0%|          | 0/6 [00:00<?, ?it/s]"
      ]
     },
     "metadata": {},
     "output_type": "display_data"
    },
    {
     "name": "stdout",
     "output_type": "stream",
     "text": [
      "Epoch [1/20], Train Loss: 0.2687, Train Acc: 0.5196, Valid Loss: 0.6383,  Valid Acc: 0.5829\n",
      "Model saved to given_model_log.pt\n",
      "Best Validation:  tensor(0.5829, device='cuda:0')\n"
     ]
    },
    {
     "data": {
      "application/vnd.jupyter.widget-view+json": {
       "model_id": "6074a0c4176c47888d034ebd2384fd6f",
       "version_major": 2,
       "version_minor": 0
      },
      "text/plain": [
       "  0%|          | 0/39 [00:00<?, ?it/s]"
      ]
     },
     "metadata": {},
     "output_type": "display_data"
    },
    {
     "data": {
      "application/vnd.jupyter.widget-view+json": {
       "model_id": "12d9662a673f495d85ac7ca06c318f10",
       "version_major": 2,
       "version_minor": 0
      },
      "text/plain": [
       "  0%|          | 0/39 [00:00<?, ?it/s]"
      ]
     },
     "metadata": {},
     "output_type": "display_data"
    },
    {
     "data": {
      "application/vnd.jupyter.widget-view+json": {
       "model_id": "fbca416134b54bdb82166313471507cd",
       "version_major": 2,
       "version_minor": 0
      },
      "text/plain": [
       "  0%|          | 0/6 [00:00<?, ?it/s]"
      ]
     },
     "metadata": {},
     "output_type": "display_data"
    },
    {
     "data": {
      "application/vnd.jupyter.widget-view+json": {
       "model_id": "b3c0aa596c7c4c659d4e5bcd883ac475",
       "version_major": 2,
       "version_minor": 0
      },
      "text/plain": [
       "  0%|          | 0/39 [00:00<?, ?it/s]"
      ]
     },
     "metadata": {},
     "output_type": "display_data"
    },
    {
     "data": {
      "application/vnd.jupyter.widget-view+json": {
       "model_id": "f938ca0b37364abbbe8f6c90a9b9d609",
       "version_major": 2,
       "version_minor": 0
      },
      "text/plain": [
       "  0%|          | 0/6 [00:00<?, ?it/s]"
      ]
     },
     "metadata": {},
     "output_type": "display_data"
    },
    {
     "data": {
      "application/vnd.jupyter.widget-view+json": {
       "model_id": "bb949fe7d67144738ed69dacb579b71c",
       "version_major": 2,
       "version_minor": 0
      },
      "text/plain": [
       "  0%|          | 0/39 [00:00<?, ?it/s]"
      ]
     },
     "metadata": {},
     "output_type": "display_data"
    },
    {
     "data": {
      "application/vnd.jupyter.widget-view+json": {
       "model_id": "74651725a5354b41bea5718330721a33",
       "version_major": 2,
       "version_minor": 0
      },
      "text/plain": [
       "  0%|          | 0/6 [00:00<?, ?it/s]"
      ]
     },
     "metadata": {},
     "output_type": "display_data"
    },
    {
     "data": {
      "application/vnd.jupyter.widget-view+json": {
       "model_id": "7bc32982f0d74d6181a450476405bdc3",
       "version_major": 2,
       "version_minor": 0
      },
      "text/plain": [
       "  0%|          | 0/39 [00:00<?, ?it/s]"
      ]
     },
     "metadata": {},
     "output_type": "display_data"
    },
    {
     "data": {
      "application/vnd.jupyter.widget-view+json": {
       "model_id": "272128e1502d4f15b1fa1add5ca17290",
       "version_major": 2,
       "version_minor": 0
      },
      "text/plain": [
       "  0%|          | 0/6 [00:00<?, ?it/s]"
      ]
     },
     "metadata": {},
     "output_type": "display_data"
    },
    {
     "name": "stdout",
     "output_type": "stream",
     "text": [
      "0.22694993171936426 tensor(0.5861, device='cuda:0')\n"
     ]
    },
    {
     "data": {
      "application/vnd.jupyter.widget-view+json": {
       "model_id": "22091ada01734c32a1d2966327b2271a",
       "version_major": 2,
       "version_minor": 0
      },
      "text/plain": [
       "  0%|          | 0/6 [00:00<?, ?it/s]"
      ]
     },
     "metadata": {},
     "output_type": "display_data"
    },
    {
     "name": "stdout",
     "output_type": "stream",
     "text": [
      "Epoch [2/20], Train Loss: 0.2269, Train Acc: 0.5861, Valid Loss: 0.6057,  Valid Acc: 0.6914\n",
      "Model saved to given_model_log.pt\n",
      "Best Validation:  tensor(0.6914, device='cuda:0')\n"
     ]
    },
    {
     "data": {
      "application/vnd.jupyter.widget-view+json": {
       "model_id": "6ea75a89c1024f9b82c2eb1bce04b33b",
       "version_major": 2,
       "version_minor": 0
      },
      "text/plain": [
       "  0%|          | 0/39 [00:00<?, ?it/s]"
      ]
     },
     "metadata": {},
     "output_type": "display_data"
    },
    {
     "data": {
      "application/vnd.jupyter.widget-view+json": {
       "model_id": "11ce599f24944a30b7ff48f3c9984437",
       "version_major": 2,
       "version_minor": 0
      },
      "text/plain": [
       "  0%|          | 0/39 [00:00<?, ?it/s]"
      ]
     },
     "metadata": {},
     "output_type": "display_data"
    },
    {
     "data": {
      "application/vnd.jupyter.widget-view+json": {
       "model_id": "b51e086e938b414f8920170dc761097e",
       "version_major": 2,
       "version_minor": 0
      },
      "text/plain": [
       "  0%|          | 0/6 [00:00<?, ?it/s]"
      ]
     },
     "metadata": {},
     "output_type": "display_data"
    },
    {
     "data": {
      "application/vnd.jupyter.widget-view+json": {
       "model_id": "4a24cf5726894604bbab60d2e9406499",
       "version_major": 2,
       "version_minor": 0
      },
      "text/plain": [
       "  0%|          | 0/39 [00:00<?, ?it/s]"
      ]
     },
     "metadata": {},
     "output_type": "display_data"
    },
    {
     "data": {
      "application/vnd.jupyter.widget-view+json": {
       "model_id": "d8ad189b606f48a1a3220e71be94b4b7",
       "version_major": 2,
       "version_minor": 0
      },
      "text/plain": [
       "  0%|          | 0/6 [00:00<?, ?it/s]"
      ]
     },
     "metadata": {},
     "output_type": "display_data"
    },
    {
     "data": {
      "application/vnd.jupyter.widget-view+json": {
       "model_id": "853d11c76cd246c19686ccebac4af1c8",
       "version_major": 2,
       "version_minor": 0
      },
      "text/plain": [
       "  0%|          | 0/39 [00:00<?, ?it/s]"
      ]
     },
     "metadata": {},
     "output_type": "display_data"
    },
    {
     "data": {
      "application/vnd.jupyter.widget-view+json": {
       "model_id": "eb498bab2a8844be81f3562835997e9e",
       "version_major": 2,
       "version_minor": 0
      },
      "text/plain": [
       "  0%|          | 0/6 [00:00<?, ?it/s]"
      ]
     },
     "metadata": {},
     "output_type": "display_data"
    },
    {
     "data": {
      "application/vnd.jupyter.widget-view+json": {
       "model_id": "78d2dd43268a46f29a68f4d043d193bc",
       "version_major": 2,
       "version_minor": 0
      },
      "text/plain": [
       "  0%|          | 0/39 [00:00<?, ?it/s]"
      ]
     },
     "metadata": {},
     "output_type": "display_data"
    },
    {
     "data": {
      "application/vnd.jupyter.widget-view+json": {
       "model_id": "5c6eab5f11754bf88d32b4638e1a8ab1",
       "version_major": 2,
       "version_minor": 0
      },
      "text/plain": [
       "  0%|          | 0/6 [00:00<?, ?it/s]"
      ]
     },
     "metadata": {},
     "output_type": "display_data"
    },
    {
     "name": "stdout",
     "output_type": "stream",
     "text": [
      "0.2043091960442372 tensor(0.6304, device='cuda:0')\n"
     ]
    },
    {
     "data": {
      "application/vnd.jupyter.widget-view+json": {
       "model_id": "b291553783004c7e9a70128b96d5db50",
       "version_major": 2,
       "version_minor": 0
      },
      "text/plain": [
       "  0%|          | 0/6 [00:00<?, ?it/s]"
      ]
     },
     "metadata": {},
     "output_type": "display_data"
    },
    {
     "name": "stdout",
     "output_type": "stream",
     "text": [
      "Epoch [3/20], Train Loss: 0.2043, Train Acc: 0.6304, Valid Loss: 0.5639,  Valid Acc: 0.6529\n",
      "Best Validation:  tensor(0.6914, device='cuda:0')\n"
     ]
    },
    {
     "data": {
      "application/vnd.jupyter.widget-view+json": {
       "model_id": "468886f9ba3c487eaabfecf27a92bbf1",
       "version_major": 2,
       "version_minor": 0
      },
      "text/plain": [
       "  0%|          | 0/39 [00:00<?, ?it/s]"
      ]
     },
     "metadata": {},
     "output_type": "display_data"
    },
    {
     "data": {
      "application/vnd.jupyter.widget-view+json": {
       "model_id": "d049dfcd89774735b93aac18f635d272",
       "version_major": 2,
       "version_minor": 0
      },
      "text/plain": [
       "  0%|          | 0/39 [00:00<?, ?it/s]"
      ]
     },
     "metadata": {},
     "output_type": "display_data"
    },
    {
     "data": {
      "application/vnd.jupyter.widget-view+json": {
       "model_id": "0d9903cdd22746c1aeed769ae8694106",
       "version_major": 2,
       "version_minor": 0
      },
      "text/plain": [
       "  0%|          | 0/6 [00:00<?, ?it/s]"
      ]
     },
     "metadata": {},
     "output_type": "display_data"
    },
    {
     "data": {
      "application/vnd.jupyter.widget-view+json": {
       "model_id": "f7113cac2b1f4d9fbbc7b8139bd192a1",
       "version_major": 2,
       "version_minor": 0
      },
      "text/plain": [
       "  0%|          | 0/39 [00:00<?, ?it/s]"
      ]
     },
     "metadata": {},
     "output_type": "display_data"
    },
    {
     "data": {
      "application/vnd.jupyter.widget-view+json": {
       "model_id": "4c1c11a0bdd2442dacb90c0cc121443a",
       "version_major": 2,
       "version_minor": 0
      },
      "text/plain": [
       "  0%|          | 0/6 [00:00<?, ?it/s]"
      ]
     },
     "metadata": {},
     "output_type": "display_data"
    },
    {
     "data": {
      "application/vnd.jupyter.widget-view+json": {
       "model_id": "9ed7606ceadb4a1a8f4822a161376701",
       "version_major": 2,
       "version_minor": 0
      },
      "text/plain": [
       "  0%|          | 0/39 [00:00<?, ?it/s]"
      ]
     },
     "metadata": {},
     "output_type": "display_data"
    },
    {
     "data": {
      "application/vnd.jupyter.widget-view+json": {
       "model_id": "026cf2ff0e4d4e3c9453286452991c86",
       "version_major": 2,
       "version_minor": 0
      },
      "text/plain": [
       "  0%|          | 0/6 [00:00<?, ?it/s]"
      ]
     },
     "metadata": {},
     "output_type": "display_data"
    },
    {
     "data": {
      "application/vnd.jupyter.widget-view+json": {
       "model_id": "ec23888db1e4497a9237ab4626657619",
       "version_major": 2,
       "version_minor": 0
      },
      "text/plain": [
       "  0%|          | 0/39 [00:00<?, ?it/s]"
      ]
     },
     "metadata": {},
     "output_type": "display_data"
    },
    {
     "data": {
      "application/vnd.jupyter.widget-view+json": {
       "model_id": "9c486bbadb774b4a9b52b476ca87d287",
       "version_major": 2,
       "version_minor": 0
      },
      "text/plain": [
       "  0%|          | 0/6 [00:00<?, ?it/s]"
      ]
     },
     "metadata": {},
     "output_type": "display_data"
    },
    {
     "name": "stdout",
     "output_type": "stream",
     "text": [
      "0.17461391824942368 tensor(0.6741, device='cuda:0')\n"
     ]
    },
    {
     "data": {
      "application/vnd.jupyter.widget-view+json": {
       "model_id": "f3ba53de054b4ad69bca457ea3468311",
       "version_major": 2,
       "version_minor": 0
      },
      "text/plain": [
       "  0%|          | 0/6 [00:00<?, ?it/s]"
      ]
     },
     "metadata": {},
     "output_type": "display_data"
    },
    {
     "name": "stdout",
     "output_type": "stream",
     "text": [
      "Epoch [4/20], Train Loss: 0.1746, Train Acc: 0.6741, Valid Loss: 0.5291,  Valid Acc: 0.7371\n",
      "Model saved to given_model_log.pt\n",
      "Best Validation:  tensor(0.7371, device='cuda:0')\n"
     ]
    },
    {
     "data": {
      "application/vnd.jupyter.widget-view+json": {
       "model_id": "04b1091425554fcaabd7d52495603122",
       "version_major": 2,
       "version_minor": 0
      },
      "text/plain": [
       "  0%|          | 0/39 [00:00<?, ?it/s]"
      ]
     },
     "metadata": {},
     "output_type": "display_data"
    },
    {
     "data": {
      "application/vnd.jupyter.widget-view+json": {
       "model_id": "85878960d5b4481d9c302624832be68f",
       "version_major": 2,
       "version_minor": 0
      },
      "text/plain": [
       "  0%|          | 0/39 [00:00<?, ?it/s]"
      ]
     },
     "metadata": {},
     "output_type": "display_data"
    },
    {
     "data": {
      "application/vnd.jupyter.widget-view+json": {
       "model_id": "8685aef096404faca1bb0100f68a355c",
       "version_major": 2,
       "version_minor": 0
      },
      "text/plain": [
       "  0%|          | 0/6 [00:00<?, ?it/s]"
      ]
     },
     "metadata": {},
     "output_type": "display_data"
    },
    {
     "data": {
      "application/vnd.jupyter.widget-view+json": {
       "model_id": "4eb36d9388ee4bdb908276cc4898ce4e",
       "version_major": 2,
       "version_minor": 0
      },
      "text/plain": [
       "  0%|          | 0/39 [00:00<?, ?it/s]"
      ]
     },
     "metadata": {},
     "output_type": "display_data"
    },
    {
     "data": {
      "application/vnd.jupyter.widget-view+json": {
       "model_id": "02b3ce81852b45eabfccd68204108d43",
       "version_major": 2,
       "version_minor": 0
      },
      "text/plain": [
       "  0%|          | 0/6 [00:00<?, ?it/s]"
      ]
     },
     "metadata": {},
     "output_type": "display_data"
    },
    {
     "data": {
      "application/vnd.jupyter.widget-view+json": {
       "model_id": "6889968a11764482b689595305373d59",
       "version_major": 2,
       "version_minor": 0
      },
      "text/plain": [
       "  0%|          | 0/39 [00:00<?, ?it/s]"
      ]
     },
     "metadata": {},
     "output_type": "display_data"
    },
    {
     "data": {
      "application/vnd.jupyter.widget-view+json": {
       "model_id": "4180c47b6b964cfb9b58ba50c26fdc24",
       "version_major": 2,
       "version_minor": 0
      },
      "text/plain": [
       "  0%|          | 0/6 [00:00<?, ?it/s]"
      ]
     },
     "metadata": {},
     "output_type": "display_data"
    },
    {
     "data": {
      "application/vnd.jupyter.widget-view+json": {
       "model_id": "2e181cf938774cc6b98bf71da498fde7",
       "version_major": 2,
       "version_minor": 0
      },
      "text/plain": [
       "  0%|          | 0/39 [00:00<?, ?it/s]"
      ]
     },
     "metadata": {},
     "output_type": "display_data"
    },
    {
     "data": {
      "application/vnd.jupyter.widget-view+json": {
       "model_id": "aac64361105d4161b1ff6c06f74fff22",
       "version_major": 2,
       "version_minor": 0
      },
      "text/plain": [
       "  0%|          | 0/6 [00:00<?, ?it/s]"
      ]
     },
     "metadata": {},
     "output_type": "display_data"
    },
    {
     "name": "stdout",
     "output_type": "stream",
     "text": [
      "0.16530260290855017 tensor(0.7063, device='cuda:0')\n"
     ]
    },
    {
     "data": {
      "application/vnd.jupyter.widget-view+json": {
       "model_id": "55c9269ed4d141f7860a7df5244c259d",
       "version_major": 2,
       "version_minor": 0
      },
      "text/plain": [
       "  0%|          | 0/6 [00:00<?, ?it/s]"
      ]
     },
     "metadata": {},
     "output_type": "display_data"
    },
    {
     "name": "stdout",
     "output_type": "stream",
     "text": [
      "Epoch [5/20], Train Loss: 0.1653, Train Acc: 0.7063, Valid Loss: 0.5521,  Valid Acc: 0.7057\n",
      "Best Validation:  tensor(0.7371, device='cuda:0')\n"
     ]
    },
    {
     "data": {
      "application/vnd.jupyter.widget-view+json": {
       "model_id": "2eaf91bee8374f079936793348bc4853",
       "version_major": 2,
       "version_minor": 0
      },
      "text/plain": [
       "  0%|          | 0/39 [00:00<?, ?it/s]"
      ]
     },
     "metadata": {},
     "output_type": "display_data"
    },
    {
     "data": {
      "application/vnd.jupyter.widget-view+json": {
       "model_id": "81350fea82a341c4a0f45b12de7e1bd1",
       "version_major": 2,
       "version_minor": 0
      },
      "text/plain": [
       "  0%|          | 0/39 [00:00<?, ?it/s]"
      ]
     },
     "metadata": {},
     "output_type": "display_data"
    },
    {
     "data": {
      "application/vnd.jupyter.widget-view+json": {
       "model_id": "0d5235b5470848808aa927249b610f8a",
       "version_major": 2,
       "version_minor": 0
      },
      "text/plain": [
       "  0%|          | 0/6 [00:00<?, ?it/s]"
      ]
     },
     "metadata": {},
     "output_type": "display_data"
    },
    {
     "data": {
      "application/vnd.jupyter.widget-view+json": {
       "model_id": "074ab57d56514392ac063984e3b3786e",
       "version_major": 2,
       "version_minor": 0
      },
      "text/plain": [
       "  0%|          | 0/39 [00:00<?, ?it/s]"
      ]
     },
     "metadata": {},
     "output_type": "display_data"
    },
    {
     "data": {
      "application/vnd.jupyter.widget-view+json": {
       "model_id": "24acc0df0dff4e9e8bf52e3be5a29d71",
       "version_major": 2,
       "version_minor": 0
      },
      "text/plain": [
       "  0%|          | 0/6 [00:00<?, ?it/s]"
      ]
     },
     "metadata": {},
     "output_type": "display_data"
    },
    {
     "data": {
      "application/vnd.jupyter.widget-view+json": {
       "model_id": "f992158ea9df4ea4bfbe95784242db35",
       "version_major": 2,
       "version_minor": 0
      },
      "text/plain": [
       "  0%|          | 0/39 [00:00<?, ?it/s]"
      ]
     },
     "metadata": {},
     "output_type": "display_data"
    },
    {
     "data": {
      "application/vnd.jupyter.widget-view+json": {
       "model_id": "303d43d668c5495aafc70924f018a5ee",
       "version_major": 2,
       "version_minor": 0
      },
      "text/plain": [
       "  0%|          | 0/6 [00:00<?, ?it/s]"
      ]
     },
     "metadata": {},
     "output_type": "display_data"
    },
    {
     "data": {
      "application/vnd.jupyter.widget-view+json": {
       "model_id": "9ebe4554d3494d79857c5fbe670b430c",
       "version_major": 2,
       "version_minor": 0
      },
      "text/plain": [
       "  0%|          | 0/39 [00:00<?, ?it/s]"
      ]
     },
     "metadata": {},
     "output_type": "display_data"
    },
    {
     "data": {
      "application/vnd.jupyter.widget-view+json": {
       "model_id": "7c21a2e0fc554d4f913d1c4c968b4388",
       "version_major": 2,
       "version_minor": 0
      },
      "text/plain": [
       "  0%|          | 0/6 [00:00<?, ?it/s]"
      ]
     },
     "metadata": {},
     "output_type": "display_data"
    },
    {
     "name": "stdout",
     "output_type": "stream",
     "text": [
      "0.13600425307567304 tensor(0.7278, device='cuda:0')\n"
     ]
    },
    {
     "data": {
      "application/vnd.jupyter.widget-view+json": {
       "model_id": "ce8ade565ab44729b00bb064823fcbac",
       "version_major": 2,
       "version_minor": 0
      },
      "text/plain": [
       "  0%|          | 0/6 [00:00<?, ?it/s]"
      ]
     },
     "metadata": {},
     "output_type": "display_data"
    },
    {
     "name": "stdout",
     "output_type": "stream",
     "text": [
      "Epoch [6/20], Train Loss: 0.1360, Train Acc: 0.7278, Valid Loss: 0.5051,  Valid Acc: 0.7457\n",
      "Model saved to given_model_log.pt\n",
      "Best Validation:  tensor(0.7457, device='cuda:0')\n"
     ]
    },
    {
     "data": {
      "application/vnd.jupyter.widget-view+json": {
       "model_id": "092edde8ad4d4d5582a0fe3f57b1d67b",
       "version_major": 2,
       "version_minor": 0
      },
      "text/plain": [
       "  0%|          | 0/39 [00:00<?, ?it/s]"
      ]
     },
     "metadata": {},
     "output_type": "display_data"
    },
    {
     "data": {
      "application/vnd.jupyter.widget-view+json": {
       "model_id": "54632d3fc9204c2abe8d799b722233f8",
       "version_major": 2,
       "version_minor": 0
      },
      "text/plain": [
       "  0%|          | 0/39 [00:00<?, ?it/s]"
      ]
     },
     "metadata": {},
     "output_type": "display_data"
    },
    {
     "data": {
      "application/vnd.jupyter.widget-view+json": {
       "model_id": "a39868f94fbc4f6cb40d45ca4234bc8c",
       "version_major": 2,
       "version_minor": 0
      },
      "text/plain": [
       "  0%|          | 0/6 [00:00<?, ?it/s]"
      ]
     },
     "metadata": {},
     "output_type": "display_data"
    },
    {
     "data": {
      "application/vnd.jupyter.widget-view+json": {
       "model_id": "93f5860d2135416f9791c46c807c5620",
       "version_major": 2,
       "version_minor": 0
      },
      "text/plain": [
       "  0%|          | 0/39 [00:00<?, ?it/s]"
      ]
     },
     "metadata": {},
     "output_type": "display_data"
    },
    {
     "data": {
      "application/vnd.jupyter.widget-view+json": {
       "model_id": "d1e5bf152043493b8e5c15f7df368ce9",
       "version_major": 2,
       "version_minor": 0
      },
      "text/plain": [
       "  0%|          | 0/6 [00:00<?, ?it/s]"
      ]
     },
     "metadata": {},
     "output_type": "display_data"
    },
    {
     "data": {
      "application/vnd.jupyter.widget-view+json": {
       "model_id": "e141bede6ebe4a508caed6c8bd76f295",
       "version_major": 2,
       "version_minor": 0
      },
      "text/plain": [
       "  0%|          | 0/39 [00:00<?, ?it/s]"
      ]
     },
     "metadata": {},
     "output_type": "display_data"
    },
    {
     "data": {
      "application/vnd.jupyter.widget-view+json": {
       "model_id": "23bef4f6039340f9bddc3c907c3c5935",
       "version_major": 2,
       "version_minor": 0
      },
      "text/plain": [
       "  0%|          | 0/6 [00:00<?, ?it/s]"
      ]
     },
     "metadata": {},
     "output_type": "display_data"
    },
    {
     "data": {
      "application/vnd.jupyter.widget-view+json": {
       "model_id": "52574ed3cacc49a9a0986b3faf79c535",
       "version_major": 2,
       "version_minor": 0
      },
      "text/plain": [
       "  0%|          | 0/39 [00:00<?, ?it/s]"
      ]
     },
     "metadata": {},
     "output_type": "display_data"
    },
    {
     "data": {
      "application/vnd.jupyter.widget-view+json": {
       "model_id": "90c4fe68a7ee4daf9736e05425ce6c42",
       "version_major": 2,
       "version_minor": 0
      },
      "text/plain": [
       "  0%|          | 0/6 [00:00<?, ?it/s]"
      ]
     },
     "metadata": {},
     "output_type": "display_data"
    },
    {
     "name": "stdout",
     "output_type": "stream",
     "text": [
      "0.1267505387465159 tensor(0.7551, device='cuda:0')\n"
     ]
    },
    {
     "data": {
      "application/vnd.jupyter.widget-view+json": {
       "model_id": "0ff7f400dbda4822a8cf8fed28352524",
       "version_major": 2,
       "version_minor": 0
      },
      "text/plain": [
       "  0%|          | 0/6 [00:00<?, ?it/s]"
      ]
     },
     "metadata": {},
     "output_type": "display_data"
    },
    {
     "name": "stdout",
     "output_type": "stream",
     "text": [
      "Epoch [7/20], Train Loss: 0.1268, Train Acc: 0.7551, Valid Loss: 0.5142,  Valid Acc: 0.7529\n",
      "Model saved to given_model_log.pt\n",
      "Best Validation:  tensor(0.7529, device='cuda:0')\n"
     ]
    },
    {
     "data": {
      "application/vnd.jupyter.widget-view+json": {
       "model_id": "dc5a841aac1a4cd587d9ebed60093fa6",
       "version_major": 2,
       "version_minor": 0
      },
      "text/plain": [
       "  0%|          | 0/39 [00:00<?, ?it/s]"
      ]
     },
     "metadata": {},
     "output_type": "display_data"
    },
    {
     "data": {
      "application/vnd.jupyter.widget-view+json": {
       "model_id": "a1f73d7ff538482fa5bf6c9207458c62",
       "version_major": 2,
       "version_minor": 0
      },
      "text/plain": [
       "  0%|          | 0/39 [00:00<?, ?it/s]"
      ]
     },
     "metadata": {},
     "output_type": "display_data"
    },
    {
     "data": {
      "application/vnd.jupyter.widget-view+json": {
       "model_id": "fef51e6515064962baff566b711859f4",
       "version_major": 2,
       "version_minor": 0
      },
      "text/plain": [
       "  0%|          | 0/6 [00:00<?, ?it/s]"
      ]
     },
     "metadata": {},
     "output_type": "display_data"
    },
    {
     "data": {
      "application/vnd.jupyter.widget-view+json": {
       "model_id": "f3a726a6644f43d182e53ddb594a4e5b",
       "version_major": 2,
       "version_minor": 0
      },
      "text/plain": [
       "  0%|          | 0/39 [00:00<?, ?it/s]"
      ]
     },
     "metadata": {},
     "output_type": "display_data"
    },
    {
     "data": {
      "application/vnd.jupyter.widget-view+json": {
       "model_id": "f67e35697e4147639b2d310603c0f0e2",
       "version_major": 2,
       "version_minor": 0
      },
      "text/plain": [
       "  0%|          | 0/6 [00:00<?, ?it/s]"
      ]
     },
     "metadata": {},
     "output_type": "display_data"
    },
    {
     "data": {
      "application/vnd.jupyter.widget-view+json": {
       "model_id": "fee52b86e3644b499780eefc6a6be9ed",
       "version_major": 2,
       "version_minor": 0
      },
      "text/plain": [
       "  0%|          | 0/39 [00:00<?, ?it/s]"
      ]
     },
     "metadata": {},
     "output_type": "display_data"
    },
    {
     "data": {
      "application/vnd.jupyter.widget-view+json": {
       "model_id": "a73c7af86cab4695a4035c625255cc6a",
       "version_major": 2,
       "version_minor": 0
      },
      "text/plain": [
       "  0%|          | 0/6 [00:00<?, ?it/s]"
      ]
     },
     "metadata": {},
     "output_type": "display_data"
    },
    {
     "data": {
      "application/vnd.jupyter.widget-view+json": {
       "model_id": "3bededc1fe0b49dcbc21c9865dafb2d3",
       "version_major": 2,
       "version_minor": 0
      },
      "text/plain": [
       "  0%|          | 0/39 [00:00<?, ?it/s]"
      ]
     },
     "metadata": {},
     "output_type": "display_data"
    },
    {
     "data": {
      "application/vnd.jupyter.widget-view+json": {
       "model_id": "caac4b9cdb7e4b1a9b8000c777487411",
       "version_major": 2,
       "version_minor": 0
      },
      "text/plain": [
       "  0%|          | 0/6 [00:00<?, ?it/s]"
      ]
     },
     "metadata": {},
     "output_type": "display_data"
    },
    {
     "name": "stdout",
     "output_type": "stream",
     "text": [
      "0.10990619277342772 tensor(0.7637, device='cuda:0')\n"
     ]
    },
    {
     "data": {
      "application/vnd.jupyter.widget-view+json": {
       "model_id": "56995da59dcc4f6eb6a7cb09215f4c8d",
       "version_major": 2,
       "version_minor": 0
      },
      "text/plain": [
       "  0%|          | 0/6 [00:00<?, ?it/s]"
      ]
     },
     "metadata": {},
     "output_type": "display_data"
    },
    {
     "name": "stdout",
     "output_type": "stream",
     "text": [
      "Epoch [8/20], Train Loss: 0.1099, Train Acc: 0.7637, Valid Loss: 0.4960,  Valid Acc: 0.7700\n",
      "Model saved to given_model_log.pt\n",
      "Best Validation:  tensor(0.7700, device='cuda:0')\n"
     ]
    },
    {
     "data": {
      "application/vnd.jupyter.widget-view+json": {
       "model_id": "b1df99ef7a324b88b8fff2bdb53205a1",
       "version_major": 2,
       "version_minor": 0
      },
      "text/plain": [
       "  0%|          | 0/39 [00:00<?, ?it/s]"
      ]
     },
     "metadata": {},
     "output_type": "display_data"
    },
    {
     "data": {
      "application/vnd.jupyter.widget-view+json": {
       "model_id": "ddff41836f704596bfd4d609411ab625",
       "version_major": 2,
       "version_minor": 0
      },
      "text/plain": [
       "  0%|          | 0/39 [00:00<?, ?it/s]"
      ]
     },
     "metadata": {},
     "output_type": "display_data"
    },
    {
     "data": {
      "application/vnd.jupyter.widget-view+json": {
       "model_id": "da5aa3b0435944bd8c9cf44f459fe691",
       "version_major": 2,
       "version_minor": 0
      },
      "text/plain": [
       "  0%|          | 0/6 [00:00<?, ?it/s]"
      ]
     },
     "metadata": {},
     "output_type": "display_data"
    },
    {
     "data": {
      "application/vnd.jupyter.widget-view+json": {
       "model_id": "5b9f5eeca44346a9b11cf93f437b4b97",
       "version_major": 2,
       "version_minor": 0
      },
      "text/plain": [
       "  0%|          | 0/39 [00:00<?, ?it/s]"
      ]
     },
     "metadata": {},
     "output_type": "display_data"
    },
    {
     "data": {
      "application/vnd.jupyter.widget-view+json": {
       "model_id": "f13268fd782e4d57a78265356be8446d",
       "version_major": 2,
       "version_minor": 0
      },
      "text/plain": [
       "  0%|          | 0/6 [00:00<?, ?it/s]"
      ]
     },
     "metadata": {},
     "output_type": "display_data"
    },
    {
     "data": {
      "application/vnd.jupyter.widget-view+json": {
       "model_id": "531b108fca84425288d6b3b0b13aa8c5",
       "version_major": 2,
       "version_minor": 0
      },
      "text/plain": [
       "  0%|          | 0/39 [00:00<?, ?it/s]"
      ]
     },
     "metadata": {},
     "output_type": "display_data"
    },
    {
     "data": {
      "application/vnd.jupyter.widget-view+json": {
       "model_id": "e500c697c5ae42349e1fa78bd81c3231",
       "version_major": 2,
       "version_minor": 0
      },
      "text/plain": [
       "  0%|          | 0/6 [00:00<?, ?it/s]"
      ]
     },
     "metadata": {},
     "output_type": "display_data"
    },
    {
     "data": {
      "application/vnd.jupyter.widget-view+json": {
       "model_id": "93991e75ed9f462aafcca488eebc9fa1",
       "version_major": 2,
       "version_minor": 0
      },
      "text/plain": [
       "  0%|          | 0/39 [00:00<?, ?it/s]"
      ]
     },
     "metadata": {},
     "output_type": "display_data"
    },
    {
     "data": {
      "application/vnd.jupyter.widget-view+json": {
       "model_id": "399b3eb238564e00a4e3c34537246af4",
       "version_major": 2,
       "version_minor": 0
      },
      "text/plain": [
       "  0%|          | 0/6 [00:00<?, ?it/s]"
      ]
     },
     "metadata": {},
     "output_type": "display_data"
    },
    {
     "name": "stdout",
     "output_type": "stream",
     "text": [
      "0.09201104442278545 tensor(0.7761, device='cuda:0')\n"
     ]
    },
    {
     "data": {
      "application/vnd.jupyter.widget-view+json": {
       "model_id": "6a34d4b8f39a4330957ae770e8e560a9",
       "version_major": 2,
       "version_minor": 0
      },
      "text/plain": [
       "  0%|          | 0/6 [00:00<?, ?it/s]"
      ]
     },
     "metadata": {},
     "output_type": "display_data"
    },
    {
     "name": "stdout",
     "output_type": "stream",
     "text": [
      "Epoch [9/20], Train Loss: 0.0920, Train Acc: 0.7761, Valid Loss: 0.4830,  Valid Acc: 0.7829\n",
      "Model saved to given_model_log.pt\n",
      "Best Validation:  tensor(0.7829, device='cuda:0')\n"
     ]
    },
    {
     "data": {
      "application/vnd.jupyter.widget-view+json": {
       "model_id": "b23b17c4fd5a407eb812261f06d1056c",
       "version_major": 2,
       "version_minor": 0
      },
      "text/plain": [
       "  0%|          | 0/39 [00:00<?, ?it/s]"
      ]
     },
     "metadata": {},
     "output_type": "display_data"
    },
    {
     "data": {
      "application/vnd.jupyter.widget-view+json": {
       "model_id": "dbb6456ab2eb4ef7a641166fa9e097f5",
       "version_major": 2,
       "version_minor": 0
      },
      "text/plain": [
       "  0%|          | 0/39 [00:00<?, ?it/s]"
      ]
     },
     "metadata": {},
     "output_type": "display_data"
    },
    {
     "data": {
      "application/vnd.jupyter.widget-view+json": {
       "model_id": "4aa836585de44a66880e69eb7c0d3e7b",
       "version_major": 2,
       "version_minor": 0
      },
      "text/plain": [
       "  0%|          | 0/6 [00:00<?, ?it/s]"
      ]
     },
     "metadata": {},
     "output_type": "display_data"
    },
    {
     "data": {
      "application/vnd.jupyter.widget-view+json": {
       "model_id": "6dde4f6e57274ab7a7f784854b0643dc",
       "version_major": 2,
       "version_minor": 0
      },
      "text/plain": [
       "  0%|          | 0/39 [00:00<?, ?it/s]"
      ]
     },
     "metadata": {},
     "output_type": "display_data"
    },
    {
     "data": {
      "application/vnd.jupyter.widget-view+json": {
       "model_id": "30cb23d08f4947eb9634d1a27432ec15",
       "version_major": 2,
       "version_minor": 0
      },
      "text/plain": [
       "  0%|          | 0/6 [00:00<?, ?it/s]"
      ]
     },
     "metadata": {},
     "output_type": "display_data"
    },
    {
     "data": {
      "application/vnd.jupyter.widget-view+json": {
       "model_id": "ef073e26588b43b384e4c3f1cca9dc7d",
       "version_major": 2,
       "version_minor": 0
      },
      "text/plain": [
       "  0%|          | 0/39 [00:00<?, ?it/s]"
      ]
     },
     "metadata": {},
     "output_type": "display_data"
    },
    {
     "data": {
      "application/vnd.jupyter.widget-view+json": {
       "model_id": "19b729dec9bc4a8e902eae42eb2d6749",
       "version_major": 2,
       "version_minor": 0
      },
      "text/plain": [
       "  0%|          | 0/6 [00:00<?, ?it/s]"
      ]
     },
     "metadata": {},
     "output_type": "display_data"
    },
    {
     "data": {
      "application/vnd.jupyter.widget-view+json": {
       "model_id": "131003a503754c489c77d93f02ccf720",
       "version_major": 2,
       "version_minor": 0
      },
      "text/plain": [
       "  0%|          | 0/39 [00:00<?, ?it/s]"
      ]
     },
     "metadata": {},
     "output_type": "display_data"
    },
    {
     "data": {
      "application/vnd.jupyter.widget-view+json": {
       "model_id": "b4be1fd81eb24c46a535179510199f3e",
       "version_major": 2,
       "version_minor": 0
      },
      "text/plain": [
       "  0%|          | 0/6 [00:00<?, ?it/s]"
      ]
     },
     "metadata": {},
     "output_type": "display_data"
    },
    {
     "name": "stdout",
     "output_type": "stream",
     "text": [
      "0.10771871950381841 tensor(0.8157, device='cuda:0')\n"
     ]
    },
    {
     "data": {
      "application/vnd.jupyter.widget-view+json": {
       "model_id": "8ae4638a6666405a8f0a634214175003",
       "version_major": 2,
       "version_minor": 0
      },
      "text/plain": [
       "  0%|          | 0/6 [00:00<?, ?it/s]"
      ]
     },
     "metadata": {},
     "output_type": "display_data"
    },
    {
     "name": "stdout",
     "output_type": "stream",
     "text": [
      "Epoch [10/20], Train Loss: 0.1077, Train Acc: 0.8157, Valid Loss: 0.5501,  Valid Acc: 0.7686\n",
      "Best Validation:  tensor(0.7829, device='cuda:0')\n"
     ]
    },
    {
     "data": {
      "application/vnd.jupyter.widget-view+json": {
       "model_id": "a591881031bb4a518234759b11bc0fed",
       "version_major": 2,
       "version_minor": 0
      },
      "text/plain": [
       "  0%|          | 0/39 [00:00<?, ?it/s]"
      ]
     },
     "metadata": {},
     "output_type": "display_data"
    },
    {
     "data": {
      "application/vnd.jupyter.widget-view+json": {
       "model_id": "27c9b0deb9d7410ab17dde5a81decf80",
       "version_major": 2,
       "version_minor": 0
      },
      "text/plain": [
       "  0%|          | 0/39 [00:00<?, ?it/s]"
      ]
     },
     "metadata": {},
     "output_type": "display_data"
    },
    {
     "data": {
      "application/vnd.jupyter.widget-view+json": {
       "model_id": "553c17f2c0ae4694a803829c5bf028c4",
       "version_major": 2,
       "version_minor": 0
      },
      "text/plain": [
       "  0%|          | 0/6 [00:00<?, ?it/s]"
      ]
     },
     "metadata": {},
     "output_type": "display_data"
    },
    {
     "data": {
      "application/vnd.jupyter.widget-view+json": {
       "model_id": "2d9e4a9b885f4ebebec01311a1619fda",
       "version_major": 2,
       "version_minor": 0
      },
      "text/plain": [
       "  0%|          | 0/39 [00:00<?, ?it/s]"
      ]
     },
     "metadata": {},
     "output_type": "display_data"
    },
    {
     "data": {
      "application/vnd.jupyter.widget-view+json": {
       "model_id": "6a9009df3eec4b869d1472a5e47a5255",
       "version_major": 2,
       "version_minor": 0
      },
      "text/plain": [
       "  0%|          | 0/6 [00:00<?, ?it/s]"
      ]
     },
     "metadata": {},
     "output_type": "display_data"
    },
    {
     "data": {
      "application/vnd.jupyter.widget-view+json": {
       "model_id": "3e040261165240ecbd9c154141143914",
       "version_major": 2,
       "version_minor": 0
      },
      "text/plain": [
       "  0%|          | 0/39 [00:00<?, ?it/s]"
      ]
     },
     "metadata": {},
     "output_type": "display_data"
    },
    {
     "data": {
      "application/vnd.jupyter.widget-view+json": {
       "model_id": "a3db8559ed27458897d1ba90d1e83967",
       "version_major": 2,
       "version_minor": 0
      },
      "text/plain": [
       "  0%|          | 0/6 [00:00<?, ?it/s]"
      ]
     },
     "metadata": {},
     "output_type": "display_data"
    },
    {
     "name": "stdout",
     "output_type": "stream",
     "text": [
      "0.17946756726656204 tensor(0.8261, device='cuda:0')\n"
     ]
    },
    {
     "data": {
      "application/vnd.jupyter.widget-view+json": {
       "model_id": "1a17f1cdac0045ce9fe059dbe4fe43de",
       "version_major": 2,
       "version_minor": 0
      },
      "text/plain": [
       "  0%|          | 0/6 [00:00<?, ?it/s]"
      ]
     },
     "metadata": {},
     "output_type": "display_data"
    },
    {
     "name": "stdout",
     "output_type": "stream",
     "text": [
      "Epoch [11/20], Train Loss: 0.1795, Train Acc: 0.8261, Valid Loss: 0.5073,  Valid Acc: 0.7871\n",
      "Model saved to given_model_log.pt\n",
      "Best Validation:  tensor(0.7871, device='cuda:0')\n"
     ]
    },
    {
     "data": {
      "application/vnd.jupyter.widget-view+json": {
       "model_id": "5e74f639613846c2a1131c2f0a3b49ab",
       "version_major": 2,
       "version_minor": 0
      },
      "text/plain": [
       "  0%|          | 0/39 [00:00<?, ?it/s]"
      ]
     },
     "metadata": {},
     "output_type": "display_data"
    },
    {
     "data": {
      "application/vnd.jupyter.widget-view+json": {
       "model_id": "99b56eb040a942a4a64e535c2866c009",
       "version_major": 2,
       "version_minor": 0
      },
      "text/plain": [
       "  0%|          | 0/39 [00:00<?, ?it/s]"
      ]
     },
     "metadata": {},
     "output_type": "display_data"
    },
    {
     "data": {
      "application/vnd.jupyter.widget-view+json": {
       "model_id": "b30abd91d3634166a76cace516d92545",
       "version_major": 2,
       "version_minor": 0
      },
      "text/plain": [
       "  0%|          | 0/6 [00:00<?, ?it/s]"
      ]
     },
     "metadata": {},
     "output_type": "display_data"
    },
    {
     "data": {
      "application/vnd.jupyter.widget-view+json": {
       "model_id": "0ad07c27860641be9204c241bd3cdfc7",
       "version_major": 2,
       "version_minor": 0
      },
      "text/plain": [
       "  0%|          | 0/39 [00:00<?, ?it/s]"
      ]
     },
     "metadata": {},
     "output_type": "display_data"
    },
    {
     "data": {
      "application/vnd.jupyter.widget-view+json": {
       "model_id": "b07a9cdd975544dc86259e297915eeea",
       "version_major": 2,
       "version_minor": 0
      },
      "text/plain": [
       "  0%|          | 0/6 [00:00<?, ?it/s]"
      ]
     },
     "metadata": {},
     "output_type": "display_data"
    },
    {
     "data": {
      "application/vnd.jupyter.widget-view+json": {
       "model_id": "e541917a3155420dbc54829972106e99",
       "version_major": 2,
       "version_minor": 0
      },
      "text/plain": [
       "  0%|          | 0/39 [00:00<?, ?it/s]"
      ]
     },
     "metadata": {},
     "output_type": "display_data"
    },
    {
     "data": {
      "application/vnd.jupyter.widget-view+json": {
       "model_id": "a53e757c35a84ec5afbea303d1a7e9b9",
       "version_major": 2,
       "version_minor": 0
      },
      "text/plain": [
       "  0%|          | 0/6 [00:00<?, ?it/s]"
      ]
     },
     "metadata": {},
     "output_type": "display_data"
    },
    {
     "data": {
      "application/vnd.jupyter.widget-view+json": {
       "model_id": "2de0fb847d7047b49086ca1a87a3304a",
       "version_major": 2,
       "version_minor": 0
      },
      "text/plain": [
       "  0%|          | 0/39 [00:00<?, ?it/s]"
      ]
     },
     "metadata": {},
     "output_type": "display_data"
    },
    {
     "data": {
      "application/vnd.jupyter.widget-view+json": {
       "model_id": "fdb30482f0b340cb8734c143f7516f95",
       "version_major": 2,
       "version_minor": 0
      },
      "text/plain": [
       "  0%|          | 0/6 [00:00<?, ?it/s]"
      ]
     },
     "metadata": {},
     "output_type": "display_data"
    },
    {
     "name": "stdout",
     "output_type": "stream",
     "text": [
      "0.15574222191786155 tensor(0.8190, device='cuda:0')\n"
     ]
    },
    {
     "data": {
      "application/vnd.jupyter.widget-view+json": {
       "model_id": "1ee6471c582546aca7acb85a772db384",
       "version_major": 2,
       "version_minor": 0
      },
      "text/plain": [
       "  0%|          | 0/6 [00:00<?, ?it/s]"
      ]
     },
     "metadata": {},
     "output_type": "display_data"
    },
    {
     "name": "stdout",
     "output_type": "stream",
     "text": [
      "Epoch [12/20], Train Loss: 0.1557, Train Acc: 0.8190, Valid Loss: 0.5079,  Valid Acc: 0.7757\n",
      "Best Validation:  tensor(0.7871, device='cuda:0')\n"
     ]
    },
    {
     "data": {
      "application/vnd.jupyter.widget-view+json": {
       "model_id": "bb7fadbacc0e4703aeb18379f938e381",
       "version_major": 2,
       "version_minor": 0
      },
      "text/plain": [
       "  0%|          | 0/39 [00:00<?, ?it/s]"
      ]
     },
     "metadata": {},
     "output_type": "display_data"
    },
    {
     "data": {
      "application/vnd.jupyter.widget-view+json": {
       "model_id": "9c2da8ac7e1a43c4b5cb7c974c4d051a",
       "version_major": 2,
       "version_minor": 0
      },
      "text/plain": [
       "  0%|          | 0/39 [00:00<?, ?it/s]"
      ]
     },
     "metadata": {},
     "output_type": "display_data"
    },
    {
     "data": {
      "application/vnd.jupyter.widget-view+json": {
       "model_id": "cf4d722aeb7f450fa0c4d00582477529",
       "version_major": 2,
       "version_minor": 0
      },
      "text/plain": [
       "  0%|          | 0/6 [00:00<?, ?it/s]"
      ]
     },
     "metadata": {},
     "output_type": "display_data"
    },
    {
     "data": {
      "application/vnd.jupyter.widget-view+json": {
       "model_id": "bdaf32740f50446998e2f9557f24d25d",
       "version_major": 2,
       "version_minor": 0
      },
      "text/plain": [
       "  0%|          | 0/39 [00:00<?, ?it/s]"
      ]
     },
     "metadata": {},
     "output_type": "display_data"
    },
    {
     "data": {
      "application/vnd.jupyter.widget-view+json": {
       "model_id": "dc6fc006ddc24f15b51163d99b90da14",
       "version_major": 2,
       "version_minor": 0
      },
      "text/plain": [
       "  0%|          | 0/6 [00:00<?, ?it/s]"
      ]
     },
     "metadata": {},
     "output_type": "display_data"
    },
    {
     "data": {
      "application/vnd.jupyter.widget-view+json": {
       "model_id": "a063e2aa41104f97a798f1a59dfe0125",
       "version_major": 2,
       "version_minor": 0
      },
      "text/plain": [
       "  0%|          | 0/39 [00:00<?, ?it/s]"
      ]
     },
     "metadata": {},
     "output_type": "display_data"
    },
    {
     "data": {
      "application/vnd.jupyter.widget-view+json": {
       "model_id": "a61f5446aa7f4195b80cceb2e9590cf9",
       "version_major": 2,
       "version_minor": 0
      },
      "text/plain": [
       "  0%|          | 0/6 [00:00<?, ?it/s]"
      ]
     },
     "metadata": {},
     "output_type": "display_data"
    },
    {
     "data": {
      "application/vnd.jupyter.widget-view+json": {
       "model_id": "7c7c02b1603546ddbace9dfec872635e",
       "version_major": 2,
       "version_minor": 0
      },
      "text/plain": [
       "  0%|          | 0/39 [00:00<?, ?it/s]"
      ]
     },
     "metadata": {},
     "output_type": "display_data"
    },
    {
     "data": {
      "application/vnd.jupyter.widget-view+json": {
       "model_id": "68ff92e6c3114e3d8054bcb1e085c237",
       "version_major": 2,
       "version_minor": 0
      },
      "text/plain": [
       "  0%|          | 0/6 [00:00<?, ?it/s]"
      ]
     },
     "metadata": {},
     "output_type": "display_data"
    },
    {
     "name": "stdout",
     "output_type": "stream",
     "text": [
      "0.14821206224270356 tensor(0.8453, device='cuda:0')\n"
     ]
    },
    {
     "data": {
      "application/vnd.jupyter.widget-view+json": {
       "model_id": "19ec0f2248374b8587396d55bfe2544c",
       "version_major": 2,
       "version_minor": 0
      },
      "text/plain": [
       "  0%|          | 0/6 [00:00<?, ?it/s]"
      ]
     },
     "metadata": {},
     "output_type": "display_data"
    },
    {
     "name": "stdout",
     "output_type": "stream",
     "text": [
      "Epoch [13/20], Train Loss: 0.1482, Train Acc: 0.8453, Valid Loss: 0.5404,  Valid Acc: 0.7657\n",
      "Best Validation:  tensor(0.7871, device='cuda:0')\n"
     ]
    },
    {
     "data": {
      "application/vnd.jupyter.widget-view+json": {
       "model_id": "65338dc0b2274964a2702b7346cc08d2",
       "version_major": 2,
       "version_minor": 0
      },
      "text/plain": [
       "  0%|          | 0/39 [00:00<?, ?it/s]"
      ]
     },
     "metadata": {},
     "output_type": "display_data"
    },
    {
     "data": {
      "application/vnd.jupyter.widget-view+json": {
       "model_id": "0a19c96d34ea4488b40355f7d670f627",
       "version_major": 2,
       "version_minor": 0
      },
      "text/plain": [
       "  0%|          | 0/39 [00:00<?, ?it/s]"
      ]
     },
     "metadata": {},
     "output_type": "display_data"
    },
    {
     "data": {
      "application/vnd.jupyter.widget-view+json": {
       "model_id": "6c2454459c2d450f9f019321e17eb021",
       "version_major": 2,
       "version_minor": 0
      },
      "text/plain": [
       "  0%|          | 0/6 [00:00<?, ?it/s]"
      ]
     },
     "metadata": {},
     "output_type": "display_data"
    },
    {
     "data": {
      "application/vnd.jupyter.widget-view+json": {
       "model_id": "75021c01f4c84f6380eee243933b43f8",
       "version_major": 2,
       "version_minor": 0
      },
      "text/plain": [
       "  0%|          | 0/39 [00:00<?, ?it/s]"
      ]
     },
     "metadata": {},
     "output_type": "display_data"
    },
    {
     "data": {
      "application/vnd.jupyter.widget-view+json": {
       "model_id": "c3c4bee459004e2b9a824588995a6a8d",
       "version_major": 2,
       "version_minor": 0
      },
      "text/plain": [
       "  0%|          | 0/6 [00:00<?, ?it/s]"
      ]
     },
     "metadata": {},
     "output_type": "display_data"
    },
    {
     "data": {
      "application/vnd.jupyter.widget-view+json": {
       "model_id": "f8c276e5d2c4408bb7b45614be3a8eb2",
       "version_major": 2,
       "version_minor": 0
      },
      "text/plain": [
       "  0%|          | 0/39 [00:00<?, ?it/s]"
      ]
     },
     "metadata": {},
     "output_type": "display_data"
    },
    {
     "data": {
      "application/vnd.jupyter.widget-view+json": {
       "model_id": "a5606090bdc348188ed262867a04f062",
       "version_major": 2,
       "version_minor": 0
      },
      "text/plain": [
       "  0%|          | 0/6 [00:00<?, ?it/s]"
      ]
     },
     "metadata": {},
     "output_type": "display_data"
    },
    {
     "data": {
      "application/vnd.jupyter.widget-view+json": {
       "model_id": "244685a7d99847b88b2b7ac3ec482e50",
       "version_major": 2,
       "version_minor": 0
      },
      "text/plain": [
       "  0%|          | 0/39 [00:00<?, ?it/s]"
      ]
     },
     "metadata": {},
     "output_type": "display_data"
    },
    {
     "data": {
      "application/vnd.jupyter.widget-view+json": {
       "model_id": "a1a668667f52463094b3e39d93b3811e",
       "version_major": 2,
       "version_minor": 0
      },
      "text/plain": [
       "  0%|          | 0/6 [00:00<?, ?it/s]"
      ]
     },
     "metadata": {},
     "output_type": "display_data"
    },
    {
     "name": "stdout",
     "output_type": "stream",
     "text": [
      "0.1403791946478379 tensor(0.8420, device='cuda:0')\n"
     ]
    },
    {
     "data": {
      "application/vnd.jupyter.widget-view+json": {
       "model_id": "2a4c555470c543178c22a9611472bcd5",
       "version_major": 2,
       "version_minor": 0
      },
      "text/plain": [
       "  0%|          | 0/6 [00:00<?, ?it/s]"
      ]
     },
     "metadata": {},
     "output_type": "display_data"
    },
    {
     "name": "stdout",
     "output_type": "stream",
     "text": [
      "Epoch [14/20], Train Loss: 0.1404, Train Acc: 0.8420, Valid Loss: 0.5646,  Valid Acc: 0.7629\n",
      "Best Validation:  tensor(0.7871, device='cuda:0')\n"
     ]
    },
    {
     "data": {
      "application/vnd.jupyter.widget-view+json": {
       "model_id": "2e2a2e13ca484695bc331eb12c57299b",
       "version_major": 2,
       "version_minor": 0
      },
      "text/plain": [
       "  0%|          | 0/39 [00:00<?, ?it/s]"
      ]
     },
     "metadata": {},
     "output_type": "display_data"
    },
    {
     "data": {
      "application/vnd.jupyter.widget-view+json": {
       "model_id": "3b72216bc6c04e4daaf0fc78f2f7692e",
       "version_major": 2,
       "version_minor": 0
      },
      "text/plain": [
       "  0%|          | 0/39 [00:00<?, ?it/s]"
      ]
     },
     "metadata": {},
     "output_type": "display_data"
    },
    {
     "data": {
      "application/vnd.jupyter.widget-view+json": {
       "model_id": "e9643cc23984469291026bf399963f3d",
       "version_major": 2,
       "version_minor": 0
      },
      "text/plain": [
       "  0%|          | 0/6 [00:00<?, ?it/s]"
      ]
     },
     "metadata": {},
     "output_type": "display_data"
    },
    {
     "data": {
      "application/vnd.jupyter.widget-view+json": {
       "model_id": "06fe6d2c23594ddc9a4fb3c1bf1fd71b",
       "version_major": 2,
       "version_minor": 0
      },
      "text/plain": [
       "  0%|          | 0/39 [00:00<?, ?it/s]"
      ]
     },
     "metadata": {},
     "output_type": "display_data"
    },
    {
     "data": {
      "application/vnd.jupyter.widget-view+json": {
       "model_id": "88c3e02ea0a644248957e89c62a9d115",
       "version_major": 2,
       "version_minor": 0
      },
      "text/plain": [
       "  0%|          | 0/6 [00:00<?, ?it/s]"
      ]
     },
     "metadata": {},
     "output_type": "display_data"
    },
    {
     "data": {
      "application/vnd.jupyter.widget-view+json": {
       "model_id": "8266095c735b410990f66352631adf6f",
       "version_major": 2,
       "version_minor": 0
      },
      "text/plain": [
       "  0%|          | 0/39 [00:00<?, ?it/s]"
      ]
     },
     "metadata": {},
     "output_type": "display_data"
    },
    {
     "data": {
      "application/vnd.jupyter.widget-view+json": {
       "model_id": "85630b944a804dcca425dd62cd75202e",
       "version_major": 2,
       "version_minor": 0
      },
      "text/plain": [
       "  0%|          | 0/6 [00:00<?, ?it/s]"
      ]
     },
     "metadata": {},
     "output_type": "display_data"
    },
    {
     "data": {
      "application/vnd.jupyter.widget-view+json": {
       "model_id": "3ce028ea3bed4635a39aeb5931b5291a",
       "version_major": 2,
       "version_minor": 0
      },
      "text/plain": [
       "  0%|          | 0/39 [00:00<?, ?it/s]"
      ]
     },
     "metadata": {},
     "output_type": "display_data"
    },
    {
     "data": {
      "application/vnd.jupyter.widget-view+json": {
       "model_id": "d303dc2940754c988b93287283911549",
       "version_major": 2,
       "version_minor": 0
      },
      "text/plain": [
       "  0%|          | 0/6 [00:00<?, ?it/s]"
      ]
     },
     "metadata": {},
     "output_type": "display_data"
    },
    {
     "name": "stdout",
     "output_type": "stream",
     "text": [
      "0.1431377105987989 tensor(0.8612, device='cuda:0')\n"
     ]
    },
    {
     "data": {
      "application/vnd.jupyter.widget-view+json": {
       "model_id": "ba7b5e2466fe49c18ca93dc5bd3b4307",
       "version_major": 2,
       "version_minor": 0
      },
      "text/plain": [
       "  0%|          | 0/6 [00:00<?, ?it/s]"
      ]
     },
     "metadata": {},
     "output_type": "display_data"
    },
    {
     "name": "stdout",
     "output_type": "stream",
     "text": [
      "Epoch [15/20], Train Loss: 0.1431, Train Acc: 0.8612, Valid Loss: 0.5290,  Valid Acc: 0.7843\n",
      "Best Validation:  tensor(0.7871, device='cuda:0')\n"
     ]
    },
    {
     "data": {
      "application/vnd.jupyter.widget-view+json": {
       "model_id": "0e62549ba22b458382d2d685c2b9aeaf",
       "version_major": 2,
       "version_minor": 0
      },
      "text/plain": [
       "  0%|          | 0/39 [00:00<?, ?it/s]"
      ]
     },
     "metadata": {},
     "output_type": "display_data"
    },
    {
     "data": {
      "application/vnd.jupyter.widget-view+json": {
       "model_id": "2c0e1768f8b94969baf0be50d9648c86",
       "version_major": 2,
       "version_minor": 0
      },
      "text/plain": [
       "  0%|          | 0/39 [00:00<?, ?it/s]"
      ]
     },
     "metadata": {},
     "output_type": "display_data"
    },
    {
     "data": {
      "application/vnd.jupyter.widget-view+json": {
       "model_id": "897f5ee42abc456090a758e0aa4c9e28",
       "version_major": 2,
       "version_minor": 0
      },
      "text/plain": [
       "  0%|          | 0/6 [00:00<?, ?it/s]"
      ]
     },
     "metadata": {},
     "output_type": "display_data"
    },
    {
     "data": {
      "application/vnd.jupyter.widget-view+json": {
       "model_id": "cf81fbce75134a528cfa5af9b2940a26",
       "version_major": 2,
       "version_minor": 0
      },
      "text/plain": [
       "  0%|          | 0/39 [00:00<?, ?it/s]"
      ]
     },
     "metadata": {},
     "output_type": "display_data"
    },
    {
     "data": {
      "application/vnd.jupyter.widget-view+json": {
       "model_id": "ac8fda2ee7164247b668972dbd12c6b6",
       "version_major": 2,
       "version_minor": 0
      },
      "text/plain": [
       "  0%|          | 0/6 [00:00<?, ?it/s]"
      ]
     },
     "metadata": {},
     "output_type": "display_data"
    },
    {
     "data": {
      "application/vnd.jupyter.widget-view+json": {
       "model_id": "bcd4794e4a1a40a7a0ee646d8afb21e0",
       "version_major": 2,
       "version_minor": 0
      },
      "text/plain": [
       "  0%|          | 0/39 [00:00<?, ?it/s]"
      ]
     },
     "metadata": {},
     "output_type": "display_data"
    },
    {
     "data": {
      "application/vnd.jupyter.widget-view+json": {
       "model_id": "cdbf838cabe440839095c27be6c3b889",
       "version_major": 2,
       "version_minor": 0
      },
      "text/plain": [
       "  0%|          | 0/6 [00:00<?, ?it/s]"
      ]
     },
     "metadata": {},
     "output_type": "display_data"
    },
    {
     "data": {
      "application/vnd.jupyter.widget-view+json": {
       "model_id": "d000c7c726e848908bccb367f74e99f6",
       "version_major": 2,
       "version_minor": 0
      },
      "text/plain": [
       "  0%|          | 0/39 [00:00<?, ?it/s]"
      ]
     },
     "metadata": {},
     "output_type": "display_data"
    },
    {
     "data": {
      "application/vnd.jupyter.widget-view+json": {
       "model_id": "27f39a01f3c44f3b9523388165e40394",
       "version_major": 2,
       "version_minor": 0
      },
      "text/plain": [
       "  0%|          | 0/6 [00:00<?, ?it/s]"
      ]
     },
     "metadata": {},
     "output_type": "display_data"
    },
    {
     "name": "stdout",
     "output_type": "stream",
     "text": [
      "0.13065312458918646 tensor(0.8624, device='cuda:0')\n"
     ]
    },
    {
     "data": {
      "application/vnd.jupyter.widget-view+json": {
       "model_id": "942451b5dc334cf98c573b443d8b35e3",
       "version_major": 2,
       "version_minor": 0
      },
      "text/plain": [
       "  0%|          | 0/6 [00:00<?, ?it/s]"
      ]
     },
     "metadata": {},
     "output_type": "display_data"
    },
    {
     "name": "stdout",
     "output_type": "stream",
     "text": [
      "Epoch [16/20], Train Loss: 0.1307, Train Acc: 0.8624, Valid Loss: 0.6280,  Valid Acc: 0.7900\n",
      "Model saved to given_model_log.pt\n",
      "Best Validation:  tensor(0.7900, device='cuda:0')\n"
     ]
    },
    {
     "data": {
      "application/vnd.jupyter.widget-view+json": {
       "model_id": "67da6a38c9b2484a8fd0319ac2a7580f",
       "version_major": 2,
       "version_minor": 0
      },
      "text/plain": [
       "  0%|          | 0/39 [00:00<?, ?it/s]"
      ]
     },
     "metadata": {},
     "output_type": "display_data"
    },
    {
     "data": {
      "application/vnd.jupyter.widget-view+json": {
       "model_id": "2548f351eb654490af4177d5e1d97741",
       "version_major": 2,
       "version_minor": 0
      },
      "text/plain": [
       "  0%|          | 0/39 [00:00<?, ?it/s]"
      ]
     },
     "metadata": {},
     "output_type": "display_data"
    },
    {
     "data": {
      "application/vnd.jupyter.widget-view+json": {
       "model_id": "6b43c873272c4d9a85abbc7984c16210",
       "version_major": 2,
       "version_minor": 0
      },
      "text/plain": [
       "  0%|          | 0/6 [00:00<?, ?it/s]"
      ]
     },
     "metadata": {},
     "output_type": "display_data"
    },
    {
     "data": {
      "application/vnd.jupyter.widget-view+json": {
       "model_id": "dfc8807c318a4bc9948a94eeae01a07a",
       "version_major": 2,
       "version_minor": 0
      },
      "text/plain": [
       "  0%|          | 0/39 [00:00<?, ?it/s]"
      ]
     },
     "metadata": {},
     "output_type": "display_data"
    },
    {
     "data": {
      "application/vnd.jupyter.widget-view+json": {
       "model_id": "13fac7bffd5540fda44090a2bedd6fe0",
       "version_major": 2,
       "version_minor": 0
      },
      "text/plain": [
       "  0%|          | 0/6 [00:00<?, ?it/s]"
      ]
     },
     "metadata": {},
     "output_type": "display_data"
    },
    {
     "data": {
      "application/vnd.jupyter.widget-view+json": {
       "model_id": "00b427964e1b48438e474784a3120bdf",
       "version_major": 2,
       "version_minor": 0
      },
      "text/plain": [
       "  0%|          | 0/39 [00:00<?, ?it/s]"
      ]
     },
     "metadata": {},
     "output_type": "display_data"
    },
    {
     "data": {
      "application/vnd.jupyter.widget-view+json": {
       "model_id": "432750b1684e4dd796efe158282c3e6d",
       "version_major": 2,
       "version_minor": 0
      },
      "text/plain": [
       "  0%|          | 0/6 [00:00<?, ?it/s]"
      ]
     },
     "metadata": {},
     "output_type": "display_data"
    },
    {
     "data": {
      "application/vnd.jupyter.widget-view+json": {
       "model_id": "c0e4c6371a36484db8e90dfccb2c13b3",
       "version_major": 2,
       "version_minor": 0
      },
      "text/plain": [
       "  0%|          | 0/39 [00:00<?, ?it/s]"
      ]
     },
     "metadata": {},
     "output_type": "display_data"
    },
    {
     "data": {
      "application/vnd.jupyter.widget-view+json": {
       "model_id": "b893db5d7c964971b995e441091123b5",
       "version_major": 2,
       "version_minor": 0
      },
      "text/plain": [
       "  0%|          | 0/6 [00:00<?, ?it/s]"
      ]
     },
     "metadata": {},
     "output_type": "display_data"
    },
    {
     "name": "stdout",
     "output_type": "stream",
     "text": [
      "0.13320829356328034 tensor(0.8865, device='cuda:0')\n"
     ]
    },
    {
     "data": {
      "application/vnd.jupyter.widget-view+json": {
       "model_id": "52ec0746d3f64182b2abddd8b27544a2",
       "version_major": 2,
       "version_minor": 0
      },
      "text/plain": [
       "  0%|          | 0/6 [00:00<?, ?it/s]"
      ]
     },
     "metadata": {},
     "output_type": "display_data"
    },
    {
     "name": "stdout",
     "output_type": "stream",
     "text": [
      "Epoch [17/20], Train Loss: 0.1332, Train Acc: 0.8865, Valid Loss: 0.6209,  Valid Acc: 0.8014\n",
      "Model saved to given_model_log.pt\n",
      "Best Validation:  tensor(0.8014, device='cuda:0')\n"
     ]
    },
    {
     "data": {
      "application/vnd.jupyter.widget-view+json": {
       "model_id": "35d4c9434364443e91191a28f8d87ef4",
       "version_major": 2,
       "version_minor": 0
      },
      "text/plain": [
       "  0%|          | 0/39 [00:00<?, ?it/s]"
      ]
     },
     "metadata": {},
     "output_type": "display_data"
    },
    {
     "data": {
      "application/vnd.jupyter.widget-view+json": {
       "model_id": "60984948a55443fbb6adfe4b4df36d9c",
       "version_major": 2,
       "version_minor": 0
      },
      "text/plain": [
       "  0%|          | 0/39 [00:00<?, ?it/s]"
      ]
     },
     "metadata": {},
     "output_type": "display_data"
    },
    {
     "data": {
      "application/vnd.jupyter.widget-view+json": {
       "model_id": "1f1817978cbc4cb49da95d5bad5b82e6",
       "version_major": 2,
       "version_minor": 0
      },
      "text/plain": [
       "  0%|          | 0/6 [00:00<?, ?it/s]"
      ]
     },
     "metadata": {},
     "output_type": "display_data"
    },
    {
     "data": {
      "application/vnd.jupyter.widget-view+json": {
       "model_id": "2144d1e8dfa54d61b1ce5cb64bfbc1ca",
       "version_major": 2,
       "version_minor": 0
      },
      "text/plain": [
       "  0%|          | 0/39 [00:00<?, ?it/s]"
      ]
     },
     "metadata": {},
     "output_type": "display_data"
    },
    {
     "data": {
      "application/vnd.jupyter.widget-view+json": {
       "model_id": "5a602ff04cb64a609053a8634d4bee53",
       "version_major": 2,
       "version_minor": 0
      },
      "text/plain": [
       "  0%|          | 0/6 [00:00<?, ?it/s]"
      ]
     },
     "metadata": {},
     "output_type": "display_data"
    },
    {
     "data": {
      "application/vnd.jupyter.widget-view+json": {
       "model_id": "c6c132e04555419ba107fbe4b95bd719",
       "version_major": 2,
       "version_minor": 0
      },
      "text/plain": [
       "  0%|          | 0/39 [00:00<?, ?it/s]"
      ]
     },
     "metadata": {},
     "output_type": "display_data"
    },
    {
     "data": {
      "application/vnd.jupyter.widget-view+json": {
       "model_id": "4a0ad37f64f34eeab0f548817f4ec22c",
       "version_major": 2,
       "version_minor": 0
      },
      "text/plain": [
       "  0%|          | 0/6 [00:00<?, ?it/s]"
      ]
     },
     "metadata": {},
     "output_type": "display_data"
    },
    {
     "data": {
      "application/vnd.jupyter.widget-view+json": {
       "model_id": "012b2a281b27486c890c9864c537ebac",
       "version_major": 2,
       "version_minor": 0
      },
      "text/plain": [
       "  0%|          | 0/39 [00:00<?, ?it/s]"
      ]
     },
     "metadata": {},
     "output_type": "display_data"
    },
    {
     "data": {
      "application/vnd.jupyter.widget-view+json": {
       "model_id": "a9e1b23e8e1f44bfade9fb23328bc061",
       "version_major": 2,
       "version_minor": 0
      },
      "text/plain": [
       "  0%|          | 0/6 [00:00<?, ?it/s]"
      ]
     },
     "metadata": {},
     "output_type": "display_data"
    },
    {
     "name": "stdout",
     "output_type": "stream",
     "text": [
      "0.14192079580747163 tensor(0.8884, device='cuda:0')\n"
     ]
    },
    {
     "data": {
      "application/vnd.jupyter.widget-view+json": {
       "model_id": "14618c7069d84a76997ba65b26468b24",
       "version_major": 2,
       "version_minor": 0
      },
      "text/plain": [
       "  0%|          | 0/6 [00:00<?, ?it/s]"
      ]
     },
     "metadata": {},
     "output_type": "display_data"
    },
    {
     "name": "stdout",
     "output_type": "stream",
     "text": [
      "Epoch [18/20], Train Loss: 0.1419, Train Acc: 0.8884, Valid Loss: 0.6856,  Valid Acc: 0.7986\n",
      "Best Validation:  tensor(0.8014, device='cuda:0')\n"
     ]
    },
    {
     "data": {
      "application/vnd.jupyter.widget-view+json": {
       "model_id": "ec8949e42bd34ca6817a359834e3edeb",
       "version_major": 2,
       "version_minor": 0
      },
      "text/plain": [
       "  0%|          | 0/39 [00:00<?, ?it/s]"
      ]
     },
     "metadata": {},
     "output_type": "display_data"
    },
    {
     "data": {
      "application/vnd.jupyter.widget-view+json": {
       "model_id": "10eea9d88f9d42d4a4cdbe191dbedd93",
       "version_major": 2,
       "version_minor": 0
      },
      "text/plain": [
       "  0%|          | 0/39 [00:00<?, ?it/s]"
      ]
     },
     "metadata": {},
     "output_type": "display_data"
    },
    {
     "data": {
      "application/vnd.jupyter.widget-view+json": {
       "model_id": "30129309a2b949be8b0e7c0743b97a1b",
       "version_major": 2,
       "version_minor": 0
      },
      "text/plain": [
       "  0%|          | 0/6 [00:00<?, ?it/s]"
      ]
     },
     "metadata": {},
     "output_type": "display_data"
    },
    {
     "data": {
      "application/vnd.jupyter.widget-view+json": {
       "model_id": "524c6acca0ca43a386f9e6ee5b1094be",
       "version_major": 2,
       "version_minor": 0
      },
      "text/plain": [
       "  0%|          | 0/39 [00:00<?, ?it/s]"
      ]
     },
     "metadata": {},
     "output_type": "display_data"
    },
    {
     "data": {
      "application/vnd.jupyter.widget-view+json": {
       "model_id": "c8e99a00dd5c447a8ebe1722f5c25bb4",
       "version_major": 2,
       "version_minor": 0
      },
      "text/plain": [
       "  0%|          | 0/6 [00:00<?, ?it/s]"
      ]
     },
     "metadata": {},
     "output_type": "display_data"
    },
    {
     "data": {
      "application/vnd.jupyter.widget-view+json": {
       "model_id": "7fa0bf42240b4eaaaa300cbbd86ba8c0",
       "version_major": 2,
       "version_minor": 0
      },
      "text/plain": [
       "  0%|          | 0/39 [00:00<?, ?it/s]"
      ]
     },
     "metadata": {},
     "output_type": "display_data"
    },
    {
     "data": {
      "application/vnd.jupyter.widget-view+json": {
       "model_id": "c8916ae583e948f8beb018e34c8e029c",
       "version_major": 2,
       "version_minor": 0
      },
      "text/plain": [
       "  0%|          | 0/6 [00:00<?, ?it/s]"
      ]
     },
     "metadata": {},
     "output_type": "display_data"
    },
    {
     "data": {
      "application/vnd.jupyter.widget-view+json": {
       "model_id": "d4f36eb17d4844c690842c984bdfef7b",
       "version_major": 2,
       "version_minor": 0
      },
      "text/plain": [
       "  0%|          | 0/39 [00:00<?, ?it/s]"
      ]
     },
     "metadata": {},
     "output_type": "display_data"
    },
    {
     "data": {
      "application/vnd.jupyter.widget-view+json": {
       "model_id": "b484fcc8cb4f4b2989a54c38de609fbc",
       "version_major": 2,
       "version_minor": 0
      },
      "text/plain": [
       "  0%|          | 0/6 [00:00<?, ?it/s]"
      ]
     },
     "metadata": {},
     "output_type": "display_data"
    },
    {
     "name": "stdout",
     "output_type": "stream",
     "text": [
      "0.12899310581195048 tensor(0.8941, device='cuda:0')\n"
     ]
    },
    {
     "data": {
      "application/vnd.jupyter.widget-view+json": {
       "model_id": "e71c238b5c664cd0a88f74fabc68b2de",
       "version_major": 2,
       "version_minor": 0
      },
      "text/plain": [
       "  0%|          | 0/6 [00:00<?, ?it/s]"
      ]
     },
     "metadata": {},
     "output_type": "display_data"
    },
    {
     "name": "stdout",
     "output_type": "stream",
     "text": [
      "Epoch [19/20], Train Loss: 0.1290, Train Acc: 0.8941, Valid Loss: 0.6914,  Valid Acc: 0.7957\n",
      "Best Validation:  tensor(0.8014, device='cuda:0')\n"
     ]
    },
    {
     "data": {
      "application/vnd.jupyter.widget-view+json": {
       "model_id": "74d4e7c3827c4fa4bdf0c180cf23aa9c",
       "version_major": 2,
       "version_minor": 0
      },
      "text/plain": [
       "  0%|          | 0/39 [00:00<?, ?it/s]"
      ]
     },
     "metadata": {},
     "output_type": "display_data"
    },
    {
     "data": {
      "application/vnd.jupyter.widget-view+json": {
       "model_id": "a2ec0036b6b64302ab8ca1c54243584b",
       "version_major": 2,
       "version_minor": 0
      },
      "text/plain": [
       "  0%|          | 0/39 [00:00<?, ?it/s]"
      ]
     },
     "metadata": {},
     "output_type": "display_data"
    },
    {
     "data": {
      "application/vnd.jupyter.widget-view+json": {
       "model_id": "dab3eae19f5a4f54bdf721341ac28daf",
       "version_major": 2,
       "version_minor": 0
      },
      "text/plain": [
       "  0%|          | 0/6 [00:00<?, ?it/s]"
      ]
     },
     "metadata": {},
     "output_type": "display_data"
    },
    {
     "data": {
      "application/vnd.jupyter.widget-view+json": {
       "model_id": "26dabf0be9cc43dc90e695717c2c824a",
       "version_major": 2,
       "version_minor": 0
      },
      "text/plain": [
       "  0%|          | 0/39 [00:00<?, ?it/s]"
      ]
     },
     "metadata": {},
     "output_type": "display_data"
    },
    {
     "data": {
      "application/vnd.jupyter.widget-view+json": {
       "model_id": "4041707663b0406f9793d1595403b379",
       "version_major": 2,
       "version_minor": 0
      },
      "text/plain": [
       "  0%|          | 0/6 [00:00<?, ?it/s]"
      ]
     },
     "metadata": {},
     "output_type": "display_data"
    },
    {
     "data": {
      "application/vnd.jupyter.widget-view+json": {
       "model_id": "ee174006b5874af3a2226ef73ec5d4e2",
       "version_major": 2,
       "version_minor": 0
      },
      "text/plain": [
       "  0%|          | 0/39 [00:00<?, ?it/s]"
      ]
     },
     "metadata": {},
     "output_type": "display_data"
    },
    {
     "data": {
      "application/vnd.jupyter.widget-view+json": {
       "model_id": "354a71c08cc4411eab808e190bfc274f",
       "version_major": 2,
       "version_minor": 0
      },
      "text/plain": [
       "  0%|          | 0/6 [00:00<?, ?it/s]"
      ]
     },
     "metadata": {},
     "output_type": "display_data"
    },
    {
     "data": {
      "application/vnd.jupyter.widget-view+json": {
       "model_id": "20019dccafcb4e0b887f618d20911ba3",
       "version_major": 2,
       "version_minor": 0
      },
      "text/plain": [
       "  0%|          | 0/39 [00:00<?, ?it/s]"
      ]
     },
     "metadata": {},
     "output_type": "display_data"
    },
    {
     "data": {
      "application/vnd.jupyter.widget-view+json": {
       "model_id": "b96f79782218461f80d1d844b89f6ddb",
       "version_major": 2,
       "version_minor": 0
      },
      "text/plain": [
       "  0%|          | 0/6 [00:00<?, ?it/s]"
      ]
     },
     "metadata": {},
     "output_type": "display_data"
    },
    {
     "name": "stdout",
     "output_type": "stream",
     "text": [
      "0.11431679817346427 tensor(0.9112, device='cuda:0')\n"
     ]
    },
    {
     "data": {
      "application/vnd.jupyter.widget-view+json": {
       "model_id": "3d1d91231e1647ed8e7cb91df16fc620",
       "version_major": 2,
       "version_minor": 0
      },
      "text/plain": [
       "  0%|          | 0/6 [00:00<?, ?it/s]"
      ]
     },
     "metadata": {},
     "output_type": "display_data"
    },
    {
     "name": "stdout",
     "output_type": "stream",
     "text": [
      "Epoch [20/20], Train Loss: 0.1143, Train Acc: 0.9112, Valid Loss: 0.6229,  Valid Acc: 0.7886\n",
      "Best Validation:  tensor(0.8014, device='cuda:0')\n",
      "Finished Training\n"
     ]
    },
    {
     "data": {
      "image/png": "[encoded data removed]",
      "text/plain": [
       "<Figure size 432x288 with 1 Axes>"
      ]
     },
     "metadata": {
      "needs_background": "light"
     },
     "output_type": "display_data"
    },
    {
     "data": {
      "image/png": "[encoded data removed]",
      "text/plain": [
       "<Figure size 432x288 with 1 Axes>"
      ]
     },
     "metadata": {
      "needs_background": "light"
     },
     "output_type": "display_data"
    },
    {
     "data": {
      "image/png": "[encoded data removed]",
      "text/plain": [
       "<Figure size 432x288 with 1 Axes>"
      ]
     },
     "metadata": {
      "needs_background": "light"
     },
     "output_type": "display_data"
    },
    {
     "data": {
      "image/png": "[encoded data removed]",
      "text/plain": [
       "<Figure size 432x288 with 1 Axes>"
      ]
     },
     "metadata": {
      "needs_background": "light"
     },
     "output_type": "display_data"
    },
    {
     "data": {
      "image/png": "[encoded data removed]",
      "text/plain": [
       "<Figure size 432x288 with 1 Axes>"
      ]
     },
     "metadata": {
      "needs_background": "light"
     },
     "output_type": "display_data"
    },
    {
     "data": {
      "image/png": "[encoded data removed]",
      "text/plain": [
       "<Figure size 432x288 with 1 Axes>"
      ]
     },
     "metadata": {
      "needs_background": "light"
     },
     "output_type": "display_data"
    }
   ],
   "source": [
    "net = Final_Siamese_Network().to(device)\n",
    "criterion = nn.BCELoss()\n",
    "optimizer = optim.Adam(net.parameters(), lr = 0.001)\n",
    "num_epochs = 20\n",
    "save_path = f'given_model_log.pt' # log is maintained in this saved file\n",
    "\n",
    "\n",
    "TRAIN(net, train_loader, valid_loader,  num_epochs, criterion, optimizer, -float('Inf'), device, save_path)"
   ]
  },
  {
   "cell_type": "code",
   "execution_count": 37,
   "metadata": {},
   "outputs": [
    {
     "name": "stdout",
     "output_type": "stream",
     "text": [
      "Model loaded from given_model_log.pt, with val accuracy: 0.8014285564422607\n",
      "best_val_accuracy:  tensor(0.8014, device='cuda:0') train_accuracy:  tensor(0.8865, device='cuda:0') val_loss:  0.6208910097678503 train_loss:  0.13320829356328034\n"
     ]
    }
   ],
   "source": [
    "# loading the models\n",
    "load_model = net.to(device)\n",
    "load_optimizer = optim.Adam(load_model.parameters(), lr=0.001)\n",
    "save_path = f'given_model_log.pt'\n",
    "best_val_accuracy, train_accuracy, val_loss, train_loss = load_checkpoint(save_path, load_model, load_optimizer)\n",
    "\n",
    "print(\"best_val_accuracy: \", best_val_accuracy, \"train_accuracy: \", train_accuracy, \"val_loss: \", val_loss, \"train_loss: \", train_loss)"
   ]
  },
  {
   "cell_type": "markdown",
   "metadata": {},
   "source": [
    "# 4.2.4 Evaluation"
   ]
  },
  {
   "cell_type": "code",
   "execution_count": 38,
   "metadata": {},
   "outputs": [],
   "source": [
    "def accuracy(net, predictloader):\n",
    "    net.eval()\n",
    "    y_pred = []\n",
    "    y_test = []\n",
    "    running_corrects = 0\n",
    "    with torch.no_grad():\n",
    "        for img1, img2, labels in predictloader:\n",
    "            img1, img2, labels = img1.to(device), img2.to(device), labels.to(device)\n",
    "\n",
    "            outputs = net(img1,img2)\n",
    "            y_pred.extend(outputs.cpu().detach().numpy())\n",
    "            y_test.extend(labels.cpu().detach().numpy())\n",
    "        threshold = Find_Optimal_Cutoff(y_test, y_pred)[0]\n",
    "\n",
    "        count = 0\n",
    "        for i in range(len(y_pred)):\n",
    "            prediction = 0\n",
    "            if y_pred[i] > threshold:\n",
    "                prediction = 1\n",
    "            if prediction == y_test[i]:\n",
    "                count += 1\n",
    "        accuracy = (count / len(y_pred))\n",
    "        print('Threshold: ', threshold)\n",
    "        print (\"Accuracy: \", (accuracy))\n",
    "        return threshold, accuracy"
   ]
  },
  {
   "cell_type": "code",
   "execution_count": 39,
   "metadata": {},
   "outputs": [],
   "source": [
    "# optimal threshold for maximizing the accuracy\n",
    "# accuracy(net, valid_loader)"
   ]
  },
  {
   "cell_type": "markdown",
   "metadata": {},
   "source": [
    "# 4.2.5 Improving your Model\n",
    "\n",
    "In this part, I will use A and C to improve my model"
   ]
  },
  {
   "cell_type": "code",
   "execution_count": 40,
   "metadata": {},
   "outputs": [],
   "source": [
    "#train dataset class\n",
    "class CSV_Dataset_Modified(Dataset):\n",
    "  #constructor \n",
    "    def __init__(self, PATH, csv_file, transform = None): # PATH is assignment2 path along with the name of the csv_file that needs to be extracted\n",
    "        #transformations applied\n",
    "        self.transform = transform\n",
    "\n",
    "        #file paths (train, valid, test, index)\n",
    "        self.csv_path = os.path.join(PATH, csv_file)\n",
    "        self.index_txt = os.path.join(PATH, 'index.txt')\n",
    "\n",
    "        #file data (train, valid, test)\n",
    "        self.csv_data = pd.read_csv(self.csv_path)\n",
    "        \n",
    "        #index.txt file content\n",
    "        header_list = [\"picture_num\", \"location\"]\n",
    "        self.index_content = pd.read_csv(self.index_txt, delimiter = \",\", names = header_list)\n",
    "        \n",
    "        #adding 1 in front of Data\n",
    "        self.index_content.loc[:, 'location'] = '1' + self.index_content.location\n",
    "        \n",
    "      \n",
    "    def __getitem__(self, idx): # change it\n",
    "        img1 = Image.open(PATH + self.index_content[\"location\"][self.csv_data[\"id1\"][idx] - 1])  # gets the image object from id1 of index.txt file\n",
    "        img2 = Image.open(PATH + self.index_content[\"location\"][self.csv_data[\"id2\"][idx] - 1])  # same but for id2\n",
    "        #transformations\n",
    "        \n",
    "        img1 = transforms.functional.adjust_saturation(img1, saturation_factor=1.5)\n",
    "        img2 = transforms.functional.adjust_saturation(img2, saturation_factor=1.5)\n",
    "        img1 = transforms.functional.adjust_sharpness(img1, sharpness_factor=1.5)\n",
    "        img2 = transforms.functional.adjust_sharpness(img2, sharpness_factor=1.5)\n",
    "        \n",
    "        img1 = self.transform(img1)\n",
    "        img2 = self.transform(img2)\n",
    "        # label\n",
    "        \n",
    "        if self.csv_data[\"target\"][idx] == 0 or self.csv_data[\"target\"][idx] == 1:\n",
    "            label = self.csv_data[\"target\"][idx]\n",
    "            # gets the target label i.e. 0 (if they match) or 1 (if they do not)\n",
    "        else:\n",
    "            label = -1  # label is not defined\n",
    "        \n",
    "        label = torch.as_tensor([label]).float()\n",
    "        return img1, img2, label        #label = 0 or 1 if defined and -1 if not\n",
    "\n",
    "\n",
    "    def __len__ (self):\n",
    "        return len(self.csv_data)\n",
    "        \n",
    "        "
   ]
  },
  {
   "cell_type": "code",
   "execution_count": 41,
   "metadata": {},
   "outputs": [],
   "source": [
    "# Q8 C\n",
    "transform = transforms.Compose(\n",
    "    [\n",
    "     transforms.ToTensor(),\n",
    "     transforms.Grayscale(num_output_channels=1), \n",
    "     transforms.Normalize((0.5, ), (0.5, )), # channel=（channel-mean）/std  -> [-1, 1]\n",
    "     transforms.RandomPerspective(),\n",
    "     transforms.CenterCrop((32,32))\n",
    "    ])"
   ]
  },
  {
   "cell_type": "code",
   "execution_count": 42,
   "metadata": {},
   "outputs": [],
   "source": [
    "train_dataset = CSV_Dataset_Modified(PATH, 'train.csv', transform)\n",
    "valid_dataset = CSV_Dataset_Modified(PATH, 'valid.csv', transform)\n",
    "test_dataset = CSV_Dataset_Modified(PATH, 'test.csv', transform)"
   ]
  },
  {
   "cell_type": "code",
   "execution_count": 43,
   "metadata": {},
   "outputs": [],
   "source": [
    "bs = 128 # batch size\n",
    "\n",
    "train_loader_mod = DataLoader(train_dataset, batch_size=bs, shuffle=True, num_workers=4, pin_memory=True)\n",
    "valid_loader_mod = DataLoader(valid_dataset, batch_size=bs, shuffle=False, num_workers=4, pin_memory=True)\n",
    "test_loader_mod = DataLoader(test_dataset, batch_size=1, shuffle=False)"
   ]
  },
  {
   "cell_type": "raw",
   "metadata": {},
   "source": [
    "#model\n",
    "# (1x32x32)-> conv -> conv -> max pooling -> conv (64 kernels) -> conv (128 kernels) -> conv (256) -> conv (512)\n",
    "# avg pooling (16*16 kernel size) -> flattening  -> output (1*512 vector)\n",
    "\n",
    "d_in = 512\n",
    "class Siamese_Network_Modified(nn.Module):\n",
    "    def __init__(self):\n",
    "        super(Siamese_Network_Modified, self).__init__()\n",
    "#         self.vgg = torchvision.models.vgg16(pretrained=True)\n",
    "    \n",
    "        # (32x32x1)-> conv -> (32x32x32) -> conv -> (32x32x32) ->  maxpool -> (16x16x32)\n",
    "        # conv -> (16x16x64)-> conv (16x16x128) -> conv (16x16x256) -> conv (16x16x512) \n",
    "        # avgpool -> (16x16x512) -> fc -> (1x1x512)\n",
    "        self.conv1 = nn.Conv2d(in_channels=1, out_channels=32, kernel_size=3, padding=1, stride=1)\n",
    "        self.conv2 = nn.Conv2d(in_channels=32, out_channels=32, kernel_size=3, padding=1, stride=1)\n",
    "        \n",
    "        # max pooling\n",
    "        self.max_pool = nn.MaxPool2d(2, stride=2)\n",
    "        \n",
    "        self.conv3 = nn.Conv2d(in_channels=32, out_channels=64, kernel_size=3, padding=1, stride=1)\n",
    "        self.conv4 = nn.Conv2d(in_channels=64, out_channels=128, kernel_size=3, padding=1, stride=1)\n",
    "        self.conv5 = nn.Conv2d(in_channels=128, out_channels=256, kernel_size=3, padding=1, stride=1)\n",
    "        self.conv6 = nn.Conv2d(in_channels=256, out_channels=512, kernel_size=3, padding=1, stride=1)\n",
    "        \n",
    "        # average pooling\n",
    "        self.avg_pool = nn.AvgPool2d(16, stride=1)\n",
    "        \n",
    "        # batch normalization\n",
    "        self.norm1 = nn.BatchNorm2d(32)  \n",
    "        self.norm2 = nn.BatchNorm2d(32)\n",
    "        self.norm3 = nn.BatchNorm2d(64)\n",
    "        self.norm4 = nn.BatchNorm2d(128)\n",
    "        self.norm5 = nn.BatchNorm2d(256) \n",
    "        self.norm6 = nn.BatchNorm2d(512)\n",
    "        \n",
    "        # fully connected and dropout layers\n",
    "        self.fc1 = nn.Linear(d_in, d_in) \n",
    "        self.drop = nn.Dropout(0.5)\n",
    "        self.fc2 = nn.Linear(d_in, 256)\n",
    "        #adding layer\n",
    "        self.fc3 = nn.Linear(256, 1)\n",
    "    \n",
    "    \n",
    "    # takes two input vector of size 512 and outputs the element wise absolute difference\n",
    "    def aggregation(in_vec1, in_vec2):\n",
    "        out_vector = abs(in_vec1 - in_vec2)\n",
    "        return out_vector\n",
    "        \n",
    "    def forward(self, img1, img2):\n",
    "        #  1, 32, 32\n",
    "        # out_dim = in_dim - kernel_size + 1  \n",
    "        \n",
    "        img1 = self.norm1(F.relu((self.conv1(img1)))) #32, 32, 32 \n",
    "        img1 = self.max_pool(self.norm2(F.relu(self.conv2(img1)))) #16, 16, 32\n",
    "        img1 = self.norm3(F.relu(self.conv3(img1)))\n",
    "        img1 = self.norm4(F.relu(self.conv4(img1)))\n",
    "        img1 = self.norm5(F.relu(self.conv5(img1)))\n",
    "        img1 = self.avg_pool(self.norm6(F.relu(self.conv6(img1))))\n",
    "        img1 = img1.view(-1, 1 * 512)  #flatten the data\n",
    "        \n",
    "        img2 = self.norm1(F.relu((self.conv1(img2)))) #32, 32, 32 \n",
    "        img2 = self.max_pool(self.norm2(F.relu(self.conv2(img2)))) #16, 16, 32\n",
    "        img2 = self.norm3(F.relu(self.conv3(img2)))\n",
    "        img2 = self.norm4(F.relu(self.conv4(img2)))\n",
    "        img2 = self.norm5(F.relu(self.conv5(img2)))\n",
    "        img2 = self.norm6(self.avg_pool(F.relu(self.conv6(img2))))\n",
    "        img2 = img2.view(-1, 1 * 512)  #flatten the data\n",
    "    \n",
    "        #adding 1 more fully connected layer\n",
    "        \n",
    "        aggregate_output = aggregation(img1, img2)\n",
    "        aggregate_output = F.relu(self.fc1(aggregate_output))\n",
    "        aggregate_ouput = self.drop(aggregate_output)\n",
    "        aggregate_ouput = F.relu(self.fc2(aggregate_output))\n",
    "        aggregate_ouput = self.fc3(aggregate_ouput)\n",
    "        aggregate_ouput = torch.sigmoid(aggregate_ouput) # therefore bcloss should be used\n",
    "        \n",
    "        return aggregate_ouput"
   ]
  },
  {
   "cell_type": "code",
   "execution_count": 44,
   "metadata": {},
   "outputs": [],
   "source": [
    "#model\n",
    "# (1x32x32)-> conv -> conv -> max pooling -> conv (64 kernels) -> conv (128 kernels) -> conv (256) -> conv (512)\n",
    "# avg pooling (16*16 kernel size) -> flattening  -> output (1*512 vector)\n",
    "\n",
    "d_in = 512\n",
    "class Siamese_Network_Modified(nn.Module):\n",
    "    def __init__(self):\n",
    "        super(Siamese_Network_Modified, self).__init__()\n",
    "    \n",
    "        # (32x32x1)-> conv -> (32x32x32) -> conv -> (32x32x32) ->  maxpool -> (16x16x32)\n",
    "        # conv -> (16x16x64)-> conv (16x16x128) -> conv (16x16x256) -> conv (16x16x512) \n",
    "        # avgpool -> (16x16x512) -> fc -> (1x1x512)\n",
    "        self.conv1 = nn.Conv2d(in_channels=1, out_channels=32, kernel_size=3, padding=1, stride=1)\n",
    "        self.conv2 = nn.Conv2d(in_channels=32, out_channels=32, kernel_size=3, padding=1, stride=1)\n",
    "        \n",
    "        # max pooling\n",
    "        self.max_pool = nn.MaxPool2d(2, stride=2)\n",
    "        \n",
    "        self.conv3 = nn.Conv2d(in_channels=32, out_channels=64, kernel_size=3, padding=1, stride=1)\n",
    "        self.conv4 = nn.Conv2d(in_channels=64, out_channels=128, kernel_size=3, padding=1, stride=1)\n",
    "        self.conv5 = nn.Conv2d(in_channels=128, out_channels=256, kernel_size=3, padding=1, stride=1)\n",
    "        self.conv6 = nn.Conv2d(in_channels=256, out_channels=512, kernel_size=3, padding=1, stride=1)\n",
    "        \n",
    "        # average pooling\n",
    "        self.avg_pool = nn.AvgPool2d(16, stride=1)\n",
    "        \n",
    "        # batch normalization\n",
    "        self.norm1 = nn.BatchNorm2d(32)  \n",
    "        self.norm2 = nn.BatchNorm2d(32)\n",
    "        self.norm3 = nn.BatchNorm2d(64)\n",
    "        self.norm4 = nn.BatchNorm2d(128)\n",
    "        self.norm5 = nn.BatchNorm2d(256) \n",
    "        self.norm6 = nn.BatchNorm2d(512)\n",
    "        \n",
    "        # fully connected and dropout layers\n",
    "        self.fc1 = nn.Linear(d_in, d_in) \n",
    "        self.drop = nn.Dropout(0.5)\n",
    "        self.fc2 = nn.Linear(d_in, 1) \n",
    "    \n",
    "    \n",
    "    # takes two input vector of size 512 and outputs the element wise absolute difference\n",
    "    def aggregation(in_vec1, in_vec2):\n",
    "        out_vector = abs(in_vec1 - in_vec2)\n",
    "        return out_vector\n",
    "        \n",
    "    def forward(self, img1, img2):\n",
    "        #  1, 32, 32\n",
    "        # out_dim = in_dim - kernel_size + 1  \n",
    "        \n",
    "        img1 = F.relu((self.norm1(self.conv1(img1)))) #32, 32, 32 \n",
    "        img1 = self.max_pool(F.relu(self.norm2(self.conv2(img1)))) #16, 16, 32\n",
    "        img1 = F.relu(self.norm3(self.conv3(img1)))\n",
    "        img1 = F.relu(self.norm4(self.conv4(img1)))\n",
    "        img1 = F.relu(self.norm5(self.conv5(img1)))\n",
    "        img1 = self.avg_pool(F.relu(self.norm6(self.conv6(img1))))\n",
    "        img1 = img1.view(-1, 1 * 512)  #flatten the data\n",
    "\n",
    "        img2 = F.relu((self.norm1(self.conv1(img2)))) #32, 32, 32 \n",
    "        img2 = self.max_pool(F.relu(self.norm2(self.conv2(img2)))) #16, 16, 32\n",
    "        img2 = F.relu(self.norm3(self.conv3(img2)))\n",
    "        img2 = F.relu(self.norm4(self.conv4(img2)))\n",
    "        img2 = F.relu(self.norm5(self.conv5(img2)))\n",
    "        img2 = self.avg_pool(F.relu(self.norm6(self.conv6(img2))))\n",
    "        img2 = img2.view(-1, 1 * 512)  #flatten the data\n",
    "        \n",
    "        aggregate_output = aggregation(img1, img2)\n",
    "#         print(aggregate_output, aggregate_output.shape)\n",
    "        aggregate_output = F.relu(self.fc1(aggregate_output))\n",
    "        aggregate_ouput = self.drop(aggregate_output)\n",
    "        output_layer = self.fc2(aggregate_output)\n",
    "        output_layer = torch.sigmoid(output_layer) # therefore bcloss should be used\n",
    "        \n",
    "        return output_layer"
   ]
  },
  {
   "cell_type": "code",
   "execution_count": 45,
   "metadata": {},
   "outputs": [],
   "source": [
    "# Train function\n",
    "# This function is an alternative for TRAIN, has the same functionalities but doesn't output graphs\n",
    "def TRAIN_Modified(net, train_loader, valid_loader,  num_epochs, criterion, optimizer, val_acc, device, save_name):\n",
    "    \n",
    "    if val_acc==None: # accuracy\n",
    "        best_val_acc = float(\"Inf\")  \n",
    "    else: \n",
    "        best_val_acc=val_acc\n",
    "        print('Resume training')\n",
    "\n",
    "    inside_train_valid_loss = []\n",
    "    threshold1 = 0.5\n",
    "    threshold2 = 0.5\n",
    "    for epoch in range(num_epochs):  # loop over the dataset multiple times\n",
    "        net.train()\n",
    "        running_loss = 0.0\n",
    "        running_corrects = 0\n",
    "        \n",
    "        \n",
    "        for inputs1, inputs2, labels in tqdm(train_loader):\n",
    "            \n",
    "            inputs1, inputs2, labels = inputs1.to(device), inputs2.to(device), labels.to(device)\n",
    "\n",
    "            '''Training of the model'''\n",
    "            # Forward pass\n",
    "            outputs = net(inputs1, inputs2)\n",
    "            \n",
    "            loss = criterion(outputs, labels)\n",
    "            \n",
    "            # Backward and optimize\n",
    "            optimizer.zero_grad()\n",
    "            loss.backward()\n",
    "            optimizer.step()\n",
    "\n",
    "            running_loss += loss.item()\n",
    "            \n",
    "            # threshold1 calculated from the optimal threshold\n",
    "            preds = outputs > threshold1\n",
    "            running_corrects += torch.sum(preds == labels.data)\n",
    "        \n",
    "\n",
    "        train_loss = running_loss / len(train_loader)\n",
    "        train_acc = running_corrects / float(len(train_loader.dataset))\n",
    "\n",
    "\n",
    "        print(train_loss, train_acc)\n",
    "        \n",
    "        with torch.no_grad():\n",
    "            net.eval() # to turn off the dropout or learning\n",
    "            running_loss = 0.0\n",
    "            running_corrects = 0\n",
    "            \n",
    "            \n",
    "            for inputs1, inputs2, labels in tqdm(valid_loader):\n",
    "\n",
    "                inputs1, inputs2, labels = inputs1.to(device), inputs2.to(device), labels.to(device)\n",
    "                outputs = net(inputs1, inputs2)\n",
    "\n",
    "                loss = criterion(outputs, labels)\n",
    "                \n",
    "\n",
    "                running_loss += loss.item()\n",
    "#                 _, preds = torch.max(outputs.data, 1) # from every subarray of 2d array find the max\n",
    "                preds = outputs > threshold2\n",
    "                # _ is the output val of each predicted score while preds/index is the class label\n",
    "                running_corrects += torch.sum(preds == labels.data)\n",
    "                \n",
    "\n",
    "            valid_loss = running_loss / len(valid_loader)\n",
    "            valid_acc = running_corrects / float(len(valid_loader.dataset))\n",
    "\n",
    "    \n",
    "        \n",
    "        print('Epoch [{}/{}], Train Loss: {:.4f}, Train Acc: {:.4f}, Valid Loss: {:.4f},  Valid Acc: {:.4f}'\n",
    "              .format(epoch+1, num_epochs, train_loss, train_acc, valid_loss, valid_acc))\n",
    "        \n",
    "        if valid_acc > best_val_acc: # saving best validation accuracy model\n",
    "            best_val_acc = valid_acc\n",
    "            save_checkpoint(save_name, net, optimizer, valid_loss, train_loss, valid_acc, train_acc)\n",
    "        print(\"Best Validation: \", best_val_acc)\n",
    "\n",
    "\n",
    "    print('Finished Training')\n"
   ]
  },
  {
   "cell_type": "raw",
   "metadata": {},
   "source": [
    "# Q8 A and C model testing\n",
    "model1 = Siamese_Network_Modified().to(device)\n",
    "criterion = nn.BCELoss()\n",
    "optimizer = optim.Adam(model1.parameters(), lr = 0.001)\n",
    "num_epochs = 15\n",
    "save_file = f'model1_set11_log1.pt' # log is maintained in this saved file\n",
    "\n",
    "\n",
    "TRAIN_Modified(model1, train_loader, valid_loader,  num_epochs, criterion, optimizer, 0, device, save_file)"
   ]
  },
  {
   "cell_type": "raw",
   "metadata": {},
   "source": [
    "accuracy(model1, valid_loader)"
   ]
  },
  {
   "cell_type": "raw",
   "metadata": {},
   "source": [
    "model1 = Siamese_Network_Modified().to(device)\n",
    "criterion = nn.BCELoss()\n",
    "optimizer = optim.Adam(model1.parameters(), lr = 0.001)\n",
    "num_epochs = 25\n",
    "save_file = f'model1_set12_log1.pt' # log is maintained in this saved file\n",
    "\n",
    "\n",
    "TRAIN_Modified(model1, train_loader, valid_loader,  num_epochs, criterion, optimizer, 0, device, save_file)"
   ]
  },
  {
   "cell_type": "raw",
   "metadata": {},
   "source": [
    "accuracy(model1, valid_loader)"
   ]
  },
  {
   "cell_type": "raw",
   "metadata": {},
   "source": [
    "model1 = Siamese_Network_Modified().to(device)\n",
    "criterion = nn.BCELoss()\n",
    "optimizer = optim.Adam(model1.parameters(), lr = 0.001)\n",
    "num_epochs = 30\n",
    "save_file = f'model1_set12_log1.pt' # log is maintained in this saved file\n",
    "\n",
    "\n",
    "TRAIN_Modified(model1, train_loader, valid_loader,  num_epochs, criterion, optimizer, 0, device, save_file)"
   ]
  },
  {
   "cell_type": "raw",
   "metadata": {},
   "source": [
    "accuracy(model1, valid_loader)"
   ]
  },
  {
   "cell_type": "raw",
   "metadata": {},
   "source": [
    "model2 = Siamese_Network_Modified().to(device)\n",
    "criterion = nn.BCELoss()\n",
    "optimizer = optim.Adam(model2.parameters(), lr = 0.002)\n",
    "num_epochs = 20\n",
    "save_file = f'model1_set21_log2.pt' # log is maintained in this saved file\n",
    "\n",
    "\n",
    "TRAIN_Modified(model2, train_loader_mod, valid_loader_mod,  num_epochs, criterion, optimizer, 0, device, save_file)"
   ]
  },
  {
   "cell_type": "raw",
   "metadata": {},
   "source": [
    "accuracy(model2, valid_loader)"
   ]
  },
  {
   "cell_type": "raw",
   "metadata": {},
   "source": [
    "model2 = Siamese_Network_Modified().to(device)\n",
    "criterion = nn.BCELoss()\n",
    "optimizer = optim.Adam(model2.parameters(), lr = 0.004)\n",
    "num_epochs = 20\n",
    "save_file = f'model1_set22_log2.pt' # log is maintained in this saved file\n",
    "\n",
    "\n",
    "TRAIN_Modified(model2, train_loader_mod, valid_loader_mod,  num_epochs, criterion, optimizer, 0, device, save_file)"
   ]
  },
  {
   "cell_type": "raw",
   "metadata": {},
   "source": [
    "accuracy(model2, valid_loader)"
   ]
  },
  {
   "cell_type": "raw",
   "metadata": {},
   "source": [
    "model2 = Siamese_Network_Modified().to(device)\n",
    "criterion = nn.BCELoss()\n",
    "optimizer = optim.Adam(model2.parameters(), lr = 0.006)\n",
    "num_epochs = 20\n",
    "save_file = f'model1_set23_log2.pt' # log is maintained in this saved file\n",
    "\n",
    "\n",
    "TRAIN_Modified(model2, train_loader_mod, valid_loader_mod,  num_epochs, criterion, optimizer, 0, device, save_file)"
   ]
  },
  {
   "cell_type": "raw",
   "metadata": {},
   "source": [
    "accuracy(model2, valid_loader)"
   ]
  },
  {
   "cell_type": "raw",
   "metadata": {},
   "source": [
    "model3 = Siamese_Network_Modified().to(device)\n",
    "criterion = nn.BCELoss()\n",
    "optimizer = optim.Adam(model3.parameters(), lr = 0.0006, weight_decay=0.00003)\n",
    "num_epochs = 20\n",
    "save_file = f'model1_set31_log3.pt' # log is maintained in this saved file\n",
    "\n",
    "\n",
    "TRAIN_Modified(model3, train_loader_mod, valid_loader_mod,  num_epochs, criterion, optimizer, 0, device, save_file)"
   ]
  },
  {
   "cell_type": "raw",
   "metadata": {},
   "source": [
    "accuracy(model3, valid_loader)"
   ]
  },
  {
   "cell_type": "raw",
   "metadata": {},
   "source": [
    "model3 = Siamese_Network_Modified().to(device)\n",
    "criterion = nn.BCELoss()\n",
    "optimizer = optim.AdamW(model3.parameters(), lr = 0.0006, weight_decay=0.00003)\n",
    "num_epochs = 20\n",
    "save_file = f'model1_set32_log.pt' # log is maintained in this saved file\n",
    "\n",
    "\n",
    "TRAIN_Modified(model3, train_loader_mod, valid_loader_mod,  num_epochs, criterion, optimizer, 0, device, save_file)"
   ]
  },
  {
   "cell_type": "raw",
   "metadata": {},
   "source": [
    "accuracy(model3, valid_loader)"
   ]
  },
  {
   "cell_type": "raw",
   "metadata": {},
   "source": [
    "model3 = Siamese_Network_Modified().to(device)\n",
    "criterion = nn.BCELoss()\n",
    "optimizer = optim.SGD(model3.parameters(), lr = 0.0006, weight_decay=0.00003)\n",
    "num_epochs = 20\n",
    "save_file = f'model1_set33_log.pt' # log is maintained in this saved file\n",
    "\n",
    "\n",
    "TRAIN_Modified(model3, train_loader_mod, valid_loader_mod,  num_epochs, criterion, optimizer, 0, device, save_file)"
   ]
  },
  {
   "cell_type": "raw",
   "metadata": {},
   "source": [
    "accuracy(model3, valid_loader)"
   ]
  },
  {
   "cell_type": "code",
   "execution_count": 46,
   "metadata": {},
   "outputs": [
    {
     "name": "stdout",
     "output_type": "stream",
     "text": [
      "Resume training\n"
     ]
    },
    {
     "data": {
      "application/vnd.jupyter.widget-view+json": {
       "model_id": "f42f007ebccb4b35a0a60f1856defc82",
       "version_major": 2,
       "version_minor": 0
      },
      "text/plain": [
       "  0%|          | 0/39 [00:00<?, ?it/s]"
      ]
     },
     "metadata": {},
     "output_type": "display_data"
    },
    {
     "data": {
      "application/vnd.jupyter.widget-view+json": {
       "model_id": "b122971ca21a43288ee415fc49902f07",
       "version_major": 2,
       "version_minor": 0
      },
      "text/plain": [
       "  0%|          | 0/39 [00:00<?, ?it/s]"
      ]
     },
     "metadata": {},
     "output_type": "display_data"
    },
    {
     "data": {
      "application/vnd.jupyter.widget-view+json": {
       "model_id": "84c44386fd444e00bb505ed75c7edf76",
       "version_major": 2,
       "version_minor": 0
      },
      "text/plain": [
       "  0%|          | 0/6 [00:00<?, ?it/s]"
      ]
     },
     "metadata": {},
     "output_type": "display_data"
    },
    {
     "data": {
      "application/vnd.jupyter.widget-view+json": {
       "model_id": "c02e506870da4ef4a2edd7eb87383a3e",
       "version_major": 2,
       "version_minor": 0
      },
      "text/plain": [
       "  0%|          | 0/39 [00:00<?, ?it/s]"
      ]
     },
     "metadata": {},
     "output_type": "display_data"
    },
    {
     "data": {
      "application/vnd.jupyter.widget-view+json": {
       "model_id": "6e243135b15e453ca27463384b4750f1",
       "version_major": 2,
       "version_minor": 0
      },
      "text/plain": [
       "  0%|          | 0/6 [00:00<?, ?it/s]"
      ]
     },
     "metadata": {},
     "output_type": "display_data"
    },
    {
     "data": {
      "application/vnd.jupyter.widget-view+json": {
       "model_id": "3a8db7b06eb24f5d8a1a08ee54536b16",
       "version_major": 2,
       "version_minor": 0
      },
      "text/plain": [
       "  0%|          | 0/39 [00:00<?, ?it/s]"
      ]
     },
     "metadata": {},
     "output_type": "display_data"
    },
    {
     "data": {
      "application/vnd.jupyter.widget-view+json": {
       "model_id": "c9b4eacf10f340c1b45dbf1ec6ca2c5d",
       "version_major": 2,
       "version_minor": 0
      },
      "text/plain": [
       "  0%|          | 0/6 [00:00<?, ?it/s]"
      ]
     },
     "metadata": {},
     "output_type": "display_data"
    },
    {
     "name": "stdout",
     "output_type": "stream",
     "text": [
      "0.2795037703636365 tensor(0.5147, device='cuda:0')\n"
     ]
    },
    {
     "data": {
      "application/vnd.jupyter.widget-view+json": {
       "model_id": "31df87d118be4b0bbfef3c3911a772a3",
       "version_major": 2,
       "version_minor": 0
      },
      "text/plain": [
       "  0%|          | 0/6 [00:00<?, ?it/s]"
      ]
     },
     "metadata": {},
     "output_type": "display_data"
    },
    {
     "name": "stdout",
     "output_type": "stream",
     "text": [
      "Epoch [1/20], Train Loss: 0.2795, Train Acc: 0.5147, Valid Loss: 0.6808,  Valid Acc: 0.5557\n",
      "Model saved to final_model1_log.pt\n",
      "Best Validation:  tensor(0.5557, device='cuda:0')\n"
     ]
    },
    {
     "data": {
      "application/vnd.jupyter.widget-view+json": {
       "model_id": "fbe28594da3b435199e4da267b231859",
       "version_major": 2,
       "version_minor": 0
      },
      "text/plain": [
       "  0%|          | 0/39 [00:00<?, ?it/s]"
      ]
     },
     "metadata": {},
     "output_type": "display_data"
    },
    {
     "data": {
      "application/vnd.jupyter.widget-view+json": {
       "model_id": "f1475e82aa9c400fa828f9289c983ec7",
       "version_major": 2,
       "version_minor": 0
      },
      "text/plain": [
       "  0%|          | 0/39 [00:00<?, ?it/s]"
      ]
     },
     "metadata": {},
     "output_type": "display_data"
    },
    {
     "data": {
      "application/vnd.jupyter.widget-view+json": {
       "model_id": "4482e560506d4003a8f44fc950275028",
       "version_major": 2,
       "version_minor": 0
      },
      "text/plain": [
       "  0%|          | 0/6 [00:00<?, ?it/s]"
      ]
     },
     "metadata": {},
     "output_type": "display_data"
    },
    {
     "data": {
      "application/vnd.jupyter.widget-view+json": {
       "model_id": "e516b0088d5e4ad0980da61085e7e50c",
       "version_major": 2,
       "version_minor": 0
      },
      "text/plain": [
       "  0%|          | 0/39 [00:00<?, ?it/s]"
      ]
     },
     "metadata": {},
     "output_type": "display_data"
    },
    {
     "data": {
      "application/vnd.jupyter.widget-view+json": {
       "model_id": "af9758ca159441f3a8f3051710355e81",
       "version_major": 2,
       "version_minor": 0
      },
      "text/plain": [
       "  0%|          | 0/6 [00:00<?, ?it/s]"
      ]
     },
     "metadata": {},
     "output_type": "display_data"
    },
    {
     "data": {
      "application/vnd.jupyter.widget-view+json": {
       "model_id": "92b4ec97c1764bee94b26b07a57e6ab2",
       "version_major": 2,
       "version_minor": 0
      },
      "text/plain": [
       "  0%|          | 0/39 [00:00<?, ?it/s]"
      ]
     },
     "metadata": {},
     "output_type": "display_data"
    },
    {
     "data": {
      "application/vnd.jupyter.widget-view+json": {
       "model_id": "5e66f78e917b40bdae704792a8b5d8df",
       "version_major": 2,
       "version_minor": 0
      },
      "text/plain": [
       "  0%|          | 0/6 [00:00<?, ?it/s]"
      ]
     },
     "metadata": {},
     "output_type": "display_data"
    },
    {
     "data": {
      "application/vnd.jupyter.widget-view+json": {
       "model_id": "5a3e73be5fba44a881d211179443ac03",
       "version_major": 2,
       "version_minor": 0
      },
      "text/plain": [
       "  0%|          | 0/39 [00:00<?, ?it/s]"
      ]
     },
     "metadata": {},
     "output_type": "display_data"
    },
    {
     "data": {
      "application/vnd.jupyter.widget-view+json": {
       "model_id": "396d5f4dfe7048849dd067e7f42fb9ff",
       "version_major": 2,
       "version_minor": 0
      },
      "text/plain": [
       "  0%|          | 0/6 [00:00<?, ?it/s]"
      ]
     },
     "metadata": {},
     "output_type": "display_data"
    },
    {
     "name": "stdout",
     "output_type": "stream",
     "text": [
      "0.2583672893352998 tensor(0.5388, device='cuda:0')\n"
     ]
    },
    {
     "data": {
      "application/vnd.jupyter.widget-view+json": {
       "model_id": "aca7dacfd27d4f679ed6830005322413",
       "version_major": 2,
       "version_minor": 0
      },
      "text/plain": [
       "  0%|          | 0/6 [00:00<?, ?it/s]"
      ]
     },
     "metadata": {},
     "output_type": "display_data"
    },
    {
     "name": "stdout",
     "output_type": "stream",
     "text": [
      "Epoch [2/20], Train Loss: 0.2584, Train Acc: 0.5388, Valid Loss: 0.6723,  Valid Acc: 0.5714\n",
      "Model saved to final_model1_log.pt\n",
      "Best Validation:  tensor(0.5714, device='cuda:0')\n"
     ]
    },
    {
     "data": {
      "application/vnd.jupyter.widget-view+json": {
       "model_id": "d25000a1943b41f09a6a01c7bd84a343",
       "version_major": 2,
       "version_minor": 0
      },
      "text/plain": [
       "  0%|          | 0/39 [00:00<?, ?it/s]"
      ]
     },
     "metadata": {},
     "output_type": "display_data"
    },
    {
     "data": {
      "application/vnd.jupyter.widget-view+json": {
       "model_id": "2f4535eb7e074599a730fd5a1f8a25db",
       "version_major": 2,
       "version_minor": 0
      },
      "text/plain": [
       "  0%|          | 0/39 [00:00<?, ?it/s]"
      ]
     },
     "metadata": {},
     "output_type": "display_data"
    },
    {
     "data": {
      "application/vnd.jupyter.widget-view+json": {
       "model_id": "00b822afd90b47cfad7382da8d180737",
       "version_major": 2,
       "version_minor": 0
      },
      "text/plain": [
       "  0%|          | 0/6 [00:00<?, ?it/s]"
      ]
     },
     "metadata": {},
     "output_type": "display_data"
    },
    {
     "data": {
      "application/vnd.jupyter.widget-view+json": {
       "model_id": "d6cd9fe001f14c81b38f81e845ff3742",
       "version_major": 2,
       "version_minor": 0
      },
      "text/plain": [
       "  0%|          | 0/39 [00:00<?, ?it/s]"
      ]
     },
     "metadata": {},
     "output_type": "display_data"
    },
    {
     "data": {
      "application/vnd.jupyter.widget-view+json": {
       "model_id": "1df52b759af342faa75243099be2201c",
       "version_major": 2,
       "version_minor": 0
      },
      "text/plain": [
       "  0%|          | 0/6 [00:00<?, ?it/s]"
      ]
     },
     "metadata": {},
     "output_type": "display_data"
    },
    {
     "data": {
      "application/vnd.jupyter.widget-view+json": {
       "model_id": "cdaa4f83e0994ea69b59a9559b70db50",
       "version_major": 2,
       "version_minor": 0
      },
      "text/plain": [
       "  0%|          | 0/39 [00:00<?, ?it/s]"
      ]
     },
     "metadata": {},
     "output_type": "display_data"
    },
    {
     "data": {
      "application/vnd.jupyter.widget-view+json": {
       "model_id": "2bc9487d7f7a42cabc8e3cf6f493a1b5",
       "version_major": 2,
       "version_minor": 0
      },
      "text/plain": [
       "  0%|          | 0/6 [00:00<?, ?it/s]"
      ]
     },
     "metadata": {},
     "output_type": "display_data"
    },
    {
     "data": {
      "application/vnd.jupyter.widget-view+json": {
       "model_id": "faa3465eb2964966960034605d2039c9",
       "version_major": 2,
       "version_minor": 0
      },
      "text/plain": [
       "  0%|          | 0/39 [00:00<?, ?it/s]"
      ]
     },
     "metadata": {},
     "output_type": "display_data"
    },
    {
     "data": {
      "application/vnd.jupyter.widget-view+json": {
       "model_id": "788b2828c28c4fb38c5d402eff47d16c",
       "version_major": 2,
       "version_minor": 0
      },
      "text/plain": [
       "  0%|          | 0/6 [00:00<?, ?it/s]"
      ]
     },
     "metadata": {},
     "output_type": "display_data"
    },
    {
     "name": "stdout",
     "output_type": "stream",
     "text": [
      "0.23949918838647696 tensor(0.5580, device='cuda:0')\n"
     ]
    },
    {
     "data": {
      "application/vnd.jupyter.widget-view+json": {
       "model_id": "c2b02be654b749839f1ef7562e8a6a2d",
       "version_major": 2,
       "version_minor": 0
      },
      "text/plain": [
       "  0%|          | 0/6 [00:00<?, ?it/s]"
      ]
     },
     "metadata": {},
     "output_type": "display_data"
    },
    {
     "name": "stdout",
     "output_type": "stream",
     "text": [
      "Epoch [3/20], Train Loss: 0.2395, Train Acc: 0.5580, Valid Loss: 0.6531,  Valid Acc: 0.6214\n",
      "Model saved to final_model1_log.pt\n",
      "Best Validation:  tensor(0.6214, device='cuda:0')\n"
     ]
    },
    {
     "data": {
      "application/vnd.jupyter.widget-view+json": {
       "model_id": "5b3b58124f2744a6a329f58d2939f9a8",
       "version_major": 2,
       "version_minor": 0
      },
      "text/plain": [
       "  0%|          | 0/39 [00:00<?, ?it/s]"
      ]
     },
     "metadata": {},
     "output_type": "display_data"
    },
    {
     "data": {
      "application/vnd.jupyter.widget-view+json": {
       "model_id": "541dbdfea27f434bb9359452fe636656",
       "version_major": 2,
       "version_minor": 0
      },
      "text/plain": [
       "  0%|          | 0/39 [00:00<?, ?it/s]"
      ]
     },
     "metadata": {},
     "output_type": "display_data"
    },
    {
     "data": {
      "application/vnd.jupyter.widget-view+json": {
       "model_id": "327fd2b8412141b8a96e2d05bcca61f7",
       "version_major": 2,
       "version_minor": 0
      },
      "text/plain": [
       "  0%|          | 0/6 [00:00<?, ?it/s]"
      ]
     },
     "metadata": {},
     "output_type": "display_data"
    },
    {
     "data": {
      "application/vnd.jupyter.widget-view+json": {
       "model_id": "4e6c9b0e1b4347359065543eb2ad014e",
       "version_major": 2,
       "version_minor": 0
      },
      "text/plain": [
       "  0%|          | 0/39 [00:00<?, ?it/s]"
      ]
     },
     "metadata": {},
     "output_type": "display_data"
    },
    {
     "data": {
      "application/vnd.jupyter.widget-view+json": {
       "model_id": "74cc24c71aa7460f9f277d0aaa69599d",
       "version_major": 2,
       "version_minor": 0
      },
      "text/plain": [
       "  0%|          | 0/6 [00:00<?, ?it/s]"
      ]
     },
     "metadata": {},
     "output_type": "display_data"
    },
    {
     "data": {
      "application/vnd.jupyter.widget-view+json": {
       "model_id": "ae923b8259cc407598fab1720a2a7407",
       "version_major": 2,
       "version_minor": 0
      },
      "text/plain": [
       "  0%|          | 0/39 [00:00<?, ?it/s]"
      ]
     },
     "metadata": {},
     "output_type": "display_data"
    },
    {
     "data": {
      "application/vnd.jupyter.widget-view+json": {
       "model_id": "7500a4a06ce14d7ca48f39543df8e888",
       "version_major": 2,
       "version_minor": 0
      },
      "text/plain": [
       "  0%|          | 0/6 [00:00<?, ?it/s]"
      ]
     },
     "metadata": {},
     "output_type": "display_data"
    },
    {
     "data": {
      "application/vnd.jupyter.widget-view+json": {
       "model_id": "e73c82a8b651483a941468732dac6a4a",
       "version_major": 2,
       "version_minor": 0
      },
      "text/plain": [
       "  0%|          | 0/39 [00:00<?, ?it/s]"
      ]
     },
     "metadata": {},
     "output_type": "display_data"
    },
    {
     "data": {
      "application/vnd.jupyter.widget-view+json": {
       "model_id": "b902a8cdadff4172b8a8282733d67c4f",
       "version_major": 2,
       "version_minor": 0
      },
      "text/plain": [
       "  0%|          | 0/6 [00:00<?, ?it/s]"
      ]
     },
     "metadata": {},
     "output_type": "display_data"
    },
    {
     "name": "stdout",
     "output_type": "stream",
     "text": [
      "0.2128463402772561 tensor(0.5765, device='cuda:0')\n"
     ]
    },
    {
     "data": {
      "application/vnd.jupyter.widget-view+json": {
       "model_id": "22e4db18fd354fa99b552d1a93c92bac",
       "version_major": 2,
       "version_minor": 0
      },
      "text/plain": [
       "  0%|          | 0/6 [00:00<?, ?it/s]"
      ]
     },
     "metadata": {},
     "output_type": "display_data"
    },
    {
     "name": "stdout",
     "output_type": "stream",
     "text": [
      "Epoch [4/20], Train Loss: 0.2128, Train Acc: 0.5765, Valid Loss: 0.6504,  Valid Acc: 0.6686\n",
      "Model saved to final_model1_log.pt\n",
      "Best Validation:  tensor(0.6686, device='cuda:0')\n"
     ]
    },
    {
     "data": {
      "application/vnd.jupyter.widget-view+json": {
       "model_id": "4d5cb6bc14c34de2a8582f489dd09974",
       "version_major": 2,
       "version_minor": 0
      },
      "text/plain": [
       "  0%|          | 0/39 [00:00<?, ?it/s]"
      ]
     },
     "metadata": {},
     "output_type": "display_data"
    },
    {
     "data": {
      "application/vnd.jupyter.widget-view+json": {
       "model_id": "77e3de5bb51b4752a39c9aba558cd917",
       "version_major": 2,
       "version_minor": 0
      },
      "text/plain": [
       "  0%|          | 0/39 [00:00<?, ?it/s]"
      ]
     },
     "metadata": {},
     "output_type": "display_data"
    },
    {
     "data": {
      "application/vnd.jupyter.widget-view+json": {
       "model_id": "d847cd52791f486e9ad2d5488709d8a1",
       "version_major": 2,
       "version_minor": 0
      },
      "text/plain": [
       "  0%|          | 0/6 [00:00<?, ?it/s]"
      ]
     },
     "metadata": {},
     "output_type": "display_data"
    },
    {
     "data": {
      "application/vnd.jupyter.widget-view+json": {
       "model_id": "261a12c5ddbd44049e95d0ae305ebc5a",
       "version_major": 2,
       "version_minor": 0
      },
      "text/plain": [
       "  0%|          | 0/39 [00:00<?, ?it/s]"
      ]
     },
     "metadata": {},
     "output_type": "display_data"
    },
    {
     "data": {
      "application/vnd.jupyter.widget-view+json": {
       "model_id": "c12b1e030a3842ff88835cc79794b4d1",
       "version_major": 2,
       "version_minor": 0
      },
      "text/plain": [
       "  0%|          | 0/6 [00:00<?, ?it/s]"
      ]
     },
     "metadata": {},
     "output_type": "display_data"
    },
    {
     "data": {
      "application/vnd.jupyter.widget-view+json": {
       "model_id": "350e5f86f9464e26b0a212e5955a7aa2",
       "version_major": 2,
       "version_minor": 0
      },
      "text/plain": [
       "  0%|          | 0/39 [00:00<?, ?it/s]"
      ]
     },
     "metadata": {},
     "output_type": "display_data"
    },
    {
     "data": {
      "application/vnd.jupyter.widget-view+json": {
       "model_id": "a01c14d2b9d24251a32403baa1722dd1",
       "version_major": 2,
       "version_minor": 0
      },
      "text/plain": [
       "  0%|          | 0/6 [00:00<?, ?it/s]"
      ]
     },
     "metadata": {},
     "output_type": "display_data"
    },
    {
     "data": {
      "application/vnd.jupyter.widget-view+json": {
       "model_id": "7b846a1cf7e64210a5c12b0541f8539b",
       "version_major": 2,
       "version_minor": 0
      },
      "text/plain": [
       "  0%|          | 0/39 [00:00<?, ?it/s]"
      ]
     },
     "metadata": {},
     "output_type": "display_data"
    },
    {
     "data": {
      "application/vnd.jupyter.widget-view+json": {
       "model_id": "58ca142902b74322aa67f2737ca623e9",
       "version_major": 2,
       "version_minor": 0
      },
      "text/plain": [
       "  0%|          | 0/6 [00:00<?, ?it/s]"
      ]
     },
     "metadata": {},
     "output_type": "display_data"
    },
    {
     "name": "stdout",
     "output_type": "stream",
     "text": [
      "0.19188095820255768 tensor(0.5965, device='cuda:0')\n"
     ]
    },
    {
     "data": {
      "application/vnd.jupyter.widget-view+json": {
       "model_id": "89b04c4b443d42ff9868f11fa88dd4df",
       "version_major": 2,
       "version_minor": 0
      },
      "text/plain": [
       "  0%|          | 0/6 [00:00<?, ?it/s]"
      ]
     },
     "metadata": {},
     "output_type": "display_data"
    },
    {
     "name": "stdout",
     "output_type": "stream",
     "text": [
      "Epoch [5/20], Train Loss: 0.1919, Train Acc: 0.5965, Valid Loss: 0.6134,  Valid Acc: 0.6614\n",
      "Best Validation:  tensor(0.6686, device='cuda:0')\n"
     ]
    },
    {
     "data": {
      "application/vnd.jupyter.widget-view+json": {
       "model_id": "2bb6dc63a0204bb88cfc41f47bbe288d",
       "version_major": 2,
       "version_minor": 0
      },
      "text/plain": [
       "  0%|          | 0/39 [00:00<?, ?it/s]"
      ]
     },
     "metadata": {},
     "output_type": "display_data"
    },
    {
     "data": {
      "application/vnd.jupyter.widget-view+json": {
       "model_id": "99318ae180cf48b482ccf1d10f331901",
       "version_major": 2,
       "version_minor": 0
      },
      "text/plain": [
       "  0%|          | 0/39 [00:00<?, ?it/s]"
      ]
     },
     "metadata": {},
     "output_type": "display_data"
    },
    {
     "data": {
      "application/vnd.jupyter.widget-view+json": {
       "model_id": "24525f002e5745a3ba4a9a49ac5bfa6c",
       "version_major": 2,
       "version_minor": 0
      },
      "text/plain": [
       "  0%|          | 0/6 [00:00<?, ?it/s]"
      ]
     },
     "metadata": {},
     "output_type": "display_data"
    },
    {
     "data": {
      "application/vnd.jupyter.widget-view+json": {
       "model_id": "d6cffa24680849efab82e9685ddcf2a7",
       "version_major": 2,
       "version_minor": 0
      },
      "text/plain": [
       "  0%|          | 0/39 [00:00<?, ?it/s]"
      ]
     },
     "metadata": {},
     "output_type": "display_data"
    },
    {
     "data": {
      "application/vnd.jupyter.widget-view+json": {
       "model_id": "8c3b1747a34042c0838753d090c85491",
       "version_major": 2,
       "version_minor": 0
      },
      "text/plain": [
       "  0%|          | 0/6 [00:00<?, ?it/s]"
      ]
     },
     "metadata": {},
     "output_type": "display_data"
    },
    {
     "data": {
      "application/vnd.jupyter.widget-view+json": {
       "model_id": "9552551b7f2e4afc94a6f06c9074985d",
       "version_major": 2,
       "version_minor": 0
      },
      "text/plain": [
       "  0%|          | 0/39 [00:00<?, ?it/s]"
      ]
     },
     "metadata": {},
     "output_type": "display_data"
    },
    {
     "data": {
      "application/vnd.jupyter.widget-view+json": {
       "model_id": "ddb37162df6c42479a8f4c59274cc728",
       "version_major": 2,
       "version_minor": 0
      },
      "text/plain": [
       "  0%|          | 0/6 [00:00<?, ?it/s]"
      ]
     },
     "metadata": {},
     "output_type": "display_data"
    },
    {
     "data": {
      "application/vnd.jupyter.widget-view+json": {
       "model_id": "a7fab65973634ee5a0b83cf62b8f13f2",
       "version_major": 2,
       "version_minor": 0
      },
      "text/plain": [
       "  0%|          | 0/39 [00:00<?, ?it/s]"
      ]
     },
     "metadata": {},
     "output_type": "display_data"
    },
    {
     "data": {
      "application/vnd.jupyter.widget-view+json": {
       "model_id": "54521752de7a4d7285890af2194f3582",
       "version_major": 2,
       "version_minor": 0
      },
      "text/plain": [
       "  0%|          | 0/6 [00:00<?, ?it/s]"
      ]
     },
     "metadata": {},
     "output_type": "display_data"
    },
    {
     "name": "stdout",
     "output_type": "stream",
     "text": [
      "0.1680007943740258 tensor(0.6320, device='cuda:0')\n"
     ]
    },
    {
     "data": {
      "application/vnd.jupyter.widget-view+json": {
       "model_id": "70fd61cd7bfd41cba3397b52d497b3b0",
       "version_major": 2,
       "version_minor": 0
      },
      "text/plain": [
       "  0%|          | 0/6 [00:00<?, ?it/s]"
      ]
     },
     "metadata": {},
     "output_type": "display_data"
    },
    {
     "name": "stdout",
     "output_type": "stream",
     "text": [
      "Epoch [6/20], Train Loss: 0.1680, Train Acc: 0.6320, Valid Loss: 0.6966,  Valid Acc: 0.6114\n",
      "Best Validation:  tensor(0.6686, device='cuda:0')\n"
     ]
    },
    {
     "data": {
      "application/vnd.jupyter.widget-view+json": {
       "model_id": "91d19274612049c79bb37ce0f58c5625",
       "version_major": 2,
       "version_minor": 0
      },
      "text/plain": [
       "  0%|          | 0/39 [00:00<?, ?it/s]"
      ]
     },
     "metadata": {},
     "output_type": "display_data"
    },
    {
     "data": {
      "application/vnd.jupyter.widget-view+json": {
       "model_id": "8d69cc5500a248f8bd9ad25cd09bbf7c",
       "version_major": 2,
       "version_minor": 0
      },
      "text/plain": [
       "  0%|          | 0/39 [00:00<?, ?it/s]"
      ]
     },
     "metadata": {},
     "output_type": "display_data"
    },
    {
     "data": {
      "application/vnd.jupyter.widget-view+json": {
       "model_id": "4d76ff83667542908c1430c42f2f74ff",
       "version_major": 2,
       "version_minor": 0
      },
      "text/plain": [
       "  0%|          | 0/6 [00:00<?, ?it/s]"
      ]
     },
     "metadata": {},
     "output_type": "display_data"
    },
    {
     "data": {
      "application/vnd.jupyter.widget-view+json": {
       "model_id": "96ed5de4d4fb4b2f895e4fde6fee4651",
       "version_major": 2,
       "version_minor": 0
      },
      "text/plain": [
       "  0%|          | 0/39 [00:00<?, ?it/s]"
      ]
     },
     "metadata": {},
     "output_type": "display_data"
    },
    {
     "data": {
      "application/vnd.jupyter.widget-view+json": {
       "model_id": "5d385dd6c1474112b242061d4cc87562",
       "version_major": 2,
       "version_minor": 0
      },
      "text/plain": [
       "  0%|          | 0/6 [00:00<?, ?it/s]"
      ]
     },
     "metadata": {},
     "output_type": "display_data"
    },
    {
     "data": {
      "application/vnd.jupyter.widget-view+json": {
       "model_id": "d05e963cd6f0431e8cf818c950766882",
       "version_major": 2,
       "version_minor": 0
      },
      "text/plain": [
       "  0%|          | 0/39 [00:00<?, ?it/s]"
      ]
     },
     "metadata": {},
     "output_type": "display_data"
    },
    {
     "data": {
      "application/vnd.jupyter.widget-view+json": {
       "model_id": "dadde7f0b8714e19a4b70a07510c1d15",
       "version_major": 2,
       "version_minor": 0
      },
      "text/plain": [
       "  0%|          | 0/6 [00:00<?, ?it/s]"
      ]
     },
     "metadata": {},
     "output_type": "display_data"
    },
    {
     "data": {
      "application/vnd.jupyter.widget-view+json": {
       "model_id": "5cc34c0426ce48eebb4bb2af6b9ec94b",
       "version_major": 2,
       "version_minor": 0
      },
      "text/plain": [
       "  0%|          | 0/39 [00:00<?, ?it/s]"
      ]
     },
     "metadata": {},
     "output_type": "display_data"
    },
    {
     "data": {
      "application/vnd.jupyter.widget-view+json": {
       "model_id": "3d2581d5635f48ab9c6136c62da85842",
       "version_major": 2,
       "version_minor": 0
      },
      "text/plain": [
       "  0%|          | 0/6 [00:00<?, ?it/s]"
      ]
     },
     "metadata": {},
     "output_type": "display_data"
    },
    {
     "name": "stdout",
     "output_type": "stream",
     "text": [
      "0.14296000278913057 tensor(0.6208, device='cuda:0')\n"
     ]
    },
    {
     "data": {
      "application/vnd.jupyter.widget-view+json": {
       "model_id": "169c7fe30dd54f7eb5a30636a22c0c20",
       "version_major": 2,
       "version_minor": 0
      },
      "text/plain": [
       "  0%|          | 0/6 [00:00<?, ?it/s]"
      ]
     },
     "metadata": {},
     "output_type": "display_data"
    },
    {
     "name": "stdout",
     "output_type": "stream",
     "text": [
      "Epoch [7/20], Train Loss: 0.1430, Train Acc: 0.6208, Valid Loss: 0.5849,  Valid Acc: 0.7071\n",
      "Model saved to final_model1_log.pt\n",
      "Best Validation:  tensor(0.7071, device='cuda:0')\n"
     ]
    },
    {
     "data": {
      "application/vnd.jupyter.widget-view+json": {
       "model_id": "cbcc54678a914770bae0336d1779d71c",
       "version_major": 2,
       "version_minor": 0
      },
      "text/plain": [
       "  0%|          | 0/39 [00:00<?, ?it/s]"
      ]
     },
     "metadata": {},
     "output_type": "display_data"
    },
    {
     "data": {
      "application/vnd.jupyter.widget-view+json": {
       "model_id": "2d7ff01b84da45f098d52883b79d18b9",
       "version_major": 2,
       "version_minor": 0
      },
      "text/plain": [
       "  0%|          | 0/39 [00:00<?, ?it/s]"
      ]
     },
     "metadata": {},
     "output_type": "display_data"
    },
    {
     "data": {
      "application/vnd.jupyter.widget-view+json": {
       "model_id": "2065344cabd44449bae8ed9c2fce3a01",
       "version_major": 2,
       "version_minor": 0
      },
      "text/plain": [
       "  0%|          | 0/6 [00:00<?, ?it/s]"
      ]
     },
     "metadata": {},
     "output_type": "display_data"
    },
    {
     "data": {
      "application/vnd.jupyter.widget-view+json": {
       "model_id": "7c0c693fe9514ed586168472fa6831fa",
       "version_major": 2,
       "version_minor": 0
      },
      "text/plain": [
       "  0%|          | 0/39 [00:00<?, ?it/s]"
      ]
     },
     "metadata": {},
     "output_type": "display_data"
    },
    {
     "data": {
      "application/vnd.jupyter.widget-view+json": {
       "model_id": "319cc5df34bf4d4cbbb8a1d7b410451e",
       "version_major": 2,
       "version_minor": 0
      },
      "text/plain": [
       "  0%|          | 0/6 [00:00<?, ?it/s]"
      ]
     },
     "metadata": {},
     "output_type": "display_data"
    },
    {
     "data": {
      "application/vnd.jupyter.widget-view+json": {
       "model_id": "b248c193e98748dbbd78f2a9f21723e6",
       "version_major": 2,
       "version_minor": 0
      },
      "text/plain": [
       "  0%|          | 0/39 [00:00<?, ?it/s]"
      ]
     },
     "metadata": {},
     "output_type": "display_data"
    },
    {
     "data": {
      "application/vnd.jupyter.widget-view+json": {
       "model_id": "8d5375ecd558487787b2e87ad9973990",
       "version_major": 2,
       "version_minor": 0
      },
      "text/plain": [
       "  0%|          | 0/6 [00:00<?, ?it/s]"
      ]
     },
     "metadata": {},
     "output_type": "display_data"
    },
    {
     "data": {
      "application/vnd.jupyter.widget-view+json": {
       "model_id": "de3e32659fde4f5e8b6a7f70634fb037",
       "version_major": 2,
       "version_minor": 0
      },
      "text/plain": [
       "  0%|          | 0/39 [00:00<?, ?it/s]"
      ]
     },
     "metadata": {},
     "output_type": "display_data"
    },
    {
     "data": {
      "application/vnd.jupyter.widget-view+json": {
       "model_id": "4eb19df093fb428bba5862bef8c7d147",
       "version_major": 2,
       "version_minor": 0
      },
      "text/plain": [
       "  0%|          | 0/6 [00:00<?, ?it/s]"
      ]
     },
     "metadata": {},
     "output_type": "display_data"
    },
    {
     "name": "stdout",
     "output_type": "stream",
     "text": [
      "0.12388960596842644 tensor(0.6641, device='cuda:0')\n"
     ]
    },
    {
     "data": {
      "application/vnd.jupyter.widget-view+json": {
       "model_id": "3d880d7e7d6844b7b61ed77e53b46ec2",
       "version_major": 2,
       "version_minor": 0
      },
      "text/plain": [
       "  0%|          | 0/6 [00:00<?, ?it/s]"
      ]
     },
     "metadata": {},
     "output_type": "display_data"
    },
    {
     "name": "stdout",
     "output_type": "stream",
     "text": [
      "Epoch [8/20], Train Loss: 0.1239, Train Acc: 0.6641, Valid Loss: 0.5523,  Valid Acc: 0.7143\n",
      "Model saved to final_model1_log.pt\n",
      "Best Validation:  tensor(0.7143, device='cuda:0')\n"
     ]
    },
    {
     "data": {
      "application/vnd.jupyter.widget-view+json": {
       "model_id": "dd9ad53b600a432388610924852da811",
       "version_major": 2,
       "version_minor": 0
      },
      "text/plain": [
       "  0%|          | 0/39 [00:00<?, ?it/s]"
      ]
     },
     "metadata": {},
     "output_type": "display_data"
    },
    {
     "data": {
      "application/vnd.jupyter.widget-view+json": {
       "model_id": "7081f1798df2464e8e1026f9eb9210c6",
       "version_major": 2,
       "version_minor": 0
      },
      "text/plain": [
       "  0%|          | 0/39 [00:00<?, ?it/s]"
      ]
     },
     "metadata": {},
     "output_type": "display_data"
    },
    {
     "data": {
      "application/vnd.jupyter.widget-view+json": {
       "model_id": "d2a2b665e1c64de2aeb2c2b5ed4f2445",
       "version_major": 2,
       "version_minor": 0
      },
      "text/plain": [
       "  0%|          | 0/6 [00:00<?, ?it/s]"
      ]
     },
     "metadata": {},
     "output_type": "display_data"
    },
    {
     "data": {
      "application/vnd.jupyter.widget-view+json": {
       "model_id": "70b7ef843f274820962251a96380d680",
       "version_major": 2,
       "version_minor": 0
      },
      "text/plain": [
       "  0%|          | 0/39 [00:00<?, ?it/s]"
      ]
     },
     "metadata": {},
     "output_type": "display_data"
    },
    {
     "data": {
      "application/vnd.jupyter.widget-view+json": {
       "model_id": "8aae4b019c194bb4ad37d131cc2fe2b7",
       "version_major": 2,
       "version_minor": 0
      },
      "text/plain": [
       "  0%|          | 0/6 [00:00<?, ?it/s]"
      ]
     },
     "metadata": {},
     "output_type": "display_data"
    },
    {
     "data": {
      "application/vnd.jupyter.widget-view+json": {
       "model_id": "238e0b918da0413fa2e885cbb5bc33ca",
       "version_major": 2,
       "version_minor": 0
      },
      "text/plain": [
       "  0%|          | 0/39 [00:00<?, ?it/s]"
      ]
     },
     "metadata": {},
     "output_type": "display_data"
    },
    {
     "data": {
      "application/vnd.jupyter.widget-view+json": {
       "model_id": "52f10582296540d09bd9f24c0e8d981f",
       "version_major": 2,
       "version_minor": 0
      },
      "text/plain": [
       "  0%|          | 0/6 [00:00<?, ?it/s]"
      ]
     },
     "metadata": {},
     "output_type": "display_data"
    },
    {
     "data": {
      "application/vnd.jupyter.widget-view+json": {
       "model_id": "020d5534a8494d4aacb11bf4b29c6d3f",
       "version_major": 2,
       "version_minor": 0
      },
      "text/plain": [
       "  0%|          | 0/39 [00:00<?, ?it/s]"
      ]
     },
     "metadata": {},
     "output_type": "display_data"
    },
    {
     "data": {
      "application/vnd.jupyter.widget-view+json": {
       "model_id": "1b50b73682eb418a82868be08d88b64e",
       "version_major": 2,
       "version_minor": 0
      },
      "text/plain": [
       "  0%|          | 0/6 [00:00<?, ?it/s]"
      ]
     },
     "metadata": {},
     "output_type": "display_data"
    },
    {
     "name": "stdout",
     "output_type": "stream",
     "text": [
      "0.11233582939857091 tensor(0.7008, device='cuda:0')\n"
     ]
    },
    {
     "data": {
      "application/vnd.jupyter.widget-view+json": {
       "model_id": "d85069d8fa1648209af219a7c6bf8289",
       "version_major": 2,
       "version_minor": 0
      },
      "text/plain": [
       "  0%|          | 0/6 [00:00<?, ?it/s]"
      ]
     },
     "metadata": {},
     "output_type": "display_data"
    },
    {
     "name": "stdout",
     "output_type": "stream",
     "text": [
      "Epoch [9/20], Train Loss: 0.1123, Train Acc: 0.7008, Valid Loss: 0.5060,  Valid Acc: 0.7443\n",
      "Model saved to final_model1_log.pt\n",
      "Best Validation:  tensor(0.7443, device='cuda:0')\n"
     ]
    },
    {
     "data": {
      "application/vnd.jupyter.widget-view+json": {
       "model_id": "a968ff1cef8a438abafd31982be5d683",
       "version_major": 2,
       "version_minor": 0
      },
      "text/plain": [
       "  0%|          | 0/39 [00:00<?, ?it/s]"
      ]
     },
     "metadata": {},
     "output_type": "display_data"
    },
    {
     "data": {
      "application/vnd.jupyter.widget-view+json": {
       "model_id": "bc9503edd9f14cb584b3c50ea3921ef7",
       "version_major": 2,
       "version_minor": 0
      },
      "text/plain": [
       "  0%|          | 0/39 [00:00<?, ?it/s]"
      ]
     },
     "metadata": {},
     "output_type": "display_data"
    },
    {
     "data": {
      "application/vnd.jupyter.widget-view+json": {
       "model_id": "1bc4e4d5dea349498a51540aa76e2f30",
       "version_major": 2,
       "version_minor": 0
      },
      "text/plain": [
       "  0%|          | 0/6 [00:00<?, ?it/s]"
      ]
     },
     "metadata": {},
     "output_type": "display_data"
    },
    {
     "data": {
      "application/vnd.jupyter.widget-view+json": {
       "model_id": "6078015a230a49c9b5c51ef655722424",
       "version_major": 2,
       "version_minor": 0
      },
      "text/plain": [
       "  0%|          | 0/39 [00:00<?, ?it/s]"
      ]
     },
     "metadata": {},
     "output_type": "display_data"
    },
    {
     "data": {
      "application/vnd.jupyter.widget-view+json": {
       "model_id": "c107c9b1b8df4000ba8c5d7312c96e3c",
       "version_major": 2,
       "version_minor": 0
      },
      "text/plain": [
       "  0%|          | 0/6 [00:00<?, ?it/s]"
      ]
     },
     "metadata": {},
     "output_type": "display_data"
    },
    {
     "data": {
      "application/vnd.jupyter.widget-view+json": {
       "model_id": "fc367273fced401ea5b78d0b85d8752a",
       "version_major": 2,
       "version_minor": 0
      },
      "text/plain": [
       "  0%|          | 0/39 [00:00<?, ?it/s]"
      ]
     },
     "metadata": {},
     "output_type": "display_data"
    },
    {
     "data": {
      "application/vnd.jupyter.widget-view+json": {
       "model_id": "87aa85a159c84d9c8713c8871cafedc1",
       "version_major": 2,
       "version_minor": 0
      },
      "text/plain": [
       "  0%|          | 0/6 [00:00<?, ?it/s]"
      ]
     },
     "metadata": {},
     "output_type": "display_data"
    },
    {
     "data": {
      "application/vnd.jupyter.widget-view+json": {
       "model_id": "30bc6de26c46438d8ab46ed179c54559",
       "version_major": 2,
       "version_minor": 0
      },
      "text/plain": [
       "  0%|          | 0/39 [00:00<?, ?it/s]"
      ]
     },
     "metadata": {},
     "output_type": "display_data"
    },
    {
     "data": {
      "application/vnd.jupyter.widget-view+json": {
       "model_id": "8615dcfa157f4056b6e612ad8544bd70",
       "version_major": 2,
       "version_minor": 0
      },
      "text/plain": [
       "  0%|          | 0/6 [00:00<?, ?it/s]"
      ]
     },
     "metadata": {},
     "output_type": "display_data"
    },
    {
     "name": "stdout",
     "output_type": "stream",
     "text": [
      "0.1014610842252389 tensor(0.7255, device='cuda:0')\n"
     ]
    },
    {
     "data": {
      "application/vnd.jupyter.widget-view+json": {
       "model_id": "2a27c026ce8b457da24d778298b17750",
       "version_major": 2,
       "version_minor": 0
      },
      "text/plain": [
       "  0%|          | 0/6 [00:00<?, ?it/s]"
      ]
     },
     "metadata": {},
     "output_type": "display_data"
    },
    {
     "name": "stdout",
     "output_type": "stream",
     "text": [
      "Epoch [10/20], Train Loss: 0.1015, Train Acc: 0.7255, Valid Loss: 0.5327,  Valid Acc: 0.7171\n",
      "Best Validation:  tensor(0.7443, device='cuda:0')\n"
     ]
    },
    {
     "data": {
      "application/vnd.jupyter.widget-view+json": {
       "model_id": "3f60506f9b77433bbd32be711a167c44",
       "version_major": 2,
       "version_minor": 0
      },
      "text/plain": [
       "  0%|          | 0/39 [00:00<?, ?it/s]"
      ]
     },
     "metadata": {},
     "output_type": "display_data"
    },
    {
     "data": {
      "application/vnd.jupyter.widget-view+json": {
       "model_id": "a1044b044a6d4aec9720fcee4686ca86",
       "version_major": 2,
       "version_minor": 0
      },
      "text/plain": [
       "  0%|          | 0/39 [00:00<?, ?it/s]"
      ]
     },
     "metadata": {},
     "output_type": "display_data"
    },
    {
     "data": {
      "application/vnd.jupyter.widget-view+json": {
       "model_id": "ce32d3ebec8c48629c4141636e6d47aa",
       "version_major": 2,
       "version_minor": 0
      },
      "text/plain": [
       "  0%|          | 0/6 [00:00<?, ?it/s]"
      ]
     },
     "metadata": {},
     "output_type": "display_data"
    },
    {
     "data": {
      "application/vnd.jupyter.widget-view+json": {
       "model_id": "6e5cf78c1c17420e85cc28364ed12a5d",
       "version_major": 2,
       "version_minor": 0
      },
      "text/plain": [
       "  0%|          | 0/39 [00:00<?, ?it/s]"
      ]
     },
     "metadata": {},
     "output_type": "display_data"
    },
    {
     "data": {
      "application/vnd.jupyter.widget-view+json": {
       "model_id": "b21dfd1efc2d48f08c64423e0c7945a1",
       "version_major": 2,
       "version_minor": 0
      },
      "text/plain": [
       "  0%|          | 0/6 [00:00<?, ?it/s]"
      ]
     },
     "metadata": {},
     "output_type": "display_data"
    },
    {
     "data": {
      "application/vnd.jupyter.widget-view+json": {
       "model_id": "ef2908d8fc86443e86bb13327b3abe33",
       "version_major": 2,
       "version_minor": 0
      },
      "text/plain": [
       "  0%|          | 0/39 [00:00<?, ?it/s]"
      ]
     },
     "metadata": {},
     "output_type": "display_data"
    },
    {
     "data": {
      "application/vnd.jupyter.widget-view+json": {
       "model_id": "48eb6342eb5747c88ba34ae4f6d287ca",
       "version_major": 2,
       "version_minor": 0
      },
      "text/plain": [
       "  0%|          | 0/6 [00:00<?, ?it/s]"
      ]
     },
     "metadata": {},
     "output_type": "display_data"
    },
    {
     "name": "stdout",
     "output_type": "stream",
     "text": [
      "0.19356887768476438 tensor(0.7347, device='cuda:0')\n"
     ]
    },
    {
     "data": {
      "application/vnd.jupyter.widget-view+json": {
       "model_id": "255ee2e6f95e41a2aed8af51778c6de4",
       "version_major": 2,
       "version_minor": 0
      },
      "text/plain": [
       "  0%|          | 0/6 [00:00<?, ?it/s]"
      ]
     },
     "metadata": {},
     "output_type": "display_data"
    },
    {
     "name": "stdout",
     "output_type": "stream",
     "text": [
      "Epoch [11/20], Train Loss: 0.1936, Train Acc: 0.7347, Valid Loss: 0.5156,  Valid Acc: 0.7371\n",
      "Best Validation:  tensor(0.7443, device='cuda:0')\n"
     ]
    },
    {
     "data": {
      "application/vnd.jupyter.widget-view+json": {
       "model_id": "c5fe46f669884b21aa486d1706468eaa",
       "version_major": 2,
       "version_minor": 0
      },
      "text/plain": [
       "  0%|          | 0/39 [00:00<?, ?it/s]"
      ]
     },
     "metadata": {},
     "output_type": "display_data"
    },
    {
     "data": {
      "application/vnd.jupyter.widget-view+json": {
       "model_id": "192c647f121d46aca97e153b2bb816e5",
       "version_major": 2,
       "version_minor": 0
      },
      "text/plain": [
       "  0%|          | 0/39 [00:00<?, ?it/s]"
      ]
     },
     "metadata": {},
     "output_type": "display_data"
    },
    {
     "data": {
      "application/vnd.jupyter.widget-view+json": {
       "model_id": "a4cc0db75cbe4933992155d9b710d4de",
       "version_major": 2,
       "version_minor": 0
      },
      "text/plain": [
       "  0%|          | 0/6 [00:00<?, ?it/s]"
      ]
     },
     "metadata": {},
     "output_type": "display_data"
    },
    {
     "data": {
      "application/vnd.jupyter.widget-view+json": {
       "model_id": "205823f3457945c3b77be99ea837b881",
       "version_major": 2,
       "version_minor": 0
      },
      "text/plain": [
       "  0%|          | 0/39 [00:00<?, ?it/s]"
      ]
     },
     "metadata": {},
     "output_type": "display_data"
    },
    {
     "data": {
      "application/vnd.jupyter.widget-view+json": {
       "model_id": "37a5f3a49f1d4aad965e49015a01d13a",
       "version_major": 2,
       "version_minor": 0
      },
      "text/plain": [
       "  0%|          | 0/6 [00:00<?, ?it/s]"
      ]
     },
     "metadata": {},
     "output_type": "display_data"
    },
    {
     "data": {
      "application/vnd.jupyter.widget-view+json": {
       "model_id": "582c406658f441b18d48357abb22ee79",
       "version_major": 2,
       "version_minor": 0
      },
      "text/plain": [
       "  0%|          | 0/39 [00:00<?, ?it/s]"
      ]
     },
     "metadata": {},
     "output_type": "display_data"
    },
    {
     "data": {
      "application/vnd.jupyter.widget-view+json": {
       "model_id": "057b62fede214980a4d9a168cf856052",
       "version_major": 2,
       "version_minor": 0
      },
      "text/plain": [
       "  0%|          | 0/6 [00:00<?, ?it/s]"
      ]
     },
     "metadata": {},
     "output_type": "display_data"
    },
    {
     "data": {
      "application/vnd.jupyter.widget-view+json": {
       "model_id": "c206442a519f41ffbec90196a0580eec",
       "version_major": 2,
       "version_minor": 0
      },
      "text/plain": [
       "  0%|          | 0/39 [00:00<?, ?it/s]"
      ]
     },
     "metadata": {},
     "output_type": "display_data"
    },
    {
     "data": {
      "application/vnd.jupyter.widget-view+json": {
       "model_id": "09bc6d3e75504e2c895a39abe32e68f2",
       "version_major": 2,
       "version_minor": 0
      },
      "text/plain": [
       "  0%|          | 0/6 [00:00<?, ?it/s]"
      ]
     },
     "metadata": {},
     "output_type": "display_data"
    },
    {
     "name": "stdout",
     "output_type": "stream",
     "text": [
      "0.18108987578978905 tensor(0.7449, device='cuda:0')\n"
     ]
    },
    {
     "data": {
      "application/vnd.jupyter.widget-view+json": {
       "model_id": "4cd5e21426f143e28e74d4dba9dab36e",
       "version_major": 2,
       "version_minor": 0
      },
      "text/plain": [
       "  0%|          | 0/6 [00:00<?, ?it/s]"
      ]
     },
     "metadata": {},
     "output_type": "display_data"
    },
    {
     "name": "stdout",
     "output_type": "stream",
     "text": [
      "Epoch [12/20], Train Loss: 0.1811, Train Acc: 0.7449, Valid Loss: 0.4844,  Valid Acc: 0.7429\n",
      "Best Validation:  tensor(0.7443, device='cuda:0')\n"
     ]
    },
    {
     "data": {
      "application/vnd.jupyter.widget-view+json": {
       "model_id": "5ea2028cc98641389ff6fed68b450614",
       "version_major": 2,
       "version_minor": 0
      },
      "text/plain": [
       "  0%|          | 0/39 [00:00<?, ?it/s]"
      ]
     },
     "metadata": {},
     "output_type": "display_data"
    },
    {
     "data": {
      "application/vnd.jupyter.widget-view+json": {
       "model_id": "d64356c68b2046a5b91d9873d928135d",
       "version_major": 2,
       "version_minor": 0
      },
      "text/plain": [
       "  0%|          | 0/39 [00:00<?, ?it/s]"
      ]
     },
     "metadata": {},
     "output_type": "display_data"
    },
    {
     "data": {
      "application/vnd.jupyter.widget-view+json": {
       "model_id": "c3739eb2b1d54c0c828c1369a86ae055",
       "version_major": 2,
       "version_minor": 0
      },
      "text/plain": [
       "  0%|          | 0/6 [00:00<?, ?it/s]"
      ]
     },
     "metadata": {},
     "output_type": "display_data"
    },
    {
     "data": {
      "application/vnd.jupyter.widget-view+json": {
       "model_id": "ab3d74cb0c46464fba811a4f0a851897",
       "version_major": 2,
       "version_minor": 0
      },
      "text/plain": [
       "  0%|          | 0/39 [00:00<?, ?it/s]"
      ]
     },
     "metadata": {},
     "output_type": "display_data"
    },
    {
     "data": {
      "application/vnd.jupyter.widget-view+json": {
       "model_id": "b40a4b28667e4b6391d88824b48d9e1f",
       "version_major": 2,
       "version_minor": 0
      },
      "text/plain": [
       "  0%|          | 0/6 [00:00<?, ?it/s]"
      ]
     },
     "metadata": {},
     "output_type": "display_data"
    },
    {
     "data": {
      "application/vnd.jupyter.widget-view+json": {
       "model_id": "f5de7ef6c9704b4fbca15d56a5f2eef5",
       "version_major": 2,
       "version_minor": 0
      },
      "text/plain": [
       "  0%|          | 0/39 [00:00<?, ?it/s]"
      ]
     },
     "metadata": {},
     "output_type": "display_data"
    },
    {
     "data": {
      "application/vnd.jupyter.widget-view+json": {
       "model_id": "1b1752bf38c14b1bab34702466a99b00",
       "version_major": 2,
       "version_minor": 0
      },
      "text/plain": [
       "  0%|          | 0/6 [00:00<?, ?it/s]"
      ]
     },
     "metadata": {},
     "output_type": "display_data"
    },
    {
     "data": {
      "application/vnd.jupyter.widget-view+json": {
       "model_id": "b2787320a2de4e129f1bc33a313c1b1b",
       "version_major": 2,
       "version_minor": 0
      },
      "text/plain": [
       "  0%|          | 0/39 [00:00<?, ?it/s]"
      ]
     },
     "metadata": {},
     "output_type": "display_data"
    },
    {
     "data": {
      "application/vnd.jupyter.widget-view+json": {
       "model_id": "c179c8d548e64a94928aff12ac755222",
       "version_major": 2,
       "version_minor": 0
      },
      "text/plain": [
       "  0%|          | 0/6 [00:00<?, ?it/s]"
      ]
     },
     "metadata": {},
     "output_type": "display_data"
    },
    {
     "name": "stdout",
     "output_type": "stream",
     "text": [
      "0.16256933028881365 tensor(0.7545, device='cuda:0')\n"
     ]
    },
    {
     "data": {
      "application/vnd.jupyter.widget-view+json": {
       "model_id": "a7e07f659e954011ba074c89c9e5c1c0",
       "version_major": 2,
       "version_minor": 0
      },
      "text/plain": [
       "  0%|          | 0/6 [00:00<?, ?it/s]"
      ]
     },
     "metadata": {},
     "output_type": "display_data"
    },
    {
     "name": "stdout",
     "output_type": "stream",
     "text": [
      "Epoch [13/20], Train Loss: 0.1626, Train Acc: 0.7545, Valid Loss: 0.4967,  Valid Acc: 0.7629\n",
      "Model saved to final_model1_log.pt\n",
      "Best Validation:  tensor(0.7629, device='cuda:0')\n"
     ]
    },
    {
     "data": {
      "application/vnd.jupyter.widget-view+json": {
       "model_id": "61909a01caf2409cbcf8122f5e2d3e4c",
       "version_major": 2,
       "version_minor": 0
      },
      "text/plain": [
       "  0%|          | 0/39 [00:00<?, ?it/s]"
      ]
     },
     "metadata": {},
     "output_type": "display_data"
    },
    {
     "data": {
      "application/vnd.jupyter.widget-view+json": {
       "model_id": "a1259a69293d4203a8b97d5edcdfcbbf",
       "version_major": 2,
       "version_minor": 0
      },
      "text/plain": [
       "  0%|          | 0/39 [00:00<?, ?it/s]"
      ]
     },
     "metadata": {},
     "output_type": "display_data"
    },
    {
     "data": {
      "application/vnd.jupyter.widget-view+json": {
       "model_id": "97036d721ae84df5bdd78e933e656dbb",
       "version_major": 2,
       "version_minor": 0
      },
      "text/plain": [
       "  0%|          | 0/6 [00:00<?, ?it/s]"
      ]
     },
     "metadata": {},
     "output_type": "display_data"
    },
    {
     "data": {
      "application/vnd.jupyter.widget-view+json": {
       "model_id": "48506d51eac443318a57fb50d7df50db",
       "version_major": 2,
       "version_minor": 0
      },
      "text/plain": [
       "  0%|          | 0/39 [00:00<?, ?it/s]"
      ]
     },
     "metadata": {},
     "output_type": "display_data"
    },
    {
     "data": {
      "application/vnd.jupyter.widget-view+json": {
       "model_id": "777795288de54551aea961fd1cf08503",
       "version_major": 2,
       "version_minor": 0
      },
      "text/plain": [
       "  0%|          | 0/6 [00:00<?, ?it/s]"
      ]
     },
     "metadata": {},
     "output_type": "display_data"
    },
    {
     "data": {
      "application/vnd.jupyter.widget-view+json": {
       "model_id": "0cfdddea1ab544d7a5c331ae7e5d4452",
       "version_major": 2,
       "version_minor": 0
      },
      "text/plain": [
       "  0%|          | 0/39 [00:00<?, ?it/s]"
      ]
     },
     "metadata": {},
     "output_type": "display_data"
    },
    {
     "data": {
      "application/vnd.jupyter.widget-view+json": {
       "model_id": "f00238aa971c407b87a9d2a23880fa4f",
       "version_major": 2,
       "version_minor": 0
      },
      "text/plain": [
       "  0%|          | 0/6 [00:00<?, ?it/s]"
      ]
     },
     "metadata": {},
     "output_type": "display_data"
    },
    {
     "data": {
      "application/vnd.jupyter.widget-view+json": {
       "model_id": "9d2efb776ca541f084341cae87e177e3",
       "version_major": 2,
       "version_minor": 0
      },
      "text/plain": [
       "  0%|          | 0/39 [00:00<?, ?it/s]"
      ]
     },
     "metadata": {},
     "output_type": "display_data"
    },
    {
     "data": {
      "application/vnd.jupyter.widget-view+json": {
       "model_id": "6c88d84d04f347f9b26eddcf9938bc00",
       "version_major": 2,
       "version_minor": 0
      },
      "text/plain": [
       "  0%|          | 0/6 [00:00<?, ?it/s]"
      ]
     },
     "metadata": {},
     "output_type": "display_data"
    },
    {
     "name": "stdout",
     "output_type": "stream",
     "text": [
      "0.15427710154117683 tensor(0.7698, device='cuda:0')\n"
     ]
    },
    {
     "data": {
      "application/vnd.jupyter.widget-view+json": {
       "model_id": "30ebb3f047214fd4aa306bb1b23d718c",
       "version_major": 2,
       "version_minor": 0
      },
      "text/plain": [
       "  0%|          | 0/6 [00:00<?, ?it/s]"
      ]
     },
     "metadata": {},
     "output_type": "display_data"
    },
    {
     "name": "stdout",
     "output_type": "stream",
     "text": [
      "Epoch [14/20], Train Loss: 0.1543, Train Acc: 0.7698, Valid Loss: 0.4527,  Valid Acc: 0.7843\n",
      "Model saved to final_model1_log.pt\n",
      "Best Validation:  tensor(0.7843, device='cuda:0')\n"
     ]
    },
    {
     "data": {
      "application/vnd.jupyter.widget-view+json": {
       "model_id": "1997a437be5145d3a131e6482ca13cd3",
       "version_major": 2,
       "version_minor": 0
      },
      "text/plain": [
       "  0%|          | 0/39 [00:00<?, ?it/s]"
      ]
     },
     "metadata": {},
     "output_type": "display_data"
    },
    {
     "data": {
      "application/vnd.jupyter.widget-view+json": {
       "model_id": "19cacb76b5cd44b4885d7239f936381e",
       "version_major": 2,
       "version_minor": 0
      },
      "text/plain": [
       "  0%|          | 0/39 [00:00<?, ?it/s]"
      ]
     },
     "metadata": {},
     "output_type": "display_data"
    },
    {
     "data": {
      "application/vnd.jupyter.widget-view+json": {
       "model_id": "03a042a669eb40fc8ecb5ed9ee63888f",
       "version_major": 2,
       "version_minor": 0
      },
      "text/plain": [
       "  0%|          | 0/6 [00:00<?, ?it/s]"
      ]
     },
     "metadata": {},
     "output_type": "display_data"
    },
    {
     "data": {
      "application/vnd.jupyter.widget-view+json": {
       "model_id": "71d2db3e96a24d3ab05a1d426783909a",
       "version_major": 2,
       "version_minor": 0
      },
      "text/plain": [
       "  0%|          | 0/39 [00:00<?, ?it/s]"
      ]
     },
     "metadata": {},
     "output_type": "display_data"
    },
    {
     "data": {
      "application/vnd.jupyter.widget-view+json": {
       "model_id": "3279df4d73484f288c71adaf02a79f5f",
       "version_major": 2,
       "version_minor": 0
      },
      "text/plain": [
       "  0%|          | 0/6 [00:00<?, ?it/s]"
      ]
     },
     "metadata": {},
     "output_type": "display_data"
    },
    {
     "data": {
      "application/vnd.jupyter.widget-view+json": {
       "model_id": "647d07d59806419795e655e6d181d58d",
       "version_major": 2,
       "version_minor": 0
      },
      "text/plain": [
       "  0%|          | 0/39 [00:00<?, ?it/s]"
      ]
     },
     "metadata": {},
     "output_type": "display_data"
    },
    {
     "data": {
      "application/vnd.jupyter.widget-view+json": {
       "model_id": "1dd0a0571e494e259d296acdb1badef7",
       "version_major": 2,
       "version_minor": 0
      },
      "text/plain": [
       "  0%|          | 0/6 [00:00<?, ?it/s]"
      ]
     },
     "metadata": {},
     "output_type": "display_data"
    },
    {
     "data": {
      "application/vnd.jupyter.widget-view+json": {
       "model_id": "2991225ea12e4ca0be17482b5c709386",
       "version_major": 2,
       "version_minor": 0
      },
      "text/plain": [
       "  0%|          | 0/39 [00:00<?, ?it/s]"
      ]
     },
     "metadata": {},
     "output_type": "display_data"
    },
    {
     "data": {
      "application/vnd.jupyter.widget-view+json": {
       "model_id": "1e68fcd24bb841728b0ada14728dc1b7",
       "version_major": 2,
       "version_minor": 0
      },
      "text/plain": [
       "  0%|          | 0/6 [00:00<?, ?it/s]"
      ]
     },
     "metadata": {},
     "output_type": "display_data"
    },
    {
     "name": "stdout",
     "output_type": "stream",
     "text": [
      "0.12664517913109216 tensor(0.7716, device='cuda:0')\n"
     ]
    },
    {
     "data": {
      "application/vnd.jupyter.widget-view+json": {
       "model_id": "1b9e93ff4c324fdd8bf3d975bfa90e33",
       "version_major": 2,
       "version_minor": 0
      },
      "text/plain": [
       "  0%|          | 0/6 [00:00<?, ?it/s]"
      ]
     },
     "metadata": {},
     "output_type": "display_data"
    },
    {
     "name": "stdout",
     "output_type": "stream",
     "text": [
      "Epoch [15/20], Train Loss: 0.1266, Train Acc: 0.7716, Valid Loss: 0.4615,  Valid Acc: 0.7886\n",
      "Model saved to final_model1_log.pt\n",
      "Best Validation:  tensor(0.7886, device='cuda:0')\n"
     ]
    },
    {
     "data": {
      "application/vnd.jupyter.widget-view+json": {
       "model_id": "db1464f781164f7a9faa61028249bf29",
       "version_major": 2,
       "version_minor": 0
      },
      "text/plain": [
       "  0%|          | 0/39 [00:00<?, ?it/s]"
      ]
     },
     "metadata": {},
     "output_type": "display_data"
    },
    {
     "data": {
      "application/vnd.jupyter.widget-view+json": {
       "model_id": "79a0512c0d564ee995d2e845d28b8843",
       "version_major": 2,
       "version_minor": 0
      },
      "text/plain": [
       "  0%|          | 0/39 [00:00<?, ?it/s]"
      ]
     },
     "metadata": {},
     "output_type": "display_data"
    },
    {
     "data": {
      "application/vnd.jupyter.widget-view+json": {
       "model_id": "93d9ee2adacc4cc98c31f4076bd59480",
       "version_major": 2,
       "version_minor": 0
      },
      "text/plain": [
       "  0%|          | 0/6 [00:00<?, ?it/s]"
      ]
     },
     "metadata": {},
     "output_type": "display_data"
    },
    {
     "data": {
      "application/vnd.jupyter.widget-view+json": {
       "model_id": "a6d1e60db38f44119f7c02231448c284",
       "version_major": 2,
       "version_minor": 0
      },
      "text/plain": [
       "  0%|          | 0/39 [00:00<?, ?it/s]"
      ]
     },
     "metadata": {},
     "output_type": "display_data"
    },
    {
     "data": {
      "application/vnd.jupyter.widget-view+json": {
       "model_id": "1f6f395d5e7e4b61bd1e5b4eb964d458",
       "version_major": 2,
       "version_minor": 0
      },
      "text/plain": [
       "  0%|          | 0/6 [00:00<?, ?it/s]"
      ]
     },
     "metadata": {},
     "output_type": "display_data"
    },
    {
     "data": {
      "application/vnd.jupyter.widget-view+json": {
       "model_id": "9dfee2b79aca417e92a683b145cb994b",
       "version_major": 2,
       "version_minor": 0
      },
      "text/plain": [
       "  0%|          | 0/39 [00:00<?, ?it/s]"
      ]
     },
     "metadata": {},
     "output_type": "display_data"
    },
    {
     "data": {
      "application/vnd.jupyter.widget-view+json": {
       "model_id": "ba1709626c924a9992d7f8f52122fc0c",
       "version_major": 2,
       "version_minor": 0
      },
      "text/plain": [
       "  0%|          | 0/6 [00:00<?, ?it/s]"
      ]
     },
     "metadata": {},
     "output_type": "display_data"
    },
    {
     "data": {
      "application/vnd.jupyter.widget-view+json": {
       "model_id": "6b1bb1746d17402a9ea3b4a610c41ab6",
       "version_major": 2,
       "version_minor": 0
      },
      "text/plain": [
       "  0%|          | 0/39 [00:00<?, ?it/s]"
      ]
     },
     "metadata": {},
     "output_type": "display_data"
    },
    {
     "data": {
      "application/vnd.jupyter.widget-view+json": {
       "model_id": "9f3e4d0756424537b0423cba40c7bf5c",
       "version_major": 2,
       "version_minor": 0
      },
      "text/plain": [
       "  0%|          | 0/6 [00:00<?, ?it/s]"
      ]
     },
     "metadata": {},
     "output_type": "display_data"
    },
    {
     "name": "stdout",
     "output_type": "stream",
     "text": [
      "0.12775736970779222 tensor(0.7867, device='cuda:0')\n"
     ]
    },
    {
     "data": {
      "application/vnd.jupyter.widget-view+json": {
       "model_id": "24c6f310f2774be48b0abae8e4193ed0",
       "version_major": 2,
       "version_minor": 0
      },
      "text/plain": [
       "  0%|          | 0/6 [00:00<?, ?it/s]"
      ]
     },
     "metadata": {},
     "output_type": "display_data"
    },
    {
     "name": "stdout",
     "output_type": "stream",
     "text": [
      "Epoch [16/20], Train Loss: 0.1278, Train Acc: 0.7867, Valid Loss: 0.4657,  Valid Acc: 0.7729\n",
      "Best Validation:  tensor(0.7886, device='cuda:0')\n"
     ]
    },
    {
     "data": {
      "application/vnd.jupyter.widget-view+json": {
       "model_id": "99d98a82224d4b8bac53d2aaa6d6dd41",
       "version_major": 2,
       "version_minor": 0
      },
      "text/plain": [
       "  0%|          | 0/39 [00:00<?, ?it/s]"
      ]
     },
     "metadata": {},
     "output_type": "display_data"
    },
    {
     "data": {
      "application/vnd.jupyter.widget-view+json": {
       "model_id": "8bb9127ebe524cdcab650a219e8af00b",
       "version_major": 2,
       "version_minor": 0
      },
      "text/plain": [
       "  0%|          | 0/39 [00:00<?, ?it/s]"
      ]
     },
     "metadata": {},
     "output_type": "display_data"
    },
    {
     "data": {
      "application/vnd.jupyter.widget-view+json": {
       "model_id": "7101058231534cc6b1954a5116f8e959",
       "version_major": 2,
       "version_minor": 0
      },
      "text/plain": [
       "  0%|          | 0/6 [00:00<?, ?it/s]"
      ]
     },
     "metadata": {},
     "output_type": "display_data"
    },
    {
     "data": {
      "application/vnd.jupyter.widget-view+json": {
       "model_id": "decd3c0c3d334f79b32c11367e326d2b",
       "version_major": 2,
       "version_minor": 0
      },
      "text/plain": [
       "  0%|          | 0/39 [00:00<?, ?it/s]"
      ]
     },
     "metadata": {},
     "output_type": "display_data"
    },
    {
     "data": {
      "application/vnd.jupyter.widget-view+json": {
       "model_id": "0751a175c61d437ab772adc37d4f1e12",
       "version_major": 2,
       "version_minor": 0
      },
      "text/plain": [
       "  0%|          | 0/6 [00:00<?, ?it/s]"
      ]
     },
     "metadata": {},
     "output_type": "display_data"
    },
    {
     "data": {
      "application/vnd.jupyter.widget-view+json": {
       "model_id": "acb5f3d701ef4315a553fa95adadc416",
       "version_major": 2,
       "version_minor": 0
      },
      "text/plain": [
       "  0%|          | 0/39 [00:00<?, ?it/s]"
      ]
     },
     "metadata": {},
     "output_type": "display_data"
    },
    {
     "data": {
      "application/vnd.jupyter.widget-view+json": {
       "model_id": "a8c9d15e758f4b42a2b0848d56f6c9fb",
       "version_major": 2,
       "version_minor": 0
      },
      "text/plain": [
       "  0%|          | 0/6 [00:00<?, ?it/s]"
      ]
     },
     "metadata": {},
     "output_type": "display_data"
    },
    {
     "data": {
      "application/vnd.jupyter.widget-view+json": {
       "model_id": "e66820b55a5b454d822e8e31917d4ba0",
       "version_major": 2,
       "version_minor": 0
      },
      "text/plain": [
       "  0%|          | 0/39 [00:00<?, ?it/s]"
      ]
     },
     "metadata": {},
     "output_type": "display_data"
    },
    {
     "data": {
      "application/vnd.jupyter.widget-view+json": {
       "model_id": "96af52ca7f2e4c1eb6b0684cdcd92d53",
       "version_major": 2,
       "version_minor": 0
      },
      "text/plain": [
       "  0%|          | 0/6 [00:00<?, ?it/s]"
      ]
     },
     "metadata": {},
     "output_type": "display_data"
    },
    {
     "name": "stdout",
     "output_type": "stream",
     "text": [
      "0.11429055302571027 tensor(0.7939, device='cuda:0')\n"
     ]
    },
    {
     "data": {
      "application/vnd.jupyter.widget-view+json": {
       "model_id": "f0035c16cfa040cbae06c3bb4d094ecf",
       "version_major": 2,
       "version_minor": 0
      },
      "text/plain": [
       "  0%|          | 0/6 [00:00<?, ?it/s]"
      ]
     },
     "metadata": {},
     "output_type": "display_data"
    },
    {
     "name": "stdout",
     "output_type": "stream",
     "text": [
      "Epoch [17/20], Train Loss: 0.1143, Train Acc: 0.7939, Valid Loss: 0.4625,  Valid Acc: 0.7629\n",
      "Best Validation:  tensor(0.7886, device='cuda:0')\n"
     ]
    },
    {
     "data": {
      "application/vnd.jupyter.widget-view+json": {
       "model_id": "58a3fd3b55404b14bee787b1d48a59cf",
       "version_major": 2,
       "version_minor": 0
      },
      "text/plain": [
       "  0%|          | 0/39 [00:00<?, ?it/s]"
      ]
     },
     "metadata": {},
     "output_type": "display_data"
    },
    {
     "data": {
      "application/vnd.jupyter.widget-view+json": {
       "model_id": "cb78f8726a244e958147178c7c535f70",
       "version_major": 2,
       "version_minor": 0
      },
      "text/plain": [
       "  0%|          | 0/39 [00:00<?, ?it/s]"
      ]
     },
     "metadata": {},
     "output_type": "display_data"
    },
    {
     "data": {
      "application/vnd.jupyter.widget-view+json": {
       "model_id": "9a0a3299a4ba4b00a3403170ba2dff3e",
       "version_major": 2,
       "version_minor": 0
      },
      "text/plain": [
       "  0%|          | 0/6 [00:00<?, ?it/s]"
      ]
     },
     "metadata": {},
     "output_type": "display_data"
    },
    {
     "data": {
      "application/vnd.jupyter.widget-view+json": {
       "model_id": "29151b54a2714b60825ba0c4ff5743bf",
       "version_major": 2,
       "version_minor": 0
      },
      "text/plain": [
       "  0%|          | 0/39 [00:00<?, ?it/s]"
      ]
     },
     "metadata": {},
     "output_type": "display_data"
    },
    {
     "data": {
      "application/vnd.jupyter.widget-view+json": {
       "model_id": "c5304185986947678bac53284a13e5fc",
       "version_major": 2,
       "version_minor": 0
      },
      "text/plain": [
       "  0%|          | 0/6 [00:00<?, ?it/s]"
      ]
     },
     "metadata": {},
     "output_type": "display_data"
    },
    {
     "data": {
      "application/vnd.jupyter.widget-view+json": {
       "model_id": "2356c9f6f59c494ca3b91c413cb8b599",
       "version_major": 2,
       "version_minor": 0
      },
      "text/plain": [
       "  0%|          | 0/39 [00:00<?, ?it/s]"
      ]
     },
     "metadata": {},
     "output_type": "display_data"
    },
    {
     "data": {
      "application/vnd.jupyter.widget-view+json": {
       "model_id": "0b222aeecbdd459cb6f0569af783a51b",
       "version_major": 2,
       "version_minor": 0
      },
      "text/plain": [
       "  0%|          | 0/6 [00:00<?, ?it/s]"
      ]
     },
     "metadata": {},
     "output_type": "display_data"
    },
    {
     "data": {
      "application/vnd.jupyter.widget-view+json": {
       "model_id": "8dd9e59a99ae425b9f20f2a6dd075790",
       "version_major": 2,
       "version_minor": 0
      },
      "text/plain": [
       "  0%|          | 0/39 [00:00<?, ?it/s]"
      ]
     },
     "metadata": {},
     "output_type": "display_data"
    },
    {
     "data": {
      "application/vnd.jupyter.widget-view+json": {
       "model_id": "e91292b7849c46db8bc9e6648ea56367",
       "version_major": 2,
       "version_minor": 0
      },
      "text/plain": [
       "  0%|          | 0/6 [00:00<?, ?it/s]"
      ]
     },
     "metadata": {},
     "output_type": "display_data"
    },
    {
     "name": "stdout",
     "output_type": "stream",
     "text": [
      "0.10192958437479459 tensor(0.7935, device='cuda:0')\n"
     ]
    },
    {
     "data": {
      "application/vnd.jupyter.widget-view+json": {
       "model_id": "165c0ab8f9344e5f99fa92d169456eb0",
       "version_major": 2,
       "version_minor": 0
      },
      "text/plain": [
       "  0%|          | 0/6 [00:00<?, ?it/s]"
      ]
     },
     "metadata": {},
     "output_type": "display_data"
    },
    {
     "name": "stdout",
     "output_type": "stream",
     "text": [
      "Epoch [18/20], Train Loss: 0.1019, Train Acc: 0.7935, Valid Loss: 0.4984,  Valid Acc: 0.7814\n",
      "Best Validation:  tensor(0.7886, device='cuda:0')\n"
     ]
    },
    {
     "data": {
      "application/vnd.jupyter.widget-view+json": {
       "model_id": "b738c9f7208747a2b084e8c502251f10",
       "version_major": 2,
       "version_minor": 0
      },
      "text/plain": [
       "  0%|          | 0/39 [00:00<?, ?it/s]"
      ]
     },
     "metadata": {},
     "output_type": "display_data"
    },
    {
     "data": {
      "application/vnd.jupyter.widget-view+json": {
       "model_id": "da09bebbf13f4f9b95ae1e15feb9d759",
       "version_major": 2,
       "version_minor": 0
      },
      "text/plain": [
       "  0%|          | 0/39 [00:00<?, ?it/s]"
      ]
     },
     "metadata": {},
     "output_type": "display_data"
    },
    {
     "data": {
      "application/vnd.jupyter.widget-view+json": {
       "model_id": "ca9594eb1d5a4990b50747c26e08ac0b",
       "version_major": 2,
       "version_minor": 0
      },
      "text/plain": [
       "  0%|          | 0/6 [00:00<?, ?it/s]"
      ]
     },
     "metadata": {},
     "output_type": "display_data"
    },
    {
     "data": {
      "application/vnd.jupyter.widget-view+json": {
       "model_id": "88f28476460d4ab386122ecde487de32",
       "version_major": 2,
       "version_minor": 0
      },
      "text/plain": [
       "  0%|          | 0/39 [00:00<?, ?it/s]"
      ]
     },
     "metadata": {},
     "output_type": "display_data"
    },
    {
     "data": {
      "application/vnd.jupyter.widget-view+json": {
       "model_id": "f2d3d91722754240aa5a66eeaa631d62",
       "version_major": 2,
       "version_minor": 0
      },
      "text/plain": [
       "  0%|          | 0/6 [00:00<?, ?it/s]"
      ]
     },
     "metadata": {},
     "output_type": "display_data"
    },
    {
     "data": {
      "application/vnd.jupyter.widget-view+json": {
       "model_id": "8d4e0defa7104acea8ed2dea78cf2f49",
       "version_major": 2,
       "version_minor": 0
      },
      "text/plain": [
       "  0%|          | 0/39 [00:00<?, ?it/s]"
      ]
     },
     "metadata": {},
     "output_type": "display_data"
    },
    {
     "data": {
      "application/vnd.jupyter.widget-view+json": {
       "model_id": "cae17a31f83b41dd862e1e65d7887dc4",
       "version_major": 2,
       "version_minor": 0
      },
      "text/plain": [
       "  0%|          | 0/6 [00:00<?, ?it/s]"
      ]
     },
     "metadata": {},
     "output_type": "display_data"
    },
    {
     "data": {
      "application/vnd.jupyter.widget-view+json": {
       "model_id": "8ef2b8d277f3476fa7a2b02fba01b809",
       "version_major": 2,
       "version_minor": 0
      },
      "text/plain": [
       "  0%|          | 0/39 [00:00<?, ?it/s]"
      ]
     },
     "metadata": {},
     "output_type": "display_data"
    },
    {
     "data": {
      "application/vnd.jupyter.widget-view+json": {
       "model_id": "5ed578081bb1405bbd6cbf250bfaca29",
       "version_major": 2,
       "version_minor": 0
      },
      "text/plain": [
       "  0%|          | 0/6 [00:00<?, ?it/s]"
      ]
     },
     "metadata": {},
     "output_type": "display_data"
    },
    {
     "name": "stdout",
     "output_type": "stream",
     "text": [
      "0.09696278587365761 tensor(0.8047, device='cuda:0')\n"
     ]
    },
    {
     "data": {
      "application/vnd.jupyter.widget-view+json": {
       "model_id": "e774df3c8adb44ab9fb04c36cc390d77",
       "version_major": 2,
       "version_minor": 0
      },
      "text/plain": [
       "  0%|          | 0/6 [00:00<?, ?it/s]"
      ]
     },
     "metadata": {},
     "output_type": "display_data"
    },
    {
     "name": "stdout",
     "output_type": "stream",
     "text": [
      "Epoch [19/20], Train Loss: 0.0970, Train Acc: 0.8047, Valid Loss: 0.4907,  Valid Acc: 0.7829\n",
      "Best Validation:  tensor(0.7886, device='cuda:0')\n"
     ]
    },
    {
     "data": {
      "application/vnd.jupyter.widget-view+json": {
       "model_id": "5851fdd0c5d14cf69e10b0067f3b7cd2",
       "version_major": 2,
       "version_minor": 0
      },
      "text/plain": [
       "  0%|          | 0/39 [00:00<?, ?it/s]"
      ]
     },
     "metadata": {},
     "output_type": "display_data"
    },
    {
     "data": {
      "application/vnd.jupyter.widget-view+json": {
       "model_id": "ea26609eb6204740bdbab01fef2cd3bc",
       "version_major": 2,
       "version_minor": 0
      },
      "text/plain": [
       "  0%|          | 0/39 [00:00<?, ?it/s]"
      ]
     },
     "metadata": {},
     "output_type": "display_data"
    },
    {
     "data": {
      "application/vnd.jupyter.widget-view+json": {
       "model_id": "21799aee8d954c189822d1d3bf5a5bca",
       "version_major": 2,
       "version_minor": 0
      },
      "text/plain": [
       "  0%|          | 0/6 [00:00<?, ?it/s]"
      ]
     },
     "metadata": {},
     "output_type": "display_data"
    },
    {
     "data": {
      "application/vnd.jupyter.widget-view+json": {
       "model_id": "444027dbac1941a39c20e6a9ebd4152c",
       "version_major": 2,
       "version_minor": 0
      },
      "text/plain": [
       "  0%|          | 0/39 [00:00<?, ?it/s]"
      ]
     },
     "metadata": {},
     "output_type": "display_data"
    },
    {
     "data": {
      "application/vnd.jupyter.widget-view+json": {
       "model_id": "61c3c39adaaf40d38a11bce8488db0a6",
       "version_major": 2,
       "version_minor": 0
      },
      "text/plain": [
       "  0%|          | 0/6 [00:00<?, ?it/s]"
      ]
     },
     "metadata": {},
     "output_type": "display_data"
    },
    {
     "data": {
      "application/vnd.jupyter.widget-view+json": {
       "model_id": "1845749787d244e2978bec88933126e6",
       "version_major": 2,
       "version_minor": 0
      },
      "text/plain": [
       "  0%|          | 0/39 [00:00<?, ?it/s]"
      ]
     },
     "metadata": {},
     "output_type": "display_data"
    },
    {
     "data": {
      "application/vnd.jupyter.widget-view+json": {
       "model_id": "b6e09ba2ab4f48719f7a439634ca8425",
       "version_major": 2,
       "version_minor": 0
      },
      "text/plain": [
       "  0%|          | 0/6 [00:00<?, ?it/s]"
      ]
     },
     "metadata": {},
     "output_type": "display_data"
    },
    {
     "data": {
      "application/vnd.jupyter.widget-view+json": {
       "model_id": "6cdc095ce85848d4ae23e9ae3a547fee",
       "version_major": 2,
       "version_minor": 0
      },
      "text/plain": [
       "  0%|          | 0/39 [00:00<?, ?it/s]"
      ]
     },
     "metadata": {},
     "output_type": "display_data"
    },
    {
     "data": {
      "application/vnd.jupyter.widget-view+json": {
       "model_id": "12cd90702c574018a6795b55277f42da",
       "version_major": 2,
       "version_minor": 0
      },
      "text/plain": [
       "  0%|          | 0/6 [00:00<?, ?it/s]"
      ]
     },
     "metadata": {},
     "output_type": "display_data"
    },
    {
     "name": "stdout",
     "output_type": "stream",
     "text": [
      "0.08969744046529134 tensor(0.8482, device='cuda:0')\n"
     ]
    },
    {
     "data": {
      "application/vnd.jupyter.widget-view+json": {
       "model_id": "04299076c7fb4511b7f7ac907682551c",
       "version_major": 2,
       "version_minor": 0
      },
      "text/plain": [
       "  0%|          | 0/6 [00:00<?, ?it/s]"
      ]
     },
     "metadata": {},
     "output_type": "display_data"
    },
    {
     "name": "stdout",
     "output_type": "stream",
     "text": [
      "Epoch [20/20], Train Loss: 0.0897, Train Acc: 0.8482, Valid Loss: 0.5237,  Valid Acc: 0.7457\n",
      "Best Validation:  tensor(0.7886, device='cuda:0')\n",
      "Finished Training\n"
     ]
    },
    {
     "data": {
      "image/png": "[encoded data removed]",
      "text/plain": [
       "<Figure size 432x288 with 1 Axes>"
      ]
     },
     "metadata": {
      "needs_background": "light"
     },
     "output_type": "display_data"
    },
    {
     "data": {
      "image/png": "[encoded data removed]",
      "text/plain": [
       "<Figure size 432x288 with 1 Axes>"
      ]
     },
     "metadata": {
      "needs_background": "light"
     },
     "output_type": "display_data"
    },
    {
     "data": {
      "image/png": "[encoded data removed]",
      "text/plain": [
       "<Figure size 432x288 with 1 Axes>"
      ]
     },
     "metadata": {
      "needs_background": "light"
     },
     "output_type": "display_data"
    },
    {
     "data": {
      "image/png": "[encoded data removed]",
      "text/plain": [
       "<Figure size 432x288 with 1 Axes>"
      ]
     },
     "metadata": {
      "needs_background": "light"
     },
     "output_type": "display_data"
    },
    {
     "data": {
      "image/png": "[encoded data removed]",
      "text/plain": [
       "<Figure size 432x288 with 1 Axes>"
      ]
     },
     "metadata": {
      "needs_background": "light"
     },
     "output_type": "display_data"
    },
    {
     "data": {
      "image/png": "[encoded data removed]",
      "text/plain": [
       "<Figure size 432x288 with 1 Axes>"
      ]
     },
     "metadata": {
      "needs_background": "light"
     },
     "output_type": "display_data"
    }
   ],
   "source": [
    "# # Q8 A final model selection\n",
    "final_model = Final_Siamese_Network().to(device)\n",
    "criterion = nn.BCELoss()\n",
    "optimizer = optim.AdamW(final_model.parameters(), lr = 0.006, weight_decay=0.0003)\n",
    "num_epochs = 20\n",
    "save_file = f'final_model1_log.pt' # log is maintained in this saved file\n",
    "\n",
    "\n",
    "TRAIN(final_model, train_loader, valid_loader,  num_epochs, criterion, optimizer, 0, device, save_file)"
   ]
  },
  {
   "cell_type": "code",
   "execution_count": 47,
   "metadata": {},
   "outputs": [],
   "source": [
    "# accuracy(final_model, valid_loader)"
   ]
  },
  {
   "cell_type": "code",
   "execution_count": 48,
   "metadata": {},
   "outputs": [
    {
     "name": "stdout",
     "output_type": "stream",
     "text": [
      "Resume training\n"
     ]
    },
    {
     "data": {
      "application/vnd.jupyter.widget-view+json": {
       "model_id": "abd2a2bd38de489090fe5908da0a8f39",
       "version_major": 2,
       "version_minor": 0
      },
      "text/plain": [
       "  0%|          | 0/39 [00:00<?, ?it/s]"
      ]
     },
     "metadata": {},
     "output_type": "display_data"
    },
    {
     "name": "stdout",
     "output_type": "stream",
     "text": [
      "0.9795514314602582 tensor(0.5665, device='cuda:0')\n"
     ]
    },
    {
     "data": {
      "application/vnd.jupyter.widget-view+json": {
       "model_id": "3c3be9f6c5de457eb79207646cfac549",
       "version_major": 2,
       "version_minor": 0
      },
      "text/plain": [
       "  0%|          | 0/6 [00:00<?, ?it/s]"
      ]
     },
     "metadata": {},
     "output_type": "display_data"
    },
    {
     "name": "stdout",
     "output_type": "stream",
     "text": [
      "Epoch [1/20], Train Loss: 0.9796, Train Acc: 0.5665, Valid Loss: 0.8344,  Valid Acc: 0.5729\n",
      "Model saved to final_model2_log.pt\n",
      "Best Validation:  tensor(0.5729, device='cuda:0')\n"
     ]
    },
    {
     "data": {
      "application/vnd.jupyter.widget-view+json": {
       "model_id": "cd2bb842833b47c8b5f9780ac907ca99",
       "version_major": 2,
       "version_minor": 0
      },
      "text/plain": [
       "  0%|          | 0/39 [00:00<?, ?it/s]"
      ]
     },
     "metadata": {},
     "output_type": "display_data"
    },
    {
     "name": "stdout",
     "output_type": "stream",
     "text": [
      "0.7517175613305508 tensor(0.6029, device='cuda:0')\n"
     ]
    },
    {
     "data": {
      "application/vnd.jupyter.widget-view+json": {
       "model_id": "189a337cb4884d4cb70136acc00cf14b",
       "version_major": 2,
       "version_minor": 0
      },
      "text/plain": [
       "  0%|          | 0/6 [00:00<?, ?it/s]"
      ]
     },
     "metadata": {},
     "output_type": "display_data"
    },
    {
     "name": "stdout",
     "output_type": "stream",
     "text": [
      "Epoch [2/20], Train Loss: 0.7517, Train Acc: 0.6029, Valid Loss: 0.7745,  Valid Acc: 0.5700\n",
      "Best Validation:  tensor(0.5729, device='cuda:0')\n"
     ]
    },
    {
     "data": {
      "application/vnd.jupyter.widget-view+json": {
       "model_id": "3ed439bd1a494dd8bcb00d4b0a52c6b1",
       "version_major": 2,
       "version_minor": 0
      },
      "text/plain": [
       "  0%|          | 0/39 [00:00<?, ?it/s]"
      ]
     },
     "metadata": {},
     "output_type": "display_data"
    },
    {
     "name": "stdout",
     "output_type": "stream",
     "text": [
      "0.705579841748262 tensor(0.6104, device='cuda:0')\n"
     ]
    },
    {
     "data": {
      "application/vnd.jupyter.widget-view+json": {
       "model_id": "fa3d79e905c74da19c834f3dbd355d4e",
       "version_major": 2,
       "version_minor": 0
      },
      "text/plain": [
       "  0%|          | 0/6 [00:00<?, ?it/s]"
      ]
     },
     "metadata": {},
     "output_type": "display_data"
    },
    {
     "name": "stdout",
     "output_type": "stream",
     "text": [
      "Epoch [3/20], Train Loss: 0.7056, Train Acc: 0.6104, Valid Loss: 0.7401,  Valid Acc: 0.5843\n",
      "Model saved to final_model2_log.pt\n",
      "Best Validation:  tensor(0.5843, device='cuda:0')\n"
     ]
    },
    {
     "data": {
      "application/vnd.jupyter.widget-view+json": {
       "model_id": "23d2a005e5a74856bedab21b9cdcbef4",
       "version_major": 2,
       "version_minor": 0
      },
      "text/plain": [
       "  0%|          | 0/39 [00:00<?, ?it/s]"
      ]
     },
     "metadata": {},
     "output_type": "display_data"
    },
    {
     "name": "stdout",
     "output_type": "stream",
     "text": [
      "0.6750979454089434 tensor(0.6204, device='cuda:0')\n"
     ]
    },
    {
     "data": {
      "application/vnd.jupyter.widget-view+json": {
       "model_id": "6c8cd7b9daf44fb9aa845086b52b2d18",
       "version_major": 2,
       "version_minor": 0
      },
      "text/plain": [
       "  0%|          | 0/6 [00:00<?, ?it/s]"
      ]
     },
     "metadata": {},
     "output_type": "display_data"
    },
    {
     "name": "stdout",
     "output_type": "stream",
     "text": [
      "Epoch [4/20], Train Loss: 0.6751, Train Acc: 0.6204, Valid Loss: 0.7005,  Valid Acc: 0.6129\n",
      "Model saved to final_model2_log.pt\n",
      "Best Validation:  tensor(0.6129, device='cuda:0')\n"
     ]
    },
    {
     "data": {
      "application/vnd.jupyter.widget-view+json": {
       "model_id": "96e6202cc60e44a1a8aa160c3263053b",
       "version_major": 2,
       "version_minor": 0
      },
      "text/plain": [
       "  0%|          | 0/39 [00:00<?, ?it/s]"
      ]
     },
     "metadata": {},
     "output_type": "display_data"
    },
    {
     "name": "stdout",
     "output_type": "stream",
     "text": [
      "0.6520708631246518 tensor(0.6314, device='cuda:0')\n"
     ]
    },
    {
     "data": {
      "application/vnd.jupyter.widget-view+json": {
       "model_id": "1d6efe88499644dbbe94edc21d48e6a1",
       "version_major": 2,
       "version_minor": 0
      },
      "text/plain": [
       "  0%|          | 0/6 [00:00<?, ?it/s]"
      ]
     },
     "metadata": {},
     "output_type": "display_data"
    },
    {
     "name": "stdout",
     "output_type": "stream",
     "text": [
      "Epoch [5/20], Train Loss: 0.6521, Train Acc: 0.6314, Valid Loss: 0.7095,  Valid Acc: 0.5657\n",
      "Best Validation:  tensor(0.6129, device='cuda:0')\n"
     ]
    },
    {
     "data": {
      "application/vnd.jupyter.widget-view+json": {
       "model_id": "c8462a302ce4496e8a169fb8cc837bec",
       "version_major": 2,
       "version_minor": 0
      },
      "text/plain": [
       "  0%|          | 0/39 [00:00<?, ?it/s]"
      ]
     },
     "metadata": {},
     "output_type": "display_data"
    },
    {
     "name": "stdout",
     "output_type": "stream",
     "text": [
      "0.6583405289894495 tensor(0.6251, device='cuda:0')\n"
     ]
    },
    {
     "data": {
      "application/vnd.jupyter.widget-view+json": {
       "model_id": "1f679d3290ed47798d501c0676b5f73a",
       "version_major": 2,
       "version_minor": 0
      },
      "text/plain": [
       "  0%|          | 0/6 [00:00<?, ?it/s]"
      ]
     },
     "metadata": {},
     "output_type": "display_data"
    },
    {
     "name": "stdout",
     "output_type": "stream",
     "text": [
      "Epoch [6/20], Train Loss: 0.6583, Train Acc: 0.6251, Valid Loss: 0.7069,  Valid Acc: 0.6071\n",
      "Best Validation:  tensor(0.6129, device='cuda:0')\n"
     ]
    },
    {
     "data": {
      "application/vnd.jupyter.widget-view+json": {
       "model_id": "1a8a7607ab05449aa033b2242887618b",
       "version_major": 2,
       "version_minor": 0
      },
      "text/plain": [
       "  0%|          | 0/39 [00:00<?, ?it/s]"
      ]
     },
     "metadata": {},
     "output_type": "display_data"
    },
    {
     "name": "stdout",
     "output_type": "stream",
     "text": [
      "0.6484365065892538 tensor(0.6312, device='cuda:0')\n"
     ]
    },
    {
     "data": {
      "application/vnd.jupyter.widget-view+json": {
       "model_id": "7bf20255651e48e1b8fed4d2c09dfea8",
       "version_major": 2,
       "version_minor": 0
      },
      "text/plain": [
       "  0%|          | 0/6 [00:00<?, ?it/s]"
      ]
     },
     "metadata": {},
     "output_type": "display_data"
    },
    {
     "name": "stdout",
     "output_type": "stream",
     "text": [
      "Epoch [7/20], Train Loss: 0.6484, Train Acc: 0.6312, Valid Loss: 0.6933,  Valid Acc: 0.6000\n",
      "Best Validation:  tensor(0.6129, device='cuda:0')\n"
     ]
    },
    {
     "data": {
      "application/vnd.jupyter.widget-view+json": {
       "model_id": "bf2519490a6d4b86945069e62b9138dc",
       "version_major": 2,
       "version_minor": 0
      },
      "text/plain": [
       "  0%|          | 0/39 [00:00<?, ?it/s]"
      ]
     },
     "metadata": {},
     "output_type": "display_data"
    },
    {
     "name": "stdout",
     "output_type": "stream",
     "text": [
      "0.6421812329536829 tensor(0.6312, device='cuda:0')\n"
     ]
    },
    {
     "data": {
      "application/vnd.jupyter.widget-view+json": {
       "model_id": "e0e954c2a7e744348ba6ae57149bb92c",
       "version_major": 2,
       "version_minor": 0
      },
      "text/plain": [
       "  0%|          | 0/6 [00:00<?, ?it/s]"
      ]
     },
     "metadata": {},
     "output_type": "display_data"
    },
    {
     "name": "stdout",
     "output_type": "stream",
     "text": [
      "Epoch [8/20], Train Loss: 0.6422, Train Acc: 0.6312, Valid Loss: 0.6996,  Valid Acc: 0.5971\n",
      "Best Validation:  tensor(0.6129, device='cuda:0')\n"
     ]
    },
    {
     "data": {
      "application/vnd.jupyter.widget-view+json": {
       "model_id": "c0a15e671851409397d68bfb5230c815",
       "version_major": 2,
       "version_minor": 0
      },
      "text/plain": [
       "  0%|          | 0/39 [00:00<?, ?it/s]"
      ]
     },
     "metadata": {},
     "output_type": "display_data"
    },
    {
     "name": "stdout",
     "output_type": "stream",
     "text": [
      "0.6431268453598022 tensor(0.6429, device='cuda:0')\n"
     ]
    },
    {
     "data": {
      "application/vnd.jupyter.widget-view+json": {
       "model_id": "5b5f1356f09b40cbbf8470e9acfcfda8",
       "version_major": 2,
       "version_minor": 0
      },
      "text/plain": [
       "  0%|          | 0/6 [00:00<?, ?it/s]"
      ]
     },
     "metadata": {},
     "output_type": "display_data"
    },
    {
     "name": "stdout",
     "output_type": "stream",
     "text": [
      "Epoch [9/20], Train Loss: 0.6431, Train Acc: 0.6429, Valid Loss: 0.6763,  Valid Acc: 0.5914\n",
      "Best Validation:  tensor(0.6129, device='cuda:0')\n"
     ]
    },
    {
     "data": {
      "application/vnd.jupyter.widget-view+json": {
       "model_id": "8c63fa8a0fbc435ebf07b64f94f33491",
       "version_major": 2,
       "version_minor": 0
      },
      "text/plain": [
       "  0%|          | 0/39 [00:00<?, ?it/s]"
      ]
     },
     "metadata": {},
     "output_type": "display_data"
    },
    {
     "name": "stdout",
     "output_type": "stream",
     "text": [
      "0.6396416410421714 tensor(0.6278, device='cuda:0')\n"
     ]
    },
    {
     "data": {
      "application/vnd.jupyter.widget-view+json": {
       "model_id": "eb7eba4e633f4a82bc247d8948468a36",
       "version_major": 2,
       "version_minor": 0
      },
      "text/plain": [
       "  0%|          | 0/6 [00:00<?, ?it/s]"
      ]
     },
     "metadata": {},
     "output_type": "display_data"
    },
    {
     "name": "stdout",
     "output_type": "stream",
     "text": [
      "Epoch [10/20], Train Loss: 0.6396, Train Acc: 0.6278, Valid Loss: 0.6575,  Valid Acc: 0.6143\n",
      "Model saved to final_model2_log.pt\n",
      "Best Validation:  tensor(0.6143, device='cuda:0')\n"
     ]
    },
    {
     "data": {
      "application/vnd.jupyter.widget-view+json": {
       "model_id": "fd889c0718284a58a74a00667a518dbf",
       "version_major": 2,
       "version_minor": 0
      },
      "text/plain": [
       "  0%|          | 0/39 [00:00<?, ?it/s]"
      ]
     },
     "metadata": {},
     "output_type": "display_data"
    },
    {
     "name": "stdout",
     "output_type": "stream",
     "text": [
      "0.6230877653146402 tensor(0.6441, device='cuda:0')\n"
     ]
    },
    {
     "data": {
      "application/vnd.jupyter.widget-view+json": {
       "model_id": "ae48caf2104c4f06a895ab70e2d71fbd",
       "version_major": 2,
       "version_minor": 0
      },
      "text/plain": [
       "  0%|          | 0/6 [00:00<?, ?it/s]"
      ]
     },
     "metadata": {},
     "output_type": "display_data"
    },
    {
     "name": "stdout",
     "output_type": "stream",
     "text": [
      "Epoch [11/20], Train Loss: 0.6231, Train Acc: 0.6441, Valid Loss: 0.6944,  Valid Acc: 0.5986\n",
      "Best Validation:  tensor(0.6143, device='cuda:0')\n"
     ]
    },
    {
     "data": {
      "application/vnd.jupyter.widget-view+json": {
       "model_id": "10e1a7590d814ce6901dd8bbcb5bd4b1",
       "version_major": 2,
       "version_minor": 0
      },
      "text/plain": [
       "  0%|          | 0/39 [00:00<?, ?it/s]"
      ]
     },
     "metadata": {},
     "output_type": "display_data"
    },
    {
     "name": "stdout",
     "output_type": "stream",
     "text": [
      "0.6273375077125354 tensor(0.6559, device='cuda:0')\n"
     ]
    },
    {
     "data": {
      "application/vnd.jupyter.widget-view+json": {
       "model_id": "3b4c3532c7b943cba8196b20af51e53d",
       "version_major": 2,
       "version_minor": 0
      },
      "text/plain": [
       "  0%|          | 0/6 [00:00<?, ?it/s]"
      ]
     },
     "metadata": {},
     "output_type": "display_data"
    },
    {
     "name": "stdout",
     "output_type": "stream",
     "text": [
      "Epoch [12/20], Train Loss: 0.6273, Train Acc: 0.6559, Valid Loss: 0.6794,  Valid Acc: 0.6186\n",
      "Model saved to final_model2_log.pt\n",
      "Best Validation:  tensor(0.6186, device='cuda:0')\n"
     ]
    },
    {
     "data": {
      "application/vnd.jupyter.widget-view+json": {
       "model_id": "0b5660f0795b43a582c356918b759e02",
       "version_major": 2,
       "version_minor": 0
      },
      "text/plain": [
       "  0%|          | 0/39 [00:00<?, ?it/s]"
      ]
     },
     "metadata": {},
     "output_type": "display_data"
    },
    {
     "name": "stdout",
     "output_type": "stream",
     "text": [
      "0.6272234183091384 tensor(0.6516, device='cuda:0')\n"
     ]
    },
    {
     "data": {
      "application/vnd.jupyter.widget-view+json": {
       "model_id": "27a32fc6b5c445b780b8d3aa1cb378d1",
       "version_major": 2,
       "version_minor": 0
      },
      "text/plain": [
       "  0%|          | 0/6 [00:00<?, ?it/s]"
      ]
     },
     "metadata": {},
     "output_type": "display_data"
    },
    {
     "name": "stdout",
     "output_type": "stream",
     "text": [
      "Epoch [13/20], Train Loss: 0.6272, Train Acc: 0.6516, Valid Loss: 0.6830,  Valid Acc: 0.6171\n",
      "Best Validation:  tensor(0.6186, device='cuda:0')\n"
     ]
    },
    {
     "data": {
      "application/vnd.jupyter.widget-view+json": {
       "model_id": "1159dba9cf134373afe79805b70de5ea",
       "version_major": 2,
       "version_minor": 0
      },
      "text/plain": [
       "  0%|          | 0/39 [00:00<?, ?it/s]"
      ]
     },
     "metadata": {},
     "output_type": "display_data"
    },
    {
     "name": "stdout",
     "output_type": "stream",
     "text": [
      "0.6247426577103443 tensor(0.6510, device='cuda:0')\n"
     ]
    },
    {
     "data": {
      "application/vnd.jupyter.widget-view+json": {
       "model_id": "9e7b1e955aea4040a7451405c4ada3f9",
       "version_major": 2,
       "version_minor": 0
      },
      "text/plain": [
       "  0%|          | 0/6 [00:00<?, ?it/s]"
      ]
     },
     "metadata": {},
     "output_type": "display_data"
    },
    {
     "name": "stdout",
     "output_type": "stream",
     "text": [
      "Epoch [14/20], Train Loss: 0.6247, Train Acc: 0.6510, Valid Loss: 0.6665,  Valid Acc: 0.6157\n",
      "Best Validation:  tensor(0.6186, device='cuda:0')\n"
     ]
    },
    {
     "data": {
      "application/vnd.jupyter.widget-view+json": {
       "model_id": "59d0c0f658914faa80f0417e6ad82cf3",
       "version_major": 2,
       "version_minor": 0
      },
      "text/plain": [
       "  0%|          | 0/39 [00:00<?, ?it/s]"
      ]
     },
     "metadata": {},
     "output_type": "display_data"
    },
    {
     "name": "stdout",
     "output_type": "stream",
     "text": [
      "0.628072854800102 tensor(0.6420, device='cuda:0')\n"
     ]
    },
    {
     "data": {
      "application/vnd.jupyter.widget-view+json": {
       "model_id": "d465fb66c4a74d29ad766f8aec15bb10",
       "version_major": 2,
       "version_minor": 0
      },
      "text/plain": [
       "  0%|          | 0/6 [00:00<?, ?it/s]"
      ]
     },
     "metadata": {},
     "output_type": "display_data"
    },
    {
     "name": "stdout",
     "output_type": "stream",
     "text": [
      "Epoch [15/20], Train Loss: 0.6281, Train Acc: 0.6420, Valid Loss: 0.6859,  Valid Acc: 0.5957\n",
      "Best Validation:  tensor(0.6186, device='cuda:0')\n"
     ]
    },
    {
     "data": {
      "application/vnd.jupyter.widget-view+json": {
       "model_id": "7666d557713546ffb8b6cb713847b5ad",
       "version_major": 2,
       "version_minor": 0
      },
      "text/plain": [
       "  0%|          | 0/39 [00:00<?, ?it/s]"
      ]
     },
     "metadata": {},
     "output_type": "display_data"
    },
    {
     "name": "stdout",
     "output_type": "stream",
     "text": [
      "0.6213754660043961 tensor(0.6547, device='cuda:0')\n"
     ]
    },
    {
     "data": {
      "application/vnd.jupyter.widget-view+json": {
       "model_id": "91d8ec976439406abf21c51bbef2e71b",
       "version_major": 2,
       "version_minor": 0
      },
      "text/plain": [
       "  0%|          | 0/6 [00:00<?, ?it/s]"
      ]
     },
     "metadata": {},
     "output_type": "display_data"
    },
    {
     "name": "stdout",
     "output_type": "stream",
     "text": [
      "Epoch [16/20], Train Loss: 0.6214, Train Acc: 0.6547, Valid Loss: 0.6763,  Valid Acc: 0.6014\n",
      "Best Validation:  tensor(0.6186, device='cuda:0')\n"
     ]
    },
    {
     "data": {
      "application/vnd.jupyter.widget-view+json": {
       "model_id": "022e6d7d429f412481ee8c92db25e502",
       "version_major": 2,
       "version_minor": 0
      },
      "text/plain": [
       "  0%|          | 0/39 [00:00<?, ?it/s]"
      ]
     },
     "metadata": {},
     "output_type": "display_data"
    },
    {
     "name": "stdout",
     "output_type": "stream",
     "text": [
      "0.6150882656757648 tensor(0.6686, device='cuda:0')\n"
     ]
    },
    {
     "data": {
      "application/vnd.jupyter.widget-view+json": {
       "model_id": "101fd1d86f5c42e28fe1f2018438eba5",
       "version_major": 2,
       "version_minor": 0
      },
      "text/plain": [
       "  0%|          | 0/6 [00:00<?, ?it/s]"
      ]
     },
     "metadata": {},
     "output_type": "display_data"
    },
    {
     "name": "stdout",
     "output_type": "stream",
     "text": [
      "Epoch [17/20], Train Loss: 0.6151, Train Acc: 0.6686, Valid Loss: 0.6683,  Valid Acc: 0.5986\n",
      "Best Validation:  tensor(0.6186, device='cuda:0')\n"
     ]
    },
    {
     "data": {
      "application/vnd.jupyter.widget-view+json": {
       "model_id": "77c03cf2ba7349518edb89376bb0c328",
       "version_major": 2,
       "version_minor": 0
      },
      "text/plain": [
       "  0%|          | 0/39 [00:00<?, ?it/s]"
      ]
     },
     "metadata": {},
     "output_type": "display_data"
    },
    {
     "name": "stdout",
     "output_type": "stream",
     "text": [
      "0.6111830732761285 tensor(0.6600, device='cuda:0')\n"
     ]
    },
    {
     "data": {
      "application/vnd.jupyter.widget-view+json": {
       "model_id": "85b05680091a401dba77ac74e92b44bc",
       "version_major": 2,
       "version_minor": 0
      },
      "text/plain": [
       "  0%|          | 0/6 [00:00<?, ?it/s]"
      ]
     },
     "metadata": {},
     "output_type": "display_data"
    },
    {
     "name": "stdout",
     "output_type": "stream",
     "text": [
      "Epoch [18/20], Train Loss: 0.6112, Train Acc: 0.6600, Valid Loss: 0.6746,  Valid Acc: 0.6171\n",
      "Best Validation:  tensor(0.6186, device='cuda:0')\n"
     ]
    },
    {
     "data": {
      "application/vnd.jupyter.widget-view+json": {
       "model_id": "ce4e205a44b340c69abffe2c5e47e652",
       "version_major": 2,
       "version_minor": 0
      },
      "text/plain": [
       "  0%|          | 0/39 [00:00<?, ?it/s]"
      ]
     },
     "metadata": {},
     "output_type": "display_data"
    },
    {
     "name": "stdout",
     "output_type": "stream",
     "text": [
      "0.6130586511049515 tensor(0.6608, device='cuda:0')\n"
     ]
    },
    {
     "data": {
      "application/vnd.jupyter.widget-view+json": {
       "model_id": "ef5bf4b5f88e4890a935dd90e6891525",
       "version_major": 2,
       "version_minor": 0
      },
      "text/plain": [
       "  0%|          | 0/6 [00:00<?, ?it/s]"
      ]
     },
     "metadata": {},
     "output_type": "display_data"
    },
    {
     "name": "stdout",
     "output_type": "stream",
     "text": [
      "Epoch [19/20], Train Loss: 0.6131, Train Acc: 0.6608, Valid Loss: 0.6719,  Valid Acc: 0.5929\n",
      "Best Validation:  tensor(0.6186, device='cuda:0')\n"
     ]
    },
    {
     "data": {
      "application/vnd.jupyter.widget-view+json": {
       "model_id": "f328b9ad34f1407088ad4b34b3801f5d",
       "version_major": 2,
       "version_minor": 0
      },
      "text/plain": [
       "  0%|          | 0/39 [00:00<?, ?it/s]"
      ]
     },
     "metadata": {},
     "output_type": "display_data"
    },
    {
     "name": "stdout",
     "output_type": "stream",
     "text": [
      "0.6125323757147177 tensor(0.6694, device='cuda:0')\n"
     ]
    },
    {
     "data": {
      "application/vnd.jupyter.widget-view+json": {
       "model_id": "62c80d05c9794fcf9beb87a4ad75f54e",
       "version_major": 2,
       "version_minor": 0
      },
      "text/plain": [
       "  0%|          | 0/6 [00:00<?, ?it/s]"
      ]
     },
     "metadata": {},
     "output_type": "display_data"
    },
    {
     "name": "stdout",
     "output_type": "stream",
     "text": [
      "Epoch [20/20], Train Loss: 0.6125, Train Acc: 0.6694, Valid Loss: 0.6492,  Valid Acc: 0.6371\n",
      "Model saved to final_model2_log.pt\n",
      "Best Validation:  tensor(0.6371, device='cuda:0')\n",
      "Finished Training\n"
     ]
    }
   ],
   "source": [
    "# Q8 C final model selection\n",
    "final_model2 = Siamese_Network_Modified().to(device)\n",
    "criterion = nn.BCELoss()\n",
    "optimizer = optim.Adam(final_model.parameters(), lr = 0.001)\n",
    "num_epochs = 20\n",
    "save_file = f'final_model2_log.pt' # log is maintained in this saved file\n",
    "\n",
    "\n",
    "TRAIN_Modified(final_model, train_loader_mod, valid_loader_mod,  num_epochs, criterion, optimizer, 0, device, save_file)"
   ]
  },
  {
   "cell_type": "code",
   "execution_count": 49,
   "metadata": {},
   "outputs": [
    {
     "name": "stdout",
     "output_type": "stream",
     "text": [
      "Threshold:  0.5104696154594421\n",
      "Accuracy:  0.47\n"
     ]
    },
    {
     "data": {
      "text/plain": [
       "(0.5104696154594421, 0.47)"
      ]
     },
     "execution_count": 49,
     "metadata": {},
     "output_type": "execute_result"
    }
   ],
   "source": [
    "accuracy(final_model2, valid_loader)"
   ]
  },
  {
   "cell_type": "markdown",
   "metadata": {},
   "source": [
    "# 4.2.6 Prediction"
   ]
  },
  {
   "cell_type": "code",
   "execution_count": 52,
   "metadata": {},
   "outputs": [
    {
     "name": "stdout",
     "output_type": "stream",
     "text": [
      "Model loaded from /home/glarbsten/Desktop/Spring2021/COMP4211/Assignments/Assignment2/pa2/final_model1_log.pt, with val accuracy: 0.7885714173316956\n"
     ]
    }
   ],
   "source": [
    "load_checkpoint(os.path.join(PATH,'final_model1_log.pt'), final_model, optimizer)\n",
    "\n",
    "\n",
    "test_loader = DataLoader(test_dataset, batch_size=1, shuffle=False)\n",
    "\n",
    "def predictTest(net, test_loader, threshold):\n",
    "    net.eval()\n",
    "    y_pred = []\n",
    "    with torch.no_grad():\n",
    "        for img1, img2, lab in test_loader:\n",
    "            img1, img2 = img1.to(device), img2.to(device)\n",
    "            outputs = net(img1,img2)\n",
    "            y_pred.extend(outputs.cpu().detach().numpy())\n",
    "            \n",
    "        testDf = pd.read_csv(os.path.join(PATH,'test.csv'))\n",
    "        \n",
    "        for i in range(len(y_pred)):\n",
    "            prediction = 0\n",
    "            if y_pred[i] > threshold:\n",
    "                prediction = 1\n",
    "            testDf.loc[i,'target'] = prediction\n",
    "        testDf.to_csv(os.path.join(PATH,'20557578_p1.csv'), index=False)\n",
    "threshold = findThreshold(final_model,valid_loader)\n",
    "predictTest(final_model, test_loader, threshold)"
   ]
  },
  {
   "cell_type": "code",
   "execution_count": 53,
   "metadata": {},
   "outputs": [
    {
     "data": {
      "text/plain": [
       "0.6025522351264954"
      ]
     },
     "execution_count": 53,
     "metadata": {},
     "output_type": "execute_result"
    }
   ],
   "source": [
    "threshold"
   ]
  },
  {
   "cell_type": "code",
   "execution_count": null,
   "metadata": {},
   "outputs": [],
   "source": []
  }
 ],
 "metadata": {
  "accelerator": "GPU",
  "colab": {
   "authorship_tag": "ABX9TyNcnTn1fDfY02zMjprhmXP7",
   "mount_file_id": "18czsjNEhgkROaqV3AMB0wewv2VAturOO",
   "name": "COMP4211_Assignment2.ipynb",
   "provenance": []
  },
  "kernelspec": {
   "display_name": "Python 3",
   "language": "python",
   "name": "python3"
  },
  "language_info": {
   "codemirror_mode": {
    "name": "ipython",
    "version": 3
   },
   "file_extension": ".py",
   "mimetype": "text/x-python",
   "name": "python",
   "nbconvert_exporter": "python",
   "pygments_lexer": "ipython3",
   "version": "3.8.5"
  }
 },
 "nbformat": 4,
 "nbformat_minor": 1
}
