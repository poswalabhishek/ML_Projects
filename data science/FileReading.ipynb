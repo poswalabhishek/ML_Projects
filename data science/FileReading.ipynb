{
 "cells": [
  {
   "cell_type": "markdown",
   "metadata": {},
   "source": [
    "Given file \"year2017.csv\"<br>\n",
    "It is an open-source database including information on terrorist attacks around the world in 2017. This dataset includes systematic data on domestic as well as international terrorist incidents that have occurred during this time period"
   ]
  },
  {
   "cell_type": "markdown",
   "metadata": {},
   "source": [
    "# Problem Statement :\n",
    "Find the total number people killed in each month.<br>\n",
    "Print the month and count of killed people as integer value.<br>"
   ]
  },
  {
   "cell_type": "code",
   "execution_count": 7,
   "metadata": {},
   "outputs": [
    {
     "name": "stdout",
     "output_type": "stream",
     "text": [
      "1 2275\n",
      "2 2027\n",
      "3 2463\n",
      "4 2142\n",
      "5 2936\n",
      "6 2506\n",
      "7 2228\n",
      "8 2145\n",
      "9 1764\n",
      "10 2580\n",
      "11 2014\n",
      "12 1365\n"
     ]
    }
   ],
   "source": [
    "## Open and read data file as specified in the question\n",
    "## Print the required output in given format\n",
    "import csv\n",
    "with open(\"year2017.csv\", 'r') as f:\n",
    "    f_d = csv.DictReader(f, skipinitialspace = True)\n",
    "    \n",
    "    d = {}\n",
    "    for row in f_d:\n",
    "        key = row['Month']\n",
    "        val = row['Killed']\n",
    "        \n",
    "        if val != '':\n",
    "            d[key] = d.get(key, 0) + int(float(val))\n",
    "        \n",
    "    for row in d:\n",
    "        print(row, d[row])"
   ]
  },
  {
   "cell_type": "markdown",
   "metadata": {},
   "source": [
    "# Problem Statement :\n",
    "Find total number of casualties in each country.<br>\n",
    "Print number of casualties as integer value.<br>\n",
    "Note : For any missing value of casualty column, take 0 as value<br>\n",
    "Output Format :<br>\n",
    "country_1 casualties_1<br>\n",
    "country_2 casualties_2<br>\n",
    "country_3 casualties_3<br>\n",
    "and so on"
   ]
  },
  {
   "cell_type": "code",
   "execution_count": 11,
   "metadata": {},
   "outputs": [
    {
     "name": "stdout",
     "output_type": "stream",
     "text": [
      "Afghanistan 11698\n",
      "Sudan 255\n",
      "Democratic Republic of the Congo 636\n",
      "Turkey 548\n",
      "Pakistan 3153\n",
      "Italy 8\n",
      "Somalia 3038\n",
      "Bahrain 32\n",
      "Myanmar 85\n",
      "Burundi 147\n",
      "Iraq 10999\n",
      "Burkina Faso 98\n",
      "India 1157\n",
      "Algeria 31\n",
      "United States 1027\n",
      "Philippines 1148\n",
      "Greece 7\n",
      "Mali 657\n",
      "Yemen 1446\n",
      "Libya 316\n",
      "Central African Republic 569\n",
      "Egypt 1499\n",
      "Lebanon 66\n",
      "Mexico 29\n",
      "Cameroon 448\n",
      "Ethiopia 80\n",
      "Nigeria 2300\n",
      "Kyrgyzstan 0\n",
      "Syria 2731\n",
      "Serbia 1\n",
      "Sweden 37\n",
      "Thailand 342\n",
      "Iran 106\n",
      "France 35\n",
      "United Kingdom 343\n",
      "West Bank and Gaza Strip 125\n",
      "Ukraine 104\n",
      "Paraguay 5\n",
      "Colombia 188\n",
      "Malaysia 6\n",
      "Russia 175\n",
      "Kosovo 4\n",
      "South Africa 28\n",
      "Chile 2\n",
      "Kenya 204\n",
      "Israel 18\n",
      "Saudi Arabia 100\n",
      "China 92\n",
      "Nepal 97\n",
      "Ecuador 0\n",
      "Niger 210\n",
      "Venezuela 37\n",
      "South Sudan 836\n",
      "Canada 31\n",
      "Bangladesh 97\n",
      "Tajikistan 1\n",
      "Ireland 0\n",
      "Peru 12\n",
      "Angola 416\n",
      "Dominican Republic 3\n",
      "Poland 0\n",
      "Jordan 5\n",
      "Azerbaijan 7\n",
      "Mozambique 33\n",
      "Indonesia 47\n",
      "Germany 11\n",
      "Brazil 0\n",
      "Macedonia 0\n",
      "Tunisia 10\n",
      "Uganda 9\n",
      "Chad 2\n",
      "Finland 12\n",
      "Australia 25\n",
      "Norway 0\n",
      "Vietnam 0\n",
      "Tanzania 10\n",
      "Sierra Leone 0\n",
      "Sri Lanka 4\n",
      "Maldives 1\n",
      "Belgium 4\n",
      "Rwanda 10\n",
      "Honduras 2\n",
      "Czech Republic 0\n",
      "Malta 1\n",
      "Gabon 2\n",
      "Laos 1\n",
      "Austria 2\n",
      "Zambia 0\n",
      "Argentina 0\n",
      "Zimbabwe 1\n",
      "Ivory Coast 5\n",
      "Papua New Guinea 3\n",
      "Spain 132\n",
      "Taiwan 1\n",
      "Jamaica 0\n",
      "Albania 0\n",
      "Liberia 0\n",
      "Georgia 5\n",
      "Malawi 0\n",
      "Netherlands 0\n",
      "Latvia 0\n"
     ]
    }
   ],
   "source": [
    "import csv\n",
    "with open(\"year2017.csv\", 'r') as f:\n",
    "    f_d = csv.DictReader(f, skipinitialspace = True)\n",
    "    \n",
    "    d = {}\n",
    "    for row in f_d:\n",
    "        key = row['Country']\n",
    "        val = row['casualities']\n",
    "        \n",
    "        if val != '':\n",
    "            d[key] = d.get(key, 0) + int(float(val))\n",
    "    \n",
    "    for row in d:\n",
    "        print(row, d[row])"
   ]
  },
  {
   "cell_type": "code",
   "execution_count": null,
   "metadata": {},
   "outputs": [],
   "source": []
  }
 ],
 "metadata": {
  "kernelspec": {
   "display_name": "Python 3",
   "language": "python",
   "name": "python3"
  },
  "language_info": {
   "codemirror_mode": {
    "name": "ipython",
    "version": 3
   },
   "file_extension": ".py",
   "mimetype": "text/x-python",
   "name": "python",
   "nbconvert_exporter": "python",
   "pygments_lexer": "ipython3",
   "version": "3.8.5"
  }
 },
 "nbformat": 4,
 "nbformat_minor": 4
}
