{
 "cells": [
  {
   "cell_type": "markdown",
   "metadata": {},
   "source": [
    "# Palindrome"
   ]
  },
  {
   "cell_type": "code",
   "execution_count": 2,
   "metadata": {},
   "outputs": [
    {
     "name": "stdout",
     "output_type": "stream",
     "text": [
      "true\n"
     ]
    }
   ],
   "source": [
    "from sys import stdin\n",
    "def isPalindrome(string):\n",
    "    # Your code goes here\n",
    "    x = len(string)\n",
    "    for i in range (0, x):\n",
    "        if string[i] != string[-(i + 1)]:\n",
    "            return False\n",
    "    return True\n",
    "\n",
    "#main\n",
    "string = stdin.readline().strip()\n",
    "ans = isPalindrome(string)\n",
    "\n",
    "if ans:\n",
    "    print('true')\n",
    "else:\n",
    "    print('false')"
   ]
  },
  {
   "cell_type": "code",
   "execution_count": 4,
   "metadata": {},
   "outputs": [],
   "source": [
    "from sys import stdin\n",
    "\n",
    "\n",
    "def printSubstrings(string) :\n",
    "    # Your code goes here\n",
    "    x = len(string)\n",
    "    for i in range (0, x):\n",
    "        for j in range (i, x):\n",
    "            print (string[i:j])\n",
    "\n",
    "\n",
    "#main\n",
    "string = stdin.readline().strip();\n",
    "printSubstrings(string)"
   ]
  },
  {
   "cell_type": "markdown",
   "metadata": {},
   "source": [
    "# Dictionary\n",
    "\n",
    "Different Names\n",
    "Send Feedback\n",
    "In Little Flowers Public School, there are many students with same first names. You are given a task to find the students with same names. You will be given a string comprising of all the names of students and you have to tell the name and count of those students having same. If all the names are unique, print -1 instead. <br>\n",
    "Note: We don't have to mention names whose frequency is 1. <br>\n",
    "Input Format:<br>\n",
    "The only line of input will have a string ‘str’ with space separated first names of students.<br>\n",
    "Output Format:<br>\n",
    "Print the names of students along with their count if they are repeating. If no name is repeating, print -1<br>\n",
    "Constraints:<br>\n",
    "1 <= |str| <= 10^5<br>\n",
    "Time Limit: 1 second<br>\n",
    "Sample Input 1:<br>\n",
    "Abhishek harshit Ayush harshit Ayush Iti Deepak Ayush Iti<br>\n",
    "Sample Output 1:<br>\n",
    "harshit 2<br>\n",
    "Ayush 3<br>\n",
    "Iti 2<br>\n",
    "Sample Input 2:<br>\n",
    "Abhishek Harshit Ayush Iti<br>\n",
    "Sample Output:<br>\n",
    "-1<br>"
   ]
  },
  {
   "cell_type": "code",
   "execution_count": 4,
   "metadata": {},
   "outputs": [
    {
     "name": "stdout",
     "output_type": "stream",
     "text": [
      "asa li asa li as a k k\n",
      "asa 2\n",
      "li 2\n",
      "k 2\n"
     ]
    }
   ],
   "source": [
    "def differentNames(l):\n",
    "    # Please add your code here\n",
    "    d = {}\n",
    "    for name in l:\n",
    "        d[name] = d.get(name, 0) + 1\n",
    "    for n in d:\n",
    "        if d[n] > 1:\n",
    "            print (n, d[n])\n",
    "    return d\n",
    "    pass\n",
    "\n",
    "# Main\n",
    "names = input().strip().split()\n",
    "m = differentNames(names)"
   ]
  },
  {
   "cell_type": "markdown",
   "metadata": {},
   "source": [
    "You are provided with an integer array where each number is present either odd number of times or even number of times. You have to find and return the number which is present even number of times. <br>\n",
    "If multiple numbers are present even number of times, then return that number which occurs first among these numbers in the given array. If no such number exists, then return -1."
   ]
  },
  {
   "cell_type": "code",
   "execution_count": 5,
   "metadata": {},
   "outputs": [
    {
     "name": "stdout",
     "output_type": "stream",
     "text": [
      "1\n",
      "1\n",
      "None\n"
     ]
    }
   ],
   "source": [
    "def evenCount(arr):\n",
    "    d = {}\n",
    "    for i in arr:\n",
    "        d[i] = d.get(i, 0) + 1\n",
    "    \n",
    "    for i in arr:\n",
    "        if not(d[i] % 2):\n",
    "            return i\n",
    "            \n",
    "    pass\n",
    "\n",
    "# Main\n",
    "n=int(input())\n",
    "arr=list(int(i) for i in input().strip().split(' '))\n",
    "print(evenCount(arr))"
   ]
  },
  {
   "cell_type": "code",
   "execution_count": null,
   "metadata": {},
   "outputs": [],
   "source": [
    "import operator\n",
    "\n",
    "def fact (n):\n",
    "    if n < 1:\n",
    "        return 0\n",
    "    if n == 1:\n",
    "        return 1\n",
    "    return n * fact(n - 1)\n",
    "\n",
    "def printPairDiffK(l, k):\n",
    "    #############################\n",
    "    # PLEASE ADD YOUR CODE HERE #\n",
    "    #############################\n",
    "    counter = 0\n",
    "    d = {}\n",
    "    for i in l:\n",
    "        d[i] = d.get(i, 0) + 1\n",
    "        \n",
    "    for i in d:\n",
    "        diff1 = i - k\n",
    "        diff2 = i + k\n",
    "        # print( diff2)\n",
    "        # print(d)\n",
    "        if diff1 in d and d[i] > 0:\n",
    "             if i == diff2:\n",
    "                d[i] -= 1\n",
    "                # print(d[i])\n",
    "                counter += fact(d[i])\n",
    "             else:\n",
    "                counter = counter + (d[diff1] * d[i])\n",
    "        if diff2 in d and d[i] > 0:\n",
    "            if i == diff2:\n",
    "                d[i] -= 1\n",
    "                # print(d[i])\n",
    "                counter += fact(d[i])\n",
    "            else:\n",
    "                counter = counter + (d[diff2] * d[i])\n",
    "        d[i] = 0\n",
    "    return counter\n",
    "    \n",
    "# Main\n",
    "n=int(input())\n",
    "l=list(int(i) for i in input().strip().split(' '))\n",
    "k=int(input())\n",
    "print(printPairDiffK(l, k))"
   ]
  },
  {
   "cell_type": "code",
   "execution_count": 3,
   "metadata": {},
   "outputs": [
    {
     "name": "stdout",
     "output_type": "stream",
     "text": [
      "Rohan 20\n"
     ]
    }
   ],
   "source": [
    "class Student:\n",
    "    def __init__(self,name,age):\n",
    "        self.name = \"Rohan\"\n",
    "        self.age = 20\n",
    "\n",
    "    def print_student_details(self):\n",
    "        print(self.name, end= \" \")\n",
    "        print(self.age)\n",
    "        \n",
    "s = Student(\"Parikh\",25)\n",
    "s.print_student_details()"
   ]
  },
  {
   "cell_type": "code",
   "execution_count": 10,
   "metadata": {},
   "outputs": [
    {
     "name": "stdout",
     "output_type": "stream",
     "text": [
      "1\n"
     ]
    }
   ],
   "source": [
    "class A:\n",
    "     def __init__(self):\n",
    "         self.x = 1\n",
    "         self.__y = 1\n",
    "     def getY(self):\n",
    "         return self.__y\n",
    "a = A()\n",
    "a.__y = 45\n",
    "print(a.getY())"
   ]
  },
  {
   "cell_type": "code",
   "execution_count": 12,
   "metadata": {},
   "outputs": [
    {
     "data": {
      "text/plain": [
       "45"
      ]
     },
     "execution_count": 12,
     "metadata": {},
     "output_type": "execute_result"
    }
   ],
   "source": [
    "a.x\n",
    "a.__y"
   ]
  },
  {
   "cell_type": "code",
   "execution_count": 27,
   "metadata": {},
   "outputs": [
    {
     "name": "stdout",
     "output_type": "stream",
     "text": [
      "R\n",
      "R 20\n"
     ]
    }
   ],
   "source": [
    "class Student:\n",
    "     def __init__(self,name,age):\n",
    "        self.__name = name\n",
    "        self.age = age\n",
    "     def getName (self):\n",
    "        return self.__name\n",
    "     def print_student_details(self):\n",
    "        print(self.__name, end= \" \")\n",
    "        print(self.age)\n",
    "\n",
    "s = Student(\"R\",20)\n",
    "print(s.getName())\n",
    "s.print_student_details()"
   ]
  },
  {
   "cell_type": "code",
   "execution_count": 3,
   "metadata": {},
   "outputs": [
    {
     "name": "stdout",
     "output_type": "stream",
     "text": [
      "[[ 1  2  3  4  5]\n",
      " [ 6  7  8  9 10]\n",
      " [11 12 13 14 15]\n",
      " [16 17 18 19 20]]\n"
     ]
    }
   ],
   "source": [
    "## Open and read data file as specified in the question\n",
    "## Print the required output in given format\n",
    "import numpy as np\n",
    "input_=np.arange(1,21,1)\n",
    "input_=input_.reshape(4,5)\n",
    "print(input_)"
   ]
  },
  {
   "cell_type": "code",
   "execution_count": 13,
   "metadata": {},
   "outputs": [
    {
     "name": "stdout",
     "output_type": "stream",
     "text": [
      "11 12 13 \n",
      "9 14 19 \n",
      "11 12 13 14 15 16 17 18 19 20 \n",
      "7 8 12 13 "
     ]
    }
   ],
   "source": [
    "for i in input_[2, 0:3]:\n",
    "    print(i, end = \" \")\n",
    "print()\n",
    "for i in input_[1:, 3]:\n",
    "    print(i, end = \" \")\n",
    "print()\n",
    "for i in input_[2:]:\n",
    "    for j in i:\n",
    "        print(j, end = \" \")\n",
    "print()\n",
    "for i in input_[1:3, 1:3]:\n",
    "    for j in i:\n",
    "        print(j, end = \" \")"
   ]
  },
  {
   "cell_type": "code",
   "execution_count": 10,
   "metadata": {},
   "outputs": [
    {
     "name": "stdout",
     "output_type": "stream",
     "text": [
      "(array([0, 1, 4]),)\n",
      "0 1 4 "
     ]
    }
   ],
   "source": [
    "## Open and read data file as specified in the question\n",
    "## Print the required output in given format\n",
    "import numpy as np\n",
    "\n",
    "b = np.array([1,2,0,0,4,0])\n",
    "bool_arr = np.where(b > 0)\n",
    "print(bool_arr)\n",
    "for i in bool_arr:\n",
    "    for j in i:\n",
    "        print (j, end = \" \")"
   ]
  },
  {
   "cell_type": "code",
   "execution_count": 13,
   "metadata": {},
   "outputs": [
    {
     "name": "stdout",
     "output_type": "stream",
     "text": [
      "1 4 7 "
     ]
    }
   ],
   "source": [
    "# Given an integer array of size 10. Print the index of elements which are multiple of 3.\n",
    "\n",
    "\n",
    "import numpy as np\n",
    "\n",
    "array = np.array([ 1,  3,  5,  7,  9, 11, 13, 15, 17, 19])\n",
    "three_multiple = np.where(array % 3 == 0)\n",
    "for i in three_multiple:\n",
    "    for j in i:\n",
    "        print(j, end = \" \")"
   ]
  },
  {
   "cell_type": "code",
   "execution_count": 15,
   "metadata": {},
   "outputs": [
    {
     "name": "stdout",
     "output_type": "stream",
     "text": [
      "-1 2 -1 4 -1 6 -1 8 -1 10 "
     ]
    }
   ],
   "source": [
    "# Problem Statemnt:\n",
    "# Given an integer array of size 10. Replace the odd number in numpy array with -1 ?\n",
    "# Note: Generate the following array\n",
    "# array([1, 2, 3, 4, 5, 6, 7, 8, 9, 10])\n",
    "# Print the Numpy array.\n",
    "# Output Format :\n",
    "# firstElement secondElement  ... \n",
    "\n",
    "import numpy as np\n",
    "array = np.array([1, 2, 3, 4, 5, 6, 7, 8, 9, 10])\n",
    "array[array % 2 == 1] = -1\n",
    "for i in array:\n",
    "    print(i, end = \" \")"
   ]
  },
  {
   "cell_type": "code",
   "execution_count": 18,
   "metadata": {},
   "outputs": [
    {
     "name": "stdout",
     "output_type": "stream",
     "text": [
      "11\n",
      "2\n",
      "13\n",
      "4\n",
      "15\n",
      "6\n",
      "0\n",
      "8\n",
      "19\n"
     ]
    }
   ],
   "source": [
    "# Problem Statemnt:\n",
    "# Given an integer array of size 10 and replace the first occurrence of maximum value by 0?\n",
    "# Note: Generate the following array\n",
    "# array([11, 2, 13, 4, 15, 6, 27, 8, 19])\n",
    "# Print the Numpy array.\n",
    "# Output Format :\n",
    "# firstElement\n",
    "# secondElement \n",
    "# ... \n",
    "import numpy as np\n",
    "array = np.array([11, 2, 13, 4, 15, 6, 27, 8, 19])\n",
    "array[array.argmax()] = 0\n",
    "for i in array:\n",
    "    print(i)"
   ]
  },
  {
   "cell_type": "code",
   "execution_count": 21,
   "metadata": {},
   "outputs": [
    {
     "name": "stdout",
     "output_type": "stream",
     "text": [
      "1\n",
      "2\n",
      "-3\n",
      "-4\n",
      "-5\n",
      "-6\n",
      "-7\n",
      "-8\n",
      "9\n",
      "10\n"
     ]
    }
   ],
   "source": [
    "# Problem Statemnt:\n",
    "# Given a 1D array, negate all elements which are between 3 and 8 (both inclusive)?\n",
    "# Note: Generate the following array\n",
    "# array([1, 2, 3, 4, 5, 6, 7, 8, 9, 10])\n",
    "# Print the Numpy array.\n",
    "# Output Format :\n",
    "# firstElement \n",
    "# secondElement  \n",
    "# ... \n",
    "import numpy as np\n",
    "array = np.array([1, 2, 3, 4, 5, 6, 7, 8, 9, 10])\n",
    "array[2:8] = -array[2:8]\n",
    "for i in array:\n",
    "    print (i)"
   ]
  },
  {
   "cell_type": "code",
   "execution_count": 45,
   "metadata": {},
   "outputs": [
    {
     "name": "stdout",
     "output_type": "stream",
     "text": [
      "15 156\n",
      "19 180\n",
      "20 162\n",
      "21 157\n",
      "22 158\n",
      "23 179\n",
      "16 182\n",
      "18 183\n",
      "20 159\n",
      "15 160\n",
      "17 172\n"
     ]
    }
   ],
   "source": [
    "# Problem Statemnt:\n",
    "# Given age and height of 20 students in two different numpy arrays with name age and height (in cms). Print the age of those students whose height is above 155 cm.\n",
    "# Print the Numpy array.\n",
    "# Output Format :\n",
    "# age1 height1 \n",
    "# age2 height2 \n",
    "# ... \n",
    "\n",
    "import numpy as np\n",
    "age = np.array ([15,17,19,20,14,21,16,19,13,20,22,23,21,16,18,19,20,15,17,18])\n",
    "height = np.array ([156,144,180,162,152,157,154,155,151,150,158,179,126,182,183,154,159,160,172,149])\n",
    "\n",
    "index=np.where(height>155)\n",
    "# print(index)\n",
    "for i in index:\n",
    "    for j in i:\n",
    "        print (age[j], height[j])"
   ]
  },
  {
   "cell_type": "code",
   "execution_count": 72,
   "metadata": {},
   "outputs": [
    {
     "name": "stdout",
     "output_type": "stream",
     "text": [
      "[[ 6 5 4 3 2]\n",
      "[11 10 9 8 7]\n",
      "[16 15 14 13 12]\n",
      "[21 20 19 18 17]]\n"
     ]
    }
   ],
   "source": [
    "import numpy as np\n",
    "\n",
    "arr = np.array( [[21, 20, 19, 18, 17], [16, 15, 14, 13, 12], [11, 10,  9,  8,  7], [6,  5,  4,  3,  2]])\n",
    "print('[', end = \"\")\n",
    "for i in range(len(arr)):\n",
    "    bool_ele = arr[i:, 1].argmin()\n",
    "#     print(bool_ele)\n",
    "    x = []\n",
    "    x = arr[bool_ele]\n",
    "    if i == 0:\n",
    "        print('[ ', end = \"\")\n",
    "        for i in range(len(x)):\n",
    "            if i == len(x) - 1:\n",
    "                print(x[i], end = \"\")\n",
    "            else:\n",
    "                print (x[i], end=\" \")\n",
    "        print(']')\n",
    "    elif i == len(arr) - 1:\n",
    "        print('[', end = \"\")\n",
    "        for i in range(len(x)):\n",
    "            if i == len(x) - 1:\n",
    "                print(x[i], end = \"\")\n",
    "            else:\n",
    "                print (x[i], end=\" \")\n",
    "        print(']', end = \"\")\n",
    "    else:\n",
    "        print('[', end = \"\")\n",
    "        for i in range(len(x)):\n",
    "            if i == len(x) - 1:\n",
    "                print(x[i], end = \"\")\n",
    "            else:\n",
    "                print (x[i], end=\" \")\n",
    "        print(']')\n",
    "#     arr[bool_ele] = arr[i]\n",
    "#     arr[i] = x\n",
    "print(']')\n",
    "#     arr[i], arr[bool_ele] = arr[bool_ele], arr[i]\n",
    "# print (arr)"
   ]
  }
 ],
 "metadata": {
  "kernelspec": {
   "display_name": "Python 3",
   "language": "python",
   "name": "python3"
  },
  "language_info": {
   "codemirror_mode": {
    "name": "ipython",
    "version": 3
   },
   "file_extension": ".py",
   "mimetype": "text/x-python",
   "name": "python",
   "nbconvert_exporter": "python",
   "pygments_lexer": "ipython3",
   "version": "3.8.5"
  },
  "widgets": {
   "application/vnd.jupyter.widget-state+json": {
    "state": {},
    "version_major": 2,
    "version_minor": 0
   }
  }
 },
 "nbformat": 4,
 "nbformat_minor": 4
}
