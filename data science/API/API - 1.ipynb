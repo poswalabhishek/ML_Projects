{
 "cells": [
  {
   "cell_type": "code",
   "execution_count": 6,
   "id": "proved-warrant",
   "metadata": {},
   "outputs": [
    {
     "data": {
      "text/plain": [
       "200"
      ]
     },
     "execution_count": 6,
     "metadata": {},
     "output_type": "execute_result"
    }
   ],
   "source": [
    "import requests\n",
    "\n",
    "response = requests.get('https://www.codingninjas.in/api/v3/courses')\n",
    "response.status_code"
   ]
  },
  {
   "cell_type": "code",
   "execution_count": 7,
   "id": "adult-edgar",
   "metadata": {},
   "outputs": [
    {
     "data": {
      "text/plain": [
       "'utf-8'"
      ]
     },
     "execution_count": 7,
     "metadata": {},
     "output_type": "execute_result"
    }
   ],
   "source": [
    "response.encoding"
   ]
  },
  {
   "cell_type": "code",
   "execution_count": 8,
   "id": "blond-third",
   "metadata": {},
   "outputs": [
    {
     "data": {
      "text/plain": [
       "'{\"data\":{\"courses\":[{\"id\":34,\"title\":\"Front End (React)\",\"online_title\":\"online-web-dev-with-react\",\"offline_title\":\"\",\"name\":\"Advanced  Front-End Web Development with React\",\"level\":\"Development Courses\",\"brief_intro\":\"Advanced  Front-End Web Development with React\",\"preview_image_url\":\"https://ninjasfiles.s3.amazonaws.com/0000000000001179.png\",\"available_online\":true,\"available_offline\":false,\"is_career_track\":false,\"course_group_id\":2,\"classroom_icon_url\":\"https://files.codingninjas.in/0000000000003769.png\"},{\"id\":6,\"title\":\"Machine Learning\",\"online_title\":\"online-machine-learning-course\",\"offline_title\":\"classroom-machine-learning-course\",\"name\":\"Machine Learning \\\\u0026 Deep Learning Course\",\"level\":\"Advanced Courses\",\"brief_intro\":\"Machine learning engineers build, implement, and maintain machine learning systems in technology products.\",\"preview_image_url\":\"https://ninjasfiles.s3.amazonaws.com/0000000000001181.png\",\"available_online\":true,\"available_offline\":false,\"is_career_track\":false,\"course_group_id\":2,\"classroom_icon_url\":\"https://files.codingninjas.in/0000000000003766.png\"},{\"id\":16,\"title\":\"Competitive Programmer\",\"online_title\":\"online-competitive-programming-track\",\"offline_title\":\"\",\"name\":\"Ninja Competitive Programmer Track\",\"level\":\"Career Tracks\",\"brief_intro\":\"Competitive Track\",\"preview_image_url\":\"https://files.codingninjas.in/0000000000001177.png\",\"available_online\":true,\"available_offline\":false,\"is_career_track\":true,\"course_group_id\":3,\"classroom_icon_url\":\"https://files.codingninjas.in/0000000000003775.png\"},{\"id\":43,\"title\":\"Premium Data Science Course\",\"online_title\":\"premium-data-science-course\",\"offline_title\":\"\",\"name\":\"Premium Data Science Course\",\"level\":\"Foundation Courses\",\"brief_intro\":\"\",\"preview_image_url\":\"\",\"available_online\":true,\"available_offline\":false,\"is_career_track\":false,\"course_group_id\":7,\"classroom_icon_url\":\"https://files.codingninjas.in/0000000000003765.png\"},{\"id\":42,\"title\":\"Premium Web Dev Course\",\"online_title\":\"premium-full-stack-web-development-course\",\"offline_title\":\"\",\"name\":\"Premium Full Stack Web Development\",\"level\":\"Foundation Courses\",\"brief_intro\":\"\",\"preview_image_url\":\"\",\"available_online\":true,\"available_offline\":false,\"is_career_track\":false,\"course_group_id\":7,\"classroom_icon_url\":\"https://files.codingninjas.in/0000000000003765.png\"},{\"id\":41,\"title\":\"Premium Competitive Course\",\"online_title\":\"premium-competitive-course\",\"offline_title\":\"\",\"name\":\"Premium Competitive Programming Course\",\"level\":\"Foundation Courses\",\"brief_intro\":\"\",\"preview_image_url\":\"\",\"available_online\":true,\"available_offline\":false,\"is_career_track\":false,\"course_group_id\":7,\"classroom_icon_url\":\"https://files.codingninjas.in/0000000000003765.png\"},{\"id\":45,\"title\":\"Premium Android Course\",\"online_title\":\"premium-android-app-development-course\",\"offline_title\":\"\",\"name\":\"Premium Android App Development\",\"level\":\"Foundation Courses\",\"brief_intro\":\"\",\"preview_image_url\":\"\",\"available_online\":true,\"available_offline\":false,\"is_career_track\":false,\"course_group_id\":7,\"classroom_icon_url\":\"https://files.codingninjas.in/0000000000003765.png\"},{\"id\":44,\"title\":\"Premium Machine Learning Course\",\"online_title\":\"premium-machine-learning-course\",\"offline_title\":\"\",\"name\":\"Premium Machine Learning Course\",\"level\":\"Foundation Courses\",\"brief_intro\":\"\",\"preview_image_url\":\"\",\"available_online\":true,\"available_offline\":false,\"is_career_track\":false,\"course_group_id\":7,\"classroom_icon_url\":\"https://files.codingninjas.in/0000000000003765.png\"},{\"id\":1,\"title\":\"C++ \\\\u0026 Data Structures\",\"online_title\":\"onlline-c-plus-plus-course\",\"offline_title\":\"classroom-c-plus-plus-course\",\"name\":\"C++ Foundation with Data Structures\",\"level\":\"Foundation Courses\",\"brief_intro\":\"Brief Intro\",\"preview_image_url\":\"https://files.codingninjas.in/0000000000001176.png\",\"available_online\":true,\"available_offline\":false,\"is_career_track\":false,\"course_group_id\":1,\"classroom_icon_url\":\"https://files.codingninjas.in/0000000000003771.png\"},{\"id\":40,\"title\":\"Data structures and Algorithms [C++/Java/Python]\",\"online_title\":\"premium-foundation-course\",\"offline_title\":\"\",\"name\":\"Premium Data structures and Algorithms [C++/Java/Python]\",\"level\":\"Foundation Courses\",\"brief_intro\":\"\",\"preview_image_url\":\"\",\"available_online\":true,\"available_offline\":false,\"is_career_track\":false,\"course_group_id\":7,\"classroom_icon_url\":\"https://files.codingninjas.in/0000000000003765.png\"},{\"id\":35,\"title\":\"Android Developer\",\"online_title\":\"online-android-development-career-track\",\"offline_title\":\"\",\"name\":\"Ninja Android Developer Career Track \",\"level\":\"Career Tracks\",\"brief_intro\":\"beginner to pro Android Developer!\",\"preview_image_url\":\"https://ninjasfiles.s3.amazonaws.com/0000000000001175.png\",\"available_online\":true,\"available_offline\":false,\"is_career_track\":true,\"course_group_id\":3,\"classroom_icon_url\":\"https://files.codingninjas.in/0000000000003774.png\"},{\"id\":12,\"title\":\"Web Dev (Full Stack)\",\"online_title\":\"online-full-stack-node-js-web-dev-course\",\"offline_title\":\"\",\"name\":\"Full Stack Web Development\",\"level\":\"Development Courses\",\"brief_intro\":\"Web Development\",\"preview_image_url\":\"https://ninjasfiles.s3.amazonaws.com/0000000000001179.png\",\"available_online\":true,\"available_offline\":false,\"is_career_track\":false,\"course_group_id\":2,\"classroom_icon_url\":\"https://files.codingninjas.in/0000000000003764.png\"},{\"id\":2,\"title\":\"Java \\\\u0026 Data Structures\",\"online_title\":\"online-java-course\",\"offline_title\":\"classroom-java-course\",\"name\":\"JAVA Foundation with Data Structures\",\"level\":\"Foundation Courses\",\"brief_intro\":\"Brief Intro\",\"preview_image_url\":\"https://ninjasfiles.s3.amazonaws.com/0000000000001255.png\",\"available_online\":true,\"available_offline\":false,\"is_career_track\":false,\"course_group_id\":1,\"classroom_icon_url\":\"https://files.codingninjas.in/0000000000003772.png\"},{\"id\":13,\"title\":\"Data Science\",\"online_title\":\"online-data-science-course\",\"offline_title\":\"\",\"name\":\"Data Science \\\\u0026 Machine Learning Complete\",\"level\":\"Advanced Courses\",\"brief_intro\":\"Brief Intro\",\"preview_image_url\":\"https://ninjasfiles.s3.amazonaws.com/0000000000001371.png\",\"available_online\":true,\"available_offline\":false,\"is_career_track\":false,\"course_group_id\":2,\"classroom_icon_url\":\"https://files.codingninjas.in/0000000000003763.png\"},{\"id\":4,\"title\":\"Interview Preparation\",\"online_title\":\"online-interview-preparation\",\"offline_title\":\"classroom-interview-preparation\",\"name\":\"Interview Preparation Course\",\"level\":\"Advanced Courses\",\"brief_intro\":\"Brief Intro\",\"preview_image_url\":\"https://ninjasfiles.s3.amazonaws.com/0000000000001178.png\",\"available_online\":true,\"available_offline\":false,\"is_career_track\":false,\"course_group_id\":1,\"classroom_icon_url\":\"https://files.codingninjas.in/0000000000003765.png\"},{\"id\":36,\"title\":\"Python \\\\u0026 Web Dev (MERN)\",\"online_title\":\"ninja-web-developer-career-track-mern-stack\",\"offline_title\":\"\",\"name\":\"Ninja  Web Developer Career Track - NodeJS \\\\u0026 ReactJs\",\"level\":\"Career Tracks\",\"brief_intro\":\"Programming foundation + MERN Stack Web Development complete Career Track\",\"preview_image_url\":\"https://ninjasfiles.s3.amazonaws.com/0000000000001179.png\",\"available_online\":true,\"available_offline\":false,\"is_career_track\":true,\"course_group_id\":3,\"classroom_icon_url\":\"https://files.codingninjas.in/0000000000003777.png\"},{\"id\":10,\"title\":\"Competitive Programming\",\"online_title\":\"online-competitive-programming-course\",\"offline_title\":\"\",\"name\":\"Competitive Programming Course\",\"level\":\"Advanced Courses\",\"brief_intro\":\"Eminence\",\"preview_image_url\":\"https://ninjasfiles.s3.amazonaws.com/0000000000001177.png\",\"available_online\":true,\"available_offline\":false,\"is_career_track\":false,\"course_group_id\":1,\"classroom_icon_url\":\"https://files.codingninjas.in/0000000000003762.png\"},{\"id\":17,\"title\":\"C++ \\\\u0026 Web Dev (Node.js)\",\"online_title\":\"web-developer-career-track\",\"offline_title\":\"\",\"name\":\"Ninja  Web Developer Career Track - NodeJS\",\"level\":\"Career Tracks\",\"brief_intro\":\"Programming foundation + Full Stack Web Development Career Track\",\"preview_image_url\":\"https://ninjasfiles.s3.amazonaws.com/0000000000001179.png\",\"available_online\":true,\"available_offline\":false,\"is_career_track\":true,\"course_group_id\":3,\"classroom_icon_url\":\"https://files.codingninjas.in/0000000000003777.png\"},{\"id\":33,\"title\":\"Android (Kotlin)\",\"online_title\":\"online-android-Development-kotlin\",\"offline_title\":\"\",\"name\":\"Android Development with Kotlin\",\"level\":\"Development Courses\",\"brief_intro\":\"Android Development Kotlin\",\"preview_image_url\":\"https://ninjasfiles.s3.amazonaws.com/0000000000001175.png\",\"available_online\":true,\"available_offline\":false,\"is_career_track\":false,\"course_group_id\":2,\"classroom_icon_url\":\"https://files.codingninjas.in/0000000000003761.png\"},{\"id\":11,\"title\":\"Python \\\\u0026 Data Structures\",\"online_title\":\"online-python-course\",\"offline_title\":\"offline-python-course\",\"name\":\"Python Foundation with Data Structures\",\"level\":\"Foundation Courses\",\"brief_intro\":\"Python Foundation\",\"preview_image_url\":\"https://ninjasfiles.s3.amazonaws.com/0000000000001282.png\",\"available_online\":true,\"available_offline\":false,\"is_career_track\":false,\"course_group_id\":1,\"classroom_icon_url\":\"https://files.codingninjas.in/0000000000003773.png\"},{\"id\":18,\"title\":\"Data Scientist\",\"online_title\":\"data-Scientist-career-track\",\"offline_title\":\"\",\"name\":\"Ninja Data Scientist Career Track\",\"level\":\"Career Tracks\",\"brief_intro\":\"Programming foundation + Data Science with ML career track\",\"preview_image_url\":\"https://ninjasfiles.s3.amazonaws.com/0000000000001371.png\",\"available_online\":true,\"available_offline\":false,\"is_career_track\":true,\"course_group_id\":3,\"classroom_icon_url\":\"https://files.codingninjas.in/0000000000003778.png\"},{\"id\":21,\"title\":\"Aptitude Preparation\",\"online_title\":\"online-aptitude-preparation\",\"offline_title\":\"\",\"name\":\"Aptitude Preparation Course\",\"level\":\"Foundation Courses\",\"brief_intro\":\"Brief Intro\",\"preview_image_url\":\"https://ninjasfiles.s3.amazonaws.com/0000000000001178.png\",\"available_online\":true,\"available_offline\":false,\"is_career_track\":false,\"course_group_id\":1,\"classroom_icon_url\":\"https://files.codingninjas.in/0000000000003770.png\"},{\"id\":19,\"title\":\"Machine Learning\",\"online_title\":\"machine-learning-engineer-career-track\",\"offline_title\":\"\",\"name\":\"Ninja Machine Learning Engineer Career Track\",\"level\":\"Career Tracks\",\"brief_intro\":\"Programming foundation + Machine Learning career track\",\"preview_image_url\":\"https://ninjasfiles.s3.amazonaws.com/0000000000001181.png\",\"available_online\":true,\"available_offline\":false,\"is_career_track\":true,\"course_group_id\":3,\"classroom_icon_url\":\"https://files.codingninjas.in/0000000000003776.png\"}],\"course_groups\":[{\"id\":1,\"name\":\"Foundation, Algorithmic \\\\u0026 Advanced\",\"order\":1,\"course_ids\":[1,2,4,10,11,21],\"json_data\":{\"color\":\"#FFEBC2\",\"image_link\":\"https://ninjasfiles.s3.amazonaws.com/0000000000003821.png\",\"text_color\":\"#AC933C\",\"short_description\":\"Foundation courses are designed such that\\xa0\\\\u003cstrong\\\\u003eno prerequisites are required.\\\\u003c/strong\\\\u003e\\xa0Data Structures(DS) and Algorithms(algo.) parts build on the basics to give you a\\xa0\\\\u003cstrong\\\\u003esolid programming foundation\\\\u003c/strong\\\\u003e.\\xa0Competitive is where you start to\\xa0\\\\u003cstrong\\\\u003epush the boundaries!\\\\u003c/strong\\\\u003e\",\"mobile_short_description\":\"Foundation courses are designed such that\\xa0\\\\u003cspan\\\\u003eno prerequisites are required.\\\\u003c/span\\\\u003e\"},\"is_independent\":false},{\"id\":2,\"name\":\"Data \\\\u0026 Development\",\"order\":2,\"course_ids\":[34,6,12,13,33],\"json_data\":{\"color\":\"#80D4B1\",\"image_link\":\"https://files.codingninjas.in/0000000000003846.svg\",\"text_color\":\"#257D68\",\"short_description\":\"Data courses dwell in the state of the art algorithms and require good knowledge of programming fundamentals. Web development courses use modern JavaScript to build powerful and fast applications from the ground up.\\xa0\\\\u003cstrong\\\\u003eNo prior development experience needed\\\\u003c/strong\\\\u003e\",\"mobile_short_description\":\"Data courses dwell in the state of the art algorithms and require good knowledge of programming fundamentals. Web development courses use modern JavaScript to build powerful and fast applications from the ground up.\\xa0\\\\u003cspan\\\\u003eNo prior development experience needed\\\\u003c/span\\\\u003e\"},\"is_independent\":false},{\"id\":3,\"name\":\"Career Track\",\"order\":3,\"course_ids\":[16,35,36,17,18,19],\"json_data\":{\"color\":\"#C898FF\",\"image_link\":\"https://files.codingninjas.in/0000000000003845.svg\",\"text_color\":\"#603CAC\",\"short_description\":\"These are courses that take you from\\xa0\\\\u003cstrong\\\\u003ezero to hero\\\\u003c/strong\\\\u003e. Each track is designed specifically to cater to a particular goal you can choose and\\xa0\\\\u003cstrong\\\\u003ecovers everything you need to learn and assumes no prior knowledge.\\\\u003c/strong\\\\u003e\",\"mobile_short_description\":\"Each track is designed specifically to cater to a particular goal you can choose and\\xa0\\\\u003cspan\\\\u003ecovers everything you need to learn and assumes no prior knowledge.\\\\u003c/span\\\\u003e\"},\"is_independent\":true},{\"id\":7,\"name\":\"Premium Course\",\"order\":null,\"course_ids\":[43,42,41,45,44,40],\"json_data\":null,\"is_independent\":true}]},\"message\":\"Courses\",\"status\":200,\"error\":null,\"disabled\":false,\"update\":false,\"external_rating\":null}'"
      ]
     },
     "execution_count": 8,
     "metadata": {},
     "output_type": "execute_result"
    }
   ],
   "source": [
    "response.text"
   ]
  },
  {
   "cell_type": "code",
   "execution_count": 9,
   "id": "coral-designation",
   "metadata": {},
   "outputs": [
    {
     "data": {
      "text/plain": [
       "'https://www.codingninjas.in/api/v3/courses'"
      ]
     },
     "execution_count": 9,
     "metadata": {},
     "output_type": "execute_result"
    }
   ],
   "source": [
    "response.url"
   ]
  },
  {
   "cell_type": "code",
   "execution_count": 10,
   "id": "biological-beatles",
   "metadata": {},
   "outputs": [
    {
     "data": {
      "text/plain": [
       "{'Date': 'Sun, 21 Mar 2021 05:09:35 GMT', 'Content-Type': 'application/json', 'Transfer-Encoding': 'chunked', 'Connection': 'keep-alive', 'Server': 'nginx', 'X-Frame-Options': 'SAMEORIGIN', 'X-XSS-Protection': '1; mode=block', 'X-Content-Type-Options': 'nosniff', 'Access-Control-Allow-Origin': '*', 'Access-Control-Allow-Methods': 'POST, GET, PATCH, PUT, DELETE, OPTIONS', 'Access-Control-Allow-Headers': 'Access-Control-Allow-Headers, Origin,Accept, X-Requested-With, Content-Type, Access-Control-Request-Method, Access-Control-Request-Headers, Authorization', 'Access-Control-Max-Age': '1728000', 'Vary': 'Accept-Encoding', 'Content-Encoding': 'gzip', 'ETag': 'W/\"2701d5e8e77d0e4d821dcd5a22b14f85\"', 'Cache-Control': 'max-age=0, private, must-revalidate', 'X-Request-Id': '007165d1-b110-4cba-8a98-3510c31e8bd4', 'X-Runtime': '0.044782', 'Strict-Transport-Security': 'max-age=31536000; includeSubDomains;'}"
      ]
     },
     "execution_count": 10,
     "metadata": {},
     "output_type": "execute_result"
    }
   ],
   "source": [
    "response.headers"
   ]
  },
  {
   "cell_type": "code",
   "execution_count": 11,
   "id": "roman-blues",
   "metadata": {},
   "outputs": [
    {
     "data": {
      "text/plain": [
       "requests.structures.CaseInsensitiveDict"
      ]
     },
     "execution_count": 11,
     "metadata": {},
     "output_type": "execute_result"
    }
   ],
   "source": [
    "type(response.headers)"
   ]
  },
  {
   "cell_type": "code",
   "execution_count": 12,
   "id": "organic-aggregate",
   "metadata": {},
   "outputs": [
    {
     "data": {
      "text/plain": [
       "'Sun, 21 Mar 2021 05:09:35 GMT'"
      ]
     },
     "execution_count": 12,
     "metadata": {},
     "output_type": "execute_result"
    }
   ],
   "source": [
    "response.headers[\"Date\"]"
   ]
  },
  {
   "cell_type": "code",
   "execution_count": 14,
   "id": "spiritual-beginning",
   "metadata": {},
   "outputs": [
    {
     "data": {
      "text/plain": [
       "404"
      ]
     },
     "execution_count": 14,
     "metadata": {},
     "output_type": "execute_result"
    }
   ],
   "source": [
    "response2 = requests.get('http://api.open-notify.org/iss-pass')\n",
    "response2.status_code"
   ]
  },
  {
   "cell_type": "code",
   "execution_count": 15,
   "id": "prescribed-update",
   "metadata": {},
   "outputs": [
    {
     "data": {
      "text/plain": [
       "422"
      ]
     },
     "execution_count": 15,
     "metadata": {},
     "output_type": "execute_result"
    }
   ],
   "source": [
    "response3 = requests.get('https://codingninjas.in/api/v3/events')\n",
    "response3.status_code"
   ]
  },
  {
   "cell_type": "code",
   "execution_count": 16,
   "id": "moderate-kelly",
   "metadata": {},
   "outputs": [
    {
     "data": {
      "text/plain": [
       "{'Date': 'Sun, 21 Mar 2021 05:14:55 GMT', 'Content-Type': 'application/json', 'Transfer-Encoding': 'chunked', 'Connection': 'keep-alive', 'Server': 'nginx', 'X-Frame-Options': 'SAMEORIGIN', 'X-XSS-Protection': '1; mode=block', 'X-Content-Type-Options': 'nosniff', 'Access-Control-Allow-Origin': '*', 'Access-Control-Allow-Methods': 'POST, GET, PATCH, PUT, DELETE, OPTIONS', 'Access-Control-Allow-Headers': 'Access-Control-Allow-Headers, Origin,Accept, X-Requested-With, Content-Type, Access-Control-Request-Method, Access-Control-Request-Headers, Authorization', 'Access-Control-Max-Age': '1728000', 'Vary': 'Accept-Encoding', 'Content-Encoding': 'gzip', 'Cache-Control': 'no-cache', 'X-Request-Id': '740869ea-c7b9-402e-b991-a89640e3ee00', 'X-Runtime': '0.009440'}"
      ]
     },
     "execution_count": 16,
     "metadata": {},
     "output_type": "execute_result"
    }
   ],
   "source": [
    "response3.headers"
   ]
  },
  {
   "cell_type": "code",
   "execution_count": 17,
   "id": "activated-expansion",
   "metadata": {},
   "outputs": [
    {
     "data": {
      "text/plain": [
       "'application/json'"
      ]
     },
     "execution_count": 17,
     "metadata": {},
     "output_type": "execute_result"
    }
   ],
   "source": [
    "response3.headers[\"Content-Type\"]"
   ]
  },
  {
   "cell_type": "code",
   "execution_count": 18,
   "id": "pleasant-click",
   "metadata": {},
   "outputs": [
    {
     "name": "stdout",
     "output_type": "stream",
     "text": [
      "{'Student': 'Mohit'}\n",
      "<class 'dict'>\n",
      "Mohit\n"
     ]
    }
   ],
   "source": [
    "import json\n",
    "\n",
    "json_data = '{\"Student\" : \"Mohit\"}' #json object\n",
    "python_data = json.loads(json_data)\n",
    "\n",
    "print(python_data)\n",
    "print(type(python_data))\n",
    "print(python_data['Student'])"
   ]
  },
  {
   "cell_type": "code",
   "execution_count": 20,
   "id": "distinguished-lending",
   "metadata": {},
   "outputs": [
    {
     "name": "stdout",
     "output_type": "stream",
     "text": [
      "101\n",
      "<class 'dict'>\n"
     ]
    }
   ],
   "source": [
    "json_data = '{\"roll_number\" : \"101\"}'\n",
    "python_data = json.loads(json_data)\n",
    "print(python_data['roll_number'])\n",
    "print(type(python_data))"
   ]
  },
  {
   "cell_type": "code",
   "execution_count": 21,
   "id": "intensive-potter",
   "metadata": {},
   "outputs": [
    {
     "name": "stdout",
     "output_type": "stream",
     "text": [
      "null\n",
      "<class 'dict'>\n"
     ]
    }
   ],
   "source": [
    "json_data = '{\"roll_number\" : \"null\"}'\n",
    "python_data = json.loads(json_data)\n",
    "print(python_data['roll_number'])\n",
    "print(type(python_data))"
   ]
  },
  {
   "cell_type": "code",
   "execution_count": 23,
   "id": "concerned-fleet",
   "metadata": {},
   "outputs": [
    {
     "name": "stdout",
     "output_type": "stream",
     "text": [
      "Mohit\n",
      "101\n",
      "<class 'dict'>\n"
     ]
    }
   ],
   "source": [
    "json_data = '{\"Student\" : {\"Name\" : \"Mohit\", \"roll_number\" : \"101\"}}'\n",
    "python_data = json.loads(json_data)\n",
    "\n",
    "student_details = python_data['Student']\n",
    "print(student_details['Name'])\n",
    "print(student_details['roll_number'])\n",
    "print(type(python_data))"
   ]
  },
  {
   "cell_type": "code",
   "execution_count": 27,
   "id": "automatic-montgomery",
   "metadata": {},
   "outputs": [
    {
     "name": "stdout",
     "output_type": "stream",
     "text": [
      "<class 'dict'>\n",
      "<class 'list'>\n",
      "4\n",
      "['Apple', 'Orange', 'Mango', 'Guava']\n"
     ]
    }
   ],
   "source": [
    "json_data = '{\"Fruits\" : [\"Apple\", \"Orange\", \"Mango\", \"Guava\"]}'\n",
    "python_data = json.loads(json_data)\n",
    "\n",
    "print(type(python_data))\n",
    "print(type(python_data[\"Fruits\"]))\n",
    "print(len(python_data[\"Fruits\"]))\n",
    "print(python_data[\"Fruits\"])"
   ]
  },
  {
   "cell_type": "code",
   "execution_count": 28,
   "id": "respected-truth",
   "metadata": {},
   "outputs": [
    {
     "name": "stdout",
     "output_type": "stream",
     "text": [
      "Apple\n",
      "Orange\n",
      "Mango\n",
      "Guava\n"
     ]
    }
   ],
   "source": [
    "for i in python_data[\"Fruits\"]:\n",
    "    print(i)"
   ]
  },
  {
   "cell_type": "code",
   "execution_count": 29,
   "id": "central-university",
   "metadata": {},
   "outputs": [
    {
     "data": {
      "text/plain": [
       "'{\"data\":{\"courses\":[{\"id\":34,\"title\":\"Front End (React)\",\"online_title\":\"online-web-dev-with-react\",\"offline_title\":\"\",\"name\":\"Advanced  Front-End Web Development with React\",\"level\":\"Development Courses\",\"brief_intro\":\"Advanced  Front-End Web Development with React\",\"preview_image_url\":\"https://ninjasfiles.s3.amazonaws.com/0000000000001179.png\",\"available_online\":true,\"available_offline\":false,\"is_career_track\":false,\"course_group_id\":2,\"classroom_icon_url\":\"https://files.codingninjas.in/0000000000003769.png\"},{\"id\":6,\"title\":\"Machine Learning\",\"online_title\":\"online-machine-learning-course\",\"offline_title\":\"classroom-machine-learning-course\",\"name\":\"Machine Learning \\\\u0026 Deep Learning Course\",\"level\":\"Advanced Courses\",\"brief_intro\":\"Machine learning engineers build, implement, and maintain machine learning systems in technology products.\",\"preview_image_url\":\"https://ninjasfiles.s3.amazonaws.com/0000000000001181.png\",\"available_online\":true,\"available_offline\":false,\"is_career_track\":false,\"course_group_id\":2,\"classroom_icon_url\":\"https://files.codingninjas.in/0000000000003766.png\"},{\"id\":16,\"title\":\"Competitive Programmer\",\"online_title\":\"online-competitive-programming-track\",\"offline_title\":\"\",\"name\":\"Ninja Competitive Programmer Track\",\"level\":\"Career Tracks\",\"brief_intro\":\"Competitive Track\",\"preview_image_url\":\"https://files.codingninjas.in/0000000000001177.png\",\"available_online\":true,\"available_offline\":false,\"is_career_track\":true,\"course_group_id\":3,\"classroom_icon_url\":\"https://files.codingninjas.in/0000000000003775.png\"},{\"id\":43,\"title\":\"Premium Data Science Course\",\"online_title\":\"premium-data-science-course\",\"offline_title\":\"\",\"name\":\"Premium Data Science Course\",\"level\":\"Foundation Courses\",\"brief_intro\":\"\",\"preview_image_url\":\"\",\"available_online\":true,\"available_offline\":false,\"is_career_track\":false,\"course_group_id\":7,\"classroom_icon_url\":\"https://files.codingninjas.in/0000000000003765.png\"},{\"id\":42,\"title\":\"Premium Web Dev Course\",\"online_title\":\"premium-full-stack-web-development-course\",\"offline_title\":\"\",\"name\":\"Premium Full Stack Web Development\",\"level\":\"Foundation Courses\",\"brief_intro\":\"\",\"preview_image_url\":\"\",\"available_online\":true,\"available_offline\":false,\"is_career_track\":false,\"course_group_id\":7,\"classroom_icon_url\":\"https://files.codingninjas.in/0000000000003765.png\"},{\"id\":41,\"title\":\"Premium Competitive Course\",\"online_title\":\"premium-competitive-course\",\"offline_title\":\"\",\"name\":\"Premium Competitive Programming Course\",\"level\":\"Foundation Courses\",\"brief_intro\":\"\",\"preview_image_url\":\"\",\"available_online\":true,\"available_offline\":false,\"is_career_track\":false,\"course_group_id\":7,\"classroom_icon_url\":\"https://files.codingninjas.in/0000000000003765.png\"},{\"id\":45,\"title\":\"Premium Android Course\",\"online_title\":\"premium-android-app-development-course\",\"offline_title\":\"\",\"name\":\"Premium Android App Development\",\"level\":\"Foundation Courses\",\"brief_intro\":\"\",\"preview_image_url\":\"\",\"available_online\":true,\"available_offline\":false,\"is_career_track\":false,\"course_group_id\":7,\"classroom_icon_url\":\"https://files.codingninjas.in/0000000000003765.png\"},{\"id\":44,\"title\":\"Premium Machine Learning Course\",\"online_title\":\"premium-machine-learning-course\",\"offline_title\":\"\",\"name\":\"Premium Machine Learning Course\",\"level\":\"Foundation Courses\",\"brief_intro\":\"\",\"preview_image_url\":\"\",\"available_online\":true,\"available_offline\":false,\"is_career_track\":false,\"course_group_id\":7,\"classroom_icon_url\":\"https://files.codingninjas.in/0000000000003765.png\"},{\"id\":1,\"title\":\"C++ \\\\u0026 Data Structures\",\"online_title\":\"onlline-c-plus-plus-course\",\"offline_title\":\"classroom-c-plus-plus-course\",\"name\":\"C++ Foundation with Data Structures\",\"level\":\"Foundation Courses\",\"brief_intro\":\"Brief Intro\",\"preview_image_url\":\"https://files.codingninjas.in/0000000000001176.png\",\"available_online\":true,\"available_offline\":false,\"is_career_track\":false,\"course_group_id\":1,\"classroom_icon_url\":\"https://files.codingninjas.in/0000000000003771.png\"},{\"id\":40,\"title\":\"Data structures and Algorithms [C++/Java/Python]\",\"online_title\":\"premium-foundation-course\",\"offline_title\":\"\",\"name\":\"Premium Data structures and Algorithms [C++/Java/Python]\",\"level\":\"Foundation Courses\",\"brief_intro\":\"\",\"preview_image_url\":\"\",\"available_online\":true,\"available_offline\":false,\"is_career_track\":false,\"course_group_id\":7,\"classroom_icon_url\":\"https://files.codingninjas.in/0000000000003765.png\"},{\"id\":35,\"title\":\"Android Developer\",\"online_title\":\"online-android-development-career-track\",\"offline_title\":\"\",\"name\":\"Ninja Android Developer Career Track \",\"level\":\"Career Tracks\",\"brief_intro\":\"beginner to pro Android Developer!\",\"preview_image_url\":\"https://ninjasfiles.s3.amazonaws.com/0000000000001175.png\",\"available_online\":true,\"available_offline\":false,\"is_career_track\":true,\"course_group_id\":3,\"classroom_icon_url\":\"https://files.codingninjas.in/0000000000003774.png\"},{\"id\":12,\"title\":\"Web Dev (Full Stack)\",\"online_title\":\"online-full-stack-node-js-web-dev-course\",\"offline_title\":\"\",\"name\":\"Full Stack Web Development\",\"level\":\"Development Courses\",\"brief_intro\":\"Web Development\",\"preview_image_url\":\"https://ninjasfiles.s3.amazonaws.com/0000000000001179.png\",\"available_online\":true,\"available_offline\":false,\"is_career_track\":false,\"course_group_id\":2,\"classroom_icon_url\":\"https://files.codingninjas.in/0000000000003764.png\"},{\"id\":2,\"title\":\"Java \\\\u0026 Data Structures\",\"online_title\":\"online-java-course\",\"offline_title\":\"classroom-java-course\",\"name\":\"JAVA Foundation with Data Structures\",\"level\":\"Foundation Courses\",\"brief_intro\":\"Brief Intro\",\"preview_image_url\":\"https://ninjasfiles.s3.amazonaws.com/0000000000001255.png\",\"available_online\":true,\"available_offline\":false,\"is_career_track\":false,\"course_group_id\":1,\"classroom_icon_url\":\"https://files.codingninjas.in/0000000000003772.png\"},{\"id\":13,\"title\":\"Data Science\",\"online_title\":\"online-data-science-course\",\"offline_title\":\"\",\"name\":\"Data Science \\\\u0026 Machine Learning Complete\",\"level\":\"Advanced Courses\",\"brief_intro\":\"Brief Intro\",\"preview_image_url\":\"https://ninjasfiles.s3.amazonaws.com/0000000000001371.png\",\"available_online\":true,\"available_offline\":false,\"is_career_track\":false,\"course_group_id\":2,\"classroom_icon_url\":\"https://files.codingninjas.in/0000000000003763.png\"},{\"id\":4,\"title\":\"Interview Preparation\",\"online_title\":\"online-interview-preparation\",\"offline_title\":\"classroom-interview-preparation\",\"name\":\"Interview Preparation Course\",\"level\":\"Advanced Courses\",\"brief_intro\":\"Brief Intro\",\"preview_image_url\":\"https://ninjasfiles.s3.amazonaws.com/0000000000001178.png\",\"available_online\":true,\"available_offline\":false,\"is_career_track\":false,\"course_group_id\":1,\"classroom_icon_url\":\"https://files.codingninjas.in/0000000000003765.png\"},{\"id\":36,\"title\":\"Python \\\\u0026 Web Dev (MERN)\",\"online_title\":\"ninja-web-developer-career-track-mern-stack\",\"offline_title\":\"\",\"name\":\"Ninja  Web Developer Career Track - NodeJS \\\\u0026 ReactJs\",\"level\":\"Career Tracks\",\"brief_intro\":\"Programming foundation + MERN Stack Web Development complete Career Track\",\"preview_image_url\":\"https://ninjasfiles.s3.amazonaws.com/0000000000001179.png\",\"available_online\":true,\"available_offline\":false,\"is_career_track\":true,\"course_group_id\":3,\"classroom_icon_url\":\"https://files.codingninjas.in/0000000000003777.png\"},{\"id\":10,\"title\":\"Competitive Programming\",\"online_title\":\"online-competitive-programming-course\",\"offline_title\":\"\",\"name\":\"Competitive Programming Course\",\"level\":\"Advanced Courses\",\"brief_intro\":\"Eminence\",\"preview_image_url\":\"https://ninjasfiles.s3.amazonaws.com/0000000000001177.png\",\"available_online\":true,\"available_offline\":false,\"is_career_track\":false,\"course_group_id\":1,\"classroom_icon_url\":\"https://files.codingninjas.in/0000000000003762.png\"},{\"id\":17,\"title\":\"C++ \\\\u0026 Web Dev (Node.js)\",\"online_title\":\"web-developer-career-track\",\"offline_title\":\"\",\"name\":\"Ninja  Web Developer Career Track - NodeJS\",\"level\":\"Career Tracks\",\"brief_intro\":\"Programming foundation + Full Stack Web Development Career Track\",\"preview_image_url\":\"https://ninjasfiles.s3.amazonaws.com/0000000000001179.png\",\"available_online\":true,\"available_offline\":false,\"is_career_track\":true,\"course_group_id\":3,\"classroom_icon_url\":\"https://files.codingninjas.in/0000000000003777.png\"},{\"id\":33,\"title\":\"Android (Kotlin)\",\"online_title\":\"online-android-Development-kotlin\",\"offline_title\":\"\",\"name\":\"Android Development with Kotlin\",\"level\":\"Development Courses\",\"brief_intro\":\"Android Development Kotlin\",\"preview_image_url\":\"https://ninjasfiles.s3.amazonaws.com/0000000000001175.png\",\"available_online\":true,\"available_offline\":false,\"is_career_track\":false,\"course_group_id\":2,\"classroom_icon_url\":\"https://files.codingninjas.in/0000000000003761.png\"},{\"id\":11,\"title\":\"Python \\\\u0026 Data Structures\",\"online_title\":\"online-python-course\",\"offline_title\":\"offline-python-course\",\"name\":\"Python Foundation with Data Structures\",\"level\":\"Foundation Courses\",\"brief_intro\":\"Python Foundation\",\"preview_image_url\":\"https://ninjasfiles.s3.amazonaws.com/0000000000001282.png\",\"available_online\":true,\"available_offline\":false,\"is_career_track\":false,\"course_group_id\":1,\"classroom_icon_url\":\"https://files.codingninjas.in/0000000000003773.png\"},{\"id\":18,\"title\":\"Data Scientist\",\"online_title\":\"data-Scientist-career-track\",\"offline_title\":\"\",\"name\":\"Ninja Data Scientist Career Track\",\"level\":\"Career Tracks\",\"brief_intro\":\"Programming foundation + Data Science with ML career track\",\"preview_image_url\":\"https://ninjasfiles.s3.amazonaws.com/0000000000001371.png\",\"available_online\":true,\"available_offline\":false,\"is_career_track\":true,\"course_group_id\":3,\"classroom_icon_url\":\"https://files.codingninjas.in/0000000000003778.png\"},{\"id\":21,\"title\":\"Aptitude Preparation\",\"online_title\":\"online-aptitude-preparation\",\"offline_title\":\"\",\"name\":\"Aptitude Preparation Course\",\"level\":\"Foundation Courses\",\"brief_intro\":\"Brief Intro\",\"preview_image_url\":\"https://ninjasfiles.s3.amazonaws.com/0000000000001178.png\",\"available_online\":true,\"available_offline\":false,\"is_career_track\":false,\"course_group_id\":1,\"classroom_icon_url\":\"https://files.codingninjas.in/0000000000003770.png\"},{\"id\":19,\"title\":\"Machine Learning\",\"online_title\":\"machine-learning-engineer-career-track\",\"offline_title\":\"\",\"name\":\"Ninja Machine Learning Engineer Career Track\",\"level\":\"Career Tracks\",\"brief_intro\":\"Programming foundation + Machine Learning career track\",\"preview_image_url\":\"https://ninjasfiles.s3.amazonaws.com/0000000000001181.png\",\"available_online\":true,\"available_offline\":false,\"is_career_track\":true,\"course_group_id\":3,\"classroom_icon_url\":\"https://files.codingninjas.in/0000000000003776.png\"}],\"course_groups\":[{\"id\":1,\"name\":\"Foundation, Algorithmic \\\\u0026 Advanced\",\"order\":1,\"course_ids\":[1,2,4,10,11,21],\"json_data\":{\"color\":\"#FFEBC2\",\"image_link\":\"https://ninjasfiles.s3.amazonaws.com/0000000000003821.png\",\"text_color\":\"#AC933C\",\"short_description\":\"Foundation courses are designed such that\\xa0\\\\u003cstrong\\\\u003eno prerequisites are required.\\\\u003c/strong\\\\u003e\\xa0Data Structures(DS) and Algorithms(algo.) parts build on the basics to give you a\\xa0\\\\u003cstrong\\\\u003esolid programming foundation\\\\u003c/strong\\\\u003e.\\xa0Competitive is where you start to\\xa0\\\\u003cstrong\\\\u003epush the boundaries!\\\\u003c/strong\\\\u003e\",\"mobile_short_description\":\"Foundation courses are designed such that\\xa0\\\\u003cspan\\\\u003eno prerequisites are required.\\\\u003c/span\\\\u003e\"},\"is_independent\":false},{\"id\":2,\"name\":\"Data \\\\u0026 Development\",\"order\":2,\"course_ids\":[34,6,12,13,33],\"json_data\":{\"color\":\"#80D4B1\",\"image_link\":\"https://files.codingninjas.in/0000000000003846.svg\",\"text_color\":\"#257D68\",\"short_description\":\"Data courses dwell in the state of the art algorithms and require good knowledge of programming fundamentals. Web development courses use modern JavaScript to build powerful and fast applications from the ground up.\\xa0\\\\u003cstrong\\\\u003eNo prior development experience needed\\\\u003c/strong\\\\u003e\",\"mobile_short_description\":\"Data courses dwell in the state of the art algorithms and require good knowledge of programming fundamentals. Web development courses use modern JavaScript to build powerful and fast applications from the ground up.\\xa0\\\\u003cspan\\\\u003eNo prior development experience needed\\\\u003c/span\\\\u003e\"},\"is_independent\":false},{\"id\":3,\"name\":\"Career Track\",\"order\":3,\"course_ids\":[16,35,36,17,18,19],\"json_data\":{\"color\":\"#C898FF\",\"image_link\":\"https://files.codingninjas.in/0000000000003845.svg\",\"text_color\":\"#603CAC\",\"short_description\":\"These are courses that take you from\\xa0\\\\u003cstrong\\\\u003ezero to hero\\\\u003c/strong\\\\u003e. Each track is designed specifically to cater to a particular goal you can choose and\\xa0\\\\u003cstrong\\\\u003ecovers everything you need to learn and assumes no prior knowledge.\\\\u003c/strong\\\\u003e\",\"mobile_short_description\":\"Each track is designed specifically to cater to a particular goal you can choose and\\xa0\\\\u003cspan\\\\u003ecovers everything you need to learn and assumes no prior knowledge.\\\\u003c/span\\\\u003e\"},\"is_independent\":true},{\"id\":7,\"name\":\"Premium Course\",\"order\":null,\"course_ids\":[43,42,41,45,44,40],\"json_data\":null,\"is_independent\":true}]},\"message\":\"Courses\",\"status\":200,\"error\":null,\"disabled\":false,\"update\":false,\"external_rating\":null}'"
      ]
     },
     "execution_count": 29,
     "metadata": {},
     "output_type": "execute_result"
    }
   ],
   "source": [
    "response.text"
   ]
  },
  {
   "cell_type": "code",
   "execution_count": 31,
   "id": "dietary-seattle",
   "metadata": {},
   "outputs": [
    {
     "name": "stdout",
     "output_type": "stream",
     "text": [
      "<class 'dict'>\n",
      "[{'id': 34, 'title': 'Front End (React)', 'online_title': 'online-web-dev-with-react', 'offline_title': '', 'name': 'Advanced  Front-End Web Development with React', 'level': 'Development Courses', 'brief_intro': 'Advanced  Front-End Web Development with React', 'preview_image_url': 'https://ninjasfiles.s3.amazonaws.com/0000000000001179.png', 'available_online': True, 'available_offline': False, 'is_career_track': False, 'course_group_id': 2, 'classroom_icon_url': 'https://files.codingninjas.in/0000000000003769.png'}, {'id': 6, 'title': 'Machine Learning', 'online_title': 'online-machine-learning-course', 'offline_title': 'classroom-machine-learning-course', 'name': 'Machine Learning & Deep Learning Course', 'level': 'Advanced Courses', 'brief_intro': 'Machine learning engineers build, implement, and maintain machine learning systems in technology products.', 'preview_image_url': 'https://ninjasfiles.s3.amazonaws.com/0000000000001181.png', 'available_online': True, 'available_offline': False, 'is_career_track': False, 'course_group_id': 2, 'classroom_icon_url': 'https://files.codingninjas.in/0000000000003766.png'}, {'id': 16, 'title': 'Competitive Programmer', 'online_title': 'online-competitive-programming-track', 'offline_title': '', 'name': 'Ninja Competitive Programmer Track', 'level': 'Career Tracks', 'brief_intro': 'Competitive Track', 'preview_image_url': 'https://files.codingninjas.in/0000000000001177.png', 'available_online': True, 'available_offline': False, 'is_career_track': True, 'course_group_id': 3, 'classroom_icon_url': 'https://files.codingninjas.in/0000000000003775.png'}, {'id': 43, 'title': 'Premium Data Science Course', 'online_title': 'premium-data-science-course', 'offline_title': '', 'name': 'Premium Data Science Course', 'level': 'Foundation Courses', 'brief_intro': '', 'preview_image_url': '', 'available_online': True, 'available_offline': False, 'is_career_track': False, 'course_group_id': 7, 'classroom_icon_url': 'https://files.codingninjas.in/0000000000003765.png'}, {'id': 42, 'title': 'Premium Web Dev Course', 'online_title': 'premium-full-stack-web-development-course', 'offline_title': '', 'name': 'Premium Full Stack Web Development', 'level': 'Foundation Courses', 'brief_intro': '', 'preview_image_url': '', 'available_online': True, 'available_offline': False, 'is_career_track': False, 'course_group_id': 7, 'classroom_icon_url': 'https://files.codingninjas.in/0000000000003765.png'}, {'id': 41, 'title': 'Premium Competitive Course', 'online_title': 'premium-competitive-course', 'offline_title': '', 'name': 'Premium Competitive Programming Course', 'level': 'Foundation Courses', 'brief_intro': '', 'preview_image_url': '', 'available_online': True, 'available_offline': False, 'is_career_track': False, 'course_group_id': 7, 'classroom_icon_url': 'https://files.codingninjas.in/0000000000003765.png'}, {'id': 45, 'title': 'Premium Android Course', 'online_title': 'premium-android-app-development-course', 'offline_title': '', 'name': 'Premium Android App Development', 'level': 'Foundation Courses', 'brief_intro': '', 'preview_image_url': '', 'available_online': True, 'available_offline': False, 'is_career_track': False, 'course_group_id': 7, 'classroom_icon_url': 'https://files.codingninjas.in/0000000000003765.png'}, {'id': 44, 'title': 'Premium Machine Learning Course', 'online_title': 'premium-machine-learning-course', 'offline_title': '', 'name': 'Premium Machine Learning Course', 'level': 'Foundation Courses', 'brief_intro': '', 'preview_image_url': '', 'available_online': True, 'available_offline': False, 'is_career_track': False, 'course_group_id': 7, 'classroom_icon_url': 'https://files.codingninjas.in/0000000000003765.png'}, {'id': 1, 'title': 'C++ & Data Structures', 'online_title': 'onlline-c-plus-plus-course', 'offline_title': 'classroom-c-plus-plus-course', 'name': 'C++ Foundation with Data Structures', 'level': 'Foundation Courses', 'brief_intro': 'Brief Intro', 'preview_image_url': 'https://files.codingninjas.in/0000000000001176.png', 'available_online': True, 'available_offline': False, 'is_career_track': False, 'course_group_id': 1, 'classroom_icon_url': 'https://files.codingninjas.in/0000000000003771.png'}, {'id': 40, 'title': 'Data structures and Algorithms [C++/Java/Python]', 'online_title': 'premium-foundation-course', 'offline_title': '', 'name': 'Premium Data structures and Algorithms [C++/Java/Python]', 'level': 'Foundation Courses', 'brief_intro': '', 'preview_image_url': '', 'available_online': True, 'available_offline': False, 'is_career_track': False, 'course_group_id': 7, 'classroom_icon_url': 'https://files.codingninjas.in/0000000000003765.png'}, {'id': 35, 'title': 'Android Developer', 'online_title': 'online-android-development-career-track', 'offline_title': '', 'name': 'Ninja Android Developer Career Track ', 'level': 'Career Tracks', 'brief_intro': 'beginner to pro Android Developer!', 'preview_image_url': 'https://ninjasfiles.s3.amazonaws.com/0000000000001175.png', 'available_online': True, 'available_offline': False, 'is_career_track': True, 'course_group_id': 3, 'classroom_icon_url': 'https://files.codingninjas.in/0000000000003774.png'}, {'id': 12, 'title': 'Web Dev (Full Stack)', 'online_title': 'online-full-stack-node-js-web-dev-course', 'offline_title': '', 'name': 'Full Stack Web Development', 'level': 'Development Courses', 'brief_intro': 'Web Development', 'preview_image_url': 'https://ninjasfiles.s3.amazonaws.com/0000000000001179.png', 'available_online': True, 'available_offline': False, 'is_career_track': False, 'course_group_id': 2, 'classroom_icon_url': 'https://files.codingninjas.in/0000000000003764.png'}, {'id': 2, 'title': 'Java & Data Structures', 'online_title': 'online-java-course', 'offline_title': 'classroom-java-course', 'name': 'JAVA Foundation with Data Structures', 'level': 'Foundation Courses', 'brief_intro': 'Brief Intro', 'preview_image_url': 'https://ninjasfiles.s3.amazonaws.com/0000000000001255.png', 'available_online': True, 'available_offline': False, 'is_career_track': False, 'course_group_id': 1, 'classroom_icon_url': 'https://files.codingninjas.in/0000000000003772.png'}, {'id': 13, 'title': 'Data Science', 'online_title': 'online-data-science-course', 'offline_title': '', 'name': 'Data Science & Machine Learning Complete', 'level': 'Advanced Courses', 'brief_intro': 'Brief Intro', 'preview_image_url': 'https://ninjasfiles.s3.amazonaws.com/0000000000001371.png', 'available_online': True, 'available_offline': False, 'is_career_track': False, 'course_group_id': 2, 'classroom_icon_url': 'https://files.codingninjas.in/0000000000003763.png'}, {'id': 4, 'title': 'Interview Preparation', 'online_title': 'online-interview-preparation', 'offline_title': 'classroom-interview-preparation', 'name': 'Interview Preparation Course', 'level': 'Advanced Courses', 'brief_intro': 'Brief Intro', 'preview_image_url': 'https://ninjasfiles.s3.amazonaws.com/0000000000001178.png', 'available_online': True, 'available_offline': False, 'is_career_track': False, 'course_group_id': 1, 'classroom_icon_url': 'https://files.codingninjas.in/0000000000003765.png'}, {'id': 36, 'title': 'Python & Web Dev (MERN)', 'online_title': 'ninja-web-developer-career-track-mern-stack', 'offline_title': '', 'name': 'Ninja  Web Developer Career Track - NodeJS & ReactJs', 'level': 'Career Tracks', 'brief_intro': 'Programming foundation + MERN Stack Web Development complete Career Track', 'preview_image_url': 'https://ninjasfiles.s3.amazonaws.com/0000000000001179.png', 'available_online': True, 'available_offline': False, 'is_career_track': True, 'course_group_id': 3, 'classroom_icon_url': 'https://files.codingninjas.in/0000000000003777.png'}, {'id': 10, 'title': 'Competitive Programming', 'online_title': 'online-competitive-programming-course', 'offline_title': '', 'name': 'Competitive Programming Course', 'level': 'Advanced Courses', 'brief_intro': 'Eminence', 'preview_image_url': 'https://ninjasfiles.s3.amazonaws.com/0000000000001177.png', 'available_online': True, 'available_offline': False, 'is_career_track': False, 'course_group_id': 1, 'classroom_icon_url': 'https://files.codingninjas.in/0000000000003762.png'}, {'id': 17, 'title': 'C++ & Web Dev (Node.js)', 'online_title': 'web-developer-career-track', 'offline_title': '', 'name': 'Ninja  Web Developer Career Track - NodeJS', 'level': 'Career Tracks', 'brief_intro': 'Programming foundation + Full Stack Web Development Career Track', 'preview_image_url': 'https://ninjasfiles.s3.amazonaws.com/0000000000001179.png', 'available_online': True, 'available_offline': False, 'is_career_track': True, 'course_group_id': 3, 'classroom_icon_url': 'https://files.codingninjas.in/0000000000003777.png'}, {'id': 33, 'title': 'Android (Kotlin)', 'online_title': 'online-android-Development-kotlin', 'offline_title': '', 'name': 'Android Development with Kotlin', 'level': 'Development Courses', 'brief_intro': 'Android Development Kotlin', 'preview_image_url': 'https://ninjasfiles.s3.amazonaws.com/0000000000001175.png', 'available_online': True, 'available_offline': False, 'is_career_track': False, 'course_group_id': 2, 'classroom_icon_url': 'https://files.codingninjas.in/0000000000003761.png'}, {'id': 11, 'title': 'Python & Data Structures', 'online_title': 'online-python-course', 'offline_title': 'offline-python-course', 'name': 'Python Foundation with Data Structures', 'level': 'Foundation Courses', 'brief_intro': 'Python Foundation', 'preview_image_url': 'https://ninjasfiles.s3.amazonaws.com/0000000000001282.png', 'available_online': True, 'available_offline': False, 'is_career_track': False, 'course_group_id': 1, 'classroom_icon_url': 'https://files.codingninjas.in/0000000000003773.png'}, {'id': 18, 'title': 'Data Scientist', 'online_title': 'data-Scientist-career-track', 'offline_title': '', 'name': 'Ninja Data Scientist Career Track', 'level': 'Career Tracks', 'brief_intro': 'Programming foundation + Data Science with ML career track', 'preview_image_url': 'https://ninjasfiles.s3.amazonaws.com/0000000000001371.png', 'available_online': True, 'available_offline': False, 'is_career_track': True, 'course_group_id': 3, 'classroom_icon_url': 'https://files.codingninjas.in/0000000000003778.png'}, {'id': 21, 'title': 'Aptitude Preparation', 'online_title': 'online-aptitude-preparation', 'offline_title': '', 'name': 'Aptitude Preparation Course', 'level': 'Foundation Courses', 'brief_intro': 'Brief Intro', 'preview_image_url': 'https://ninjasfiles.s3.amazonaws.com/0000000000001178.png', 'available_online': True, 'available_offline': False, 'is_career_track': False, 'course_group_id': 1, 'classroom_icon_url': 'https://files.codingninjas.in/0000000000003770.png'}, {'id': 19, 'title': 'Machine Learning', 'online_title': 'machine-learning-engineer-career-track', 'offline_title': '', 'name': 'Ninja Machine Learning Engineer Career Track', 'level': 'Career Tracks', 'brief_intro': 'Programming foundation + Machine Learning career track', 'preview_image_url': 'https://ninjasfiles.s3.amazonaws.com/0000000000001181.png', 'available_online': True, 'available_offline': False, 'is_career_track': True, 'course_group_id': 3, 'classroom_icon_url': 'https://files.codingninjas.in/0000000000003776.png'}]\n"
     ]
    }
   ],
   "source": [
    "# convert json to python\n",
    "import json\n",
    "python_data = json.loads(response.text) # or response.json()\n",
    "print(type(python_data))\n",
    "\n",
    "all_courses = python_data['data']['courses']\n",
    "print(all_courses)"
   ]
  },
  {
   "cell_type": "code",
   "execution_count": 34,
   "id": "accomplished-motion",
   "metadata": {},
   "outputs": [
    {
     "name": "stdout",
     "output_type": "stream",
     "text": [
      "Front End (React)\n",
      "Machine Learning\n",
      "Competitive Programmer\n",
      "Premium Data Science Course\n",
      "Premium Web Dev Course\n",
      "Premium Competitive Course\n",
      "Premium Android Course\n",
      "Premium Machine Learning Course\n",
      "C++ & Data Structures\n",
      "Data structures and Algorithms [C++/Java/Python]\n",
      "Android Developer\n",
      "Web Dev (Full Stack)\n",
      "Java & Data Structures\n",
      "Data Science\n",
      "Interview Preparation\n",
      "Python & Web Dev (MERN)\n",
      "Competitive Programming\n",
      "C++ & Web Dev (Node.js)\n",
      "Android (Kotlin)\n",
      "Python & Data Structures\n",
      "Data Scientist\n",
      "Aptitude Preparation\n",
      "Machine Learning\n",
      "23\n"
     ]
    }
   ],
   "source": [
    "for i in all_courses:\n",
    "    print(i['title'])\n",
    "\n",
    "print(len(all_courses))"
   ]
  },
  {
   "cell_type": "code",
   "execution_count": 36,
   "id": "ultimate-findings",
   "metadata": {},
   "outputs": [
    {
     "name": "stdout",
     "output_type": "stream",
     "text": [
      "<class 'dict'>\n",
      "{'message': {'affenpinscher': [], 'african': [], 'airedale': [], 'akita': [], 'appenzeller': [], 'australian': ['shepherd'], 'basenji': [], 'beagle': [], 'bluetick': [], 'borzoi': [], 'bouvier': [], 'boxer': [], 'brabancon': [], 'briard': [], 'buhund': ['norwegian'], 'bulldog': ['boston', 'english', 'french'], 'bullterrier': ['staffordshire'], 'cairn': [], 'cattledog': ['australian'], 'chihuahua': [], 'chow': [], 'clumber': [], 'cockapoo': [], 'collie': ['border'], 'coonhound': [], 'corgi': ['cardigan'], 'cotondetulear': [], 'dachshund': [], 'dalmatian': [], 'dane': ['great'], 'deerhound': ['scottish'], 'dhole': [], 'dingo': [], 'doberman': [], 'elkhound': ['norwegian'], 'entlebucher': [], 'eskimo': [], 'finnish': ['lapphund'], 'frise': ['bichon'], 'germanshepherd': [], 'greyhound': ['italian'], 'groenendael': [], 'havanese': [], 'hound': ['afghan', 'basset', 'blood', 'english', 'ibizan', 'plott', 'walker'], 'husky': [], 'keeshond': [], 'kelpie': [], 'komondor': [], 'kuvasz': [], 'labradoodle': [], 'labrador': [], 'leonberg': [], 'lhasa': [], 'malamute': [], 'malinois': [], 'maltese': [], 'mastiff': ['bull', 'english', 'tibetan'], 'mexicanhairless': [], 'mix': [], 'mountain': ['bernese', 'swiss'], 'newfoundland': [], 'otterhound': [], 'ovcharka': ['caucasian'], 'papillon': [], 'pekinese': [], 'pembroke': [], 'pinscher': ['miniature'], 'pitbull': [], 'pointer': ['german', 'germanlonghair'], 'pomeranian': [], 'poodle': ['miniature', 'standard', 'toy'], 'pug': [], 'puggle': [], 'pyrenees': [], 'redbone': [], 'retriever': ['chesapeake', 'curly', 'flatcoated', 'golden'], 'ridgeback': ['rhodesian'], 'rottweiler': [], 'saluki': [], 'samoyed': [], 'schipperke': [], 'schnauzer': ['giant', 'miniature'], 'setter': ['english', 'gordon', 'irish'], 'sheepdog': ['english', 'shetland'], 'shiba': [], 'shihtzu': [], 'spaniel': ['blenheim', 'brittany', 'cocker', 'irish', 'japanese', 'sussex', 'welsh'], 'springer': ['english'], 'stbernard': [], 'terrier': ['american', 'australian', 'bedlington', 'border', 'dandie', 'fox', 'irish', 'kerryblue', 'lakeland', 'norfolk', 'norwich', 'patterdale', 'russell', 'scottish', 'sealyham', 'silky', 'tibetan', 'toy', 'westhighland', 'wheaten', 'yorkshire'], 'vizsla': [], 'waterdog': ['spanish'], 'weimaraner': [], 'whippet': [], 'wolfhound': ['irish']}, 'status': 'success'}\n"
     ]
    }
   ],
   "source": [
    "# dog api\n",
    "pets = requests.get('https://dog.ceo/api/breeds/list/all')\n",
    "python_data = pets.json()\n",
    "print(type(python_data))\n",
    "\n",
    "print(python_data)"
   ]
  },
  {
   "cell_type": "code",
   "execution_count": 41,
   "id": "graphic-vienna",
   "metadata": {},
   "outputs": [
    {
     "name": "stdout",
     "output_type": "stream",
     "text": [
      "affenpinscher :  0\n",
      "african :  0\n",
      "airedale :  0\n",
      "akita :  0\n",
      "appenzeller :  0\n",
      "australian :  1\n",
      "basenji :  0\n",
      "beagle :  0\n",
      "bluetick :  0\n",
      "borzoi :  0\n",
      "bouvier :  0\n",
      "boxer :  0\n",
      "brabancon :  0\n",
      "briard :  0\n",
      "buhund :  1\n",
      "bulldog :  3\n",
      "bullterrier :  1\n",
      "cairn :  0\n",
      "cattledog :  1\n",
      "chihuahua :  0\n",
      "chow :  0\n",
      "clumber :  0\n",
      "cockapoo :  0\n",
      "collie :  1\n",
      "coonhound :  0\n",
      "corgi :  1\n",
      "cotondetulear :  0\n",
      "dachshund :  0\n",
      "dalmatian :  0\n",
      "dane :  1\n",
      "deerhound :  1\n",
      "dhole :  0\n",
      "dingo :  0\n",
      "doberman :  0\n",
      "elkhound :  1\n",
      "entlebucher :  0\n",
      "eskimo :  0\n",
      "finnish :  1\n",
      "frise :  1\n",
      "germanshepherd :  0\n",
      "greyhound :  1\n",
      "groenendael :  0\n",
      "havanese :  0\n",
      "hound :  7\n",
      "husky :  0\n",
      "keeshond :  0\n",
      "kelpie :  0\n",
      "komondor :  0\n",
      "kuvasz :  0\n",
      "labradoodle :  0\n",
      "labrador :  0\n",
      "leonberg :  0\n",
      "lhasa :  0\n",
      "malamute :  0\n",
      "malinois :  0\n",
      "maltese :  0\n",
      "mastiff :  3\n",
      "mexicanhairless :  0\n",
      "mix :  0\n",
      "mountain :  2\n",
      "newfoundland :  0\n",
      "otterhound :  0\n",
      "ovcharka :  1\n",
      "papillon :  0\n",
      "pekinese :  0\n",
      "pembroke :  0\n",
      "pinscher :  1\n",
      "pitbull :  0\n",
      "pointer :  2\n",
      "pomeranian :  0\n",
      "poodle :  3\n",
      "pug :  0\n",
      "puggle :  0\n",
      "pyrenees :  0\n",
      "redbone :  0\n",
      "retriever :  4\n",
      "ridgeback :  1\n",
      "rottweiler :  0\n",
      "saluki :  0\n",
      "samoyed :  0\n",
      "schipperke :  0\n",
      "schnauzer :  2\n",
      "setter :  3\n",
      "sheepdog :  2\n",
      "shiba :  0\n",
      "shihtzu :  0\n",
      "spaniel :  7\n",
      "springer :  1\n",
      "stbernard :  0\n",
      "terrier :  21\n",
      "vizsla :  0\n",
      "waterdog :  1\n",
      "weimaraner :  0\n",
      "whippet :  0\n",
      "wolfhound :  1\n",
      "<built-in method items of dict object at 0x7fc2f488e700>\n"
     ]
    }
   ],
   "source": [
    "for key, val in python_data['message'].items():\n",
    "    print(key, \": \", len(val))\n",
    "    \n",
    "print(python_data['message'].items)"
   ]
  },
  {
   "cell_type": "code",
   "execution_count": 42,
   "id": "sunset-driving",
   "metadata": {},
   "outputs": [
    {
     "data": {
      "text/plain": [
       "200"
      ]
     },
     "execution_count": 42,
     "metadata": {},
     "output_type": "execute_result"
    }
   ],
   "source": [
    "#new api from openaq\n",
    "air_qual = requests.get('http://api.openaq.org/v1/cities')\n",
    "air_qual.status_code"
   ]
  },
  {
   "cell_type": "code",
   "execution_count": 43,
   "id": "comparable-farming",
   "metadata": {},
   "outputs": [
    {
     "data": {
      "text/plain": [
       "{'meta': {'name': 'openaq-api',\n",
       "  'license': 'CC BY 4.0d',\n",
       "  'website': 'https://u50g7n0cbj.execute-api.us-east-1.amazonaws.com/',\n",
       "  'page': 1,\n",
       "  'limit': 100,\n",
       "  'found': 2915},\n",
       " 'results': [{'country': 'US',\n",
       "   'name': '007',\n",
       "   'city': '007',\n",
       "   'count': 1372,\n",
       "   'locations': 5},\n",
       "  {'country': 'US',\n",
       "   'name': '019',\n",
       "   'city': '019',\n",
       "   'count': 704,\n",
       "   'locations': 1},\n",
       "  {'country': 'US',\n",
       "   'name': '037',\n",
       "   'city': '037',\n",
       "   'count': 2683,\n",
       "   'locations': 23},\n",
       "  {'country': 'US',\n",
       "   'name': '039',\n",
       "   'city': '039',\n",
       "   'count': 380,\n",
       "   'locations': 1},\n",
       "  {'country': 'US',\n",
       "   'name': '047',\n",
       "   'city': '047',\n",
       "   'count': 101,\n",
       "   'locations': 1},\n",
       "  {'country': 'US',\n",
       "   'name': '051',\n",
       "   'city': '051',\n",
       "   'count': 330,\n",
       "   'locations': 7},\n",
       "  {'country': 'US',\n",
       "   'name': '077',\n",
       "   'city': '077',\n",
       "   'count': 670334,\n",
       "   'locations': 1},\n",
       "  {'country': 'CH',\n",
       "   'name': 'Aargau',\n",
       "   'city': 'Aargau',\n",
       "   'count': 4054,\n",
       "   'locations': 1},\n",
       "  {'country': 'MX',\n",
       "   'name': 'Abasolo',\n",
       "   'city': 'Abasolo',\n",
       "   'count': 32422943,\n",
       "   'locations': 2},\n",
       "  {'country': 'US',\n",
       "   'name': 'ABBEVILLE',\n",
       "   'city': 'ABBEVILLE',\n",
       "   'count': 4619,\n",
       "   'locations': 1},\n",
       "  {'country': 'US',\n",
       "   'name': 'Aberdeen',\n",
       "   'city': 'Aberdeen',\n",
       "   'count': 43018851,\n",
       "   'locations': 2},\n",
       "  {'country': 'GB',\n",
       "   'name': 'Aberdeen',\n",
       "   'city': 'Aberdeen',\n",
       "   'count': 161282393,\n",
       "   'locations': 3},\n",
       "  {'country': 'CI',\n",
       "   'name': 'Abidjan',\n",
       "   'city': 'Abidjan',\n",
       "   'count': 33997283,\n",
       "   'locations': 1},\n",
       "  {'country': 'AE',\n",
       "   'name': 'Abu Dhabi',\n",
       "   'city': 'Abu Dhabi',\n",
       "   'count': 67144963,\n",
       "   'locations': 1},\n",
       "  {'country': 'GH',\n",
       "   'name': 'Accra',\n",
       "   'city': 'Accra',\n",
       "   'count': 33890048,\n",
       "   'locations': 12},\n",
       "  {'country': 'ES',\n",
       "   'name': 'A Coruña',\n",
       "   'city': 'A Coruña',\n",
       "   'count': 484086496,\n",
       "   'locations': 5},\n",
       "  {'country': 'US',\n",
       "   'name': 'ADA',\n",
       "   'city': 'ADA',\n",
       "   'count': 29956005,\n",
       "   'locations': 2},\n",
       "  {'country': 'US',\n",
       "   'name': 'ADAIR',\n",
       "   'city': 'ADAIR',\n",
       "   'count': 32778896,\n",
       "   'locations': 1},\n",
       "  {'country': 'US',\n",
       "   'name': 'ADAMS',\n",
       "   'city': 'ADAMS',\n",
       "   'count': 28230007,\n",
       "   'locations': 2},\n",
       "  {'country': 'TR',\n",
       "   'name': 'Adana',\n",
       "   'city': 'Adana',\n",
       "   'count': 205462,\n",
       "   'locations': 6},\n",
       "  {'country': 'ET',\n",
       "   'name': 'Addis Ababa',\n",
       "   'city': 'Addis Ababa',\n",
       "   'count': 33951591,\n",
       "   'locations': 1},\n",
       "  {'country': 'AU',\n",
       "   'name': 'Adelaide',\n",
       "   'city': 'Adelaide',\n",
       "   'count': 663866393,\n",
       "   'locations': 8},\n",
       "  {'country': 'US',\n",
       "   'name': 'Adrian',\n",
       "   'city': 'Adrian',\n",
       "   'count': 30420094,\n",
       "   'locations': 1},\n",
       "  {'country': 'MK',\n",
       "   'name': 'Aerodrom Municipality',\n",
       "   'city': 'Aerodrom Municipality',\n",
       "   'count': 133028371,\n",
       "   'locations': 1},\n",
       "  {'country': 'IN',\n",
       "   'name': 'Agartala',\n",
       "   'city': 'Agartala',\n",
       "   'count': 24547260,\n",
       "   'locations': 1},\n",
       "  {'country': 'IN',\n",
       "   'name': 'Agra',\n",
       "   'city': 'Agra',\n",
       "   'count': 21512785,\n",
       "   'locations': 1},\n",
       "  {'country': 'TR',\n",
       "   'name': 'Ağrı',\n",
       "   'city': 'Ağrı',\n",
       "   'count': 133254,\n",
       "   'locations': 2},\n",
       "  {'country': 'MX',\n",
       "   'name': 'Aguascalientes',\n",
       "   'city': 'Aguascalientes',\n",
       "   'count': 2542,\n",
       "   'locations': 1},\n",
       "  {'country': 'IN',\n",
       "   'name': 'Ahmedabad',\n",
       "   'city': 'Ahmedabad',\n",
       "   'count': 44994565,\n",
       "   'locations': 3},\n",
       "  {'country': 'FR',\n",
       "   'name': 'Ain',\n",
       "   'city': 'Ain',\n",
       "   'count': 199201563,\n",
       "   'locations': 2},\n",
       "  {'country': 'FR',\n",
       "   'name': 'AIR BREIZH',\n",
       "   'city': 'AIR BREIZH',\n",
       "   'count': 65722,\n",
       "   'locations': 5},\n",
       "  {'country': 'FR',\n",
       "   'name': 'AIR NORMAND',\n",
       "   'city': 'AIR NORMAND',\n",
       "   'count': 364,\n",
       "   'locations': 2},\n",
       "  {'country': 'FR',\n",
       "   'name': 'AIR PACA',\n",
       "   'city': 'AIR PACA',\n",
       "   'count': 14347,\n",
       "   'locations': 6},\n",
       "  {'country': 'FR',\n",
       "   'name': 'AIRPARIF',\n",
       "   'city': 'AIRPARIF',\n",
       "   'count': 67888,\n",
       "   'locations': 3},\n",
       "  {'country': 'FR',\n",
       "   'name': 'AIR PAYS DE LA LOIRE',\n",
       "   'city': 'AIR PAYS DE LA LOIRE',\n",
       "   'count': 924,\n",
       "   'locations': 1},\n",
       "  {'country': 'FR',\n",
       "   'name': 'AIR RHONE ALPES',\n",
       "   'city': 'AIR RHONE ALPES',\n",
       "   'count': 71,\n",
       "   'locations': 4},\n",
       "  {'country': 'FR',\n",
       "   'name': 'Aisne',\n",
       "   'city': 'Aisne',\n",
       "   'count': 113498996,\n",
       "   'locations': 3},\n",
       "  {'country': 'IN',\n",
       "   'name': 'Aizawl',\n",
       "   'city': 'Aizawl',\n",
       "   'count': 26446446,\n",
       "   'locations': 1},\n",
       "  {'country': 'IN',\n",
       "   'name': 'Ajmer',\n",
       "   'city': 'Ajmer',\n",
       "   'count': 47066892,\n",
       "   'locations': 4},\n",
       "  {'country': 'US',\n",
       "   'name': 'Akron',\n",
       "   'city': 'Akron',\n",
       "   'count': 89012191,\n",
       "   'locations': 4},\n",
       "  {'country': 'IS',\n",
       "   'name': 'Akureyri',\n",
       "   'city': 'Akureyri',\n",
       "   'count': 94880152,\n",
       "   'locations': 1},\n",
       "  {'country': 'US',\n",
       "   'name': 'ALAMEDA',\n",
       "   'city': 'ALAMEDA',\n",
       "   'count': 138178595,\n",
       "   'locations': 1},\n",
       "  {'country': 'RO',\n",
       "   'name': 'Alba',\n",
       "   'city': 'Alba',\n",
       "   'count': 167071062,\n",
       "   'locations': 3},\n",
       "  {'country': 'ES',\n",
       "   'name': 'Albacete',\n",
       "   'city': 'Albacete',\n",
       "   'count': 146171307,\n",
       "   'locations': 1},\n",
       "  {'country': 'US',\n",
       "   'name': 'Albany',\n",
       "   'city': 'Albany',\n",
       "   'count': 24827728,\n",
       "   'locations': 1},\n",
       "  {'country': 'US',\n",
       "   'name': 'Albany-Lebanon',\n",
       "   'city': 'Albany-Lebanon',\n",
       "   'count': 60300633,\n",
       "   'locations': 2},\n",
       "  {'country': 'US',\n",
       "   'name': 'Albany-Schenectady-Troy',\n",
       "   'city': 'Albany-Schenectady-Troy',\n",
       "   'count': 58998285,\n",
       "   'locations': 3},\n",
       "  {'country': 'CA',\n",
       "   'name': 'ALBERTA',\n",
       "   'city': 'ALBERTA',\n",
       "   'count': 1378984033,\n",
       "   'locations': 29},\n",
       "  {'country': 'US',\n",
       "   'name': 'Albuquerque',\n",
       "   'city': 'Albuquerque',\n",
       "   'count': 579094846,\n",
       "   'locations': 7},\n",
       "  {'country': 'IT',\n",
       "   'name': 'Alessandria',\n",
       "   'city': 'Alessandria',\n",
       "   'count': 97808034,\n",
       "   'locations': 3},\n",
       "  {'country': 'NO',\n",
       "   'name': 'Ålesund',\n",
       "   'city': 'Ålesund',\n",
       "   'count': 93342466,\n",
       "   'locations': 3},\n",
       "  {'country': 'US',\n",
       "   'name': 'ALEXANDER',\n",
       "   'city': 'ALEXANDER',\n",
       "   'count': 41224,\n",
       "   'locations': 1},\n",
       "  {'country': 'IT',\n",
       "   'name': 'ALFONSINE',\n",
       "   'city': 'ALFONSINE',\n",
       "   'count': 36472,\n",
       "   'locations': 1},\n",
       "  {'country': 'DZ',\n",
       "   'name': 'Algiers',\n",
       "   'city': 'Algiers',\n",
       "   'count': 33544143,\n",
       "   'locations': 1},\n",
       "  {'country': 'ES',\n",
       "   'name': 'Alicante/Alacant',\n",
       "   'city': 'Alicante/Alacant',\n",
       "   'count': 696818926,\n",
       "   'locations': 10},\n",
       "  {'country': 'US',\n",
       "   'name': 'Allegan',\n",
       "   'city': 'Allegan',\n",
       "   'count': 29715900,\n",
       "   'locations': 1},\n",
       "  {'country': 'US',\n",
       "   'name': 'ALLEGANY',\n",
       "   'city': 'ALLEGANY',\n",
       "   'count': 32122,\n",
       "   'locations': 2},\n",
       "  {'country': 'US',\n",
       "   'name': 'Allentown-Bethlehem-Easton',\n",
       "   'city': 'Allentown-Bethlehem-Easton',\n",
       "   'count': 116272910,\n",
       "   'locations': 3},\n",
       "  {'country': 'FR',\n",
       "   'name': 'Allier',\n",
       "   'city': 'Allier',\n",
       "   'count': 116266271,\n",
       "   'locations': 3},\n",
       "  {'country': 'ES',\n",
       "   'name': 'Almería',\n",
       "   'city': 'Almería',\n",
       "   'count': 824959926,\n",
       "   'locations': 14},\n",
       "  {'country': 'FR',\n",
       "   'name': 'Alpes-de-Haute-Provence',\n",
       "   'city': 'Alpes-de-Haute-Provence',\n",
       "   'count': 192317276,\n",
       "   'locations': 2},\n",
       "  {'country': 'FR',\n",
       "   'name': 'Alpes-Maritimes',\n",
       "   'city': 'Alpes-Maritimes',\n",
       "   'count': 510758130,\n",
       "   'locations': 10},\n",
       "  {'country': 'CL',\n",
       "   'name': 'Alto Hospicio',\n",
       "   'city': 'Alto Hospicio',\n",
       "   'count': 31088545,\n",
       "   'locations': 3},\n",
       "  {'country': 'AU',\n",
       "   'name': 'Altona North',\n",
       "   'city': 'Altona North',\n",
       "   'count': 84563902,\n",
       "   'locations': 1},\n",
       "  {'country': 'AU',\n",
       "   'name': 'Altona North 1',\n",
       "   'city': 'Altona North 1',\n",
       "   'count': 81,\n",
       "   'locations': 1},\n",
       "  {'country': 'AU',\n",
       "   'name': 'Altona North 2',\n",
       "   'city': 'Altona North 2',\n",
       "   'count': 78,\n",
       "   'locations': 1},\n",
       "  {'country': 'US',\n",
       "   'name': 'Altoona',\n",
       "   'city': 'Altoona',\n",
       "   'count': 58678630,\n",
       "   'locations': 1},\n",
       "  {'country': 'MX',\n",
       "   'name': 'Álvaro Obregón',\n",
       "   'city': 'Álvaro Obregón',\n",
       "   'count': 143734742,\n",
       "   'locations': 1},\n",
       "  {'country': 'IN',\n",
       "   'name': 'Alwar',\n",
       "   'city': 'Alwar',\n",
       "   'count': 44715041,\n",
       "   'locations': 2},\n",
       "  {'country': 'LT',\n",
       "   'name': 'Alytus',\n",
       "   'city': 'Alytus',\n",
       "   'count': 646229,\n",
       "   'locations': 1},\n",
       "  {'country': 'US',\n",
       "   'name': 'AMADOR',\n",
       "   'city': 'AMADOR',\n",
       "   'count': 25500192,\n",
       "   'locations': 2},\n",
       "  {'country': 'IN',\n",
       "   'name': 'Amaravati',\n",
       "   'city': 'Amaravati',\n",
       "   'count': 48537963,\n",
       "   'locations': 2},\n",
       "  {'country': 'US',\n",
       "   'name': 'Amarillo',\n",
       "   'city': 'Amarillo',\n",
       "   'count': 25262749,\n",
       "   'locations': 2},\n",
       "  {'country': 'TR',\n",
       "   'name': 'Amasya',\n",
       "   'city': 'Amasya',\n",
       "   'count': 134064,\n",
       "   'locations': 4},\n",
       "  {'country': 'IN',\n",
       "   'name': 'Ambala ',\n",
       "   'city': 'Ambala ',\n",
       "   'count': 28715053,\n",
       "   'locations': 1},\n",
       "  {'country': 'BR',\n",
       "   'name': 'Americana',\n",
       "   'city': 'Americana',\n",
       "   'count': 58778994,\n",
       "   'locations': 2},\n",
       "  {'country': 'US',\n",
       "   'name': 'Americus',\n",
       "   'city': 'Americus',\n",
       "   'count': 22297,\n",
       "   'locations': 1},\n",
       "  {'country': 'US',\n",
       "   'name': 'Ames',\n",
       "   'city': 'Ames',\n",
       "   'count': 4773,\n",
       "   'locations': 1},\n",
       "  {'country': 'JO',\n",
       "   'name': 'Amman',\n",
       "   'city': 'Amman',\n",
       "   'count': 33335940,\n",
       "   'locations': 1},\n",
       "  {'country': 'IN',\n",
       "   'name': 'Amritsar',\n",
       "   'city': 'Amritsar',\n",
       "   'count': 77336644,\n",
       "   'locations': 2},\n",
       "  {'country': 'NL',\n",
       "   'name': 'Amsterdam',\n",
       "   'city': 'Amsterdam',\n",
       "   'count': 1040867923,\n",
       "   'locations': 14},\n",
       "  {'country': 'AT',\n",
       "   'name': 'Amt der K�rntner Landesregierung',\n",
       "   'city': 'Amt der K�rntner Landesregierung',\n",
       "   'count': 5228,\n",
       "   'locations': 4},\n",
       "  {'country': 'AT',\n",
       "   'name': 'Amt der Nieder�sterreichischen Landesregierung',\n",
       "   'city': 'Amt der Nieder�sterreichischen Landesregierung',\n",
       "   'count': 5936,\n",
       "   'locations': 1},\n",
       "  {'country': 'AT',\n",
       "   'name': 'Amt der Ober�sterreichischen Landesregierung',\n",
       "   'city': 'Amt der Ober�sterreichischen Landesregierung',\n",
       "   'count': 10765,\n",
       "   'locations': 1},\n",
       "  {'country': 'AT',\n",
       "   'name': 'Amt der Salzburger Landesregierung',\n",
       "   'city': 'Amt der Salzburger Landesregierung',\n",
       "   'count': 8904,\n",
       "   'locations': 1},\n",
       "  {'country': 'AT',\n",
       "   'name': 'Amt der Steierm�rkischen Landesregierung',\n",
       "   'city': 'Amt der Steierm�rkischen Landesregierung',\n",
       "   'count': 26707,\n",
       "   'locations': 3},\n",
       "  {'country': 'US',\n",
       "   'name': 'Anchorage',\n",
       "   'city': 'Anchorage',\n",
       "   'count': 150005877,\n",
       "   'locations': 3},\n",
       "  {'country': 'US',\n",
       "   'name': 'ANCHORAGE',\n",
       "   'city': 'ANCHORAGE',\n",
       "   'count': 828,\n",
       "   'locations': 1},\n",
       "  {'country': 'IT',\n",
       "   'name': 'Ancona',\n",
       "   'city': 'Ancona',\n",
       "   'count': 677048457,\n",
       "   'locations': 5},\n",
       "  {'country': 'CL',\n",
       "   'name': 'Andacollo',\n",
       "   'city': 'Andacollo',\n",
       "   'count': 92036527,\n",
       "   'locations': 4},\n",
       "  {'country': 'US',\n",
       "   'name': 'Anderson',\n",
       "   'city': 'Anderson',\n",
       "   'count': 58522484,\n",
       "   'locations': 3},\n",
       "  {'country': 'US',\n",
       "   'name': 'ANDERSON',\n",
       "   'city': 'ANDERSON',\n",
       "   'count': 21946,\n",
       "   'locations': 2},\n",
       "  {'country': 'US',\n",
       "   'name': 'ANDREW',\n",
       "   'city': 'ANDREW',\n",
       "   'count': 22223,\n",
       "   'locations': 1},\n",
       "  {'country': 'TR',\n",
       "   'name': 'Ankara',\n",
       "   'city': 'Ankara',\n",
       "   'count': 359493,\n",
       "   'locations': 8},\n",
       "  {'country': 'IN',\n",
       "   'name': 'Ankleshwar',\n",
       "   'city': 'Ankleshwar',\n",
       "   'count': 30503811,\n",
       "   'locations': 1},\n",
       "  {'country': 'US',\n",
       "   'name': 'Ann Arbor',\n",
       "   'city': 'Ann Arbor',\n",
       "   'count': 48743393,\n",
       "   'locations': 2},\n",
       "  {'country': 'US',\n",
       "   'name': 'ANNE ARUNDEL',\n",
       "   'city': 'ANNE ARUNDEL',\n",
       "   'count': 1772,\n",
       "   'locations': 1},\n",
       "  {'country': 'DE',\n",
       "   'name': 'Annette Pausch',\n",
       "   'city': 'Annette Pausch',\n",
       "   'count': 5923,\n",
       "   'locations': 1},\n",
       "  {'country': 'CN',\n",
       "   'name': 'Anqing',\n",
       "   'city': 'Anqing',\n",
       "   'count': 117473,\n",
       "   'locations': 3},\n",
       "  {'country': 'CL',\n",
       "   'name': 'Antofagasta',\n",
       "   'city': 'Antofagasta',\n",
       "   'count': 46306953,\n",
       "   'locations': 1}]}"
      ]
     },
     "execution_count": 43,
     "metadata": {},
     "output_type": "execute_result"
    }
   ],
   "source": [
    "air_qual.json()"
   ]
  },
  {
   "cell_type": "code",
   "execution_count": 45,
   "id": "important-bargain",
   "metadata": {},
   "outputs": [
    {
     "name": "stdout",
     "output_type": "stream",
     "text": [
      "https://api.openaq.org/v1/cities\n"
     ]
    }
   ],
   "source": [
    "print(air_qual.url)"
   ]
  },
  {
   "cell_type": "code",
   "execution_count": 47,
   "id": "enclosed-advice",
   "metadata": {},
   "outputs": [
    {
     "name": "stdout",
     "output_type": "stream",
     "text": [
      "200\n",
      "{'meta': {'name': 'openaq-api', 'license': 'CC BY 4.0d', 'website': 'https://u50g7n0cbj.execute-api.us-east-1.amazonaws.com/', 'page': 1, 'limit': 1, 'found': 3}, 'results': [{'country': 'AE', 'name': 'Abu Dhabi', 'city': 'Abu Dhabi', 'count': 67144963, 'locations': 1}]}\n",
      "https://api.openaq.org/v1/cities?country=AE&limit=1\n"
     ]
    }
   ],
   "source": [
    "air_qual = requests.get('http://api.openaq.org/v1/cities', params = {\"country\": \"AE\", \"limit\" : 1})\n",
    "print(air_qual.status_code)\n",
    "print(air_qual.json())\n",
    "print(air_qual.url)"
   ]
  },
  {
   "cell_type": "code",
   "execution_count": 52,
   "id": "lovely-theme",
   "metadata": {},
   "outputs": [
    {
     "name": "stdout",
     "output_type": "stream",
     "text": [
      "403\n"
     ]
    }
   ],
   "source": [
    "#new url compulsory parameters\n",
    "a = requests.get('https://www.metaweather.com/api/location/search/')\n",
    "print(a.status_code) # any code that starts with 4 is an error"
   ]
  },
  {
   "cell_type": "code",
   "execution_count": 55,
   "id": "incident-business",
   "metadata": {},
   "outputs": [
    {
     "name": "stdout",
     "output_type": "stream",
     "text": [
      "200\n",
      "https://www.metaweather.com/api/location/search/?query=Delhi\n",
      "[{'title': 'New Delhi', 'location_type': 'City', 'woeid': 28743736, 'latt_long': '28.643999,77.091003'}]\n"
     ]
    }
   ],
   "source": [
    "a = requests.get('https://www.metaweather.com/api/location/search/' , params = {\"query\": \"Delhi\"})\n",
    "print(a.status_code)\n",
    "print(a.url)\n",
    "print(a.json())"
   ]
  },
  {
   "cell_type": "code",
   "execution_count": 56,
   "id": "known-klein",
   "metadata": {},
   "outputs": [
    {
     "name": "stdout",
     "output_type": "stream",
     "text": [
      "403\n"
     ]
    }
   ],
   "source": [
    "a = requests.get('https://api.nasa.gov/planetary/apod')\n",
    "print(a.status_code)"
   ]
  },
  {
   "cell_type": "code",
   "execution_count": 60,
   "id": "expressed-enough",
   "metadata": {},
   "outputs": [
    {
     "name": "stdout",
     "output_type": "stream",
     "text": [
      "200\n",
      "https://api.nasa.gov/planetary/apod?api_key=DEMO_KEY\n"
     ]
    }
   ],
   "source": [
    "# api_key parameter for authentication\n",
    "a = requests.get('https://api.nasa.gov/planetary/apod', params = {\"api_key\": \"DEMO_KEY\"})\n",
    "print(a.status_code)\n",
    "print(a.url)"
   ]
  },
  {
   "cell_type": "code",
   "execution_count": 61,
   "id": "operational-imagination",
   "metadata": {},
   "outputs": [
    {
     "name": "stdout",
     "output_type": "stream",
     "text": [
      "<Response [200]>\n",
      "{\n",
      "  \"args\": {}, \n",
      "  \"data\": \"\", \n",
      "  \"files\": {}, \n",
      "  \"form\": {}, \n",
      "  \"headers\": {\n",
      "    \"Accept\": \"*/*\", \n",
      "    \"Accept-Encoding\": \"gzip, deflate\", \n",
      "    \"Content-Length\": \"0\", \n",
      "    \"Host\": \"httpbin.org\", \n",
      "    \"User-Agent\": \"python-requests/2.25.1\", \n",
      "    \"X-Amzn-Trace-Id\": \"Root=1-6056fffb-7d63732a34aa35025389ff1f\"\n",
      "  }, \n",
      "  \"json\": null, \n",
      "  \"origin\": \"168.70.91.160\", \n",
      "  \"url\": \"http://httpbin.org/post\"\n",
      "}\n",
      "\n"
     ]
    }
   ],
   "source": [
    "# post requests\n",
    "response = requests.post('http://httpbin.org/post') # dummy website\n",
    "print(response)\n",
    "print(response.text)"
   ]
  },
  {
   "cell_type": "code",
   "execution_count": 63,
   "id": "detailed-transsexual",
   "metadata": {},
   "outputs": [
    {
     "name": "stdout",
     "output_type": "stream",
     "text": [
      "<Response [200]>\n",
      "{\n",
      "  \"args\": {}, \n",
      "  \"data\": \"\", \n",
      "  \"files\": {}, \n",
      "  \"form\": {\n",
      "    \"Key1\": [\n",
      "      \"val1\", \n",
      "      \"val3\"\n",
      "    ], \n",
      "    \"Key2\": \"val2\"\n",
      "  }, \n",
      "  \"headers\": {\n",
      "    \"Accept\": \"*/*\", \n",
      "    \"Accept-Encoding\": \"gzip, deflate\", \n",
      "    \"Content-Length\": \"29\", \n",
      "    \"Content-Type\": \"application/x-www-form-urlencoded\", \n",
      "    \"Host\": \"httpbin.org\", \n",
      "    \"User-Agent\": \"python-requests/2.25.1\", \n",
      "    \"X-Amzn-Trace-Id\": \"Root=1-6057005a-7a4e9b2d30dfe58b171a916d\"\n",
      "  }, \n",
      "  \"json\": null, \n",
      "  \"origin\": \"168.70.91.160\", \n",
      "  \"url\": \"http://httpbin.org/post\"\n",
      "}\n",
      "\n"
     ]
    }
   ],
   "source": [
    "response = requests.post('http://httpbin.org/post', data = {'Key1':['val1','val3'],\n",
    "                                                            'Key2':'val2'})\n",
    "print(response)\n",
    "print(response.text)"
   ]
  },
  {
   "cell_type": "code",
   "execution_count": 66,
   "id": "worldwide-forest",
   "metadata": {},
   "outputs": [
    {
     "name": "stdout",
     "output_type": "stream",
     "text": [
      "<Response [200]>\n",
      "{\n",
      "  \"args\": {}, \n",
      "  \"data\": \"\", \n",
      "  \"files\": {}, \n",
      "  \"form\": {\n",
      "    \"key1\": [\n",
      "      \"val1\", \n",
      "      \"val2\"\n",
      "    ], \n",
      "    \"key2\": \"val3\"\n",
      "  }, \n",
      "  \"headers\": {\n",
      "    \"Accept\": \"*/*\", \n",
      "    \"Accept-Encoding\": \"gzip, deflate\", \n",
      "    \"Content-Length\": \"29\", \n",
      "    \"Content-Type\": \"application/x-www-form-urlencoded\", \n",
      "    \"Host\": \"httpbin.org\", \n",
      "    \"User-Agent\": \"python-requests/2.25.1\", \n",
      "    \"X-Amzn-Trace-Id\": \"Root=1-605700c7-24c65f3712834901192eb39a\"\n",
      "  }, \n",
      "  \"json\": null, \n",
      "  \"origin\": \"168.70.91.160\", \n",
      "  \"url\": \"http://httpbin.org/post\"\n",
      "}\n",
      "\n"
     ]
    }
   ],
   "source": [
    "response = requests.post('http://httpbin.org/post', data = [('key1', 'val1'), ('key1', 'val2'),\n",
    "                                                           ('key2', 'val3')])\n",
    "print(response)\n",
    "print(response.text)"
   ]
  },
  {
   "cell_type": "code",
   "execution_count": null,
   "id": "fuzzy-belief",
   "metadata": {},
   "outputs": [],
   "source": []
  }
 ],
 "metadata": {
  "kernelspec": {
   "display_name": "Python 3",
   "language": "python",
   "name": "python3"
  },
  "language_info": {
   "codemirror_mode": {
    "name": "ipython",
    "version": 3
   },
   "file_extension": ".py",
   "mimetype": "text/x-python",
   "name": "python",
   "nbconvert_exporter": "python",
   "pygments_lexer": "ipython3",
   "version": "3.8.5"
  }
 },
 "nbformat": 4,
 "nbformat_minor": 5
}
