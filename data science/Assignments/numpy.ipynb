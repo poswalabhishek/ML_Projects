{
 "cells": [
  {
   "cell_type": "code",
   "execution_count": 12,
   "id": "muslim-remedy",
   "metadata": {},
   "outputs": [
    {
     "name": "stdout",
     "output_type": "stream",
     "text": [
      "66330\n"
     ]
    }
   ],
   "source": [
    "import numpy as np\n",
    "import csv\n",
    "\n",
    "day = []\n",
    "with open (\"terrorismData.csv\") as file_obj:\n",
    "    fd = csv.DictReader (file_obj)\n",
    "    \n",
    "    for i in fd:\n",
    "        day.append(i[\"Day\"])\n",
    "npday = np.array(day, dtype = float)\n",
    "npday = npday[(npday >= 10) & (npday <= 20)]\n",
    "print (npday.shape[0])"
   ]
  },
  {
   "cell_type": "code",
   "execution_count": 25,
   "id": "coordinated-float",
   "metadata": {},
   "outputs": [
    {
     "name": "stdout",
     "output_type": "stream",
     "text": [
      "271\n"
     ]
    }
   ],
   "source": [
    "import numpy as np\n",
    "import csv\n",
    "\n",
    "attack = []\n",
    "with open(\"terrorismData.csv\") as file_obj:\n",
    "    fd = csv.DictReader(file_obj)\n",
    "    for row in fd:\n",
    "        attack.append([row[\"Day\"], row[\"Month\"], row[\"Year\"]])\n",
    "npAttack = np.array(attack, dtype = float)\n",
    "npAttack = npAttack[npAttack[:, 0] >= 1]\n",
    "npAttack = npAttack[npAttack[:, 1] == 1]\n",
    "npAttack = npAttack[npAttack[:, 2] == 2010]\n",
    "print(npAttack.shape[0])"
   ]
  },
  {
   "cell_type": "raw",
   "id": "private-nudist",
   "metadata": {},
   "source": [
    "As we knew the Kargil ( in Jammu and Kashmir) War that took place between May 1999 and July 1999 (3 Months) ,so there was a huge conflict in Kashmir Valley during this period.\n",
    "In this dataset, there is no information regarding the war between the two countries to find out the casualty during the war.\n",
    "So find out the attack in this period in which maximum casualties happened.\n",
    "Print the count of casualties (as integer), city in which that attack happened and name of attack group.\n",
    "Note : Casualty = Killed + Wounded.Fill the empty value in killed or wounded feature to 0."
   ]
  },
  {
   "cell_type": "code",
   "execution_count": 118,
   "id": "unusual-opinion",
   "metadata": {},
   "outputs": [
    {
     "name": "stdout",
     "output_type": "stream",
     "text": [
      "22 Kargil District Separatists\n"
     ]
    }
   ],
   "source": [
    "import numpy as np\n",
    "import csv\n",
    "\n",
    "city_group = []\n",
    "casualities = []\n",
    "with open(\"terrorismData.csv\") as file_obj:\n",
    "    fd = csv.DictReader(file_obj)\n",
    "    \n",
    "    for row in fd:\n",
    "        if int(row[\"Year\"]) == 1999 and (row[\"Month\"] == '5' or row[\"Month\"] == '6' or row[\"Month\"] == '7') and row[\"State\"] == \"Jammu and Kashmir\":\n",
    "            city_group.append([row[\"City\"], row[\"Group\"]])\n",
    "            casualities.append([row[\"Wounded\"], row[\"Killed\"]])\n",
    "            \n",
    "np_city_group = np.array(city_group)\n",
    "np_casualities = np.array(casualities)\n",
    "\n",
    "np_casualities[np_casualities == ''] = 0\n",
    "np_casualities = np.array(np_casualities, dtype = float)\n",
    "np_casualities = np.sum(np_casualities, axis = 1)\n",
    "index = np.argmax(np_casualities)\n",
    "print(int(np_casualities[index]), np_city_group[index][0], np_city_group[index][1])\n",
    "\n"
   ]
  },
  {
   "cell_type": "code",
   "execution_count": null,
   "id": "dangerous-event",
   "metadata": {},
   "outputs": [],
   "source": []
  },
  {
   "cell_type": "raw",
   "id": "acting-lemon",
   "metadata": {},
   "source": [
    "Find the casualty in the Red Corridor States ? Mainly Red corridor states include Jharkhand, Odisha, Andhra Pradesh, and Chhattisgarh.\n",
    "Note: Casualty=Killed +Wounded\n",
    "Print count of Casualty as integer value."
   ]
  },
  {
   "cell_type": "code",
   "execution_count": 102,
   "id": "sixth-hours",
   "metadata": {},
   "outputs": [
    {
     "name": "stdout",
     "output_type": "stream",
     "text": [
      "5628\n"
     ]
    }
   ],
   "source": [
    "import numpy as np\n",
    "import csv\n",
    "\n",
    "arr = []\n",
    "with open(\"terrorismData.csv\") as file_obj:\n",
    "    fd = csv.DictReader(file_obj)\n",
    "    count = 0\n",
    "    for row in fd:\n",
    "        if \"Jharkhand\" in row[\"State\"] or \"Odisha\" in row[\"State\"] or \"Andhra Pradesh\" in row[\"State\"] or \"Chhattisgarh\" in row[\"State\"]:\n",
    "            arr.append([row[\"Wounded\"], row[\"Killed\"]])\n",
    "\n",
    "np_arr = np.array(arr)\n",
    "np_arr[np_arr == ''] = 0\n",
    "np_arr = np.array(np_arr, dtype = float)\n",
    "# summing the two \n",
    "np_arr = np.sum(np_arr, axis = 1)\n",
    "max_casuality = np.sum(np_arr)\n",
    "print(int(max_casuality))"
   ]
  },
  {
   "cell_type": "raw",
   "id": "victorian-address",
   "metadata": {},
   "source": [
    "Problem Statement :\n",
    "Find top 5 Indian Cities which has most number of casualties ?\n",
    "Print top 5 cities along with total casualties in that city. Print count of Casualty as integer value.\n",
    "Note: Ignoring the City which is Unknown.\n",
    "Casualty = Killed + Wounded.\n",
    "Output Format :\n",
    "city_1 casualty_1\n",
    "city_2 casualty_2\n",
    "city_3 casualty_3\n",
    "city_4 casualty_4\n",
    "city_5 casualty_5"
   ]
  },
  {
   "cell_type": "code",
   "execution_count": 150,
   "id": "banner-watts",
   "metadata": {},
   "outputs": [
    {
     "name": "stdout",
     "output_type": "stream",
     "text": [
      "Srinagar 3134\n",
      "New Delhi 2095\n",
      "Mumbai 2016\n",
      "Jammu 1119\n",
      "Guwahati 822\n"
     ]
    }
   ],
   "source": [
    "import numpy as np\n",
    "import csv\n",
    "\n",
    "casualty = []\n",
    "city = []\n",
    "with open(\"terrorismData.csv\") as file_obj:\n",
    "    fd = csv.DictReader(file_obj)\n",
    "    \n",
    "    for row in fd:\n",
    "        if row[\"Country\"] == \"India\":\n",
    "            city.append(row[\"City\"])\n",
    "            casualty.append([row[\"Killed\"], row[\"Wounded\"]])\n",
    "np_casualty = np.array(casualty)\n",
    "np_city = np.array(city)\n",
    "\n",
    "np_casualty[np_casualty == ''] = 0\n",
    "np_casualty = np.array(np_casualty, dtype = float)\n",
    "\n",
    "np_casualty = np.sum(np_casualty, axis = 1)\n",
    "def cityCasualty (cityarr, casualtyarr):\n",
    "    arr = []\n",
    "    unique = np.unique (cityarr)\n",
    "    for i in unique:\n",
    "        index = np.where(cityarr == i)\n",
    "        sumCasualty = casualtyarr[index].sum()\n",
    "        arr.append([sumCasualty, i])\n",
    "    arr.sort(reverse = True)\n",
    "    return arr\n",
    "arr = cityCasualty(np_city, np_casualty)\n",
    "for i in range (6):\n",
    "    if arr[i][1] != \"Unknown\":\n",
    "        print(arr[i][1], int(arr[i][0]))"
   ]
  },
  {
   "cell_type": "raw",
   "id": "structured-database",
   "metadata": {},
   "source": [
    "Find the most frequent day of attack in a terrorismDataset ?\n",
    "Note: Here np.unique can be used.\n",
    "Print count of frequent day and number of attack as Integer value."
   ]
  },
  {
   "cell_type": "code",
   "execution_count": 149,
   "id": "organizational-ranking",
   "metadata": {},
   "outputs": [
    {
     "name": "stdout",
     "output_type": "stream",
     "text": [
      "15 6500\n",
      "15 6500\n"
     ]
    }
   ],
   "source": [
    "import numpy as np\n",
    "import csv\n",
    "\n",
    "arr = []\n",
    "with open(\"terrorismData.csv\") as file_obj:\n",
    "    fd = csv.DictReader(file_obj)\n",
    "    \n",
    "    for row in fd:\n",
    "        arr.append(row[\"Day\"])\n",
    "np_arr = np.array(arr)\n",
    "\n",
    "#\n",
    "unique = np.unique(np_arr, return_counts = True)\n",
    "index = unique[1].argmax()\n",
    "print(unique[0][index], unique[1][index])\n",
    "\n",
    "#alternatively\n",
    "unique, counts = np.unique(np_arr, return_counts = True)\n",
    "index = counts.argmax()\n",
    "print(unique[index], counts[index])"
   ]
  },
  {
   "cell_type": "code",
   "execution_count": null,
   "id": "institutional-edwards",
   "metadata": {},
   "outputs": [],
   "source": []
  }
 ],
 "metadata": {
  "kernelspec": {
   "display_name": "Python 3",
   "language": "python",
   "name": "python3"
  },
  "language_info": {
   "codemirror_mode": {
    "name": "ipython",
    "version": 3
   },
   "file_extension": ".py",
   "mimetype": "text/x-python",
   "name": "python",
   "nbconvert_exporter": "python",
   "pygments_lexer": "ipython3",
   "version": "3.8.5"
  }
 },
 "nbformat": 4,
 "nbformat_minor": 5
}
