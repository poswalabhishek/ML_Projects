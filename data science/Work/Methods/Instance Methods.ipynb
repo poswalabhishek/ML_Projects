{
 "cells": [
  {
   "cell_type": "code",
   "execution_count": 38,
   "metadata": {
    "collapsed": true
   },
   "outputs": [],
   "source": [
    "class Student :\n",
    "    ## Class attributes\n",
    "    totalStudents = 20\n",
    "    classTeacherName = 'Komal'\n",
    "    \n",
    "    ## Instance methods\n",
    "    def printHello(self) : \n",
    "        print(\"Hello\")\n",
    "        \n",
    "    def print(self, str) :\n",
    "        print(str)\n",
    "        \n",
    "    def printName(self) : \n",
    "        name = 'abc'\n",
    "        print(self.name)\n",
    "        print(name)\n",
    "        \n",
    "s1 = Student()\n",
    "s2 = Student()"
   ]
  },
  {
   "cell_type": "code",
   "execution_count": 40,
   "metadata": {
    "collapsed": true
   },
   "outputs": [],
   "source": [
    "s1.name = 'Mohit'"
   ]
  },
  {
   "cell_type": "code",
   "execution_count": 41,
   "metadata": {},
   "outputs": [
    {
     "name": "stdout",
     "output_type": "stream",
     "text": [
      "Mohit\n",
      "abc\n"
     ]
    }
   ],
   "source": [
    "s1.printName()"
   ]
  },
  {
   "cell_type": "code",
   "execution_count": 25,
   "metadata": {},
   "outputs": [
    {
     "name": "stdout",
     "output_type": "stream",
     "text": [
      "Hello\n",
      "Hi\n"
     ]
    }
   ],
   "source": [
    "s1.printHello()\n",
    "s1.print(\"Hi\")"
   ]
  },
  {
   "cell_type": "code",
   "execution_count": 27,
   "metadata": {},
   "outputs": [
    {
     "name": "stdout",
     "output_type": "stream",
     "text": [
      "Hello\n"
     ]
    }
   ],
   "source": [
    "Student.printHello(s1)"
   ]
  }
 ],
 "metadata": {
  "kernelspec": {
   "display_name": "Python 3",
   "language": "python",
   "name": "python3"
  },
  "language_info": {
   "codemirror_mode": {
    "name": "ipython",
    "version": 3
   },
   "file_extension": ".py",
   "mimetype": "text/x-python",
   "name": "python",
   "nbconvert_exporter": "python",
   "pygments_lexer": "ipython3",
   "version": "3.6.3"
  }
 },
 "nbformat": 4,
 "nbformat_minor": 2
}
