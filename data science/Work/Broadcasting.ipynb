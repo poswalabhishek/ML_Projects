{
 "cells": [
  {
   "cell_type": "code",
   "execution_count": 2,
   "metadata": {},
   "outputs": [
    {
     "name": "stdout",
     "output_type": "stream",
     "text": [
      "[[4 5 2]\n",
      " [7 8 5]\n",
      " [2 4 2]]\n",
      "[[3 3 4]\n",
      " [7 1 6]\n",
      " [2 7 3]]\n"
     ]
    }
   ],
   "source": [
    "import numpy as np\n",
    "\n",
    "x = np.random.randint(1, 10, (3, 3))\n",
    "y = np.random.randint(1, 10, (3, 3))\n",
    "print(x)\n",
    "print(y)"
   ]
  },
  {
   "cell_type": "code",
   "execution_count": 4,
   "metadata": {},
   "outputs": [
    {
     "name": "stdout",
     "output_type": "stream",
     "text": [
      "[[ 1  2 -2]\n",
      " [ 0  7 -1]\n",
      " [ 0 -3 -1]]\n"
     ]
    }
   ],
   "source": [
    "ans = x - y\n",
    "print(ans)"
   ]
  },
  {
   "cell_type": "code",
   "execution_count": 5,
   "metadata": {},
   "outputs": [
    {
     "name": "stdout",
     "output_type": "stream",
     "text": [
      "[[7 7 5]\n",
      " [9 4 2]\n",
      " [5 7 5]]\n",
      "[1 6 7]\n"
     ]
    }
   ],
   "source": [
    "x = np.random.randint(1, 10, (3, 3))\n",
    "y = np.random.randint(1, 10, (3))\n",
    "print(x)\n",
    "print(y)"
   ]
  },
  {
   "cell_type": "code",
   "execution_count": 6,
   "metadata": {},
   "outputs": [
    {
     "name": "stdout",
     "output_type": "stream",
     "text": [
      "[[ 6  1 -2]\n",
      " [ 8 -2 -5]\n",
      " [ 4  1 -2]]\n"
     ]
    }
   ],
   "source": [
    "ans = x - y\n",
    "print(ans)"
   ]
  },
  {
   "cell_type": "code",
   "execution_count": 7,
   "metadata": {},
   "outputs": [
    {
     "name": "stdout",
     "output_type": "stream",
     "text": [
      "[[3 4]\n",
      " [1 3]\n",
      " [7 7]]\n",
      "[[1 2 4]\n",
      " [6 4 6]]\n"
     ]
    }
   ],
   "source": [
    "x = np.random.randint(1, 10, (3, 2))\n",
    "y = np.random.randint(1, 10, (2, 3))\n",
    "print(x)\n",
    "print(y)"
   ]
  },
  {
   "cell_type": "code",
   "execution_count": 9,
   "metadata": {},
   "outputs": [
    {
     "name": "stdout",
     "output_type": "stream",
     "text": [
      "[[1 6]\n",
      " [2 4]\n",
      " [4 6]]\n",
      "[[ 2 -2]\n",
      " [-1 -1]\n",
      " [ 3  1]]\n"
     ]
    }
   ],
   "source": [
    "y = np.transpose(y)\n",
    "print(y)\n",
    "ans = x - y\n",
    "print(ans)"
   ]
  },
  {
   "cell_type": "code",
   "execution_count": null,
   "metadata": {
    "collapsed": true
   },
   "outputs": [],
   "source": []
  }
 ],
 "metadata": {
  "kernelspec": {
   "display_name": "Python 3",
   "language": "python",
   "name": "python3"
  },
  "language_info": {
   "codemirror_mode": {
    "name": "ipython",
    "version": 3
   },
   "file_extension": ".py",
   "mimetype": "text/x-python",
   "name": "python",
   "nbconvert_exporter": "python",
   "pygments_lexer": "ipython3",
   "version": "3.6.3"
  }
 },
 "nbformat": 4,
 "nbformat_minor": 2
}
